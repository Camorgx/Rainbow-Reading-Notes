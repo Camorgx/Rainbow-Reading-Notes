{
 "cells": [
  {
   "cell_type": "markdown",
   "metadata": {},
   "source": [
    "## Configurations for Colab"
   ]
  },
  {
   "cell_type": "code",
   "execution_count": 1,
   "metadata": {
    "ExecuteTime": {
     "end_time": "2023-09-05T08:14:36.285693500Z",
     "start_time": "2023-09-05T08:14:36.266743900Z"
    }
   },
   "outputs": [],
   "source": [
    "import sys\n",
    "IN_COLAB = \"google.colab\" in sys.modules\n",
    "\n",
    "if IN_COLAB:\n",
    "    !apt install python-opengl\n",
    "    !apt install ffmpeg\n",
    "    !apt install xvfb\n",
    "    !pip install PyVirtualDisplay==3.0\n",
    "    !pip install gymnasium==0.28.1\n",
    "    from pyvirtualdisplay import Display\n",
    "    \n",
    "    # Start virtual display\n",
    "    dis = Display(visible=0, size=(400, 400))\n",
    "    dis.start()"
   ]
  },
  {
   "cell_type": "markdown",
   "metadata": {},
   "source": [
    "# 06. Categorical DQN\n",
    "\n",
    "[M. G. Bellemare et al., \"A Distributional Perspective on Reinforcement Learning.\" arXiv preprint arXiv:1707.06887, 2017.](https://arxiv.org/pdf/1707.06887.pdf)\n",
    "\n",
    "The authors argued the importance of learning the distribution of returns instead of the expected return, and they proposed to model such distributions with probability masses placed on a discrete support $z$, where $z$ is a vector with $N_{atoms} \\in \\mathbb{N}^+$ atoms, defined by $z_i = V_{min} + (i-1) \\frac{V_{max} - V_{min}}{N-1}$ for $i \\in \\{1, ..., N_{atoms}\\}$.\n",
    "\n",
    "The key insight is that return distributions satisfy a variant of Bellman’s equation. For a given state $S_t$ and action $A_t$, the distribution of the returns under the optimal policy $\\pi^{*}$ should match a target distribution defined by taking the distribution for the next state $S_{t+1}$ and action $a^{*}_{t+1} = \\pi^{*}(S_{t+1})$, contracting\n",
    "it towards zero according to the discount, and shifting it by the reward (or distribution of rewards, in the stochastic case). A distributional variant of Q-learning is then derived by first constructing a new support for the target distribution, and then minimizing the Kullbeck-Leibler divergence between the distribution $d_t$ and the target distribution\n",
    "\n",
    "$$\n",
    "d_t' = (R_{t+1} + \\gamma_{t+1} z, p_\\hat{{\\theta}} (S_{t+1}, \\hat{a}^{*}_{t+1})),\\\\\n",
    "D_{KL} (\\phi_z d_t' \\| d_t).\n",
    "$$\n",
    "\n",
    "Here $\\phi_z$ is a L2-projection of the target distribution onto the fixed support $z$, and $\\hat{a}^*_{t+1} = \\arg\\max_{a} q_{\\hat{\\theta}} (S_{t+1}, a)$ is the greedy action with respect to the mean action values $q_{\\hat{\\theta}} (S_{t+1}, a) = z^{T}p_{\\theta}(S_{t+1}, a)$ in state $S_{t+1}$."
   ]
  },
  {
   "cell_type": "code",
   "execution_count": 2,
   "metadata": {
    "ExecuteTime": {
     "end_time": "2023-09-05T08:14:38.255942400Z",
     "start_time": "2023-09-05T08:14:36.284695500Z"
    }
   },
   "outputs": [
    {
     "name": "stderr",
     "output_type": "stream",
     "text": [
      "C:\\Users\\18213\\anaconda3\\envs\\Rainbow\\lib\\site-packages\\tqdm\\auto.py:21: TqdmWarning: IProgress not found. Please update jupyter and ipywidgets. See https://ipywidgets.readthedocs.io/en/stable/user_install.html\n",
      "  from .autonotebook import tqdm as notebook_tqdm\n"
     ]
    }
   ],
   "source": [
    "import os\n",
    "from typing import Dict, List, Tuple\n",
    "\n",
    "import gymnasium as gym\n",
    "import matplotlib.pyplot as plt\n",
    "import numpy as np\n",
    "import torch\n",
    "import torch.nn as nn\n",
    "import torch.nn.functional as F\n",
    "import torch.optim as optim\n",
    "from IPython.display import clear_output"
   ]
  },
  {
   "cell_type": "markdown",
   "metadata": {},
   "source": [
    "## Replay buffer\n",
    "\n",
    "Please see *01.dqn.ipynb* for detailed description."
   ]
  },
  {
   "cell_type": "code",
   "execution_count": 3,
   "metadata": {
    "ExecuteTime": {
     "end_time": "2023-09-05T08:14:38.271884100Z",
     "start_time": "2023-09-05T08:14:38.264904300Z"
    }
   },
   "outputs": [],
   "source": [
    "class ReplayBuffer:\n",
    "    \"\"\"A simple numpy replay buffer.\"\"\"\n",
    "\n",
    "    def __init__(self, obs_dim: int, size: int, batch_size: int = 32):\n",
    "        self.obs_buf = np.zeros([size, obs_dim], dtype=np.float32)\n",
    "        self.next_obs_buf = np.zeros([size, obs_dim], dtype=np.float32)\n",
    "        self.acts_buf = np.zeros([size], dtype=np.float32)\n",
    "        self.rews_buf = np.zeros([size], dtype=np.float32)\n",
    "        self.done_buf = np.zeros(size, dtype=np.float32)\n",
    "        self.max_size, self.batch_size = size, batch_size\n",
    "        self.ptr, self.size, = 0, 0\n",
    "\n",
    "    def store(\n",
    "        self, \n",
    "        obs: np.ndarray, \n",
    "        act: np.ndarray, \n",
    "        rew: float, \n",
    "        next_obs: np.ndarray, \n",
    "        done: bool,\n",
    "    ):\n",
    "        self.obs_buf[self.ptr] = obs\n",
    "        self.next_obs_buf[self.ptr] = next_obs\n",
    "        self.acts_buf[self.ptr] = act\n",
    "        self.rews_buf[self.ptr] = rew\n",
    "        self.done_buf[self.ptr] = done\n",
    "        self.ptr = (self.ptr + 1) % self.max_size\n",
    "        self.size = min(self.size + 1, self.max_size)\n",
    "\n",
    "    def sample_batch(self) -> Dict[str, np.ndarray]:\n",
    "        idxs = np.random.choice(self.size, size=self.batch_size, replace=False)\n",
    "        return dict(obs=self.obs_buf[idxs],\n",
    "                    next_obs=self.next_obs_buf[idxs],\n",
    "                    acts=self.acts_buf[idxs],\n",
    "                    rews=self.rews_buf[idxs],\n",
    "                    done=self.done_buf[idxs])\n",
    "\n",
    "    def __len__(self) -> int:\n",
    "        return self.size"
   ]
  },
  {
   "cell_type": "markdown",
   "metadata": {},
   "source": [
    "## Network\n",
    "\n",
    "The parametrized distribution can be represented by a neural network, as in DQN, but with atom_size x out_dim outputs. A softmax is applied independently for each action dimension of the output to ensure that the distribution for each action is appropriately normalized.\n",
    "\n",
    "To estimate q-values, we use inner product of each action's softmax distribution and support which is the set of atoms $\\{z_i = V_{min} + i\\Delta z: 0 \\le i < N\\}, \\Delta z = \\frac{V_{max} - V_{min}}{N-1}$.\n",
    "\n",
    "$$\n",
    "Q(s_t, a_t) = \\sum_i z_i p_i(s_t, a_t), \\\\\n",
    "\\text{where } p_i \\text{ is the probability of } z_i \\text{ (the output of softmax)}.\n",
    "$$"
   ]
  },
  {
   "cell_type": "code",
   "execution_count": 4,
   "metadata": {
    "ExecuteTime": {
     "end_time": "2023-09-05T08:14:38.299810400Z",
     "start_time": "2023-09-05T08:14:38.277867700Z"
    }
   },
   "outputs": [],
   "source": [
    "class Network(nn.Module):\n",
    "    def __init__(\n",
    "        self, \n",
    "        in_dim: int, \n",
    "        out_dim: int, \n",
    "        atom_size: int, \n",
    "        support: torch.Tensor\n",
    "    ):\n",
    "        \"\"\"Initialization.\"\"\"\n",
    "        super(Network, self).__init__()\n",
    "\n",
    "        self.support = support\n",
    "        self.out_dim = out_dim\n",
    "        self.atom_size = atom_size\n",
    "        \n",
    "        self.layers = nn.Sequential(\n",
    "            nn.Linear(in_dim, 128), \n",
    "            nn.ReLU(),\n",
    "            nn.Linear(128, 128), \n",
    "            nn.ReLU(), \n",
    "            nn.Linear(128, out_dim * atom_size)\n",
    "        )\n",
    "\n",
    "    def forward(self, x: torch.Tensor) -> torch.Tensor:\n",
    "        \"\"\"Forward method implementation.\"\"\"\n",
    "        dist = self.dist(x)\n",
    "        q = torch.sum(dist * self.support, dim=2)\n",
    "        \n",
    "        return q\n",
    "    \n",
    "    def dist(self, x: torch.Tensor) -> torch.Tensor:\n",
    "        \"\"\"Get distribution for atoms.\"\"\"\n",
    "        q_atoms = self.layers(x).view(-1, self.out_dim, self.atom_size)\n",
    "        dist = F.softmax(q_atoms, dim=-1)\n",
    "        dist = dist.clamp(min=1e-3)  # for avoiding nans\n",
    "        \n",
    "        return dist"
   ]
  },
  {
   "cell_type": "markdown",
   "metadata": {},
   "source": [
    "## Categorical DQN Agent\n",
    "\n",
    "\n",
    "Here is a summary of DQNAgent class.\n",
    "\n",
    "| Method           | Note                                                 |\n",
    "| ---              | ---                                                  |\n",
    "|select_action     | select an action from the input state.               |\n",
    "|step              | take an action and return the response of the env.   |\n",
    "|compute_dqn_loss  | return dqn loss.                                     |\n",
    "|update_model      | update the model by gradient descent.                |\n",
    "|target_hard_update| hard update from the local model to the target model.|\n",
    "|train             | train the agent during num_frames.                   |\n",
    "|test              | test the agent (1 episode).                          |\n",
    "|plot              | plot the training progresses.                        |\n",
    "\n",
    "All differences from pure DQN are noted with comments *Categorical DQN*.\n",
    "\n",
    "核心差异在计算 loss 的过程。"
   ]
  },
  {
   "cell_type": "code",
   "execution_count": 5,
   "metadata": {
    "ExecuteTime": {
     "end_time": "2023-09-05T08:14:38.367901200Z",
     "start_time": "2023-09-05T08:14:38.314770100Z"
    }
   },
   "outputs": [],
   "source": [
    "class DQNAgent:\n",
    "    \"\"\"DQN Agent interacting with environment.\n",
    "    \n",
    "    Attribute:\n",
    "        env (gym.Env): openAI Gym environment\n",
    "        memory (ReplayBuffer): replay memory to store transitions\n",
    "        batch_size (int): batch size for sampling\n",
    "        epsilon (float): parameter for epsilon greedy policy\n",
    "        epsilon_decay (float): step size to decrease epsilon\n",
    "        max_epsilon (float): max value of epsilon\n",
    "        min_epsilon (float): min value of epsilon\n",
    "        target_update (int): period for target model's hard update\n",
    "        gamma (float): discount factor\n",
    "        dqn (Network): model to train and select actions\n",
    "        dqn_target (Network): target model to update\n",
    "        optimizer (torch.optim): optimizer for training dqn\n",
    "        transition (list): transition information including\n",
    "                           state, action, reward, next_state, done\n",
    "        v_min (float): min value of support\n",
    "        v_max (float): max value of support\n",
    "        atom_size (int): the unit number of support\n",
    "        support (torch.Tensor): support for categorical dqn\n",
    "    \"\"\"\n",
    "\n",
    "    def __init__(\n",
    "        self, \n",
    "        env: gym.Env,\n",
    "        memory_size: int,\n",
    "        batch_size: int,\n",
    "        target_update: int,\n",
    "        epsilon_decay: float,\n",
    "        seed: int,\n",
    "        max_epsilon: float = 1.0,\n",
    "        min_epsilon: float = 0.1,\n",
    "        gamma: float = 0.99,\n",
    "        # Categorical DQN parameters\n",
    "        v_min: float = 0.0,\n",
    "        v_max: float = 200.0,\n",
    "        atom_size: int = 51,\n",
    "    ):\n",
    "        \"\"\"Initialization.\n",
    "        \n",
    "        Args:\n",
    "            env (gym.Env): openAI Gym environment\n",
    "            memory_size (int): length of memory\n",
    "            batch_size (int): batch size for sampling\n",
    "            target_update (int): period for target model's hard update\n",
    "            epsilon_decay (float): step size to decrease epsilon\n",
    "            lr (float): learning rate\n",
    "            max_epsilon (float): max value of epsilon\n",
    "            min_epsilon (float): min value of epsilon\n",
    "            gamma (float): discount factor\n",
    "            v_min (float): min value of support\n",
    "            v_max (float): max value of support\n",
    "            atom_size (int): the unit number of support\n",
    "        \"\"\"\n",
    "        obs_dim = env.observation_space.shape[0]\n",
    "        action_dim = env.action_space.n\n",
    "        \n",
    "        self.env = env\n",
    "        self.memory = ReplayBuffer(obs_dim, memory_size, batch_size)\n",
    "        self.batch_size = batch_size\n",
    "        self.epsilon = max_epsilon\n",
    "        self.epsilon_decay = epsilon_decay\n",
    "        self.seed = seed\n",
    "        self.max_epsilon = max_epsilon\n",
    "        self.min_epsilon = min_epsilon\n",
    "        self.target_update = target_update\n",
    "        self.gamma = gamma\n",
    "        \n",
    "        # device: cpu / gpu\n",
    "        self.device = torch.device(\"cuda\" if torch.cuda.is_available() else \"cpu\")\n",
    "        print(self.device)\n",
    "        \n",
    "        # Categorical DQN parameters\n",
    "        self.v_min = v_min\n",
    "        self.v_max = v_max\n",
    "        self.atom_size = atom_size\n",
    "        self.support = torch.linspace(\n",
    "            self.v_min, self.v_max, self.atom_size\n",
    "        ).to(self.device)\n",
    "\n",
    "        # networks: dqn, dqn_target\n",
    "        self.dqn = Network(\n",
    "            obs_dim, action_dim, atom_size, self.support\n",
    "        ).to(self.device)\n",
    "        self.dqn_target = Network(\n",
    "            obs_dim, action_dim, atom_size, self.support\n",
    "        ).to(self.device)\n",
    "        self.dqn_target.load_state_dict(self.dqn.state_dict())\n",
    "        self.dqn_target.eval()\n",
    "        \n",
    "        # optimizer\n",
    "        self.optimizer = optim.Adam(self.dqn.parameters())\n",
    "\n",
    "        # transition to store in memory\n",
    "        self.transition = list()\n",
    "        \n",
    "        # mode: train / test\n",
    "        self.is_test = False\n",
    "\n",
    "    def select_action(self, state: np.ndarray) -> np.ndarray:\n",
    "        \"\"\"Select an action from the input state.\"\"\"\n",
    "        # epsilon greedy policy\n",
    "        if self.epsilon > np.random.random():\n",
    "            selected_action = self.env.action_space.sample()\n",
    "        else:\n",
    "            selected_action = self.dqn(\n",
    "                torch.FloatTensor(state).to(self.device),\n",
    "            ).argmax()\n",
    "            selected_action = selected_action.detach().cpu().numpy()\n",
    "        \n",
    "        if not self.is_test:\n",
    "            self.transition = [state, selected_action]\n",
    "        \n",
    "        return selected_action\n",
    "\n",
    "    def step(self, action: np.ndarray) -> Tuple[np.ndarray, np.float64, bool]:\n",
    "        \"\"\"Take an action and return the response of the env.\"\"\"\n",
    "        next_state, reward, terminated, truncated, _ = self.env.step(action)\n",
    "        done = terminated or truncated\n",
    "        \n",
    "        if not self.is_test:\n",
    "            self.transition += [reward, next_state, done]\n",
    "            self.memory.store(*self.transition)\n",
    "    \n",
    "        return next_state, reward, done\n",
    "\n",
    "    def update_model(self) -> torch.Tensor:\n",
    "        \"\"\"Update the model by gradient descent.\"\"\"\n",
    "        samples = self.memory.sample_batch()\n",
    "\n",
    "        loss = self._compute_dqn_loss(samples)\n",
    "\n",
    "        self.optimizer.zero_grad()\n",
    "        loss.backward()\n",
    "        self.optimizer.step()\n",
    "\n",
    "        return loss.item()\n",
    "        \n",
    "    def train(self, num_frames: int, plotting_interval: int = 200):\n",
    "        \"\"\"Train the agent.\"\"\"\n",
    "        self.is_test = False\n",
    "        \n",
    "        state, _ = self.env.reset(seed=self.seed)\n",
    "        update_cnt = 0\n",
    "        epsilons = []\n",
    "        losses = []\n",
    "        scores = []\n",
    "        score = 0\n",
    "\n",
    "        for frame_idx in range(1, num_frames + 1):\n",
    "            action = self.select_action(state)\n",
    "            next_state, reward, done = self.step(action)\n",
    "\n",
    "            state = next_state\n",
    "            score += reward\n",
    "\n",
    "            # if episode ends\n",
    "            if done:\n",
    "                state, _ = self.env.reset(seed=self.seed)\n",
    "                scores.append(score)\n",
    "                score = 0\n",
    "\n",
    "            # if training is ready\n",
    "            if len(self.memory) >= self.batch_size:\n",
    "                loss = self.update_model()\n",
    "                losses.append(loss)\n",
    "                update_cnt += 1\n",
    "                \n",
    "                # linearly decrease epsilon\n",
    "                self.epsilon = max(\n",
    "                    self.min_epsilon, self.epsilon - (\n",
    "                        self.max_epsilon - self.min_epsilon\n",
    "                    ) * self.epsilon_decay\n",
    "                )\n",
    "                epsilons.append(self.epsilon)\n",
    "                \n",
    "                # if hard update is needed\n",
    "                if update_cnt % self.target_update == 0:\n",
    "                    self._target_hard_update()\n",
    "\n",
    "            # plotting\n",
    "            if frame_idx % plotting_interval == 0:\n",
    "                self._plot(frame_idx, scores, losses, epsilons)\n",
    "                \n",
    "        self.env.close()\n",
    "                \n",
    "    def test(self, video_folder: str) -> None:\n",
    "        \"\"\"Test the agent.\"\"\"\n",
    "        self.is_test = True\n",
    "        \n",
    "        # for recording a video\n",
    "        naive_env = self.env\n",
    "        self.env = gym.wrappers.RecordVideo(self.env, video_folder=video_folder)\n",
    "        \n",
    "        state, _ = self.env.reset(seed=self.seed)\n",
    "        done = False\n",
    "        score = 0\n",
    "        \n",
    "        while not done:\n",
    "            action = self.select_action(state)\n",
    "            next_state, reward, done = self.step(action)\n",
    "\n",
    "            state = next_state\n",
    "            score += reward\n",
    "        \n",
    "        print(\"score: \", score)\n",
    "        self.env.close()\n",
    "        \n",
    "        # reset\n",
    "        self.env = naive_env\n",
    "\n",
    "\n",
    "    def _compute_dqn_loss(self, samples: Dict[str, np.ndarray]) -> torch.Tensor:\n",
    "        \"\"\"Return categorical dqn loss.\"\"\"\n",
    "        device = self.device  # for shortening the following lines\n",
    "        state = torch.FloatTensor(samples[\"obs\"]).to(device)\n",
    "        next_state = torch.FloatTensor(samples[\"next_obs\"]).to(device)\n",
    "        action = torch.LongTensor(samples[\"acts\"]).to(device)\n",
    "        reward = torch.FloatTensor(samples[\"rews\"].reshape(-1, 1)).to(device)\n",
    "        done = torch.FloatTensor(samples[\"done\"].reshape(-1, 1)).to(device)\n",
    "        \n",
    "        # Categorical DQN algorithm\n",
    "        delta_z = float(self.v_max - self.v_min) / (self.atom_size - 1)\n",
    "\n",
    "        with torch.no_grad():\n",
    "            next_action = self.dqn_target(next_state).argmax(1)\n",
    "            next_dist = self.dqn_target.dist(next_state)\n",
    "            next_dist = next_dist[range(self.batch_size), next_action]\n",
    "\n",
    "            t_z = reward + (1 - done) * self.gamma * self.support\n",
    "            t_z = t_z.clamp(min=self.v_min, max=self.v_max)\n",
    "            b = (t_z - self.v_min) / delta_z\n",
    "            l = b.floor().long()\n",
    "            u = b.ceil().long()\n",
    "\n",
    "            offset = (\n",
    "                torch.linspace(\n",
    "                    0, (self.batch_size - 1) * self.atom_size, self.batch_size\n",
    "                ).long()\n",
    "                .unsqueeze(1)\n",
    "                .expand(self.batch_size, self.atom_size)\n",
    "                .to(self.device)\n",
    "            )\n",
    "\n",
    "            proj_dist = torch.zeros(next_dist.size(), device=self.device)\n",
    "            proj_dist.view(-1).index_add_(\n",
    "                0, (l + offset).view(-1), (next_dist * (u.float() - b)).view(-1)\n",
    "            )\n",
    "            proj_dist.view(-1).index_add_(\n",
    "                0, (u + offset).view(-1), (next_dist * (b - l.float())).view(-1)\n",
    "            )\n",
    "\n",
    "        dist = self.dqn.dist(state)\n",
    "        log_p = torch.log(dist[range(self.batch_size), action])\n",
    "\n",
    "        loss = -(proj_dist * log_p).sum(1).mean()\n",
    "\n",
    "        return loss\n",
    "\n",
    "    def _target_hard_update(self):\n",
    "        \"\"\"Hard update: target <- local.\"\"\"\n",
    "        self.dqn_target.load_state_dict(self.dqn.state_dict())\n",
    "                \n",
    "    def _plot(\n",
    "        self, \n",
    "        frame_idx: int, \n",
    "        scores: List[float], \n",
    "        losses: List[float], \n",
    "        epsilons: List[float],\n",
    "    ):\n",
    "        \"\"\"Plot the training progresses.\"\"\"\n",
    "        clear_output(True)\n",
    "        plt.figure(figsize=(20, 5))\n",
    "        plt.subplot(131)\n",
    "        plt.title('frame %s. score: %s' % (frame_idx, np.mean(scores[-10:])))\n",
    "        plt.plot(scores)\n",
    "        plt.subplot(132)\n",
    "        plt.title('loss')\n",
    "        plt.plot(losses)\n",
    "        plt.subplot(133)\n",
    "        plt.title('epsilons')\n",
    "        plt.plot(epsilons)\n",
    "        plt.show()"
   ]
  },
  {
   "cell_type": "markdown",
   "metadata": {},
   "source": [
    "## Environment\n",
    "\n",
    "You can see the [code](https://github.com/Farama-Foundation/Gymnasium/blob/main/gymnasium/envs/classic_control/cartpole.py) and [configurations](https://github.com/Farama-Foundation/Gymnasium/blob/main/gymnasium/envs/classic_control/cartpole.py#L91) of CartPole-v1 from Farama Gymnasium's repository."
   ]
  },
  {
   "cell_type": "code",
   "execution_count": 6,
   "metadata": {
    "ExecuteTime": {
     "end_time": "2023-09-05T08:14:38.380937200Z",
     "start_time": "2023-09-05T08:14:38.367901200Z"
    }
   },
   "outputs": [],
   "source": [
    "# environment\n",
    "env = gym.make(\"CartPole-v1\", max_episode_steps=200, render_mode=\"rgb_array\")"
   ]
  },
  {
   "cell_type": "markdown",
   "metadata": {},
   "source": [
    "## Set random seed"
   ]
  },
  {
   "cell_type": "code",
   "execution_count": 7,
   "metadata": {
    "ExecuteTime": {
     "end_time": "2023-09-05T08:14:38.408392300Z",
     "start_time": "2023-09-05T08:14:38.383882Z"
    }
   },
   "outputs": [],
   "source": [
    "seed = 777\n",
    "\n",
    "def seed_torch(seed):\n",
    "    torch.manual_seed(seed)\n",
    "    if torch.backends.cudnn.enabled:\n",
    "        torch.cuda.manual_seed(seed)\n",
    "        torch.backends.cudnn.benchmark = False\n",
    "        torch.backends.cudnn.deterministic = True\n",
    "\n",
    "np.random.seed(seed)\n",
    "seed_torch(seed)"
   ]
  },
  {
   "cell_type": "markdown",
   "metadata": {},
   "source": [
    "## Initialize"
   ]
  },
  {
   "cell_type": "code",
   "execution_count": 8,
   "metadata": {
    "ExecuteTime": {
     "end_time": "2023-09-05T08:14:39.904054200Z",
     "start_time": "2023-09-05T08:14:38.399416100Z"
    }
   },
   "outputs": [
    {
     "name": "stdout",
     "output_type": "stream",
     "text": [
      "cuda\n"
     ]
    }
   ],
   "source": [
    "# parameters\n",
    "num_frames = 10000\n",
    "memory_size = 2000\n",
    "batch_size = 32\n",
    "target_update = 150\n",
    "epsilon_decay = 1 / 2000\n",
    "\n",
    "# train\n",
    "agent = DQNAgent(env, memory_size, batch_size, target_update, epsilon_decay, seed)"
   ]
  },
  {
   "cell_type": "markdown",
   "metadata": {},
   "source": [
    "## Train"
   ]
  },
  {
   "cell_type": "code",
   "execution_count": 9,
   "metadata": {},
   "outputs": [
    {
     "data": {
      "text/plain": "<Figure size 2000x500 with 3 Axes>",
      "image/png": "[encoded data removed]"
     },
     "metadata": {},
     "output_type": "display_data"
    }
   ],
   "source": [
    "agent.train(num_frames)"
   ]
  },
  {
   "cell_type": "markdown",
   "metadata": {},
   "source": [
    "## Test\n",
    "\n",
    "Run the trained agent (1 episode)."
   ]
  },
  {
   "cell_type": "code",
   "execution_count": 10,
   "metadata": {
    "ExecuteTime": {
     "end_time": "2023-09-05T08:15:46.497533600Z",
     "start_time": "2023-09-05T08:15:45.268091Z"
    }
   },
   "outputs": [
    {
     "name": "stdout",
     "output_type": "stream",
     "text": [
      "Moviepy - Building video C:\\Users\\18213\\Source\\Rainbow Reading Notes\\videos\\categorical_dqn\\rl-video-episode-0.mp4.\n",
      "Moviepy - Writing video C:\\Users\\18213\\Source\\Rainbow Reading Notes\\videos\\categorical_dqn\\rl-video-episode-0.mp4\n"
     ]
    },
    {
     "name": "stderr",
     "output_type": "stream",
     "text": [
      "                                                              "
     ]
    },
    {
     "name": "stdout",
     "output_type": "stream",
     "text": [
      "Moviepy - Done !\n",
      "Moviepy - video ready C:\\Users\\18213\\Source\\Rainbow Reading Notes\\videos\\categorical_dqn\\rl-video-episode-0.mp4\n",
      "score:  200.0\n"
     ]
    },
    {
     "name": "stderr",
     "output_type": "stream",
     "text": [
      "\r"
     ]
    }
   ],
   "source": [
    "video_folder=\"videos/categorical_dqn\"\n",
    "agent.test(video_folder=video_folder)"
   ]
  },
  {
   "cell_type": "markdown",
   "metadata": {},
   "source": [
    "## Render"
   ]
  },
  {
   "cell_type": "code",
   "execution_count": 11,
   "metadata": {
    "ExecuteTime": {
     "end_time": "2023-09-05T08:15:46.511240700Z",
     "start_time": "2023-09-05T08:15:46.467566900Z"
    }
   },
   "outputs": [
    {
     "data": {
      "text/plain": "<IPython.core.display.HTML object>",
      "text/html": "\n        <video width=\"320\" height=\"240\" alt=\"test\" controls>\n        <source src=\"data:video/mp4;base64,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\" type=\"video/mp4\"/>\n        </video>\n        "
     },
     "metadata": {},
     "output_type": "display_data"
    },
    {
     "name": "stdout",
     "output_type": "stream",
     "text": [
      "Played: videos/categorical_dqn\\rl-video-episode-0.mp4\n"
     ]
    }
   ],
   "source": [
    "import base64\n",
    "import glob\n",
    "import io\n",
    "import os\n",
    "\n",
    "from IPython.display import HTML, display\n",
    "\n",
    "\n",
    "def ipython_show_video(path: str) -> None:\n",
    "    \"\"\"Show a video at `path` within IPython Notebook.\"\"\"\n",
    "    if not os.path.isfile(path):\n",
    "        raise NameError(\"Cannot access: {}\".format(path))\n",
    "\n",
    "    video = io.open(path, \"r+b\").read()\n",
    "    encoded = base64.b64encode(video)\n",
    "\n",
    "    display(HTML(\n",
    "        data=\"\"\"\n",
    "        <video width=\"320\" height=\"240\" alt=\"test\" controls>\n",
    "        <source src=\"data:video/mp4;base64,{0}\" type=\"video/mp4\"/>\n",
    "        </video>\n",
    "        \"\"\".format(encoded.decode(\"ascii\"))\n",
    "    ))\n",
    "\n",
    "\n",
    "def show_latest_video(video_folder: str) -> str:\n",
    "    \"\"\"Show the most recently recorded video from video folder.\"\"\"\n",
    "    list_of_files = glob.glob(os.path.join(video_folder, \"*.mp4\"))\n",
    "    latest_file = max(list_of_files, key=os.path.getctime)\n",
    "    ipython_show_video(latest_file)\n",
    "    return latest_file\n",
    "\n",
    "\n",
    "latest_file = show_latest_video(video_folder=video_folder)\n",
    "print(\"Played:\", latest_file)"
   ]
  }
 ],
 "metadata": {
  "kernelspec": {
   "name": "python3",
   "language": "python",
   "display_name": "Python 3 (ipykernel)"
  },
  "language_info": {
   "codemirror_mode": {
    "name": "ipython",
    "version": 3
   },
   "file_extension": ".py",
   "mimetype": "text/x-python",
   "name": "python",
   "nbconvert_exporter": "python",
   "pygments_lexer": "ipython3",
   "version": "3.8.12"
  }
 },
 "nbformat": 4,
 "nbformat_minor": 4
}
