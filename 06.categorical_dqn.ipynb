{
 "cells": [
  {
   "cell_type": "markdown",
   "metadata": {},
   "source": [
    "## Configurations for Colab"
   ]
  },
  {
   "cell_type": "code",
   "execution_count": 12,
   "metadata": {
    "ExecuteTime": {
     "end_time": "2023-09-06T05:37:17.641880200Z",
     "start_time": "2023-09-06T05:37:17.631887Z"
    }
   },
   "outputs": [],
   "source": [
    "import sys\n",
    "IN_COLAB = \"google.colab\" in sys.modules\n",
    "\n",
    "if IN_COLAB:\n",
    "    !apt install python-opengl\n",
    "    !apt install ffmpeg\n",
    "    !apt install xvfb\n",
    "    !pip install PyVirtualDisplay==3.0\n",
    "    !pip install gymnasium==0.28.1\n",
    "    from pyvirtualdisplay import Display\n",
    "    \n",
    "    # Start virtual display\n",
    "    dis = Display(visible=0, size=(400, 400))\n",
    "    dis.start()"
   ]
  },
  {
   "cell_type": "markdown",
   "metadata": {},
   "source": [
    "# 06. Categorical DQN\n",
    "\n",
    "[M. G. Bellemare et al., \"A Distributional Perspective on Reinforcement Learning.\" arXiv preprint arXiv:1707.06887, 2017.](https://arxiv.org/pdf/1707.06887.pdf)\n",
    "\n",
    "The authors argued the importance of learning the distribution of returns instead of the expected return, and they proposed to model such distributions with probability masses placed on a discrete support $z$, where $z$ is a vector with $N_{atoms} \\in \\mathbb{N}^+$ atoms, defined by $z_i = V_{min} + (i-1) \\frac{V_{max} - V_{min}}{N-1}$ for $i \\in \\{1, ..., N_{atoms}\\}$.\n",
    "\n",
    "The key insight is that return distributions satisfy a variant of Bellman’s equation. For a given state $S_t$ and action $A_t$, the distribution of the returns under the optimal policy $\\pi^{*}$ should match a target distribution defined by taking the distribution for the next state $S_{t+1}$ and action $a^{*}_{t+1} = \\pi^{*}(S_{t+1})$, contracting\n",
    "it towards zero according to the discount, and shifting it by the reward (or distribution of rewards, in the stochastic case). A distributional variant of Q-learning is then derived by first constructing a new support for the target distribution, and then minimizing the Kullbeck-Leibler divergence between the distribution $d_t$ and the target distribution\n",
    "\n",
    "$$\n",
    "d_t' = (R_{t+1} + \\gamma_{t+1} z, p_\\hat{{\\theta}} (S_{t+1}, \\hat{a}^{*}_{t+1})),\\\\\n",
    "D_{KL} (\\phi_z d_t' \\| d_t).\n",
    "$$\n",
    "\n",
    "Here $\\phi_z$ is a L2-projection of the target distribution onto the fixed support $z$, and $\\hat{a}^*_{t+1} = \\arg\\max_{a} q_{\\hat{\\theta}} (S_{t+1}, a)$ is the greedy action with respect to the mean action values $q_{\\hat{\\theta}} (S_{t+1}, a) = z^{T}p_{\\theta}(S_{t+1}, a)$ in state $S_{t+1}$."
   ]
  },
  {
   "cell_type": "code",
   "execution_count": 13,
   "metadata": {
    "ExecuteTime": {
     "end_time": "2023-09-06T05:37:17.657890200Z",
     "start_time": "2023-09-06T05:37:17.644880200Z"
    }
   },
   "outputs": [],
   "source": [
    "import os\n",
    "from typing import Dict, List, Tuple\n",
    "\n",
    "import gymnasium as gym\n",
    "import matplotlib.pyplot as plt\n",
    "import numpy as np\n",
    "import torch\n",
    "import torch.nn as nn\n",
    "import torch.nn.functional as F\n",
    "import torch.optim as optim\n",
    "from IPython.display import clear_output"
   ]
  },
  {
   "cell_type": "markdown",
   "metadata": {},
   "source": [
    "## Replay buffer\n",
    "\n",
    "Please see *01.dqn.ipynb* for detailed description."
   ]
  },
  {
   "cell_type": "code",
   "execution_count": 14,
   "metadata": {
    "ExecuteTime": {
     "end_time": "2023-09-06T05:37:17.675904Z",
     "start_time": "2023-09-06T05:37:17.664932300Z"
    }
   },
   "outputs": [],
   "source": [
    "class ReplayBuffer:\n",
    "    \"\"\"A simple numpy replay buffer.\"\"\"\n",
    "\n",
    "    def __init__(self, obs_dim: int, size: int, batch_size: int = 32):\n",
    "        self.obs_buf = np.zeros([size, obs_dim], dtype=np.float32)\n",
    "        self.next_obs_buf = np.zeros([size, obs_dim], dtype=np.float32)\n",
    "        self.acts_buf = np.zeros([size], dtype=np.float32)\n",
    "        self.rews_buf = np.zeros([size], dtype=np.float32)\n",
    "        self.done_buf = np.zeros(size, dtype=np.float32)\n",
    "        self.max_size, self.batch_size = size, batch_size\n",
    "        self.ptr, self.size, = 0, 0\n",
    "\n",
    "    def store(\n",
    "        self, \n",
    "        obs: np.ndarray, \n",
    "        act: np.ndarray, \n",
    "        rew: float, \n",
    "        next_obs: np.ndarray, \n",
    "        done: bool,\n",
    "    ):\n",
    "        self.obs_buf[self.ptr] = obs\n",
    "        self.next_obs_buf[self.ptr] = next_obs\n",
    "        self.acts_buf[self.ptr] = act\n",
    "        self.rews_buf[self.ptr] = rew\n",
    "        self.done_buf[self.ptr] = done\n",
    "        self.ptr = (self.ptr + 1) % self.max_size\n",
    "        self.size = min(self.size + 1, self.max_size)\n",
    "\n",
    "    def sample_batch(self) -> Dict[str, np.ndarray]:\n",
    "        idxs = np.random.choice(self.size, size=self.batch_size, replace=False)\n",
    "        return dict(obs=self.obs_buf[idxs],\n",
    "                    next_obs=self.next_obs_buf[idxs],\n",
    "                    acts=self.acts_buf[idxs],\n",
    "                    rews=self.rews_buf[idxs],\n",
    "                    done=self.done_buf[idxs])\n",
    "\n",
    "    def __len__(self) -> int:\n",
    "        return self.size"
   ]
  },
  {
   "cell_type": "markdown",
   "metadata": {},
   "source": [
    "## Network\n",
    "\n",
    "The parametrized distribution can be represented by a neural network, as in DQN, but with atom_size x out_dim outputs. A softmax is applied independently for each action dimension of the output to ensure that the distribution for each action is appropriately normalized.\n",
    "\n",
    "To estimate q-values, we use inner product of each action's softmax distribution and support which is the set of atoms $\\{z_i = V_{min} + i\\Delta z: 0 \\le i < N\\}, \\Delta z = \\frac{V_{max} - V_{min}}{N-1}$.\n",
    "\n",
    "$$\n",
    "Q(s_t, a_t) = \\sum_i z_i p_i(s_t, a_t), \\\\\n",
    "\\text{where } p_i \\text{ is the probability of } z_i \\text{ (the output of softmax)}.\n",
    "$$"
   ]
  },
  {
   "cell_type": "code",
   "execution_count": 15,
   "metadata": {
    "ExecuteTime": {
     "end_time": "2023-09-06T05:37:17.690887400Z",
     "start_time": "2023-09-06T05:37:17.677886400Z"
    }
   },
   "outputs": [],
   "source": [
    "class Network(nn.Module):\n",
    "    def __init__(\n",
    "        self, \n",
    "        in_dim: int, \n",
    "        out_dim: int, \n",
    "        atom_size: int, \n",
    "        support: torch.Tensor\n",
    "    ):\n",
    "        \"\"\"Initialization.\"\"\"\n",
    "        super(Network, self).__init__()\n",
    "\n",
    "        self.support = support\n",
    "        self.out_dim = out_dim\n",
    "        self.atom_size = atom_size\n",
    "        \n",
    "        self.layers = nn.Sequential(\n",
    "            nn.Linear(in_dim, 128), \n",
    "            nn.ReLU(),\n",
    "            nn.Linear(128, 128), \n",
    "            nn.ReLU(), \n",
    "            nn.Linear(128, out_dim * atom_size)\n",
    "        )\n",
    "\n",
    "    def forward(self, x: torch.Tensor) -> torch.Tensor:\n",
    "        \"\"\"Forward method implementation.\"\"\"\n",
    "        dist = self.dist(x)\n",
    "        q = torch.sum(dist * self.support, dim=2)\n",
    "        \n",
    "        return q\n",
    "    \n",
    "    def dist(self, x: torch.Tensor) -> torch.Tensor:\n",
    "        \"\"\"Get distribution for atoms.\"\"\"\n",
    "        q_atoms = self.layers(x).view(-1, self.out_dim, self.atom_size)\n",
    "        dist = F.softmax(q_atoms, dim=-1)\n",
    "        dist = dist.clamp(min=1e-3)  # for avoiding nans\n",
    "        \n",
    "        return dist"
   ]
  },
  {
   "cell_type": "markdown",
   "metadata": {},
   "source": [
    "## Categorical DQN Agent\n",
    "\n",
    "\n",
    "Here is a summary of DQNAgent class.\n",
    "\n",
    "| Method           | Note                                                 |\n",
    "| ---              | ---                                                  |\n",
    "|select_action     | select an action from the input state.               |\n",
    "|step              | take an action and return the response of the env.   |\n",
    "|compute_dqn_loss  | return dqn loss.                                     |\n",
    "|update_model      | update the model by gradient descent.                |\n",
    "|target_hard_update| hard update from the local model to the target model.|\n",
    "|train             | train the agent during num_frames.                   |\n",
    "|test              | test the agent (1 episode).                          |\n",
    "|plot              | plot the training progresses.                        |\n",
    "\n",
    "All differences from pure DQN are noted with comments *Categorical DQN*.\n",
    "\n",
    "核心差异在计算 loss 的过程。"
   ]
  },
  {
   "cell_type": "code",
   "execution_count": 16,
   "metadata": {
    "ExecuteTime": {
     "end_time": "2023-09-06T05:37:17.724039500Z",
     "start_time": "2023-09-06T05:37:17.691896600Z"
    }
   },
   "outputs": [],
   "source": [
    "class DQNAgent:\n",
    "    \"\"\"DQN Agent interacting with environment.\n",
    "    \n",
    "    Attribute:\n",
    "        env (gym.Env): openAI Gym environment\n",
    "        memory (ReplayBuffer): replay memory to store transitions\n",
    "        batch_size (int): batch size for sampling\n",
    "        epsilon (float): parameter for epsilon greedy policy\n",
    "        epsilon_decay (float): step size to decrease epsilon\n",
    "        max_epsilon (float): max value of epsilon\n",
    "        min_epsilon (float): min value of epsilon\n",
    "        target_update (int): period for target model's hard update\n",
    "        gamma (float): discount factor\n",
    "        dqn (Network): model to train and select actions\n",
    "        dqn_target (Network): target model to update\n",
    "        optimizer (torch.optim): optimizer for training dqn\n",
    "        transition (list): transition information including\n",
    "                           state, action, reward, next_state, done\n",
    "        v_min (float): min value of support\n",
    "        v_max (float): max value of support\n",
    "        atom_size (int): the unit number of support\n",
    "        support (torch.Tensor): support for categorical dqn\n",
    "    \"\"\"\n",
    "\n",
    "    def __init__(\n",
    "        self, \n",
    "        env: gym.Env,\n",
    "        memory_size: int,\n",
    "        batch_size: int,\n",
    "        target_update: int,\n",
    "        epsilon_decay: float,\n",
    "        seed: int,\n",
    "        max_epsilon: float = 1.0,\n",
    "        min_epsilon: float = 0.1,\n",
    "        gamma: float = 0.99,\n",
    "        # Categorical DQN parameters\n",
    "        v_min: float = 0.0,\n",
    "        v_max: float = 200.0,\n",
    "        atom_size: int = 51,\n",
    "    ):\n",
    "        \"\"\"Initialization.\n",
    "        \n",
    "        Args:\n",
    "            env (gym.Env): openAI Gym environment\n",
    "            memory_size (int): length of memory\n",
    "            batch_size (int): batch size for sampling\n",
    "            target_update (int): period for target model's hard update\n",
    "            epsilon_decay (float): step size to decrease epsilon\n",
    "            lr (float): learning rate\n",
    "            max_epsilon (float): max value of epsilon\n",
    "            min_epsilon (float): min value of epsilon\n",
    "            gamma (float): discount factor\n",
    "            v_min (float): min value of support\n",
    "            v_max (float): max value of support\n",
    "            atom_size (int): the unit number of support\n",
    "        \"\"\"\n",
    "        obs_dim = env.observation_space.shape[0]\n",
    "        action_dim = env.action_space.n\n",
    "        \n",
    "        self.env = env\n",
    "        self.memory = ReplayBuffer(obs_dim, memory_size, batch_size)\n",
    "        self.batch_size = batch_size\n",
    "        self.epsilon = max_epsilon\n",
    "        self.epsilon_decay = epsilon_decay\n",
    "        self.seed = seed\n",
    "        self.max_epsilon = max_epsilon\n",
    "        self.min_epsilon = min_epsilon\n",
    "        self.target_update = target_update\n",
    "        self.gamma = gamma\n",
    "        \n",
    "        # device: cpu / gpu\n",
    "        self.device = torch.device(\"cuda\" if torch.cuda.is_available() else \"cpu\")\n",
    "        print(self.device)\n",
    "        \n",
    "        # Categorical DQN parameters\n",
    "        self.v_min = v_min\n",
    "        self.v_max = v_max\n",
    "        self.atom_size = atom_size\n",
    "        self.support = torch.linspace(\n",
    "            self.v_min, self.v_max, self.atom_size\n",
    "        ).to(self.device)\n",
    "\n",
    "        # networks: dqn, dqn_target\n",
    "        self.dqn = Network(\n",
    "            obs_dim, action_dim, atom_size, self.support\n",
    "        ).to(self.device)\n",
    "        self.dqn_target = Network(\n",
    "            obs_dim, action_dim, atom_size, self.support\n",
    "        ).to(self.device)\n",
    "        self.dqn_target.load_state_dict(self.dqn.state_dict())\n",
    "        self.dqn_target.eval()\n",
    "        \n",
    "        # optimizer\n",
    "        self.optimizer = optim.Adam(self.dqn.parameters())\n",
    "\n",
    "        # transition to store in memory\n",
    "        self.transition = list()\n",
    "        \n",
    "        # mode: train / test\n",
    "        self.is_test = False\n",
    "\n",
    "    def select_action(self, state: np.ndarray) -> np.ndarray:\n",
    "        \"\"\"Select an action from the input state.\"\"\"\n",
    "        # epsilon greedy policy\n",
    "        if self.epsilon > np.random.random():\n",
    "            selected_action = self.env.action_space.sample()\n",
    "        else:\n",
    "            selected_action = self.dqn(\n",
    "                torch.FloatTensor(state).to(self.device),\n",
    "            ).argmax()\n",
    "            selected_action = selected_action.detach().cpu().numpy()\n",
    "        \n",
    "        if not self.is_test:\n",
    "            self.transition = [state, selected_action]\n",
    "        \n",
    "        return selected_action\n",
    "\n",
    "    def step(self, action: np.ndarray) -> Tuple[np.ndarray, np.float64, bool]:\n",
    "        \"\"\"Take an action and return the response of the env.\"\"\"\n",
    "        next_state, reward, terminated, truncated, _ = self.env.step(action)\n",
    "        done = terminated or truncated\n",
    "        \n",
    "        if not self.is_test:\n",
    "            self.transition += [reward, next_state, done]\n",
    "            self.memory.store(*self.transition)\n",
    "    \n",
    "        return next_state, reward, done\n",
    "\n",
    "    def update_model(self) -> torch.Tensor:\n",
    "        \"\"\"Update the model by gradient descent.\"\"\"\n",
    "        samples = self.memory.sample_batch()\n",
    "\n",
    "        loss = self._compute_dqn_loss(samples)\n",
    "\n",
    "        self.optimizer.zero_grad()\n",
    "        loss.backward()\n",
    "        self.optimizer.step()\n",
    "\n",
    "        return loss.item()\n",
    "        \n",
    "    def train(self, num_frames: int, plotting_interval: int = 200):\n",
    "        \"\"\"Train the agent.\"\"\"\n",
    "        self.is_test = False\n",
    "        \n",
    "        state, _ = self.env.reset(seed=self.seed)\n",
    "        update_cnt = 0\n",
    "        epsilons = []\n",
    "        losses = []\n",
    "        scores = []\n",
    "        score = 0\n",
    "\n",
    "        for frame_idx in range(1, num_frames + 1):\n",
    "            action = self.select_action(state)\n",
    "            next_state, reward, done = self.step(action)\n",
    "\n",
    "            state = next_state\n",
    "            score += reward\n",
    "\n",
    "            # if episode ends\n",
    "            if done:\n",
    "                state, _ = self.env.reset(seed=self.seed)\n",
    "                scores.append(score)\n",
    "                score = 0\n",
    "\n",
    "            # if training is ready\n",
    "            if len(self.memory) >= self.batch_size:\n",
    "                loss = self.update_model()\n",
    "                losses.append(loss)\n",
    "                update_cnt += 1\n",
    "                \n",
    "                # linearly decrease epsilon\n",
    "                self.epsilon = max(\n",
    "                    self.min_epsilon, self.epsilon - (\n",
    "                        self.max_epsilon - self.min_epsilon\n",
    "                    ) * self.epsilon_decay\n",
    "                )\n",
    "                epsilons.append(self.epsilon)\n",
    "                \n",
    "                # if hard update is needed\n",
    "                if update_cnt % self.target_update == 0:\n",
    "                    self._target_hard_update()\n",
    "\n",
    "            # plotting\n",
    "            if frame_idx % plotting_interval == 0:\n",
    "                self._plot(frame_idx, scores, losses, epsilons)\n",
    "                \n",
    "        self.env.close()\n",
    "                \n",
    "    def test(self, video_folder: str) -> None:\n",
    "        \"\"\"Test the agent.\"\"\"\n",
    "        self.is_test = True\n",
    "        \n",
    "        # for recording a video\n",
    "        naive_env = self.env\n",
    "        self.env = gym.wrappers.RecordVideo(self.env, video_folder=video_folder)\n",
    "        \n",
    "        state, _ = self.env.reset(seed=self.seed)\n",
    "        done = False\n",
    "        score = 0\n",
    "        \n",
    "        while not done:\n",
    "            action = self.select_action(state)\n",
    "            next_state, reward, done = self.step(action)\n",
    "\n",
    "            state = next_state\n",
    "            score += reward\n",
    "        \n",
    "        print(\"score: \", score)\n",
    "        self.env.close()\n",
    "        \n",
    "        # reset\n",
    "        self.env = naive_env\n",
    "\n",
    "\n",
    "    def _compute_dqn_loss(self, samples: Dict[str, np.ndarray]) -> torch.Tensor:\n",
    "        \"\"\"Return categorical dqn loss.\"\"\"\n",
    "        device = self.device  # for shortening the following lines\n",
    "        state = torch.FloatTensor(samples[\"obs\"]).to(device)\n",
    "        next_state = torch.FloatTensor(samples[\"next_obs\"]).to(device)\n",
    "        action = torch.LongTensor(samples[\"acts\"]).to(device)\n",
    "        reward = torch.FloatTensor(samples[\"rews\"].reshape(-1, 1)).to(device)\n",
    "        done = torch.FloatTensor(samples[\"done\"].reshape(-1, 1)).to(device)\n",
    "        \n",
    "        # Categorical DQN algorithm\n",
    "        delta_z = float(self.v_max - self.v_min) / (self.atom_size - 1)\n",
    "\n",
    "        with torch.no_grad():\n",
    "            next_action = self.dqn_target(next_state).argmax(1)\n",
    "            next_dist = self.dqn_target.dist(next_state)\n",
    "            next_dist = next_dist[range(self.batch_size), next_action]\n",
    "\n",
    "            t_z = reward + (1 - done) * self.gamma * self.support\n",
    "            t_z = t_z.clamp(min=self.v_min, max=self.v_max)\n",
    "            b = (t_z - self.v_min) / delta_z\n",
    "            l = b.floor().long()\n",
    "            u = b.ceil().long()\n",
    "\n",
    "            offset = (\n",
    "                torch.linspace(\n",
    "                    0, (self.batch_size - 1) * self.atom_size, self.batch_size\n",
    "                ).long()\n",
    "                .unsqueeze(1)\n",
    "                .expand(self.batch_size, self.atom_size)\n",
    "                .to(self.device)\n",
    "            )\n",
    "\n",
    "            proj_dist = torch.zeros(next_dist.size(), device=self.device)\n",
    "            proj_dist.view(-1).index_add_(\n",
    "                0, (l + offset).view(-1), (next_dist * (u.float() - b)).view(-1)\n",
    "            )\n",
    "            proj_dist.view(-1).index_add_(\n",
    "                0, (u + offset).view(-1), (next_dist * (b - l.float())).view(-1)\n",
    "            )\n",
    "\n",
    "        dist = self.dqn.dist(state)\n",
    "        log_p = torch.log(dist[range(self.batch_size), action])\n",
    "\n",
    "        loss = -(proj_dist * log_p).sum(1).mean()\n",
    "\n",
    "        return loss\n",
    "\n",
    "    def _target_hard_update(self):\n",
    "        \"\"\"Hard update: target <- local.\"\"\"\n",
    "        self.dqn_target.load_state_dict(self.dqn.state_dict())\n",
    "                \n",
    "    def _plot(\n",
    "        self, \n",
    "        frame_idx: int, \n",
    "        scores: List[float], \n",
    "        losses: List[float], \n",
    "        epsilons: List[float],\n",
    "    ):\n",
    "        \"\"\"Plot the training progresses.\"\"\"\n",
    "        clear_output(True)\n",
    "        plt.figure(figsize=(20, 5))\n",
    "        plt.subplot(131)\n",
    "        plt.title('frame %s. score: %s' % (frame_idx, np.mean(scores[-10:])))\n",
    "        plt.plot(scores)\n",
    "        plt.subplot(132)\n",
    "        plt.title('loss')\n",
    "        plt.plot(losses)\n",
    "        plt.subplot(133)\n",
    "        plt.title('epsilons')\n",
    "        plt.plot(epsilons)\n",
    "        plt.show()"
   ]
  },
  {
   "cell_type": "markdown",
   "metadata": {},
   "source": [
    "## Environment\n",
    "\n",
    "You can see the [code](https://github.com/Farama-Foundation/Gymnasium/blob/main/gymnasium/envs/classic_control/cartpole.py) and [configurations](https://github.com/Farama-Foundation/Gymnasium/blob/main/gymnasium/envs/classic_control/cartpole.py#L91) of CartPole-v1 from Farama Gymnasium's repository."
   ]
  },
  {
   "cell_type": "code",
   "execution_count": 17,
   "metadata": {
    "ExecuteTime": {
     "end_time": "2023-09-06T05:37:17.739016800Z",
     "start_time": "2023-09-06T05:37:17.724039500Z"
    }
   },
   "outputs": [],
   "source": [
    "# environment\n",
    "env = gym.make(\"CartPole-v1\", max_episode_steps=200, render_mode=\"rgb_array\")"
   ]
  },
  {
   "cell_type": "markdown",
   "metadata": {},
   "source": [
    "## Set random seed"
   ]
  },
  {
   "cell_type": "code",
   "execution_count": 18,
   "metadata": {
    "ExecuteTime": {
     "end_time": "2023-09-06T05:37:17.755016300Z",
     "start_time": "2023-09-06T05:37:17.740016800Z"
    }
   },
   "outputs": [],
   "source": [
    "seed = 777\n",
    "\n",
    "def seed_torch(seed):\n",
    "    torch.manual_seed(seed)\n",
    "    if torch.backends.cudnn.enabled:\n",
    "        torch.cuda.manual_seed(seed)\n",
    "        torch.backends.cudnn.benchmark = False\n",
    "        torch.backends.cudnn.deterministic = True\n",
    "\n",
    "np.random.seed(seed)\n",
    "seed_torch(seed)"
   ]
  },
  {
   "cell_type": "markdown",
   "metadata": {},
   "source": [
    "## Initialize"
   ]
  },
  {
   "cell_type": "code",
   "execution_count": 19,
   "metadata": {
    "ExecuteTime": {
     "end_time": "2023-09-06T05:37:17.813036100Z",
     "start_time": "2023-09-06T05:37:17.757016400Z"
    }
   },
   "outputs": [
    {
     "name": "stdout",
     "output_type": "stream",
     "text": [
      "cuda\n"
     ]
    }
   ],
   "source": [
    "# parameters\n",
    "num_frames = 10000\n",
    "memory_size = 2000\n",
    "batch_size = 32\n",
    "target_update = 150\n",
    "epsilon_decay = 1 / 2000\n",
    "\n",
    "# train\n",
    "agent = DQNAgent(env, memory_size, batch_size, target_update, epsilon_decay, seed)"
   ]
  },
  {
   "cell_type": "markdown",
   "metadata": {},
   "source": [
    "## Train"
   ]
  },
  {
   "cell_type": "code",
   "execution_count": 20,
   "metadata": {},
   "outputs": [
    {
     "data": {
      "text/plain": "<Figure size 2000x500 with 3 Axes>",
      "image/png": "[encoded data removed]"
     },
     "metadata": {},
     "output_type": "display_data"
    }
   ],
   "source": [
    "agent.train(num_frames)"
   ]
  },
  {
   "cell_type": "markdown",
   "metadata": {},
   "source": [
    "## Test\n",
    "\n",
    "Run the trained agent (1 episode)."
   ]
  },
  {
   "cell_type": "code",
   "execution_count": 21,
   "metadata": {
    "ExecuteTime": {
     "end_time": "2023-09-06T05:38:04.721153100Z",
     "start_time": "2023-09-06T05:38:03.731308800Z"
    }
   },
   "outputs": [
    {
     "name": "stderr",
     "output_type": "stream",
     "text": [
      "C:\\Users\\18213\\anaconda3\\envs\\Rainbow\\lib\\site-packages\\gymnasium\\wrappers\\record_video.py:87: UserWarning: \u001B[33mWARN: Overwriting existing videos at C:\\Users\\18213\\Source\\Rainbow Reading Notes\\videos\\categorical_dqn folder (try specifying a different `video_folder` for the `RecordVideo` wrapper if this is not desired)\u001B[0m\n",
      "  logger.warn(\n"
     ]
    },
    {
     "name": "stdout",
     "output_type": "stream",
     "text": [
      "Moviepy - Building video C:\\Users\\18213\\Source\\Rainbow Reading Notes\\videos\\categorical_dqn\\rl-video-episode-0.mp4.\n",
      "Moviepy - Writing video C:\\Users\\18213\\Source\\Rainbow Reading Notes\\videos\\categorical_dqn\\rl-video-episode-0.mp4\n"
     ]
    },
    {
     "name": "stderr",
     "output_type": "stream",
     "text": [
      "                                                                "
     ]
    },
    {
     "name": "stdout",
     "output_type": "stream",
     "text": [
      "Moviepy - Done !\n",
      "Moviepy - video ready C:\\Users\\18213\\Source\\Rainbow Reading Notes\\videos\\categorical_dqn\\rl-video-episode-0.mp4\n",
      "score:  200.0\n"
     ]
    },
    {
     "name": "stderr",
     "output_type": "stream",
     "text": [
      "\r"
     ]
    }
   ],
   "source": [
    "video_folder=\"videos/categorical_dqn\"\n",
    "agent.test(video_folder=video_folder)"
   ]
  },
  {
   "cell_type": "markdown",
   "metadata": {},
   "source": [
    "## Render"
   ]
  },
  {
   "cell_type": "code",
   "execution_count": 22,
   "metadata": {
    "ExecuteTime": {
     "end_time": "2023-09-06T05:38:04.735153500Z",
     "start_time": "2023-09-06T05:38:04.693153600Z"
    }
   },
   "outputs": [
    {
     "data": {
      "text/plain": "<IPython.core.display.HTML object>",
      "text/html": "\n        <video width=\"320\" height=\"240\" alt=\"test\" controls>\n        <source src=\"data:video/mp4;base64,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\" type=\"video/mp4\"/>\n        </video>\n        "
     },
     "metadata": {},
     "output_type": "display_data"
    },
    {
     "name": "stdout",
     "output_type": "stream",
     "text": [
      "Played: videos/categorical_dqn\\rl-video-episode-0.mp4\n"
     ]
    }
   ],
   "source": [
    "import base64\n",
    "import glob\n",
    "import io\n",
    "import os\n",
    "\n",
    "from IPython.display import HTML, display\n",
    "\n",
    "\n",
    "def ipython_show_video(path: str) -> None:\n",
    "    \"\"\"Show a video at `path` within IPython Notebook.\"\"\"\n",
    "    if not os.path.isfile(path):\n",
    "        raise NameError(\"Cannot access: {}\".format(path))\n",
    "\n",
    "    video = io.open(path, \"r+b\").read()\n",
    "    encoded = base64.b64encode(video)\n",
    "\n",
    "    display(HTML(\n",
    "        data=\"\"\"\n",
    "        <video width=\"320\" height=\"240\" alt=\"test\" controls>\n",
    "        <source src=\"data:video/mp4;base64,{0}\" type=\"video/mp4\"/>\n",
    "        </video>\n",
    "        \"\"\".format(encoded.decode(\"ascii\"))\n",
    "    ))\n",
    "\n",
    "\n",
    "def show_latest_video(video_folder: str) -> str:\n",
    "    \"\"\"Show the most recently recorded video from video folder.\"\"\"\n",
    "    list_of_files = glob.glob(os.path.join(video_folder, \"*.mp4\"))\n",
    "    latest_file = max(list_of_files, key=os.path.getctime)\n",
    "    ipython_show_video(latest_file)\n",
    "    return latest_file\n",
    "\n",
    "\n",
    "latest_file = show_latest_video(video_folder=video_folder)\n",
    "print(\"Played:\", latest_file)"
   ]
  }
 ],
 "metadata": {
  "kernelspec": {
   "name": "python3",
   "language": "python",
   "display_name": "Python 3 (ipykernel)"
  },
  "language_info": {
   "codemirror_mode": {
    "name": "ipython",
    "version": 3
   },
   "file_extension": ".py",
   "mimetype": "text/x-python",
   "name": "python",
   "nbconvert_exporter": "python",
   "pygments_lexer": "ipython3",
   "version": "3.8.12"
  }
 },
 "nbformat": 4,
 "nbformat_minor": 4
}
