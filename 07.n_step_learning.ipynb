{
 "cells": [
  {
   "cell_type": "markdown",
   "metadata": {},
   "source": [
    "## Configurations for Colab"
   ]
  },
  {
   "cell_type": "code",
   "execution_count": 13,
   "metadata": {
    "ExecuteTime": {
     "end_time": "2023-09-06T05:38:38.161660200Z",
     "start_time": "2023-09-06T05:38:38.094662Z"
    }
   },
   "outputs": [],
   "source": [
    "import sys\n",
    "IN_COLAB = \"google.colab\" in sys.modules\n",
    "\n",
    "if IN_COLAB:\n",
    "    !apt install python-opengl\n",
    "    !apt install ffmpeg\n",
    "    !apt install xvfb\n",
    "    !pip install PyVirtualDisplay==3.0\n",
    "    !pip install gymnasium==0.28.1\n",
    "    from pyvirtualdisplay import Display\n",
    "    \n",
    "    # Start virtual display\n",
    "    dis = Display(visible=0, size=(400, 400))\n",
    "    dis.start()"
   ]
  },
  {
   "cell_type": "markdown",
   "metadata": {},
   "source": [
    "# 07. N-Step Learning\n",
    "\n",
    "[R. S. Sutton, \"Learning to predict by the methods of temporal differences.\" Machine learning, 3(1):9–44, 1988.](http://incompleteideas.net/papers/sutton-88-with-erratum.pdf)\n",
    "\n",
    "Q-learning accumulates a single reward and then uses the greedy action at the next step to bootstrap. Alternatively, forward-view multi-step targets can be used (Sutton 1988). We call it Truncated N-Step Return\n",
    "from a given state $S_t$. It is defined as,\n",
    "\n",
    "$$\n",
    "R^{(n)}_t = \\sum_{k=0}^{n-1} \\gamma_t^{(k)} R_{t+k+1}.\n",
    "$$\n",
    "\n",
    "A multi-step variant of DQN is then defined by minimizing the alternative loss,\n",
    "\n",
    "$$\n",
    "(R^{(n)}_t + \\gamma^{(n)}_t \\max_{a'} q_{\\theta}^{-}\n",
    "(S_{t+n}, a')\n",
    "- q_{\\theta}(S_t, A_t))^2.\n",
    "$$\n",
    "\n",
    "Multi-step targets with suitably tuned $n$ often lead to faster learning (Sutton and Barto 1998)."
   ]
  },
  {
   "cell_type": "code",
   "execution_count": 14,
   "metadata": {
    "ExecuteTime": {
     "end_time": "2023-09-06T05:38:38.166660900Z",
     "start_time": "2023-09-06T05:38:38.112661100Z"
    }
   },
   "outputs": [],
   "source": [
    "import os\n",
    "from collections import deque\n",
    "from typing import Deque, Dict, List, Tuple\n",
    "\n",
    "import gymnasium as gym\n",
    "import matplotlib.pyplot as plt\n",
    "import numpy as np\n",
    "import torch\n",
    "import torch.nn as nn\n",
    "import torch.nn.functional as F\n",
    "import torch.optim as optim\n",
    "from IPython.display import clear_output"
   ]
  },
  {
   "cell_type": "markdown",
   "metadata": {},
   "source": [
    "## Replay buffer for N-step learning\n",
    "\n",
    "There are a little bit changes in Replay buffer for N-step learning. First, we use `deque` to store the most recent n-step transitions.\n",
    "\n",
    "```python\n",
    "    self.n_step_buffer = deque(maxlen=n_step)\n",
    "```\n",
    "\n",
    "You can see it doesn't actually store a transition in the buffer, unless `n_step_buffer` is full.\n",
    "\n",
    "```\n",
    "    # in store method\n",
    "    if len(self.n_step_buffer) < self.n_step:\n",
    "        return ()\n",
    "```\n",
    "\n",
    "When the length of `n_step_buffer` becomes equal to N, it eventually stores the N-step transition, which is calculated by `_get_n_step_info` method.\n",
    "\n",
    "(Please see *01.dqn.ipynb* for detailed description of the basic replay buffer.)"
   ]
  },
  {
   "cell_type": "code",
   "execution_count": 15,
   "metadata": {
    "ExecuteTime": {
     "end_time": "2023-09-06T05:38:38.166660900Z",
     "start_time": "2023-09-06T05:38:38.136662500Z"
    }
   },
   "outputs": [],
   "source": [
    "class ReplayBuffer:\n",
    "    \"\"\"A simple numpy replay buffer.\"\"\"\n",
    "\n",
    "    def __init__(\n",
    "        self, \n",
    "        obs_dim: int, \n",
    "        size: int, \n",
    "        batch_size: int = 32, \n",
    "        n_step: int = 3, \n",
    "        gamma: float = 0.99,\n",
    "    ):\n",
    "        self.obs_buf = np.zeros([size, obs_dim], dtype=np.float32)\n",
    "        self.next_obs_buf = np.zeros([size, obs_dim], dtype=np.float32)\n",
    "        self.acts_buf = np.zeros([size], dtype=np.float32)\n",
    "        self.rews_buf = np.zeros([size], dtype=np.float32)\n",
    "        self.done_buf = np.zeros(size, dtype=np.float32)\n",
    "        self.max_size, self.batch_size = size, batch_size\n",
    "        self.ptr, self.size, = 0, 0\n",
    "        \n",
    "        # for N-step Learning\n",
    "        # deque 的特性：当达到最大容量后仍在队尾插入值，则队头的值出队\n",
    "        self.n_step_buffer = deque(maxlen=n_step)\n",
    "        self.n_step = n_step\n",
    "        self.gamma = gamma\n",
    "\n",
    "    def store(\n",
    "        self, \n",
    "        obs: np.ndarray, \n",
    "        act: np.ndarray, \n",
    "        rew: float, \n",
    "        next_obs: np.ndarray, \n",
    "        done: bool\n",
    "    ) -> Tuple[np.ndarray, np.ndarray, float, np.ndarray, bool]:\n",
    "        transition = (obs, act, rew, next_obs, done)\n",
    "        self.n_step_buffer.append(transition)\n",
    "\n",
    "        # single step transition is not ready\n",
    "        if len(self.n_step_buffer) < self.n_step:\n",
    "            return ()\n",
    "        \n",
    "        # make a n-step transition\n",
    "        rew, next_obs, done = self._get_n_step_info(\n",
    "            self.n_step_buffer, self.gamma\n",
    "        )\n",
    "        obs, act = self.n_step_buffer[0][:2]\n",
    "        \n",
    "        self.obs_buf[self.ptr] = obs\n",
    "        self.next_obs_buf[self.ptr] = next_obs\n",
    "        self.acts_buf[self.ptr] = act\n",
    "        self.rews_buf[self.ptr] = rew\n",
    "        self.done_buf[self.ptr] = done\n",
    "        self.ptr = (self.ptr + 1) % self.max_size\n",
    "        self.size = min(self.size + 1, self.max_size)\n",
    "        \n",
    "        return self.n_step_buffer[0]  # 返回的是一步的 transition\n",
    "\n",
    "    def sample_batch(self) -> Dict[str, np.ndarray]:\n",
    "        indices = np.random.choice(\n",
    "            self.size, size=self.batch_size, replace=False\n",
    "        )\n",
    "\n",
    "        return dict(\n",
    "            obs=self.obs_buf[indices],\n",
    "            next_obs=self.next_obs_buf[indices],\n",
    "            acts=self.acts_buf[indices],\n",
    "            rews=self.rews_buf[indices],\n",
    "            done=self.done_buf[indices],\n",
    "            # for N-step Learning\n",
    "            indices=indices,    # 这里是保证和单步采样拿到一样的样本\n",
    "            \n",
    "            \n",
    "        )\n",
    "    \n",
    "    def sample_batch_from_idxs(\n",
    "        self, indices: np.ndarray\n",
    "    ) -> Dict[str, np.ndarray]:\n",
    "        # for N-step Learning\n",
    "        return dict(\n",
    "            obs=self.obs_buf[indices],\n",
    "            next_obs=self.next_obs_buf[indices],\n",
    "            acts=self.acts_buf[indices],\n",
    "            rews=self.rews_buf[indices],\n",
    "            done=self.done_buf[indices],\n",
    "        )\n",
    "    \n",
    "    def _get_n_step_info(\n",
    "        self, n_step_buffer: Deque, gamma: float\n",
    "    ) -> Tuple[np.int64, np.ndarray, bool]:\n",
    "        \"\"\"Return n step rew, next_obs, and done.\"\"\"\n",
    "        # info of the last transition\n",
    "        rew, next_obs, done = n_step_buffer[-1][-3:]\n",
    "\n",
    "        # 从倒数第二个开始，从后往前遍历\n",
    "        # [0] 是最旧的，[n_step - 1] 是最新的数据\n",
    "        for transition in reversed(list(n_step_buffer)[:-1]):\n",
    "            r, n_o, d = transition[-3:]  # n_o: new observation, s'\n",
    "\n",
    "            rew = r + gamma * rew * (1 - d)  # 计算这 n 步的 reward\n",
    "            next_obs, done = (n_o, d) if d else (next_obs, done)\n",
    "\n",
    "        return rew, next_obs, done\n",
    "\n",
    "    def __len__(self) -> int:\n",
    "        return self.size"
   ]
  },
  {
   "cell_type": "markdown",
   "metadata": {},
   "source": [
    "## Network\n",
    "\n",
    "We are going to use a simple network architecture with three fully connected layers and two non-linearity functions (ReLU)."
   ]
  },
  {
   "cell_type": "code",
   "execution_count": 16,
   "metadata": {
    "ExecuteTime": {
     "end_time": "2023-09-06T05:38:38.166660900Z",
     "start_time": "2023-09-06T05:38:38.146660700Z"
    }
   },
   "outputs": [],
   "source": [
    "class Network(nn.Module):\n",
    "    def __init__(self, in_dim: int, out_dim: int):\n",
    "        \"\"\"Initialization.\"\"\"\n",
    "        super(Network, self).__init__()\n",
    "\n",
    "        self.layers = nn.Sequential(\n",
    "            nn.Linear(in_dim, 128), \n",
    "            nn.ReLU(),\n",
    "            nn.Linear(128, 128), \n",
    "            nn.ReLU(), \n",
    "            nn.Linear(128, out_dim)\n",
    "        )\n",
    "\n",
    "    def forward(self, x: torch.Tensor) -> torch.Tensor:\n",
    "        \"\"\"Forward method implementation.\"\"\"\n",
    "        return self.layers(x)"
   ]
  },
  {
   "cell_type": "markdown",
   "metadata": {},
   "source": [
    "## DQN Agent + N-step learning Agent\n",
    "\n",
    "Here is a summary of DQNAgent class.\n",
    "\n",
    "| Method           | Note                                                 |\n",
    "| ---              | ---                                                  |\n",
    "|select_action     | select an action from the input state.               |\n",
    "|step              | take an action and return the response of the env.   |\n",
    "|compute_dqn_loss  | return dqn loss.                                     |\n",
    "|update_model      | update the model by gradient descent.                |\n",
    "|target_hard_update| hard update from the local model to the target model.|\n",
    "|train             | train the agent during num_frames.                   |\n",
    "|test              | test the agent (1 episode).                          |\n",
    "|plot              | plot the training progresses.                        |\n",
    "\n",
    "We use two buffers: `memory` and `memory_n` for 1-step transitions and n-step transitions respectively. It guarantees that any paired 1-step and n-step transitions have the same indices (See `step` method for more details). Due to the reason, we can sample pairs of transitions from the two buffers once we have indices for samples.\n",
    "\n",
    "```python\n",
    "    def update_model(self) -> torch.Tensor:\n",
    "        ...\n",
    "        samples = self.memory.sample_batch()\n",
    "        indices = samples[\"indices\"]\n",
    "        ...\n",
    "        \n",
    "        # N-step Learning loss\n",
    "        if self.use_n_step:\n",
    "            samples = self.memory_n.sample_batch_from_idxs(indices)\n",
    "            ...\n",
    "```\n",
    "\n",
    "One thing to note that  we are gonna combine 1-step loss and n-step loss so as to control high-variance / high-bias trade-off.\n",
    "\n",
    "(Search the comments with *N-step Leaning* to see any difference from DQN.)"
   ]
  },
  {
   "cell_type": "code",
   "execution_count": 17,
   "metadata": {
    "ExecuteTime": {
     "end_time": "2023-09-06T05:38:38.203661200Z",
     "start_time": "2023-09-06T05:38:38.160660800Z"
    }
   },
   "outputs": [],
   "source": [
    "class DQNAgent:\n",
    "    \"\"\"DQN Agent interacting with environment.\n",
    "    \n",
    "    Attribute:\n",
    "        env (gym.Env): openAI Gym environment\n",
    "        memory (ReplayBuffer): replay memory to store transitions\n",
    "        batch_size (int): batch size for sampling\n",
    "        epsilon (float): parameter for epsilon greedy policy\n",
    "        epsilon_decay (float): step size to decrease epsilon\n",
    "        max_epsilon (float): max value of epsilon\n",
    "        min_epsilon (float): min value of epsilon\n",
    "        target_update (int): period for target model's hard update\n",
    "        gamma (float): discount factor\n",
    "        dqn (Network): model to train and select actions\n",
    "        dqn_target (Network): target model to update\n",
    "        optimizer (torch.optim): optimizer for training dqn\n",
    "        transition (list): transition information including \n",
    "                           state, action, reward, next_state, done\n",
    "        use_n_step (bool): whether to use n_step memory\n",
    "        n_step (int): step number to calculate n-step td error\n",
    "        memory_n (ReplayBuffer): n-step replay buffer\n",
    "    \"\"\"\n",
    "\n",
    "    def __init__(\n",
    "        self, \n",
    "        env: gym.Env,\n",
    "        memory_size: int,\n",
    "        batch_size: int,\n",
    "        target_update: int,\n",
    "        epsilon_decay: float,\n",
    "        seed: int,\n",
    "        max_epsilon: float = 1.0,\n",
    "        min_epsilon: float = 0.1,\n",
    "        gamma: float = 0.99,\n",
    "        # N-step Learning\n",
    "        n_step: int = 3,\n",
    "    ):\n",
    "        \"\"\"Initialization.\n",
    "        \n",
    "        Args:\n",
    "            env (gym.Env): openAI Gym environment\n",
    "            memory_size (int): length of memory\n",
    "            batch_size (int): batch size for sampling\n",
    "            target_update (int): period for target model's hard update\n",
    "            epsilon_decay (float): step size to decrease epsilon\n",
    "            lr (float): learning rate\n",
    "            max_epsilon (float): max value of epsilon\n",
    "            min_epsilon (float): min value of epsilon\n",
    "            gamma (float): discount factor\n",
    "            n_step (int): step number to calculate n-step td error\n",
    "        \"\"\"\n",
    "        obs_dim = env.observation_space.shape[0]\n",
    "        action_dim = env.action_space.n\n",
    "        \n",
    "        self.env = env\n",
    "        self.batch_size = batch_size\n",
    "        self.epsilon = max_epsilon\n",
    "        self.epsilon_decay = epsilon_decay\n",
    "        self.seed = seed\n",
    "        self.max_epsilon = max_epsilon\n",
    "        self.min_epsilon = min_epsilon\n",
    "        self.target_update = target_update\n",
    "        self.gamma = gamma\n",
    "        \n",
    "        # memory for 1-step Learning\n",
    "        self.memory = ReplayBuffer(\n",
    "            obs_dim, memory_size, batch_size, n_step=1\n",
    "        )\n",
    "        \n",
    "        # memory for N-step Learning\n",
    "        # 这句话在代码质量如此高的 Rainbow 中显得格格不入\n",
    "        self.use_n_step = True if n_step > 1 else False  \n",
    "        if self.use_n_step:\n",
    "            self.n_step = n_step\n",
    "            self.memory_n = ReplayBuffer(\n",
    "                obs_dim, memory_size, batch_size, n_step=n_step, gamma=gamma\n",
    "            )\n",
    "        \n",
    "        # device: cpu / gpu\n",
    "        self.device = torch.device(\n",
    "            \"cuda\" if torch.cuda.is_available() else \"cpu\"\n",
    "        )\n",
    "        print(self.device)\n",
    "\n",
    "        # networks: dqn, dqn_target\n",
    "        self.dqn = Network(obs_dim, action_dim).to(self.device)\n",
    "        self.dqn_target = Network(obs_dim, action_dim).to(self.device)\n",
    "        self.dqn_target.load_state_dict(self.dqn.state_dict())\n",
    "        self.dqn_target.eval()\n",
    "        \n",
    "        # optimizer\n",
    "        self.optimizer = optim.Adam(self.dqn.parameters())\n",
    "\n",
    "        # transition to store in memory\n",
    "        self.transition = list()\n",
    "        \n",
    "        # mode: train / test\n",
    "        self.is_test = False\n",
    "\n",
    "    def select_action(self, state: np.ndarray) -> np.ndarray:\n",
    "        \"\"\"Select an action from the input state.\"\"\"\n",
    "        # epsilon greedy policy\n",
    "        if self.epsilon > np.random.random():\n",
    "            selected_action = self.env.action_space.sample()\n",
    "        else:\n",
    "            selected_action = self.dqn(\n",
    "                torch.FloatTensor(state).to(self.device)\n",
    "            ).argmax()\n",
    "            selected_action = selected_action.detach().cpu().numpy()\n",
    "        \n",
    "        if not self.is_test:\n",
    "            self.transition = [state, selected_action]\n",
    "        \n",
    "        return selected_action\n",
    "\n",
    "    def step(self, action: np.ndarray) -> Tuple[np.ndarray, np.float64, bool]:\n",
    "        \"\"\"Take an action and return the response of the env.\"\"\"\n",
    "        next_state, reward, terminated, truncated, _ = self.env.step(action)\n",
    "        done = terminated or truncated\n",
    "        \n",
    "        if not self.is_test:\n",
    "            self.transition += [reward, next_state, done]\n",
    "            \n",
    "            # N-step transition\n",
    "            if self.use_n_step:\n",
    "                one_step_transition = self.memory_n.store(*self.transition)\n",
    "            # 1-step transition\n",
    "            else:\n",
    "                one_step_transition = self.transition\n",
    "\n",
    "            # add a single step transition\n",
    "            if one_step_transition:\n",
    "                self.memory.store(*one_step_transition)\n",
    "    \n",
    "        return next_state, reward, done\n",
    "\n",
    "    def update_model(self) -> torch.Tensor:\n",
    "        \"\"\"Update the model by gradient descent.\"\"\"\n",
    "        samples = self.memory.sample_batch()\n",
    "        indices = samples[\"indices\"]\n",
    "        loss = self._compute_dqn_loss(samples, self.gamma)\n",
    "        \n",
    "        # N-step Learning loss\n",
    "        # we are gonna combine 1-step loss and n-step loss so as to\n",
    "        # prevent high-variance.\n",
    "        if self.use_n_step:\n",
    "            samples = self.memory_n.sample_batch_from_idxs(indices)\n",
    "            gamma = self.gamma ** self.n_step\n",
    "            n_loss = self._compute_dqn_loss(samples, gamma)\n",
    "            loss += n_loss\n",
    "\n",
    "        self.optimizer.zero_grad()\n",
    "        loss.backward()\n",
    "        self.optimizer.step()\n",
    "\n",
    "        return loss.item()\n",
    "        \n",
    "    def train(self, num_frames: int, plotting_interval: int = 200):\n",
    "        \"\"\"Train the agent.\"\"\"\n",
    "        self.is_test = False\n",
    "        \n",
    "        state, _ = self.env.reset(seed=self.seed)\n",
    "        update_cnt = 0\n",
    "        epsilons = []\n",
    "        losses = []\n",
    "        scores = []\n",
    "        score = 0\n",
    "\n",
    "        for frame_idx in range(1, num_frames + 1):\n",
    "            action = self.select_action(state)\n",
    "            next_state, reward, done = self.step(action)\n",
    "\n",
    "            state = next_state\n",
    "            score += reward\n",
    "\n",
    "            # if episode ends\n",
    "            if done:\n",
    "                state, _ = self.env.reset(seed=self.seed)\n",
    "                scores.append(score)\n",
    "                score = 0\n",
    "\n",
    "            # if training is ready\n",
    "            if len(self.memory) >= self.batch_size:\n",
    "                loss = self.update_model()\n",
    "                losses.append(loss)\n",
    "                update_cnt += 1\n",
    "                \n",
    "                # linearly decrease epsilon\n",
    "                self.epsilon = max(\n",
    "                    self.min_epsilon, self.epsilon - (\n",
    "                        self.max_epsilon - self.min_epsilon\n",
    "                    ) * self.epsilon_decay\n",
    "                )\n",
    "                epsilons.append(self.epsilon)\n",
    "                \n",
    "                # if hard update is needed\n",
    "                if update_cnt % self.target_update == 0:\n",
    "                    self._target_hard_update()\n",
    "\n",
    "            # plotting\n",
    "            if frame_idx % plotting_interval == 0:\n",
    "                self._plot(frame_idx, scores, losses, epsilons)\n",
    "                \n",
    "        self.env.close()\n",
    "                \n",
    "    def test(self, video_folder: str) -> None:\n",
    "        \"\"\"Test the agent.\"\"\"\n",
    "        self.is_test = True\n",
    "        \n",
    "        # for recording a video\n",
    "        naive_env = self.env\n",
    "        self.env = gym.wrappers.RecordVideo(self.env, video_folder=video_folder)\n",
    "        \n",
    "        state, _ = self.env.reset(seed=self.seed)\n",
    "        done = False\n",
    "        score = 0\n",
    "        \n",
    "        while not done:\n",
    "            action = self.select_action(state)\n",
    "            next_state, reward, done = self.step(action)\n",
    "\n",
    "            state = next_state\n",
    "            score += reward\n",
    "        \n",
    "        print(\"score: \", score)\n",
    "        self.env.close()\n",
    "        \n",
    "        # reset\n",
    "        self.env = naive_env\n",
    "        \n",
    "    def _compute_dqn_loss(\n",
    "        self, \n",
    "        samples: Dict[str, np.ndarray], \n",
    "        gamma: float\n",
    "    ) -> torch.Tensor:\n",
    "        \"\"\"Return dqn loss.\"\"\"\n",
    "        device = self.device  # for shortening the following lines\n",
    "        state = torch.FloatTensor(samples[\"obs\"]).to(device)\n",
    "        next_state = torch.FloatTensor(samples[\"next_obs\"]).to(device)\n",
    "        action = torch.LongTensor(samples[\"acts\"].reshape(-1, 1)).to(device)\n",
    "        reward = torch.FloatTensor(samples[\"rews\"].reshape(-1, 1)).to(device)\n",
    "        done = torch.FloatTensor(samples[\"done\"].reshape(-1, 1)).to(device)\n",
    "\n",
    "        # G_t   = r + gamma * v(s_{t+1})  if state != Terminal\n",
    "        #       = r                       otherwise\n",
    "        curr_q_value = self.dqn(state).gather(1, action)\n",
    "        next_q_value = self.dqn_target(next_state).max(\n",
    "            dim=1, keepdim=True\n",
    "        )[0].detach()\n",
    "        mask = 1 - done\n",
    "        target = (reward + gamma * next_q_value * mask).to(self.device)\n",
    "\n",
    "        # calculate dqn loss\n",
    "        loss = F.smooth_l1_loss(curr_q_value, target)\n",
    "\n",
    "        return loss\n",
    "\n",
    "    def _target_hard_update(self):\n",
    "        \"\"\"Hard update: target <- local.\"\"\"\n",
    "        self.dqn_target.load_state_dict(self.dqn.state_dict())\n",
    "                \n",
    "    def _plot(\n",
    "        self, \n",
    "        frame_idx: int, \n",
    "        scores: List[float], \n",
    "        losses: List[float], \n",
    "        epsilons: List[float],\n",
    "    ):\n",
    "        \"\"\"Plot the training progresses.\"\"\"\n",
    "        clear_output(True)\n",
    "        plt.figure(figsize=(20, 5))\n",
    "        plt.subplot(131)\n",
    "        plt.title('frame %s. score: %s' % (frame_idx, np.mean(scores[-10:])))\n",
    "        plt.plot(scores)\n",
    "        plt.subplot(132)\n",
    "        plt.title('loss')\n",
    "        plt.plot(losses)\n",
    "        plt.subplot(133)\n",
    "        plt.title('epsilons')\n",
    "        plt.plot(epsilons)\n",
    "        plt.show()"
   ]
  },
  {
   "cell_type": "markdown",
   "metadata": {},
   "source": [
    "## Environment\n",
    "\n",
    "You can see the [code](https://github.com/Farama-Foundation/Gymnasium/blob/main/gymnasium/envs/classic_control/cartpole.py) and [configurations](https://github.com/Farama-Foundation/Gymnasium/blob/main/gymnasium/envs/classic_control/cartpole.py#L91) of CartPole-v1 from Farama Gymnasium's repository."
   ]
  },
  {
   "cell_type": "code",
   "execution_count": 18,
   "metadata": {
    "ExecuteTime": {
     "end_time": "2023-09-06T05:38:38.212682900Z",
     "start_time": "2023-09-06T05:38:38.192662700Z"
    }
   },
   "outputs": [],
   "source": [
    "# environment\n",
    "env = gym.make(\"CartPole-v1\", max_episode_steps=200, render_mode=\"rgb_array\")"
   ]
  },
  {
   "cell_type": "markdown",
   "metadata": {},
   "source": [
    "## Set random seed"
   ]
  },
  {
   "cell_type": "code",
   "execution_count": 19,
   "metadata": {
    "ExecuteTime": {
     "end_time": "2023-09-06T05:38:38.227659800Z",
     "start_time": "2023-09-06T05:38:38.206660900Z"
    }
   },
   "outputs": [],
   "source": [
    "seed = 777\n",
    "\n",
    "def seed_torch(seed):\n",
    "    torch.manual_seed(seed)\n",
    "    if torch.backends.cudnn.enabled:\n",
    "        torch.cuda.manual_seed(seed)\n",
    "        torch.backends.cudnn.benchmark = False\n",
    "        torch.backends.cudnn.deterministic = True\n",
    "\n",
    "np.random.seed(seed)\n",
    "seed_torch(seed)"
   ]
  },
  {
   "cell_type": "markdown",
   "metadata": {},
   "source": [
    "## Initialize"
   ]
  },
  {
   "cell_type": "code",
   "execution_count": 20,
   "metadata": {
    "ExecuteTime": {
     "end_time": "2023-09-06T05:38:38.256660Z",
     "start_time": "2023-09-06T05:38:38.222661200Z"
    }
   },
   "outputs": [
    {
     "name": "stdout",
     "output_type": "stream",
     "text": [
      "cuda\n"
     ]
    }
   ],
   "source": [
    "# parameters\n",
    "num_frames = 10000\n",
    "memory_size = 2000\n",
    "batch_size = 32\n",
    "target_update = 100\n",
    "epsilon_decay = 1 / 2000\n",
    "\n",
    "# train\n",
    "agent = DQNAgent(env, memory_size, batch_size, target_update, epsilon_decay, seed)"
   ]
  },
  {
   "cell_type": "markdown",
   "metadata": {},
   "source": [
    "## Train"
   ]
  },
  {
   "cell_type": "code",
   "execution_count": 21,
   "metadata": {},
   "outputs": [
    {
     "data": {
      "text/plain": "<Figure size 2000x500 with 3 Axes>",
      "image/png": "[encoded data removed]"
     },
     "metadata": {},
     "output_type": "display_data"
    }
   ],
   "source": [
    "agent.train(num_frames)"
   ]
  },
  {
   "cell_type": "markdown",
   "metadata": {},
   "source": [
    "## Test\n",
    "\n",
    "Run the trained agent (1 episode)."
   ]
  },
  {
   "cell_type": "code",
   "execution_count": 22,
   "metadata": {
    "ExecuteTime": {
     "end_time": "2023-09-06T05:39:22.942310200Z",
     "start_time": "2023-09-06T05:39:21.955552500Z"
    }
   },
   "outputs": [
    {
     "name": "stderr",
     "output_type": "stream",
     "text": [
      "C:\\Users\\18213\\anaconda3\\envs\\Rainbow\\lib\\site-packages\\gymnasium\\wrappers\\record_video.py:87: UserWarning: \u001B[33mWARN: Overwriting existing videos at C:\\Users\\18213\\Source\\Rainbow Reading Notes\\videos\\n_step_learning folder (try specifying a different `video_folder` for the `RecordVideo` wrapper if this is not desired)\u001B[0m\n",
      "  logger.warn(\n"
     ]
    },
    {
     "name": "stdout",
     "output_type": "stream",
     "text": [
      "Moviepy - Building video C:\\Users\\18213\\Source\\Rainbow Reading Notes\\videos\\n_step_learning\\rl-video-episode-0.mp4.\n",
      "Moviepy - Writing video C:\\Users\\18213\\Source\\Rainbow Reading Notes\\videos\\n_step_learning\\rl-video-episode-0.mp4\n"
     ]
    },
    {
     "name": "stderr",
     "output_type": "stream",
     "text": [
      "                                                              \r"
     ]
    },
    {
     "name": "stdout",
     "output_type": "stream",
     "text": [
      "Moviepy - Done !\n",
      "Moviepy - video ready C:\\Users\\18213\\Source\\Rainbow Reading Notes\\videos\\n_step_learning\\rl-video-episode-0.mp4\n",
      "score:  200.0\n"
     ]
    }
   ],
   "source": [
    "video_folder=\"videos/n_step_learning\"\n",
    "agent.test(video_folder=video_folder)"
   ]
  },
  {
   "cell_type": "markdown",
   "metadata": {},
   "source": [
    "## Render"
   ]
  },
  {
   "cell_type": "code",
   "execution_count": 23,
   "metadata": {
    "ExecuteTime": {
     "end_time": "2023-09-06T05:39:22.943293Z",
     "start_time": "2023-09-06T05:39:22.916294200Z"
    }
   },
   "outputs": [
    {
     "data": {
      "text/plain": "<IPython.core.display.HTML object>",
      "text/html": "\n        <video width=\"320\" height=\"240\" alt=\"test\" controls>\n        <source src=\"data:video/mp4;base64,AAAAIGZ0eXBpc29tAAACAGlzb21pc28yYXZjMW1wNDEAAAAIZnJlZQAAJXFtZGF0AAACoQYF//+d3EXpvebZSLeWLNgg2SPu73gyNjQgLSBjb3JlIDE1OSAtIEguMjY0L01QRUctNCBBVkMgY29kZWMgLSBDb3B5bGVmdCAyMDAzLTIwMTkgLSBodHRwOi8vd3d3LnZpZGVvbGFuLm9yZy94MjY0Lmh0bWwgLSBvcHRpb25zOiBjYWJhYz0xIHJlZj0zIGRlYmxvY2s9MTowOjAgYW5hbHlzZT0weDM6MHgxMTMgbWU9aGV4IHN1Ym1lPTcgcHN5PTEgcHN5X3JkPTEuMDA6MC4wMCBtaXhlZF9yZWY9MSBtZV9yYW5nZT0xNiBjaHJvbWFfbWU9MSB0cmVsbGlzPTEgOHg4ZGN0PTEgY3FtPTAgZGVhZHpvbmU9MjEsMTEgZmFzdF9wc2tpcD0xIGNocm9tYV9xcF9vZmZzZXQ9LTIgdGhyZWFkcz0xMiBsb29rYWhlYWRfdGhyZWFkcz0yIHNsaWNlZF90aHJlYWRzPTAgbnI9MCBkZWNpbWF0ZT0xIGludGVybGFjZWQ9MCBibHVyYXlfY29tcGF0PTAgY29uc3RyYWluZWRfaW50cmE9MCBiZnJhbWVzPTMgYl9weXJhbWlkPTIgYl9hZGFwdD0xIGJfYmlhcz0wIGRpcmVjdD0xIHdlaWdodGI9MSBvcGVuX2dvcD0wIHdlaWdodHA9MiBrZXlpbnQ9MjUwIGtleWludF9taW49MjUgc2NlbmVjdXQ9NDAgaW50cmFfcmVmcmVzaD0wIHJjX2xvb2thaGVhZD00MCByYz1jcmYgbWJ0cmVlPTEgY3JmPTIzLjAgcWNvbXA9MC42MCBxcG1pbj0wIHFwbWF4PTY5IHFwc3RlcD00IGlwX3JhdGlvPTEuNDAgYXE9MToxLjAwAIAAAAG7ZYiEACf//vWxfApqyfOKDOgyLuGXJMmutiLibQDAFQ+wAAADAAATKpYnsyAlGpfAAAAQkANQH0GUHmImKsVAleIOBmriALkwL5pacv8ySayPhF43T4tWDcpm1JvUGOQ+U5+1W9CUpGrAD1k5EAk7tlei2JtOYFay1pOFVha8Dgefc12kA+pBgmAc+Eth6jWt0S92qtGGUs/pQc+KAPlX0vpynhRc87GXTfQhcTfwAKbKnPrBm4fliiH8C2tzdk9Hq85ZP6b0y73lpQMdvwVV8RUfhssQhncqxyPE8G6sgntVLziciXjFi2WNQd5ZKR+ZZQcgNXlJr4MAcKFmAGAis8CGtnnVEPm5V/5ID0mPAvVoyctE/M9Ce9gitorSYs2+7Tw+q7WpNPOOSalnkF+hW//18rlRKF/QRAUUJLPEdoqs8R4i49i1nQOEppH73AMTDSOZTGT/q3Ui9+V15YhkIuyla6zLqrJiNbUQPcSkye5yyf48s1NYOAAEuzRhcYV59IM/0+kzNAKVCEaTvlQ+0IVxdwdlCSDs1xE2e4r7Ua6EcQ658lLaAYegq+AlbwJKIdQAAAMAAAMAQ8EAAABeQZokbEL//oywAAAKF7DYa+CzVhWEsgBGU4Ffzt5KO7koQkctDvotiu9Ew880Ku1l3RLZVgJd/mM3ZMhKEQ7f0z5ELHVwY4LrUSCSATwqYb5zZ7OOScqO5cheP1WMIAAAACRBnkJ4hH8AAAMDOXF2CE5eCt6JSM9YBQSUaw2ztlPYV1c4OWEAAAAWAZ5hdEf/AAADALWhQ6wENg+QXek16AAAACkBnmNqR/8AAAUdNPXhX2ssfEXImZPdGKjug5Rd283fisuVLpPKqadBvwAAAG9BmmhJqEFomUwIV//+OEAAAGTCoBPjl8ANy16Vvx2yltrwM0eqo0s7xTHTHSF3uj0+HLy5O3uDCpyFmSTOTl3LAyhjnmK8lNXudJWOE0Q1NzrqxF3RJr3nRy2EvYoH3BeVDVYJnwWLdv5iWd6n75EAAAAjQZ6GRREsI/8AAAMDOTB5tuK8lssiRH7xaRAS65hQCp8BMzEAAAASAZ6ldEf/AAADAAI66rUw840xAAAAGwGep2pH/wAABR8wlnuJLTNXCs96Gh8AgpUyTAAAAE1BmqxJqEFsmUwIT//98QAAAwAAvsqk5CXlQ3EHcAyRbEzHwSlWocvJuLVnJ+XpFrMlQ/IaCu3qf2fdr3NDEFhOXyqRfNdxP8TJz4TVmAAAACFBnspFFSwj/wAAAwM5u2fsP7DIOQitHJhKD3RS8MGo8GEAAAAaAZ7pdEf/AAAFH8vtFTSqe6AygMWhvEf2/BgAAAAYAZ7rakf/AAAFHzCWe4ktM1cKymPlOv44AAAAS0Ga8EmoQWyZTAhn//6eEAAAGd9RWOfQ7+1TPjA3aJq65gwvVMcC+GjOzrDAEA1s47byhW7sYe1rjlguE2IIDhFLqFdgCvxj17AEQQAAACJBnw5FFSwj/wAAAwM4Uwq87QviEkqiznW/XywAGUPmSFd9AAAAGQGfLXRH/wAABR+zjgcy9zScRtVnmki0euEAAAAaAZ8vakf/AAADALpmEs9xJabe6Z8ekgbwLbMAAAAXQZs0SahBbJlMCGf//p4QAAADAAADAz4AAAAjQZ9SRRUsI/8AAAgxT5cRWgu+mf7bRk/xxJwUAJrgC6hZ8GEAAAAbAZ9xdEf/AAANNeuHjPaZICzeK2WhQmjmKEBAAAAAHAGfc2pH/wAAAwHbgBL44Gm4rXVClwk7Zlbg5IAAAAAXQZt4SahBbJlMCGf//p4QAAADAAADAz8AAAAQQZ+WRRUsI/8AAAMAAAMBBwAAAA4Bn7V0R/8AAAMAAAMBqQAAAA4Bn7dqR/8AAAMAAAMBqQAAABdBm7xJqEFsmUwIZ//+nhAAAAMAAAMDPgAAACVBn9pFFSwj/wAAAwMjrnzQ8mZD1tZAurO8q/xHIUfqLL9XzzbNAAAAGgGf+XRH/wAABPvQwc89pkgLcPIFanalVZJgAAAAHAGf+2pH/wAAAwHbgBL44HLDgkMoP0PyZOsbTkkAAAAXQZvgSahBbJlMCF///oywAAADAAADA0MAAAAhQZ4eRRUsI/8AAAMDI6580RFKcTZTuveOgZIoIeAbtLZgAAAAGgGePXRH/wAABPvQwc89pkgLcPIFanalVZJgAAAAHAGeP2pH/wAAAwHbgBL44Gm4rXVClwk7Zlbg5IEAAAAXQZokSahBbJlMCF///oywAAADAAADA0IAAAAQQZ5CRRUsI/8AAAMAAAMBBwAAAA4BnmF0R/8AAAMAAAMBqQAAAA4BnmNqR/8AAAMAAAMBqQAAABZBmmhJqEFsmUwIV//+OEAAAAMAAAypAAAAEEGehkUVLCP/AAADAAADAQcAAAAOAZ6ldEf/AAADAAADAakAAAAOAZ6nakf/AAADAAADAakAAAAXQZqsSahBbJlMCE///fEAAAMAAAMAHpAAAAAQQZ7KRRUsI/8AAAMAAAMBBwAAAA4Bnul0R/8AAAMAAAMBqQAAAB0BnutqR/8AACOuMS/ReUOkTY5zMWEkHt7cYaCXgAAAAERBmvBJqEFsmUwIX//+jLAAAEYpk/K3Gcv4Mt+xTXrwHIR8wANqIiDLGl079/0x41X75WIniAOHIfElyvZmN6kwqIjjgQAAACtBnw5FFSwj/wAAFrxDzbcVNrGp35lbxmtBMVz2dizBPkAP9VgyHgQcgduBAAAAGgGfLXRH/wAABR/Qwc62jcNX2BFaCJxmV2zBAAAAHgGfL2pH/wAAI78EJxLJaZ0wWAwPCzH9uIZdF3ZyQAAAABZBmzRJqEFsmUwIV//+OEAAAAMAAAyoAAAAIkGfUkUVLCP/AAAWwJs/Yf2GQcsYZDcR4eJO+9DHs01kEBEAAAAcAZ9xdEf/AAAjwxdoqaVT1PvCCY6wGC3W67BAQAAAAB0Bn3NqR/8AACO/BCcSyWmauFZTHyo7fi+tjQSSYAAAABdBm3hJqEFsmUwIT//98QAAAwAAAwAekQAAABBBn5ZFFSwj/wAAAwAAAwEHAAAADgGftXRH/wAAAwAAAwGpAAAADgGft2pH/wAAAwAAAwGpAAAAVkGbvEmoQWyZTAhf//6MsAAACgncrJIHDMEkt2lRXQ+wAcFNQ02ORATFCTt8RTzlPDXPvFZ7W3gSh2/Zq+JrOFRMsVDSFqVfDKLZaEzwvQEix0f7RlWAAAAAH0Gf2kUVLCP/AAADAzkwebbiuZWTKSi8X4QxJN21Tn0AAAAOAZ/5dEf/AAADAAADAakAAAAkAZ/7akf/AAAFHy5k/Iy7Cw9vOgxLmkQfCruK8H2QcxBriZJhAAAAIkGb4EmoQWyZTAhX//44QAAABWMXVAAIERs6p/ppricqAhcAAAApQZ4eRRUsI/8AAAMDObvsk9d8XVzRSfGvi0HgBrzqWWDIp4BOvgAb8GAAAAAeAZ49dEf/AAAFH9DBrYhFexPDI4BenCjKclBempJgAAAAGwGeP2pH/wAABR801bGTC8/rwBUNX82QRbDtwQAAABdBmiRJqEFsmUwIT//98QAAAwAAAwAekAAAAB9BnkJFFSwj/wAAAwM5u+yWFk2BkbdhYR0Ovb6lJs2zAAAAHAGeYXRH/wAABR/Qwa2MTy2D/ac878GXFYJ4nJMAAAAbAZ5jakf/AAAFHzTVsZMLz+vAFQ1fzZBFsO3BAAAAVkGaaEmoQWyZTAhP//3xAAADAp8CrT9gHfQx6Hazlmx7uxxqcDIW/Zu/dpaOALyGZHVErleLAn0dZXu0vMxR5mFwfb4zwX0EqzPIVqBei1IS4rS6UHzBAAAAHkGehkUVLCP/AAAWtSs3a1peuKwRwPSvuPRIqw5OSQAAAB0BnqV0R/8AACPDF2ippVPU+oy18Ea0643yI7qtmQAAAA4BnqdqR/8AAAMAAAMBqQAAADxBmqxJqEFsmUwIX//+jLAAABoPRwfR0l39FKjlnCKv+7ncFGsvIqv+1UvFyKFAIS4Lkctt/qSRB7FldKYAAAAfQZ7KRRUsI/8AAAMBLUf9PuvI4ay3NJT1yiBXF1wckwAAAA4Bnul0R/8AAAMAAAMBqQAAABwBnutqR/8AAAT33VY/DQY/r6fzrbPkIeoaRBAQAAAAFkGa8EmoQWyZTAhX//44QAAAAwAADKkAAAAQQZ8ORRUsI/8AAAMAAAMBBwAAAA4Bny10R/8AAAMAAAMBqQAAAA4Bny9qR/8AAAMAAAMBqQAAABdBmzRJqEFsmUwIT//98QAAAwAAAwAekAAAACxBn1JFFSwj/wAAAwM3cPn0qIGBEQBEdxrHp84Vzietv378XZKCAgw3kFPztwAAABoBn3F0R/8AAAUf0MHOto3DV9gRWgicZj3BnwAAAB0Bn3NqR/8AAAMB5n+/63ZF3pB+Mu7f/Zma3zH7vgAAAFtBm3hJqEFsmUwIX//+jLAAAEYC094CKJSIIGuiATesyalb9IxoMchMQsPMOOSPFcFUbjve8/AloQdvy2o0Tn3+krmlK6yZzKg4K3GeEeCvTev2hPrppm6P7WInAAAAJUGflkUVLCP/AAAWvEPNtxW1wcxUk3ljNV03A+g6EFGQ6sh7u+AAAAAbAZ+1dEf/AAADAeaxsJSpRO4NuBJfBj0VD7nxAAAAHwGft2pH/wAAI78EJxLJaZcWjRw0OECdvzBJKcrl+b8AAAAaQZu8SahBbJlMCFf//jhAAAADAh3wRETAx4AAAAAoQZ/aRRUsI/8AAAMDJbLSQ3aUp9rec5R3Cou9aDqUYFPKnPUalkL/fQAAABwBn/l0R/8AAAMB27ImH9jCBHFgUgQzs6ez+OPfAAAAHAGf+2pH/wAABPs01d7biGqCSBvo8OgkcJDTnzEAAAAXQZvgSahBbJlMCE///fEAAAMAAAMAHpEAAAAQQZ4eRRUsI/8AAAMAAAMBBwAAAA4Bnj10R/8AAAMAAAMBqQAAAA4Bnj9qR/8AAAMAAAMBqQAAAExBmiRJqEFsmUwIR//94QAABBZTkIVUEL5Z25rUBGpyvLmmrNR/YzHGJuM3zlB6DeirHCfgu0NVE2H7bQcLHmh7DnmYqbqulgWbkrOLAAAAHEGeQkUVLCP/AAAWtSs3a1pdksWbsrI07XZ+R8EAAAAXAZ5hdEf/AAAjwxdoqaVT1PvCCY5sC2gAAAAOAZ5jakf/AAADAAADAakAAACLQZpoSahBbJlMCFf//jhAAABkT2qw8w63RI3wfbl7rccIDmBYiModt9gCg+/tNtWPWHK8RgqjwFaFQ/RWA+Ga5ERr/pCfUAlaQEtb8iHr1ZG0QzDjbJtShlHuZMQdgqYEpWCUE8I3ZXv9LeeGstpECzOxSXooosd5jO3YU9GGeCUrVa5lXhozttV/DQAAADBBnoZFFSwj/wAAFr6jnf5b45yDVh7AyhUfUs+7NH+ke3q/+YQIAbDZasP24mdu2YEAAAA0AZ6ldEf/AAAjwxdojIxRbocljizGQ7ND5EI63AFKBrvJF0kKmw2UgjhjTCXAnns5Q8bXfQAAACYBnqdqR/8AACOw/apbKTC/bivzQmQ1m4jvsM5b1Jn52u4HFtFHQAAAAB1BmqxJqEFsmUwIT//98QAAAwBfXj19rIxtFMIDVgAAACVBnspFFSwj/wAAAwMv7kEEeFXAsrWJgHiVBl+iNK9bBThI3++BAAAAGwGe6XRH/wAAAwHmsZ+Z+//HdYU186qWRHy+YAAAABsBnutqR/8AAAMB5n/VbGss6ww2x3B+nOVab5gAAABRQZrwSahBbJlMCE///fEAAAMCnwMJkC9y9oHGCQl7ibtI6ip9mz1As8Bd6/+eFiwbEAgLiYrkUUP6SmOxCqR6qdsqDi9SdiaVUGNGJzd2aNbNAAAAJEGfDkUVLCP/AAAWtVhVis5Mq3zNF7e9V+fL96Eowl8Lj0cp3wAAABsBny10R/8AACPDPg542E9CrFsBmWYkW0QBZ80AAAAYAZ8vakf/AAADALpmt5jcJ1bzyhXR87MGAAAAPkGbNEmoQWyZTAhX//44QAAAJt/X+AAnMQh1RjKt1eDgD1yjJno+zZ+k/Bt+fwPLVpKQfLaDAvpQkNx7UsuAAAAAJUGfUkUVLCP/AAADATXk6hXhWjPwdDVOoS3Z97YBgutQ7MXk46EAAAAYAZ9xdEf/AAADALoLmhdFdSw9Ao+zUHQQAAAAGwGfc2pH/wAABSCB89fU098eEr7HNrh5Mw+SYAAAAENBm3hJqEFsmUwI//yEAAADANz2X4Cjh2WH3/MJr/PtUQAeVP+AQvUgNeYyLo8szo1Z1rmw2E9dAjvVoVneQKDHBfHBAAAAHkGflkUVLCP/AAADATXk5swthSZprbY5JHeyUByxYAAAABABn7V0R/8AAAMAA58Ue4WBAAAAGwGft2pH/wAAAwHmf9Vsayz0mChQtYx564yWLQAAAD1Bm7lJqEFsmUwIV//+OEAAAQz6MoAIvrogvdD6z0y4QWMhflkY62pl8KWDBaN9xAKoiwkO1+N/9rXuoKuuAAAAI0Gb3UnhClJlMCE//fEAAAMAAEu7bCCrhyyWDA8RwBBMxDubAAAAMkGf+0U0TCP/AAADAzYg2KmAAcdQspQep3pYnUQ5LuaDAUAdD7Vcly7BnkhHkBJt32ccAAAAHQGeGnRH/wAAAwHlubEbFFXP8dY6LMsM9ywGKf0hAAAAGQGeHGpH/wAAAwC6J8wcXnfhg6TfRcZlL+kAAABTQZoBSahBaJlMCFf//jhAAAEM+jKABhYIK4JV7Hhgt9VVfWUVepCDc7BYwLaZsOHo9Qr/e502ppJPzyVF516xwuh9Ka3yVpZHWjp7r2R9Z+QkiLAAAAAlQZ4/RREsI/8AABa8Tmxl4fEkfHjql29VsoToMYjFQ3ZuZM1+2AAAABQBnl50R/8AAAUcW3mSx8f7RrnmDQAAAB4BnkBqR/8AACO/Gs6Tyk8IaK85WwSDTXlqJQtgbMAAAAAnQZpFSahBbJlMCE///fEAAAMAX5Lfh5CI+iZN1qM5A00vv9G17SZhAAAAL0GeY0UVLCP/AAAIaW8v2FMTW8riADin6HSbUzBEPVKzGfFeOKiVnNF6yg+31v+YAAAAHgGegnRH/wAAAwC6IT0Z24UF9ckO1ORykEoywu/ZgQAAACABnoRqR/8AAA2Enpsxb65vsmzhcdK6xJeJcP0h2nqhswAAAFBBmolJqEFsmUwIV//+OEAAAQz2TnICd6WLdFrDvG4RO0YCpa8DxJZhIXfb7rN/PeY30ojoWsPxgwEjmS+we2/tIMjCzemZc80i0ItmqvsBgQAAACJBnqdFFSwj/wAAFrxOoV4Z4deS4LGQ+JKXSEwPiBL0cvGJAAAAEgGexnRH/wAADX4UKqo2ydn5cQAAACQBnshqR/8AACOuYAULNvyTDH/NgVSSDb4FpvMjUl6lEx7i2YAAAAAuQZrMSahBbJlMCEf//eEAAAMAlpD4Ef+ijDM1/4HG9e2wDZvHC9vphhDRizF2VQAAAEFBnupFFSwj/wAACG/iMdCIsal9paVB915H9klDqIAWiE2y59wD/spIarV9Q21oxxP0ZrEt222UHGZXJ/SkkGXagAAAABsBnwtqR/8AAA2EnpqSznKbUDYZv3y03tiMYPAAAABmQZsOSahBbJlMFEwj//3hAAADAJd7FTHRHrziBnfRhvGoBjZ868MwxtgDqY/Q9XWj+jkSf6PGppkIO5rA9fZc/wcMaB00TbYjo4sDWUDr5yygpB3k/z38X1f1mmMAxm7McQMa7gCBAAAALwGfLWpH/wAABRnhhQACWKgF/8kvbzgbiGzTbfMLXjotsd+aHFwLp84TgcB62cQnAAAAP0GbMUnhClJlMCE//fEAAAMCtcn23LoF3f86l2qNhcwqSR/a2MzQNnB71AhgGjDomlmYXYxQfKOqHNQuOEHqYQAAAB5Bn09FNEwj/wAAAwM5drYkZBeeeQ1LWgc21+i5yLAAAAAQAZ9wakf/AAADAeZ/4oBnwAAAAE5Bm3VJqEFomUwIT//98QAAAwKxAp7eHANRd3LDMW9hWj8jaATCZVX7ipOnloT9BZRbxeiXhb6YRBAYJaaly3sAVG2t1s06pB9C4C22su8AAAAsQZ+TRREsI/8AABdFKzczhCOBfTRfcwOZ5cVbvWDqAoCM8iLqXffOqcSIE4IAAAAwAZ+ydEf/AAAkwxdaQ5ZNVoAS28fPSCxB517sRm22zJz02I8UPp9wBw+Dy+JG304IAAAAGgGftGpH/wAAAwHlzfDr1E8CDMewBA1T7SPdAAAAS0GbuUmoQWyZTAhP//3xAAADArHt3X4rIdPffQA33MwA3GL4AtPzkr/Dx8TJliza3vhXxl6iqhs2p1jyTXTrwchx8ICyFVll65GP2AAAAB1Bn9dFFSwj/wAAF0UrN2taXriig8IwsDncx5qHBQAAACUBn/Z0R/8AACTDF2hVERYNSp3zmAhFvxHdhBd/zTlr333dEA9xAAAADgGf+GpH/wAAAwAAAwGpAAAAPUGb/UmoQWyZTAhP//3xAAADArECpPp3kPPn6g9mf0zge68eANM0N5OoB38NGyWHUbjC3D7VdLBsLsQDIsUAAAAfQZ4bRRUsI/8AABdFKzdeAzkK+4HXFnPt3EHcFv2B7gAAACQBnjp0R/8AACTDF2ippPQiGv7tbigx5Kdy7/wxuyBtjKV8pFkAAAAOAZ48akf/AAADAAADAakAAABOQZohSahBbJlMCEf//eEAAAQ1FVfj2xLi1PSwAmrWOiaxVJ2NFQefjm/fEPXrSkxaOKfJvV0zlYybJfroFd7m0fFSgkxVI2d9EFFle6HhAAAAMUGeX0UVLCP/AAAXTEPNseEOSBBx03nc+E7QqzAC60WMUa0vQacHHJs9j9RndSwQbUgAAAAeAZ5+dEf/AAANfhLzJc3zwEYxxYmK3HRQqQnjoA9xAAAAHAGeYGpH/wAAJLHMCW+pcAEk2NLWSwyBrNiJscEAAAA0QZplSahBbJlMCE///fEAAAMCsQKjwO8h/T2OVPT7OEy2c0shVfp1BYYUxpei30/XaF0QnQAAADZBnoNFFSwj/wAAF0UrN222gByFhmxg7BtngagPIL3t4J2TyGinat0WtpP/CGcJTuvwSqmZxwQAAAAcAZ6idEf/AAAkq/hbeBKdaCOIEZ65GgPdC/MrUwAAABsBnqRqR/8AAAVDMJZ7iS0zZP9IlrBkOLkeNqUAAAA/QZqpSahBbJlMCE///fEAAAMCse3dfish3A6ycnSjoVtR4HS4B+FCARoQKNBwPk3Tb7cJOVtMJjWU6ctynMPdAAAAJEGex0UVLCP/AAAXRSs3a1peuKKD9KABqReazcmAihnrYrse4QAAACUBnuZ0R/8AACTDF2hVERYNSp3zmAhFvxHdhBd/zTlr333dEA9wAAAADgGe6GpH/wAAAwAAAwGpAAAAXEGa7UmoQWyZTAhP//3xAAADArD22GeK34k9gAJYwr5Qo0SVSZ5CfvoFqBxrRBViNqc+7lGoDH1YlhM0SxAu2aKcBxe3QKtlKL7sriyME3/Ig1yc1djM7vf0yMtVAAAAI0GfC0UVLCP/AAAXQ0e3DbkcL+XQ17GYusryZy0s7x0BNuxYAAAAGAGfKnRH/wAAJKv4W3gSnWgjiBGelu+DugAAACsBnyxqR/8AACSxzAmY7kh+scE5zvm0PUU6+F/90q9U8otAVgSqjSCatteBAAAAZkGbMUmoQWyZTAhP//3xAAADArD22GeL+UwznaADiqMJhPdwSjXhuEWHsUzT7CJZcrVt0SimntS0yLNVGOuxpLd/xNpPK+ue5Hg1u+AagoX24i2+0W2baMN8ZeVunWqPp99bEOwiXwAAADZBn09FFSwj/wAAF0xDzbcVsVdNAA8mq/BnQcP438yhcFAftWJLoJG9FKUrMDTdSdEoxBSO97kAAAAdAZ9udEf/AAAFQFJpsE7QE/Lb1i/tl8hWzYvcLUgAAAAuAZ9wakf/AAAkrl4ze+7WgBLJAz20LWkWw0V1N+Z5gCyX1PWi/e0UP0Rbb1kiwAAAAGVBm3VJqEFsmUwIT//98QAAAwKys4XKiACb2JXMTB4UHbXAVM7tssA800n/jhJlDZTtUaeq47VitJM3Tc3Lo9luppKZhz8rM6myREBVkvH9OPt1LzyUmtUd1W4C6Kzq1WWd70qEOQAAACxBn5NFFSwj/wAAF0xDzR41P3t2ftUlcbznAIpttB2mdKO0OHBURPGdh7d7gAAAACYBn7J0R/8AAAVCFvVDt2GEpGY1Rpikjr9NqKbgdXgLyulKonVe4AAAABkBn7RqR/8AACS/BCcSyWmauFZVFg9G2RqRAAAAXEGbuUmoQWyZTAhH//3hAAAENLlz8MDLcFec9sMhU8nPfiREAcK4SBaa2LvGBdsaXmzjpmOLnxwBJbrHRdxVOLi/tizuU45mDtpoexCGavZdyDPgpaDhUDh10mDgAAAAMkGf10UVLCP/AAAXTE5ssyL4GQuZXSV1t7rTcEhZp73ACX8UU4hwQlwaSmAGnczGF6uxAAAAIwGf9nRH/wAADYXvMO+g07XFsddc62R2CrivrfRThWt1STlXAAAAGgGf+GpH/wAAJLHMCW+pb7IVSTioIzoVr00IAAAAS0Gb/UmoQWyZTAhP//3xAAADArD25ppysJJBEpT7xLqGnE3PO4knW/NY25zZkrmIyvzqT1AeI0pM+fiFth18hkrNVhb1Lbmd4XqcUQAAAChBnhtFFSwj/wAAF0NIi98q8Iy6TR3Fspiscmaq/WlIH5tzR47ZuXpAAAAAMgGeOnRH/wAAJKw5BYQGR9twFMDguKu1EqT0IWn7LZ8A2mcAJflNyXCvPG4PqH8l2f3vAAAAGgGePGpH/wAAJLIrBxM44agm5epaBIIosWpBAAAAOEGaIUmoQWyZTAhP//3xAAADArD25qyrUewlebbAHCG/zYZFBzEdub74SOvQb9OYFd9E330+Q+GAAAAAQUGeX0UVLCP/AAAXQ0iL3xWxgFb3QA4zz7fdKU8VH4elZ+42Aax/rgR1VfSIVFlXboqxrw5Lik3Ttmer1URDsYoLAAAAHAGefnRH/wAAJKw5BcV8K3+OU9n8wVoVH+XvB80AAAApAZ5gakf/AAAksisH7LKyDD49SlPHR3YFOuMHLlZorq9VGEyiCXze3cAAAABhQZplSahBbJlMCEf//eEAAARTP5K/Sf6lYAgC8w2njNeSju57VCimDogO5COj+MOzRFoGY0QFTpV9YiklNyrkq/rBwH9EFhXUDNm/9MQbGHfiz26S7z79JsDpX/aumNxhQQAAADNBnoNFFSwj/wAAF9/sHqMtFDi55DFGG/+vwELAVCEb8yii9Ki13y4b752oe3ZgxViIwIAAAAAYAZ6idEf/AAAlq/hbeBKdaClfh8BMjwq5AAAAJgGepGpH/wAAJa5eM38+kbjZBnGpSzIg8N48zHzz25pLP7HjKH5BAAAAXkGap0moQWyZTBRMJ//98QAAAwLC9thnivdNvp/purwHRMAXFnKjLdoO1EySok+P4Arfb6cjpZFJOE1kUdMYz8rH+ru/UAdL3GhUCJQhpDh60i+AhmnCZdT/QROstV8AAAA7AZ7Gakf/AAAlrl4zf+lA+Bz3xOByW8ADjaXl3unT7++WN79HX6EXe+fIWjH2/e6nyJNTBE4ciduNQ8EAAAAtQZrJSeEKUmUwUsf//IQAAAMABNMBOIaN84KfIhz55trQAbOtctsxCDB/6VFcAAAAGAGe6GpH/wAAAwAKyplJktO4I56EyUIGpAAADHttb292AAAAbG12aGQAAAAAAAAAAAAAAAAAAAPoAAAPyAABAAABAAAAAAAAAAAAAAAAAQAAAAAAAAAAAAAAAAAAAAEAAAAAAAAAAAAAAAAAAEAAAAAAAAAAAAAAAAAAAAAAAAAAAAAAAAAAAAAAAAACAAALpXRyYWsAAABcdGtoZAAAAAMAAAAAAAAAAAAAAAEAAAAAAAAPyAAAAAAAAAAAAAAAAAAAAAAAAQAAAAAAAAAAAAAAAAAAAAEAAAAAAAAAAAAAAAAAAEAAAAACWAAAAZAAAAAAACRlZHRzAAAAHGVsc3QAAAAAAAAAAQAAD8gAAAIAAAEAAAAACx1tZGlhAAAAIG1kaGQAAAAAAAAAAAAAAAAAADIAAADKAFXEAAAAAAAtaGRscgAAAAAAAAAAdmlkZQAAAAAAAAAAAAAAAFZpZGVvSGFuZGxlcgAAAArIbWluZgAAABR2bWhkAAAAAQAAAAAAAAAAAAAAJGRpbmYAAAAcZHJlZgAAAAAAAAABAAAADHVybCAAAAABAAAKiHN0YmwAAACYc3RzZAAAAAAAAAABAAAAiGF2YzEAAAAAAAAAAQAAAAAAAAAAAAAAAAAAAAACWAGQAEgAAABIAAAAAAAAAAEAAAAAAAAAAAAAAAAAAAAAAAAAAAAAAAAAAAAAAAAAAAAY//8AAAAyYXZjQwFkAB//4QAZZ2QAH6zZQJgz5eEAAAMAAQAAAwBkDxgxlgEABmjr48siwAAAABhzdHRzAAAAAAAAAAEAAADKAAABAAAAABRzdHNzAAAAAAAAAAEAAAABAAAGUGN0dHMAAAAAAAAAyAAAAAEAAAIAAAAAAQAABQAAAAABAAACAAAAAAEAAAAAAAAAAQAAAQAAAAABAAAFAAAAAAEAAAIAAAAAAQAAAAAAAAABAAABAAAAAAEAAAUAAAAAAQAAAgAAAAABAAAAAAAAAAEAAAEAAAAAAQAABQAAAAABAAACAAAAAAEAAAAAAAAAAQAAAQAAAAABAAAFAAAAAAEAAAIAAAAAAQAAAAAAAAABAAABAAAAAAEAAAUAAAAAAQAAAgAAAAABAAAAAAAAAAEAAAEAAAAAAQAABQAAAAABAAACAAAAAAEAAAAAAAAAAQAAAQAAAAABAAAFAAAAAAEAAAIAAAAAAQAAAAAAAAABAAABAAAAAAEAAAUAAAAAAQAAAgAAAAABAAAAAAAAAAEAAAEAAAAAAQAABQAAAAABAAACAAAAAAEAAAAAAAAAAQAAAQAAAAABAAAFAAAAAAEAAAIAAAAAAQAAAAAAAAABAAABAAAAAAEAAAUAAAAAAQAAAgAAAAABAAAAAAAAAAEAAAEAAAAAAQAABQAAAAABAAACAAAAAAEAAAAAAAAAAQAAAQAAAAABAAAFAAAAAAEAAAIAAAAAAQAAAAAAAAABAAABAAAAAAEAAAUAAAAAAQAAAgAAAAABAAAAAAAAAAEAAAEAAAAAAQAABQAAAAABAAACAAAAAAEAAAAAAAAAAQAAAQAAAAABAAAFAAAAAAEAAAIAAAAAAQAAAAAAAAABAAABAAAAAAEAAAUAAAAAAQAAAgAAAAABAAAAAAAAAAEAAAEAAAAAAQAABQAAAAABAAACAAAAAAEAAAAAAAAAAQAAAQAAAAABAAAFAAAAAAEAAAIAAAAAAQAAAAAAAAABAAABAAAAAAEAAAUAAAAAAQAAAgAAAAABAAAAAAAAAAEAAAEAAAAAAQAABQAAAAABAAACAAAAAAEAAAAAAAAAAQAAAQAAAAABAAAFAAAAAAEAAAIAAAAAAQAAAAAAAAABAAABAAAAAAEAAAUAAAAAAQAAAgAAAAABAAAAAAAAAAEAAAEAAAAAAQAABQAAAAABAAACAAAAAAEAAAAAAAAAAQAAAQAAAAABAAAFAAAAAAEAAAIAAAAAAQAAAAAAAAABAAABAAAAAAEAAAUAAAAAAQAAAgAAAAABAAAAAAAAAAEAAAEAAAAAAQAABQAAAAABAAACAAAAAAEAAAAAAAAAAQAAAQAAAAABAAAFAAAAAAEAAAIAAAAAAQAAAAAAAAABAAABAAAAAAEAAAUAAAAAAQAAAgAAAAABAAAAAAAAAAEAAAEAAAAAAQAAAgAAAAABAAAFAAAAAAEAAAIAAAAAAQAAAAAAAAABAAABAAAAAAEAAAUAAAAAAQAAAgAAAAABAAAAAAAAAAEAAAEAAAAAAQAABQAAAAABAAACAAAAAAEAAAAAAAAAAQAAAQAAAAABAAAFAAAAAAEAAAIAAAAAAQAAAAAAAAABAAABAAAAAAEAAAQAAAAAAgAAAQAAAAABAAADAAAAAAEAAAEAAAAAAQAABAAAAAACAAABAAAAAAEAAAUAAAAAAQAAAgAAAAABAAAAAAAAAAEAAAEAAAAAAQAABQAAAAABAAACAAAAAAEAAAAAAAAAAQAAAQAAAAABAAAFAAAAAAEAAAIAAAAAAQAAAAAAAAABAAABAAAAAAEAAAUAAAAAAQAAAgAAAAABAAAAAAAAAAEAAAEAAAAAAQAABQAAAAABAAACAAAAAAEAAAAAAAAAAQAAAQAAAAABAAAFAAAAAAEAAAIAAAAAAQAAAAAAAAABAAABAAAAAAEAAAUAAAAAAQAAAgAAAAABAAAAAAAAAAEAAAEAAAAAAQAABQAAAAABAAACAAAAAAEAAAAAAAAAAQAAAQAAAAABAAAFAAAAAAEAAAIAAAAAAQAAAAAAAAABAAABAAAAAAEAAAUAAAAAAQAAAgAAAAABAAAAAAAAAAEAAAEAAAAAAQAABQAAAAABAAACAAAAAAEAAAAAAAAAAQAAAQAAAAABAAAFAAAAAAEAAAIAAAAAAQAAAAAAAAABAAABAAAAAAEAAAUAAAAAAQAAAgAAAAABAAAAAAAAAAEAAAEAAAAAAQAAAwAAAAABAAABAAAAAAEAAAMAAAAAAQAAAQAAAAAcc3RzYwAAAAAAAAABAAAAAQAAAMoAAAABAAADPHN0c3oAAAAAAAAAAAAAAMoAAARkAAAAYgAAACgAAAAaAAAALQAAAHMAAAAnAAAAFgAAAB8AAABRAAAAJQAAAB4AAAAcAAAATwAAACYAAAAdAAAAHgAAABsAAAAnAAAAHwAAACAAAAAbAAAAFAAAABIAAAASAAAAGwAAACkAAAAeAAAAIAAAABsAAAAlAAAAHgAAACAAAAAbAAAAFAAAABIAAAASAAAAGgAAABQAAAASAAAAEgAAABsAAAAUAAAAEgAAACEAAABIAAAALwAAAB4AAAAiAAAAGgAAACYAAAAgAAAAIQAAABsAAAAUAAAAEgAAABIAAABaAAAAIwAAABIAAAAoAAAAJgAAAC0AAAAiAAAAHwAAABsAAAAjAAAAIAAAAB8AAABaAAAAIgAAACEAAAASAAAAQAAAACMAAAASAAAAIAAAABoAAAAUAAAAEgAAABIAAAAbAAAAMAAAAB4AAAAhAAAAXwAAACkAAAAfAAAAIwAAAB4AAAAsAAAAIAAAACAAAAAbAAAAFAAAABIAAAASAAAAUAAAACAAAAAbAAAAEgAAAI8AAAA0AAAAOAAAACoAAAAhAAAAKQAAAB8AAAAfAAAAVQAAACgAAAAfAAAAHAAAAEIAAAApAAAAHAAAAB8AAABHAAAAIgAAABQAAAAfAAAAQQAAACcAAAA2AAAAIQAAAB0AAABXAAAAKQAAABgAAAAiAAAAKwAAADMAAAAiAAAAJAAAAFQAAAAmAAAAFgAAACgAAAAyAAAARQAAAB8AAABqAAAAMwAAAEMAAAAiAAAAFAAAAFIAAAAwAAAANAAAAB4AAABPAAAAIQAAACkAAAASAAAAQQAAACMAAAAoAAAAEgAAAFIAAAA1AAAAIgAAACAAAAA4AAAAOgAAACAAAAAfAAAAQwAAACgAAAApAAAAEgAAAGAAAAAnAAAAHAAAAC8AAABqAAAAOgAAACEAAAAyAAAAaQAAADAAAAAqAAAAHQAAAGAAAAA2AAAAJwAAAB4AAABPAAAALAAAADYAAAAeAAAAPAAAAEUAAAAgAAAALQAAAGUAAAA3AAAAHAAAACoAAABiAAAAPwAAADEAAAAcAAAAFHN0Y28AAAAAAAAAAQAAADAAAABidWR0YQAAAFptZXRhAAAAAAAAACFoZGxyAAAAAAAAAABtZGlyYXBwbAAAAAAAAAAAAAAAAC1pbHN0AAAAJal0b28AAAAdZGF0YQAAAAEAAAAATGF2ZjU4LjI5LjEwMA==\" type=\"video/mp4\"/>\n        </video>\n        "
     },
     "metadata": {},
     "output_type": "display_data"
    },
    {
     "name": "stdout",
     "output_type": "stream",
     "text": [
      "Played: videos/n_step_learning\\rl-video-episode-0.mp4\n"
     ]
    }
   ],
   "source": [
    "import base64\n",
    "import glob\n",
    "import io\n",
    "import os\n",
    "\n",
    "from IPython.display import HTML, display\n",
    "\n",
    "\n",
    "def ipython_show_video(path: str) -> None:\n",
    "    \"\"\"Show a video at `path` within IPython Notebook.\"\"\"\n",
    "    if not os.path.isfile(path):\n",
    "        raise NameError(\"Cannot access: {}\".format(path))\n",
    "\n",
    "    video = io.open(path, \"r+b\").read()\n",
    "    encoded = base64.b64encode(video)\n",
    "\n",
    "    display(HTML(\n",
    "        data=\"\"\"\n",
    "        <video width=\"320\" height=\"240\" alt=\"test\" controls>\n",
    "        <source src=\"data:video/mp4;base64,{0}\" type=\"video/mp4\"/>\n",
    "        </video>\n",
    "        \"\"\".format(encoded.decode(\"ascii\"))\n",
    "    ))\n",
    "\n",
    "\n",
    "def show_latest_video(video_folder: str) -> str:\n",
    "    \"\"\"Show the most recently recorded video from video folder.\"\"\"\n",
    "    list_of_files = glob.glob(os.path.join(video_folder, \"*.mp4\"))\n",
    "    latest_file = max(list_of_files, key=os.path.getctime)\n",
    "    ipython_show_video(latest_file)\n",
    "    return latest_file\n",
    "\n",
    "\n",
    "latest_file = show_latest_video(video_folder=video_folder)\n",
    "print(\"Played:\", latest_file)"
   ]
  }
 ],
 "metadata": {
  "kernelspec": {
   "name": "python3",
   "language": "python",
   "display_name": "Python 3 (ipykernel)"
  },
  "language_info": {
   "codemirror_mode": {
    "name": "ipython",
    "version": 3
   },
   "file_extension": ".py",
   "mimetype": "text/x-python",
   "name": "python",
   "nbconvert_exporter": "python",
   "pygments_lexer": "ipython3",
   "version": "3.8.12"
  }
 },
 "nbformat": 4,
 "nbformat_minor": 4
}
