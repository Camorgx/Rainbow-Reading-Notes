{
 "cells": [
  {
   "cell_type": "markdown",
   "metadata": {},
   "source": [
    "## Configurations for Colab"
   ]
  },
  {
   "cell_type": "code",
   "execution_count": 1,
   "metadata": {
    "ExecuteTime": {
     "end_time": "2023-09-06T03:59:24.683066600Z",
     "start_time": "2023-09-06T03:59:24.675068100Z"
    }
   },
   "outputs": [],
   "source": [
    "import sys\n",
    "IN_COLAB = \"google.colab\" in sys.modules\n",
    "\n",
    "if IN_COLAB:\n",
    "    !apt install python-opengl\n",
    "    !apt install ffmpeg\n",
    "    !apt install xvfb\n",
    "    !pip install PyVirtualDisplay==3.0\n",
    "    !pip install gymnasium==0.28.1\n",
    "    from pyvirtualdisplay import Display\n",
    "    \n",
    "    # Start virtual display\n",
    "    dis = Display(visible=0, size=(400, 400))\n",
    "    dis.start()"
   ]
  },
  {
   "cell_type": "markdown",
   "metadata": {},
   "source": [
    "# 07. N-Step Learning\n",
    "\n",
    "[R. S. Sutton, \"Learning to predict by the methods of temporal differences.\" Machine learning, 3(1):9–44, 1988.](http://incompleteideas.net/papers/sutton-88-with-erratum.pdf)\n",
    "\n",
    "Q-learning accumulates a single reward and then uses the greedy action at the next step to bootstrap. Alternatively, forward-view multi-step targets can be used (Sutton 1988). We call it Truncated N-Step Return\n",
    "from a given state $S_t$. It is defined as,\n",
    "\n",
    "$$\n",
    "R^{(n)}_t = \\sum_{k=0}^{n-1} \\gamma_t^{(k)} R_{t+k+1}.\n",
    "$$\n",
    "\n",
    "A multi-step variant of DQN is then defined by minimizing the alternative loss,\n",
    "\n",
    "$$\n",
    "(R^{(n)}_t + \\gamma^{(n)}_t \\max_{a'} q_{\\theta}^{-}\n",
    "(S_{t+n}, a')\n",
    "- q_{\\theta}(S_t, A_t))^2.\n",
    "$$\n",
    "\n",
    "Multi-step targets with suitably tuned $n$ often lead to faster learning (Sutton and Barto 1998)."
   ]
  },
  {
   "cell_type": "code",
   "execution_count": 2,
   "metadata": {
    "ExecuteTime": {
     "end_time": "2023-09-06T03:59:34.152636500Z",
     "start_time": "2023-09-06T03:59:31.931522300Z"
    }
   },
   "outputs": [
    {
     "name": "stderr",
     "output_type": "stream",
     "text": [
      "C:\\Users\\18213\\anaconda3\\envs\\Rainbow\\lib\\site-packages\\tqdm\\auto.py:21: TqdmWarning: IProgress not found. Please update jupyter and ipywidgets. See https://ipywidgets.readthedocs.io/en/stable/user_install.html\n",
      "  from .autonotebook import tqdm as notebook_tqdm\n"
     ]
    }
   ],
   "source": [
    "import os\n",
    "from collections import deque\n",
    "from typing import Deque, Dict, List, Tuple\n",
    "\n",
    "import gymnasium as gym\n",
    "import matplotlib.pyplot as plt\n",
    "import numpy as np\n",
    "import torch\n",
    "import torch.nn as nn\n",
    "import torch.nn.functional as F\n",
    "import torch.optim as optim\n",
    "from IPython.display import clear_output"
   ]
  },
  {
   "cell_type": "markdown",
   "metadata": {},
   "source": [
    "## Replay buffer for N-step learning\n",
    "\n",
    "There are a little bit changes in Replay buffer for N-step learning. First, we use `deque` to store the most recent n-step transitions.\n",
    "\n",
    "```python\n",
    "    self.n_step_buffer = deque(maxlen=n_step)\n",
    "```\n",
    "\n",
    "You can see it doesn't actually store a transition in the buffer, unless `n_step_buffer` is full.\n",
    "\n",
    "```\n",
    "    # in store method\n",
    "    if len(self.n_step_buffer) < self.n_step:\n",
    "        return ()\n",
    "```\n",
    "\n",
    "When the length of `n_step_buffer` becomes equal to N, it eventually stores the N-step transition, which is calculated by `_get_n_step_info` method.\n",
    "\n",
    "(Please see *01.dqn.ipynb* for detailed description of the basic replay buffer.)"
   ]
  },
  {
   "cell_type": "code",
   "execution_count": 4,
   "metadata": {
    "ExecuteTime": {
     "end_time": "2023-09-06T04:25:13.871871100Z",
     "start_time": "2023-09-06T04:25:13.862871500Z"
    }
   },
   "outputs": [],
   "source": [
    "class ReplayBuffer:\n",
    "    \"\"\"A simple numpy replay buffer.\"\"\"\n",
    "\n",
    "    def __init__(\n",
    "        self, \n",
    "        obs_dim: int, \n",
    "        size: int, \n",
    "        batch_size: int = 32, \n",
    "        n_step: int = 3, \n",
    "        gamma: float = 0.99,\n",
    "    ):\n",
    "        self.obs_buf = np.zeros([size, obs_dim], dtype=np.float32)\n",
    "        self.next_obs_buf = np.zeros([size, obs_dim], dtype=np.float32)\n",
    "        self.acts_buf = np.zeros([size], dtype=np.float32)\n",
    "        self.rews_buf = np.zeros([size], dtype=np.float32)\n",
    "        self.done_buf = np.zeros(size, dtype=np.float32)\n",
    "        self.max_size, self.batch_size = size, batch_size\n",
    "        self.ptr, self.size, = 0, 0\n",
    "        \n",
    "        # for N-step Learning\n",
    "        # deque 的特性：当达到最大容量后仍在队尾插入值，则队头的值出队\n",
    "        self.n_step_buffer = deque(maxlen=n_step)\n",
    "        self.n_step = n_step\n",
    "        self.gamma = gamma\n",
    "\n",
    "    def store(\n",
    "        self, \n",
    "        obs: np.ndarray, \n",
    "        act: np.ndarray, \n",
    "        rew: float, \n",
    "        next_obs: np.ndarray, \n",
    "        done: bool\n",
    "    ) -> Tuple[np.ndarray, np.ndarray, float, np.ndarray, bool]:\n",
    "        transition = (obs, act, rew, next_obs, done)\n",
    "        self.n_step_buffer.append(transition)\n",
    "\n",
    "        # single step transition is not ready\n",
    "        if len(self.n_step_buffer) < self.n_step:\n",
    "            return ()\n",
    "        \n",
    "        # make a n-step transition\n",
    "        rew, next_obs, done = self._get_n_step_info(\n",
    "            self.n_step_buffer, self.gamma\n",
    "        )\n",
    "        obs, act = self.n_step_buffer[0][:2]\n",
    "        \n",
    "        self.obs_buf[self.ptr] = obs\n",
    "        self.next_obs_buf[self.ptr] = next_obs\n",
    "        self.acts_buf[self.ptr] = act\n",
    "        self.rews_buf[self.ptr] = rew\n",
    "        self.done_buf[self.ptr] = done\n",
    "        self.ptr = (self.ptr + 1) % self.max_size\n",
    "        self.size = min(self.size + 1, self.max_size)\n",
    "        \n",
    "        return self.n_step_buffer[0]  # 返回的是一步的 transition\n",
    "\n",
    "    def sample_batch(self) -> Dict[str, np.ndarray]:\n",
    "        indices = np.random.choice(\n",
    "            self.size, size=self.batch_size, replace=False\n",
    "        )\n",
    "\n",
    "        return dict(\n",
    "            obs=self.obs_buf[indices],\n",
    "            next_obs=self.next_obs_buf[indices],\n",
    "            acts=self.acts_buf[indices],\n",
    "            rews=self.rews_buf[indices],\n",
    "            done=self.done_buf[indices],\n",
    "            # for N-step Learning\n",
    "            indices=indices,    # 这里是保证和单步采样拿到一样的样本\n",
    "            \n",
    "            \n",
    "        )\n",
    "    \n",
    "    def sample_batch_from_idxs(\n",
    "        self, indices: np.ndarray\n",
    "    ) -> Dict[str, np.ndarray]:\n",
    "        # for N-step Learning\n",
    "        return dict(\n",
    "            obs=self.obs_buf[indices],\n",
    "            next_obs=self.next_obs_buf[indices],\n",
    "            acts=self.acts_buf[indices],\n",
    "            rews=self.rews_buf[indices],\n",
    "            done=self.done_buf[indices],\n",
    "        )\n",
    "    \n",
    "    def _get_n_step_info(\n",
    "        self, n_step_buffer: Deque, gamma: float\n",
    "    ) -> Tuple[np.int64, np.ndarray, bool]:\n",
    "        \"\"\"Return n step rew, next_obs, and done.\"\"\"\n",
    "        # info of the last transition\n",
    "        rew, next_obs, done = n_step_buffer[-1][-3:]\n",
    "\n",
    "        # 从倒数第二个开始，从后往前遍历\n",
    "        # [0] 是最新的，[n_step - 1] 是 n 步之前的数据\n",
    "        for transition in reversed(list(n_step_buffer)[:-1]):\n",
    "            r, n_o, d = transition[-3:]  # n_o: new observation, s'\n",
    "\n",
    "            rew = r + gamma * rew * (1 - d)  # 计算这 n 步的 reward\n",
    "            next_obs, done = (n_o, d) if d else (next_obs, done)\n",
    "\n",
    "        return rew, next_obs, done\n",
    "\n",
    "    def __len__(self) -> int:\n",
    "        return self.size"
   ]
  },
  {
   "cell_type": "markdown",
   "metadata": {},
   "source": [
    "## Network\n",
    "\n",
    "We are going to use a simple network architecture with three fully connected layers and two non-linearity functions (ReLU)."
   ]
  },
  {
   "cell_type": "code",
   "execution_count": 5,
   "metadata": {
    "ExecuteTime": {
     "end_time": "2023-09-06T04:25:23.001244900Z",
     "start_time": "2023-09-06T04:25:22.982237300Z"
    }
   },
   "outputs": [],
   "source": [
    "class Network(nn.Module):\n",
    "    def __init__(self, in_dim: int, out_dim: int):\n",
    "        \"\"\"Initialization.\"\"\"\n",
    "        super(Network, self).__init__()\n",
    "\n",
    "        self.layers = nn.Sequential(\n",
    "            nn.Linear(in_dim, 128), \n",
    "            nn.ReLU(),\n",
    "            nn.Linear(128, 128), \n",
    "            nn.ReLU(), \n",
    "            nn.Linear(128, out_dim)\n",
    "        )\n",
    "\n",
    "    def forward(self, x: torch.Tensor) -> torch.Tensor:\n",
    "        \"\"\"Forward method implementation.\"\"\"\n",
    "        return self.layers(x)"
   ]
  },
  {
   "cell_type": "markdown",
   "metadata": {},
   "source": [
    "## DQN Agent + N-step learning Agent\n",
    "\n",
    "Here is a summary of DQNAgent class.\n",
    "\n",
    "| Method           | Note                                                 |\n",
    "| ---              | ---                                                  |\n",
    "|select_action     | select an action from the input state.               |\n",
    "|step              | take an action and return the response of the env.   |\n",
    "|compute_dqn_loss  | return dqn loss.                                     |\n",
    "|update_model      | update the model by gradient descent.                |\n",
    "|target_hard_update| hard update from the local model to the target model.|\n",
    "|train             | train the agent during num_frames.                   |\n",
    "|test              | test the agent (1 episode).                          |\n",
    "|plot              | plot the training progresses.                        |\n",
    "\n",
    "We use two buffers: `memory` and `memory_n` for 1-step transitions and n-step transitions respectively. It guarantees that any paired 1-step and n-step transitions have the same indices (See `step` method for more details). Due to the reason, we can sample pairs of transitions from the two buffers once we have indices for samples.\n",
    "\n",
    "```python\n",
    "    def update_model(self) -> torch.Tensor:\n",
    "        ...\n",
    "        samples = self.memory.sample_batch()\n",
    "        indices = samples[\"indices\"]\n",
    "        ...\n",
    "        \n",
    "        # N-step Learning loss\n",
    "        if self.use_n_step:\n",
    "            samples = self.memory_n.sample_batch_from_idxs(indices)\n",
    "            ...\n",
    "```\n",
    "\n",
    "One thing to note that  we are gonna combine 1-step loss and n-step loss so as to control high-variance / high-bias trade-off.\n",
    "\n",
    "(Search the comments with *N-step Leaning* to see any difference from DQN.)"
   ]
  },
  {
   "cell_type": "code",
   "execution_count": 6,
   "metadata": {
    "ExecuteTime": {
     "end_time": "2023-09-06T05:11:20.626714400Z",
     "start_time": "2023-09-06T05:11:20.602682Z"
    }
   },
   "outputs": [],
   "source": [
    "class DQNAgent:\n",
    "    \"\"\"DQN Agent interacting with environment.\n",
    "    \n",
    "    Attribute:\n",
    "        env (gym.Env): openAI Gym environment\n",
    "        memory (ReplayBuffer): replay memory to store transitions\n",
    "        batch_size (int): batch size for sampling\n",
    "        epsilon (float): parameter for epsilon greedy policy\n",
    "        epsilon_decay (float): step size to decrease epsilon\n",
    "        max_epsilon (float): max value of epsilon\n",
    "        min_epsilon (float): min value of epsilon\n",
    "        target_update (int): period for target model's hard update\n",
    "        gamma (float): discount factor\n",
    "        dqn (Network): model to train and select actions\n",
    "        dqn_target (Network): target model to update\n",
    "        optimizer (torch.optim): optimizer for training dqn\n",
    "        transition (list): transition information including \n",
    "                           state, action, reward, next_state, done\n",
    "        use_n_step (bool): whether to use n_step memory\n",
    "        n_step (int): step number to calculate n-step td error\n",
    "        memory_n (ReplayBuffer): n-step replay buffer\n",
    "    \"\"\"\n",
    "\n",
    "    def __init__(\n",
    "        self, \n",
    "        env: gym.Env,\n",
    "        memory_size: int,\n",
    "        batch_size: int,\n",
    "        target_update: int,\n",
    "        epsilon_decay: float,\n",
    "        seed: int,\n",
    "        max_epsilon: float = 1.0,\n",
    "        min_epsilon: float = 0.1,\n",
    "        gamma: float = 0.99,\n",
    "        # N-step Learning\n",
    "        n_step: int = 3,\n",
    "    ):\n",
    "        \"\"\"Initialization.\n",
    "        \n",
    "        Args:\n",
    "            env (gym.Env): openAI Gym environment\n",
    "            memory_size (int): length of memory\n",
    "            batch_size (int): batch size for sampling\n",
    "            target_update (int): period for target model's hard update\n",
    "            epsilon_decay (float): step size to decrease epsilon\n",
    "            lr (float): learning rate\n",
    "            max_epsilon (float): max value of epsilon\n",
    "            min_epsilon (float): min value of epsilon\n",
    "            gamma (float): discount factor\n",
    "            n_step (int): step number to calculate n-step td error\n",
    "        \"\"\"\n",
    "        obs_dim = env.observation_space.shape[0]\n",
    "        action_dim = env.action_space.n\n",
    "        \n",
    "        self.env = env\n",
    "        self.batch_size = batch_size\n",
    "        self.epsilon = max_epsilon\n",
    "        self.epsilon_decay = epsilon_decay\n",
    "        self.seed = seed\n",
    "        self.max_epsilon = max_epsilon\n",
    "        self.min_epsilon = min_epsilon\n",
    "        self.target_update = target_update\n",
    "        self.gamma = gamma\n",
    "        \n",
    "        # memory for 1-step Learning\n",
    "        self.memory = ReplayBuffer(\n",
    "            obs_dim, memory_size, batch_size, n_step=1\n",
    "        )\n",
    "        \n",
    "        # memory for N-step Learning\n",
    "        # 这句话在代码质量如此高的 Rainbow 中显得格格不入\n",
    "        self.use_n_step = True if n_step > 1 else False  \n",
    "        if self.use_n_step:\n",
    "            self.n_step = n_step\n",
    "            self.memory_n = ReplayBuffer(\n",
    "                obs_dim, memory_size, batch_size, n_step=n_step, gamma=gamma\n",
    "            )\n",
    "        \n",
    "        # device: cpu / gpu\n",
    "        self.device = torch.device(\n",
    "            \"cuda\" if torch.cuda.is_available() else \"cpu\"\n",
    "        )\n",
    "        print(self.device)\n",
    "\n",
    "        # networks: dqn, dqn_target\n",
    "        self.dqn = Network(obs_dim, action_dim).to(self.device)\n",
    "        self.dqn_target = Network(obs_dim, action_dim).to(self.device)\n",
    "        self.dqn_target.load_state_dict(self.dqn.state_dict())\n",
    "        self.dqn_target.eval()\n",
    "        \n",
    "        # optimizer\n",
    "        self.optimizer = optim.Adam(self.dqn.parameters())\n",
    "\n",
    "        # transition to store in memory\n",
    "        self.transition = list()\n",
    "        \n",
    "        # mode: train / test\n",
    "        self.is_test = False\n",
    "\n",
    "    def select_action(self, state: np.ndarray) -> np.ndarray:\n",
    "        \"\"\"Select an action from the input state.\"\"\"\n",
    "        # epsilon greedy policy\n",
    "        if self.epsilon > np.random.random():\n",
    "            selected_action = self.env.action_space.sample()\n",
    "        else:\n",
    "            selected_action = self.dqn(\n",
    "                torch.FloatTensor(state).to(self.device)\n",
    "            ).argmax()\n",
    "            selected_action = selected_action.detach().cpu().numpy()\n",
    "        \n",
    "        if not self.is_test:\n",
    "            self.transition = [state, selected_action]\n",
    "        \n",
    "        return selected_action\n",
    "\n",
    "    def step(self, action: np.ndarray) -> Tuple[np.ndarray, np.float64, bool]:\n",
    "        \"\"\"Take an action and return the response of the env.\"\"\"\n",
    "        next_state, reward, terminated, truncated, _ = self.env.step(action)\n",
    "        done = terminated or truncated\n",
    "        \n",
    "        if not self.is_test:\n",
    "            self.transition += [reward, next_state, done]\n",
    "            \n",
    "            # N-step transition\n",
    "            if self.use_n_step:\n",
    "                one_step_transition = self.memory_n.store(*self.transition)\n",
    "            # 1-step transition\n",
    "            else:\n",
    "                one_step_transition = self.transition\n",
    "\n",
    "            # add a single step transition\n",
    "            if one_step_transition:\n",
    "                self.memory.store(*one_step_transition)\n",
    "    \n",
    "        return next_state, reward, done\n",
    "\n",
    "    def update_model(self) -> torch.Tensor:\n",
    "        \"\"\"Update the model by gradient descent.\"\"\"\n",
    "        samples = self.memory.sample_batch()\n",
    "        indices = samples[\"indices\"]\n",
    "        loss = self._compute_dqn_loss(samples, self.gamma)\n",
    "        \n",
    "        # N-step Learning loss\n",
    "        # we are gonna combine 1-step loss and n-step loss so as to\n",
    "        # prevent high-variance.\n",
    "        if self.use_n_step:\n",
    "            samples = self.memory_n.sample_batch_from_idxs(indices)\n",
    "            gamma = self.gamma ** self.n_step\n",
    "            n_loss = self._compute_dqn_loss(samples, gamma)\n",
    "            loss += n_loss\n",
    "\n",
    "        self.optimizer.zero_grad()\n",
    "        loss.backward()\n",
    "        self.optimizer.step()\n",
    "\n",
    "        return loss.item()\n",
    "        \n",
    "    def train(self, num_frames: int, plotting_interval: int = 200):\n",
    "        \"\"\"Train the agent.\"\"\"\n",
    "        self.is_test = False\n",
    "        \n",
    "        state, _ = self.env.reset(seed=self.seed)\n",
    "        update_cnt = 0\n",
    "        epsilons = []\n",
    "        losses = []\n",
    "        scores = []\n",
    "        score = 0\n",
    "\n",
    "        for frame_idx in range(1, num_frames + 1):\n",
    "            action = self.select_action(state)\n",
    "            next_state, reward, done = self.step(action)\n",
    "\n",
    "            state = next_state\n",
    "            score += reward\n",
    "\n",
    "            # if episode ends\n",
    "            if done:\n",
    "                state, _ = self.env.reset(seed=self.seed)\n",
    "                scores.append(score)\n",
    "                score = 0\n",
    "\n",
    "            # if training is ready\n",
    "            if len(self.memory) >= self.batch_size:\n",
    "                loss = self.update_model()\n",
    "                losses.append(loss)\n",
    "                update_cnt += 1\n",
    "                \n",
    "                # linearly decrease epsilon\n",
    "                self.epsilon = max(\n",
    "                    self.min_epsilon, self.epsilon - (\n",
    "                        self.max_epsilon - self.min_epsilon\n",
    "                    ) * self.epsilon_decay\n",
    "                )\n",
    "                epsilons.append(self.epsilon)\n",
    "                \n",
    "                # if hard update is needed\n",
    "                if update_cnt % self.target_update == 0:\n",
    "                    self._target_hard_update()\n",
    "\n",
    "            # plotting\n",
    "            if frame_idx % plotting_interval == 0:\n",
    "                self._plot(frame_idx, scores, losses, epsilons)\n",
    "                \n",
    "        self.env.close()\n",
    "                \n",
    "    def test(self, video_folder: str) -> None:\n",
    "        \"\"\"Test the agent.\"\"\"\n",
    "        self.is_test = True\n",
    "        \n",
    "        # for recording a video\n",
    "        naive_env = self.env\n",
    "        self.env = gym.wrappers.RecordVideo(self.env, video_folder=video_folder)\n",
    "        \n",
    "        state, _ = self.env.reset(seed=self.seed)\n",
    "        done = False\n",
    "        score = 0\n",
    "        \n",
    "        while not done:\n",
    "            action = self.select_action(state)\n",
    "            next_state, reward, done = self.step(action)\n",
    "\n",
    "            state = next_state\n",
    "            score += reward\n",
    "        \n",
    "        print(\"score: \", score)\n",
    "        self.env.close()\n",
    "        \n",
    "        # reset\n",
    "        self.env = naive_env\n",
    "        \n",
    "    def _compute_dqn_loss(\n",
    "        self, \n",
    "        samples: Dict[str, np.ndarray], \n",
    "        gamma: float\n",
    "    ) -> torch.Tensor:\n",
    "        \"\"\"Return dqn loss.\"\"\"\n",
    "        device = self.device  # for shortening the following lines\n",
    "        state = torch.FloatTensor(samples[\"obs\"]).to(device)\n",
    "        next_state = torch.FloatTensor(samples[\"next_obs\"]).to(device)\n",
    "        action = torch.LongTensor(samples[\"acts\"].reshape(-1, 1)).to(device)\n",
    "        reward = torch.FloatTensor(samples[\"rews\"].reshape(-1, 1)).to(device)\n",
    "        done = torch.FloatTensor(samples[\"done\"].reshape(-1, 1)).to(device)\n",
    "\n",
    "        # G_t   = r + gamma * v(s_{t+1})  if state != Terminal\n",
    "        #       = r                       otherwise\n",
    "        curr_q_value = self.dqn(state).gather(1, action)\n",
    "        next_q_value = self.dqn_target(next_state).max(\n",
    "            dim=1, keepdim=True\n",
    "        )[0].detach()\n",
    "        mask = 1 - done\n",
    "        target = (reward + gamma * next_q_value * mask).to(self.device)\n",
    "\n",
    "        # calculate dqn loss\n",
    "        loss = F.smooth_l1_loss(curr_q_value, target)\n",
    "\n",
    "        return loss\n",
    "\n",
    "    def _target_hard_update(self):\n",
    "        \"\"\"Hard update: target <- local.\"\"\"\n",
    "        self.dqn_target.load_state_dict(self.dqn.state_dict())\n",
    "                \n",
    "    def _plot(\n",
    "        self, \n",
    "        frame_idx: int, \n",
    "        scores: List[float], \n",
    "        losses: List[float], \n",
    "        epsilons: List[float],\n",
    "    ):\n",
    "        \"\"\"Plot the training progresses.\"\"\"\n",
    "        clear_output(True)\n",
    "        plt.figure(figsize=(20, 5))\n",
    "        plt.subplot(131)\n",
    "        plt.title('frame %s. score: %s' % (frame_idx, np.mean(scores[-10:])))\n",
    "        plt.plot(scores)\n",
    "        plt.subplot(132)\n",
    "        plt.title('loss')\n",
    "        plt.plot(losses)\n",
    "        plt.subplot(133)\n",
    "        plt.title('epsilons')\n",
    "        plt.plot(epsilons)\n",
    "        plt.show()"
   ]
  },
  {
   "cell_type": "markdown",
   "metadata": {},
   "source": [
    "## Environment\n",
    "\n",
    "You can see the [code](https://github.com/Farama-Foundation/Gymnasium/blob/main/gymnasium/envs/classic_control/cartpole.py) and [configurations](https://github.com/Farama-Foundation/Gymnasium/blob/main/gymnasium/envs/classic_control/cartpole.py#L91) of CartPole-v1 from Farama Gymnasium's repository."
   ]
  },
  {
   "cell_type": "code",
   "execution_count": 7,
   "metadata": {
    "ExecuteTime": {
     "end_time": "2023-09-06T05:11:24.293580Z",
     "start_time": "2023-09-06T05:11:24.267582200Z"
    }
   },
   "outputs": [],
   "source": [
    "# environment\n",
    "env = gym.make(\"CartPole-v1\", max_episode_steps=200, render_mode=\"rgb_array\")"
   ]
  },
  {
   "cell_type": "markdown",
   "metadata": {},
   "source": [
    "## Set random seed"
   ]
  },
  {
   "cell_type": "code",
   "execution_count": 8,
   "metadata": {
    "ExecuteTime": {
     "end_time": "2023-09-06T05:11:32.340638200Z",
     "start_time": "2023-09-06T05:11:32.319634600Z"
    }
   },
   "outputs": [],
   "source": [
    "seed = 777\n",
    "\n",
    "def seed_torch(seed):\n",
    "    torch.manual_seed(seed)\n",
    "    if torch.backends.cudnn.enabled:\n",
    "        torch.cuda.manual_seed(seed)\n",
    "        torch.backends.cudnn.benchmark = False\n",
    "        torch.backends.cudnn.deterministic = True\n",
    "\n",
    "np.random.seed(seed)\n",
    "seed_torch(seed)"
   ]
  },
  {
   "cell_type": "markdown",
   "metadata": {},
   "source": [
    "## Initialize"
   ]
  },
  {
   "cell_type": "code",
   "execution_count": 9,
   "metadata": {
    "ExecuteTime": {
     "end_time": "2023-09-06T05:11:40.068359100Z",
     "start_time": "2023-09-06T05:11:38.535484100Z"
    }
   },
   "outputs": [
    {
     "name": "stdout",
     "output_type": "stream",
     "text": [
      "cuda\n"
     ]
    }
   ],
   "source": [
    "# parameters\n",
    "num_frames = 10000\n",
    "memory_size = 2000\n",
    "batch_size = 32\n",
    "target_update = 100\n",
    "epsilon_decay = 1 / 2000\n",
    "\n",
    "# train\n",
    "agent = DQNAgent(env, memory_size, batch_size, target_update, epsilon_decay, seed)"
   ]
  },
  {
   "cell_type": "markdown",
   "metadata": {},
   "source": [
    "## Train"
   ]
  },
  {
   "cell_type": "code",
   "execution_count": 10,
   "metadata": {},
   "outputs": [
    {
     "data": {
      "text/plain": "<Figure size 2000x500 with 3 Axes>",
      "image/png": "[encoded data removed]"
     },
     "metadata": {},
     "output_type": "display_data"
    }
   ],
   "source": [
    "agent.train(num_frames)"
   ]
  },
  {
   "cell_type": "markdown",
   "metadata": {},
   "source": [
    "## Test\n",
    "\n",
    "Run the trained agent (1 episode)."
   ]
  },
  {
   "cell_type": "code",
   "execution_count": 11,
   "metadata": {
    "ExecuteTime": {
     "end_time": "2023-09-06T05:12:39.023132500Z",
     "start_time": "2023-09-06T05:12:37.326987300Z"
    }
   },
   "outputs": [
    {
     "name": "stdout",
     "output_type": "stream",
     "text": [
      "Moviepy - Building video C:\\Users\\18213\\Source\\Rainbow Reading Notes\\videos\\n_step_learning\\rl-video-episode-0.mp4.\n",
      "Moviepy - Writing video C:\\Users\\18213\\Source\\Rainbow Reading Notes\\videos\\n_step_learning\\rl-video-episode-0.mp4\n"
     ]
    },
    {
     "name": "stderr",
     "output_type": "stream",
     "text": [
      "                                                               "
     ]
    },
    {
     "name": "stdout",
     "output_type": "stream",
     "text": [
      "Moviepy - Done !\n",
      "Moviepy - video ready C:\\Users\\18213\\Source\\Rainbow Reading Notes\\videos\\n_step_learning\\rl-video-episode-0.mp4\n",
      "score:  200.0\n"
     ]
    },
    {
     "name": "stderr",
     "output_type": "stream",
     "text": [
      "\r"
     ]
    }
   ],
   "source": [
    "video_folder=\"videos/n_step_learning\"\n",
    "agent.test(video_folder=video_folder)"
   ]
  },
  {
   "cell_type": "markdown",
   "metadata": {},
   "source": [
    "## Render"
   ]
  },
  {
   "cell_type": "code",
   "execution_count": 12,
   "metadata": {
    "ExecuteTime": {
     "end_time": "2023-09-06T05:12:47.926471Z",
     "start_time": "2023-09-06T05:12:47.888470600Z"
    }
   },
   "outputs": [
    {
     "data": {
      "text/plain": "<IPython.core.display.HTML object>",
      "text/html": "\n        <video width=\"320\" height=\"240\" alt=\"test\" controls>\n        <source src=\"data:video/mp4;base64,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\" type=\"video/mp4\"/>\n        </video>\n        "
     },
     "metadata": {},
     "output_type": "display_data"
    },
    {
     "name": "stdout",
     "output_type": "stream",
     "text": [
      "Played: videos/n_step_learning\\rl-video-episode-0.mp4\n"
     ]
    }
   ],
   "source": [
    "import base64\n",
    "import glob\n",
    "import io\n",
    "import os\n",
    "\n",
    "from IPython.display import HTML, display\n",
    "\n",
    "\n",
    "def ipython_show_video(path: str) -> None:\n",
    "    \"\"\"Show a video at `path` within IPython Notebook.\"\"\"\n",
    "    if not os.path.isfile(path):\n",
    "        raise NameError(\"Cannot access: {}\".format(path))\n",
    "\n",
    "    video = io.open(path, \"r+b\").read()\n",
    "    encoded = base64.b64encode(video)\n",
    "\n",
    "    display(HTML(\n",
    "        data=\"\"\"\n",
    "        <video width=\"320\" height=\"240\" alt=\"test\" controls>\n",
    "        <source src=\"data:video/mp4;base64,{0}\" type=\"video/mp4\"/>\n",
    "        </video>\n",
    "        \"\"\".format(encoded.decode(\"ascii\"))\n",
    "    ))\n",
    "\n",
    "\n",
    "def show_latest_video(video_folder: str) -> str:\n",
    "    \"\"\"Show the most recently recorded video from video folder.\"\"\"\n",
    "    list_of_files = glob.glob(os.path.join(video_folder, \"*.mp4\"))\n",
    "    latest_file = max(list_of_files, key=os.path.getctime)\n",
    "    ipython_show_video(latest_file)\n",
    "    return latest_file\n",
    "\n",
    "\n",
    "latest_file = show_latest_video(video_folder=video_folder)\n",
    "print(\"Played:\", latest_file)"
   ]
  }
 ],
 "metadata": {
  "kernelspec": {
   "name": "python3",
   "language": "python",
   "display_name": "Python 3 (ipykernel)"
  },
  "language_info": {
   "codemirror_mode": {
    "name": "ipython",
    "version": 3
   },
   "file_extension": ".py",
   "mimetype": "text/x-python",
   "name": "python",
   "nbconvert_exporter": "python",
   "pygments_lexer": "ipython3",
   "version": "3.8.12"
  }
 },
 "nbformat": 4,
 "nbformat_minor": 4
}
