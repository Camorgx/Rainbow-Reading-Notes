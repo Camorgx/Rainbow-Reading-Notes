{
 "cells": [
  {
   "cell_type": "markdown",
   "metadata": {},
   "source": [
    "## Configurations for Colab"
   ]
  },
  {
   "cell_type": "code",
   "execution_count": 2,
   "metadata": {
    "ExecuteTime": {
     "end_time": "2023-08-28T06:34:54.390566900Z",
     "start_time": "2023-08-28T06:34:54.387565900Z"
    }
   },
   "outputs": [],
   "source": [
    "import sys\n",
    "IN_COLAB = \"google.colab\" in sys.modules\n",
    "\n",
    "if IN_COLAB:\n",
    "    !apt install python-opengl\n",
    "    !apt install ffmpeg\n",
    "    !apt install xvfb\n",
    "    !pip install PyVirtualDisplay==3.0\n",
    "    !pip install gymnasium==0.28.1\n",
    "    from pyvirtualdisplay import Display\n",
    "    \n",
    "    # Start virtual display\n",
    "    dis = Display(visible=0, size=(400, 400))\n",
    "    dis.start()"
   ]
  },
  {
   "cell_type": "markdown",
   "metadata": {},
   "source": [
    "# 03. Prioritized Experience Replay (PER)\n",
    "\n",
    "[T. Schaul et al., \"Prioritized Experience Replay.\" arXiv preprint arXiv:1511.05952, 2015.](https://arxiv.org/pdf/1511.05952.pdf)\n",
    "\n",
    "Using a replay memory leads to design choices at two levels: which experiences to store, and which experiences to replay (and how to do so). This paper addresses only the latter: making the most effective use of the replay memory for learning, assuming that its contents are outside of our control.\n",
    "\n",
    "The central component of prioritized replay is the criterion by which the importance of each transition is measured. A reasonable approach is to use the magnitude of a transition’s TD error $\\delta$, which indicates how ‘surprising’\n",
    "or unexpected the transition is. This algorithm stores the last encountered TD error along with each transition in the replay memory. The transition with the largest absolute TD error is replayed from the memory. A Q-learning update\n",
    "is applied to this transition, which updates the weights in proportion to the TD error. One thing to note that new transitions arrive without a known TD-error, so it puts them at maximal priority in order to guarantee that all experience is seen at least once. (see *store* method)\n",
    "\n",
    "We might use 2 ideas to deal with TD-error: 1. greedy TD-error prioritization, 2. stochastic prioritization. However, greedy TD-error prioritization has a severe drawback. Greedy prioritization focuses on a small subset of the experience: errors shrink slowly, especially when using function approximation, meaning that the initially high error transitions get replayed frequently. This lack of diversity that makes the system prone to over-fitting. To overcome this issue, we will use a stochastic sampling method that interpolates between pure greedy prioritization and uniform random sampling.\n",
    "\n",
    "$$\n",
    "P(i) = \\frac{p_i^{\\alpha}}{\\sum_k p_k^{\\alpha}}\n",
    "$$\n",
    "\n",
    "where $p_i > 0$ is the priority of transition $i$. The exponent $\\alpha$ determines how much prioritization is used, with $\\alpha = 0$ corresponding to the uniform case. In practice, we use additional term $\\epsilon$ in order to guarantee all transactions can be possibly sampled: $p_i = |\\delta_i| + \\epsilon$, where $\\epsilon$ is a small positive constant.\n",
    "\n",
    "One more. Let's recall one of the main ideas of DQN. To remove correlation of observations, it uses uniformly random sampling from the replay buffer. Prioritized replay introduces bias because it doesn't sample experiences uniformly at random due to the sampling proportion correspoding to TD-error. We can correct this bias by using importance-sampling (IS) weights\n",
    "\n",
    "$$\n",
    "w_i = \\big( \\frac{1}{N} \\cdot \\frac{1}{P(i)} \\big)^\\beta\n",
    "$$\n",
    "\n",
    "that fully compensates for the non-uniform probabilities $P(i)$ if $\\beta = 1$. These weights can be folded into the Q-learning update by using $w_i\\delta_i$ instead of $\\delta_i$. In typical reinforcement learning scenarios, the unbiased nature of the updates is most important near convergence at the end of training, We therefore exploit the flexibility of annealing the amount of importance-sampling correction over time, by defining a schedule on the exponent $\\beta$ that reaches 1 only at the end of learning. "
   ]
  },
  {
   "cell_type": "code",
   "execution_count": 3,
   "metadata": {
    "ExecuteTime": {
     "end_time": "2023-08-28T06:35:01.968753800Z",
     "start_time": "2023-08-28T06:34:59.837818400Z"
    }
   },
   "outputs": [
    {
     "name": "stderr",
     "output_type": "stream",
     "text": [
      "C:\\Users\\18213\\anaconda3\\envs\\Rainbow\\lib\\site-packages\\tqdm\\auto.py:21: TqdmWarning: IProgress not found. Please update jupyter and ipywidgets. See https://ipywidgets.readthedocs.io/en/stable/user_install.html\n",
      "  from .autonotebook import tqdm as notebook_tqdm\n"
     ]
    }
   ],
   "source": [
    "import os\n",
    "import random\n",
    "from typing import Dict, List, Tuple\n",
    "\n",
    "import gymnasium as gym\n",
    "import matplotlib.pyplot as plt\n",
    "import numpy as np\n",
    "import torch\n",
    "import torch.nn as nn\n",
    "import torch.nn.functional as F\n",
    "import torch.optim as optim\n",
    "from IPython.display import clear_output\n",
    "\n",
    "if IN_COLAB and not os.path.exists(\"segment_tree.py\"):\n",
    "    # download segment tree module\n",
    "    !wget https://raw.githubusercontent.com/curt-park/rainbow-is-all-you-need/master/segment_tree.py\n",
    "        \n",
    "from segment_tree import MinSegmentTree, SumSegmentTree"
   ]
  },
  {
   "cell_type": "markdown",
   "metadata": {},
   "source": [
    "## Replay buffer\n",
    "\n",
    "Please see *01.dqn.ipynb* for detailed description."
   ]
  },
  {
   "cell_type": "code",
   "execution_count": 4,
   "metadata": {
    "ExecuteTime": {
     "end_time": "2023-08-28T06:35:03.828284400Z",
     "start_time": "2023-08-28T06:35:03.817499400Z"
    }
   },
   "outputs": [],
   "source": [
    "class ReplayBuffer:\n",
    "    \"\"\"A simple numpy replay buffer.\"\"\"\n",
    "\n",
    "    def __init__(self, obs_dim: int, size: int, batch_size: int = 32):\n",
    "        self.obs_buf = np.zeros([size, obs_dim], dtype=np.float32)\n",
    "        self.next_obs_buf = np.zeros([size, obs_dim], dtype=np.float32)\n",
    "        self.acts_buf = np.zeros([size], dtype=np.float32)\n",
    "        self.rews_buf = np.zeros([size], dtype=np.float32)\n",
    "        self.done_buf = np.zeros(size, dtype=np.float32)\n",
    "        self.max_size, self.batch_size = size, batch_size\n",
    "        self.ptr, self.size, = 0, 0\n",
    "\n",
    "    def store(\n",
    "        self,\n",
    "        obs: np.ndarray,\n",
    "        act: np.ndarray, \n",
    "        rew: float, \n",
    "        next_obs: np.ndarray, \n",
    "        done: bool,\n",
    "    ):\n",
    "        self.obs_buf[self.ptr] = obs\n",
    "        self.next_obs_buf[self.ptr] = next_obs\n",
    "        self.acts_buf[self.ptr] = act\n",
    "        self.rews_buf[self.ptr] = rew\n",
    "        self.done_buf[self.ptr] = done\n",
    "        self.ptr = (self.ptr + 1) % self.max_size\n",
    "        self.size = min(self.size + 1, self.max_size)\n",
    "\n",
    "    def sample_batch(self) -> Dict[str, np.ndarray]:\n",
    "        idxs = np.random.choice(self.size, size=self.batch_size, replace=False)\n",
    "        return dict(obs=self.obs_buf[idxs],\n",
    "                    next_obs=self.next_obs_buf[idxs],\n",
    "                    acts=self.acts_buf[idxs],\n",
    "                    rews=self.rews_buf[idxs],\n",
    "                    done=self.done_buf[idxs])\n",
    "\n",
    "    def __len__(self) -> int:\n",
    "        return self.size"
   ]
  },
  {
   "cell_type": "markdown",
   "metadata": {},
   "source": [
    "## Prioritized replay Buffer\n",
    "\n",
    "The key concept of PER's implementation is *Segment Tree*. It efficiently stores and samples transitions while managing the priorities of them. We recommend you understand how it works before you move on. Here are references for you:\n",
    "\n",
    "- In Korean: https://mrsyee.github.io/rl/2019/01/25/PER-sumtree/\n",
    "- In English: https://www.geeksforgeeks.org/segment-tree-set-1-sum-of-given-range/"
   ]
  },
  {
   "cell_type": "code",
   "execution_count": 5,
   "metadata": {
    "ExecuteTime": {
     "end_time": "2023-08-28T06:35:05.201094600Z",
     "start_time": "2023-08-28T06:35:05.184515600Z"
    }
   },
   "outputs": [],
   "source": [
    "class PrioritizedReplayBuffer(ReplayBuffer):\n",
    "    \"\"\"Prioritized Replay buffer.\n",
    "    \n",
    "    Attributes:\n",
    "        max_priority (float): max priority\n",
    "        tree_ptr (int): next index of tree\n",
    "        alpha (float): alpha parameter for prioritized replay buffer\n",
    "        sum_tree (SumSegmentTree): sum tree for prior\n",
    "        min_tree (MinSegmentTree): min tree for min prior to get max weight\n",
    "        \n",
    "    \"\"\"\n",
    "    \n",
    "    def __init__(\n",
    "        self, \n",
    "        obs_dim: int,\n",
    "        size: int, \n",
    "        batch_size: int = 32, \n",
    "        alpha: float = 0.6\n",
    "    ):\n",
    "        \"\"\"Initialization.\"\"\"\n",
    "        assert alpha >= 0\n",
    "        \n",
    "        super(PrioritizedReplayBuffer, self).__init__(obs_dim, size, batch_size)\n",
    "        self.max_priority, self.tree_ptr = 1.0, 0\n",
    "        self.alpha = alpha\n",
    "        \n",
    "        # capacity must be positive and a power of 2.\n",
    "        tree_capacity = 1\n",
    "        while tree_capacity < self.max_size:\n",
    "            tree_capacity *= 2\n",
    "\n",
    "        self.sum_tree = SumSegmentTree(tree_capacity)\n",
    "        self.min_tree = MinSegmentTree(tree_capacity)\n",
    "        \n",
    "    def store(\n",
    "        self, \n",
    "        obs: np.ndarray, \n",
    "        act: int, \n",
    "        rew: float, \n",
    "        next_obs: np.ndarray, \n",
    "        done: bool\n",
    "    ):\n",
    "        \"\"\"Store experience and priority.\"\"\"\n",
    "        super().store(obs, act, rew, next_obs, done)\n",
    "        \n",
    "        # 封装后的线段树可以当作数组进行操作\n",
    "        self.sum_tree[self.tree_ptr] = self.max_priority ** self.alpha\n",
    "        self.min_tree[self.tree_ptr] = self.max_priority ** self.alpha\n",
    "        self.tree_ptr = (self.tree_ptr + 1) % self.max_size\n",
    "\n",
    "    def sample_batch(self, beta: float = 0.4) -> Dict[str, np.ndarray]:\n",
    "        \"\"\"Sample a batch of experiences.\"\"\"\n",
    "        assert len(self) >= self.batch_size\n",
    "        assert beta > 0\n",
    "        \n",
    "        indices = self._sample_proportional()\n",
    "        \n",
    "        obs = self.obs_buf[indices]\n",
    "        next_obs = self.next_obs_buf[indices]\n",
    "        acts = self.acts_buf[indices]\n",
    "        rews = self.rews_buf[indices]\n",
    "        done = self.done_buf[indices]\n",
    "        weights = np.array([self._calculate_weight(i, beta) for i in indices])\n",
    "        \n",
    "        return dict(\n",
    "            obs=obs,\n",
    "            next_obs=next_obs,\n",
    "            acts=acts,\n",
    "            rews=rews,\n",
    "            done=done,\n",
    "            weights=weights,\n",
    "            indices=indices,\n",
    "        )\n",
    "        \n",
    "    def update_priorities(self, indices: List[int], priorities: np.ndarray):\n",
    "        \"\"\"Update priorities of sampled transitions.\"\"\"\n",
    "        assert len(indices) == len(priorities)\n",
    "\n",
    "        for idx, priority in zip(indices, priorities):  # 同步遍历两个 list 的简便写法\n",
    "            assert priority > 0\n",
    "            assert 0 <= idx < len(self)\n",
    "\n",
    "            self.sum_tree[idx] = priority ** self.alpha\n",
    "            self.min_tree[idx] = priority ** self.alpha\n",
    "\n",
    "            self.max_priority = max(self.max_priority, priority)\n",
    "            \n",
    "    def _sample_proportional(self) -> List[int]:\n",
    "        \"\"\"Sample indices based on proportions.\"\"\"\n",
    "        indices = []\n",
    "        p_total = self.sum_tree.sum(0, len(self) - 1)\n",
    "        segment = p_total / self.batch_size\n",
    "        \n",
    "        for i in range(self.batch_size):\n",
    "            a = segment * i\n",
    "            b = segment * (i + 1)\n",
    "            upperbound = random.uniform(a, b)\n",
    "            idx = self.sum_tree.retrieve(upperbound)\n",
    "            indices.append(idx)\n",
    "            \n",
    "        return indices\n",
    "    \n",
    "    def _calculate_weight(self, idx: int, beta: float):\n",
    "        \"\"\"Calculate the weight of the experience at idx.\"\"\"\n",
    "        # get max weight\n",
    "        p_min = self.min_tree.min() / self.sum_tree.sum()\n",
    "        # 这个 len(self) 是不是不需要乘\n",
    "        max_weight = (p_min * len(self)) ** (-beta)\n",
    "        \n",
    "        # calculate weights\n",
    "        p_sample = self.sum_tree[idx] / self.sum_tree.sum()\n",
    "        weight = (p_sample * len(self)) ** (-beta)\n",
    "        # 这一步的除法会把之前乘的 len(self) 消掉\n",
    "        weight = weight / max_weight\n",
    "        \n",
    "        return weight"
   ]
  },
  {
   "cell_type": "markdown",
   "metadata": {},
   "source": [
    "## Network\n",
    "\n",
    "We are going to use a simple network architecture with three fully connected layers and two non-linearity functions (ReLU)."
   ]
  },
  {
   "cell_type": "code",
   "execution_count": 6,
   "metadata": {
    "ExecuteTime": {
     "end_time": "2023-08-28T06:35:06.443276200Z",
     "start_time": "2023-08-28T06:35:06.431751Z"
    }
   },
   "outputs": [],
   "source": [
    "class Network(nn.Module):\n",
    "    def __init__(self, in_dim: int, out_dim: int):\n",
    "        \"\"\"Initialization.\"\"\"\n",
    "        super(Network, self).__init__()\n",
    "\n",
    "        self.layers = nn.Sequential(\n",
    "            nn.Linear(in_dim, 128), \n",
    "            nn.ReLU(),\n",
    "            nn.Linear(128, 128), \n",
    "            nn.ReLU(), \n",
    "            nn.Linear(128, out_dim)\n",
    "        )\n",
    "\n",
    "    def forward(self, x: torch.Tensor) -> torch.Tensor:\n",
    "        \"\"\"Forward method implementation.\"\"\"\n",
    "        return self.layers(x)"
   ]
  },
  {
   "cell_type": "markdown",
   "metadata": {},
   "source": [
    "## DQN + PER Agent\n",
    "\n",
    "Here is a summary of DQNAgent class.\n",
    "\n",
    "| Method           | Note                                                 |\n",
    "| ---              | ---                                                  |\n",
    "|select_action     | select an action from the input state.               |\n",
    "|step              | take an action and return the response of the env.   |\n",
    "|compute_dqn_loss  | return dqn loss.                                     |\n",
    "|update_model      | update the model by gradient descent.                |\n",
    "|target_hard_update| hard update from the local model to the target model.|\n",
    "|train             | train the agent during num_frames.                   |\n",
    "|test              | test the agent (1 episode).                          |\n",
    "|plot              | plot the training progresses.                        |\n",
    "\n",
    "\n",
    "All differences from pure DQN are noted with comments - PER.\n",
    "\n",
    "#### __init__\n",
    "\n",
    "Here, we use PrioritizedReplayBuffer, instead of ReplayBuffer, and use hold 2 more parameters beta and priority epsilon which are used to calculate weights and new priorities respectively.\n",
    "\n",
    "#### compute_dqn_loss & update_model\n",
    "\n",
    "It returns every loss per each sample for importance sampling before average. After updating the nework, it is necessary to update priorities of all sampled experiences.\n",
    "\n",
    "#### train\n",
    "\n",
    "beta linearly increases to 1 at every training step."
   ]
  },
  {
   "cell_type": "code",
   "execution_count": 7,
   "metadata": {
    "ExecuteTime": {
     "end_time": "2023-08-28T06:54:07.575630500Z",
     "start_time": "2023-08-28T06:54:07.557048200Z"
    }
   },
   "outputs": [],
   "source": [
    "class DQNAgent:\n",
    "    \"\"\"DQN Agent interacting with environment.\n",
    "    \n",
    "    Attribute:\n",
    "        env (gym.Env): openAI Gym environment\n",
    "        memory (ReplayBuffer): replay memory to store transitions\n",
    "        batch_size (int): batch size for sampling\n",
    "        epsilon (float): parameter for epsilon greedy policy\n",
    "        epsilon_decay (float): step size to decrease epsilon\n",
    "        max_epsilon (float): max value of epsilon\n",
    "        min_epsilon (float): min value of epsilon\n",
    "        target_update (int): period for target model's hard update\n",
    "        gamma (float): discount factor\n",
    "        dqn (Network): model to train and select actions\n",
    "        dqn_target (Network): target model to update\n",
    "        optimizer (torch.optim): optimizer for training dqn\n",
    "        transition (list): transition information including \n",
    "                           state, action, reward, next_state, done\n",
    "        beta (float): determines how much importance sampling is used\n",
    "        prior_eps (float): guarantees every transition can be sampled\n",
    "    \"\"\"\n",
    "\n",
    "    def __init__(\n",
    "        self, \n",
    "        env: gym.Env,\n",
    "        memory_size: int,\n",
    "        batch_size: int,\n",
    "        target_update: int,\n",
    "        epsilon_decay: float,\n",
    "        seed: int,\n",
    "        max_epsilon: float = 1.0,\n",
    "        min_epsilon: float = 0.1,\n",
    "        gamma: float = 0.99,\n",
    "        # PER parameters\n",
    "        alpha: float = 0.2,\n",
    "        beta: float = 0.6,\n",
    "        prior_eps: float = 1e-6,\n",
    "    ):\n",
    "        \"\"\"Initialization.\n",
    "        \n",
    "        Args:\n",
    "            env (gym.Env): openAI Gym environment\n",
    "            memory_size (int): length of memory\n",
    "            batch_size (int): batch size for sampling\n",
    "            target_update (int): period for target model's hard update\n",
    "            epsilon_decay (float): step size to decrease epsilon\n",
    "            lr (float): learning rate\n",
    "            max_epsilon (float): max value of epsilon\n",
    "            min_epsilon (float): min value of epsilon\n",
    "            gamma (float): discount factor\n",
    "            alpha (float): determines how much prioritization is used\n",
    "            beta (float): determines how much importance sampling is used\n",
    "            prior_eps (float): guarantees every transition can be sampled\n",
    "        \"\"\"\n",
    "        obs_dim = env.observation_space.shape[0]\n",
    "        action_dim = env.action_space.n\n",
    "        \n",
    "        self.env = env\n",
    "        \n",
    "        self.batch_size = batch_size\n",
    "        self.epsilon = max_epsilon\n",
    "        self.epsilon_decay = epsilon_decay\n",
    "        self.seed = seed\n",
    "        self.max_epsilon = max_epsilon\n",
    "        self.min_epsilon = min_epsilon\n",
    "        self.target_update = target_update\n",
    "        self.gamma = gamma\n",
    "        \n",
    "        # device: cpu / gpu\n",
    "        self.device = torch.device(\n",
    "            \"cuda\" if torch.cuda.is_available() else \"cpu\"\n",
    "        )\n",
    "        print(self.device)\n",
    "        \n",
    "        # PER\n",
    "        # In DQN, We used \"ReplayBuffer(obs_dim, memory_size, batch_size)\"\n",
    "        self.beta = beta\n",
    "        self.prior_eps = prior_eps\n",
    "        self.memory = PrioritizedReplayBuffer(\n",
    "            obs_dim, memory_size, batch_size, alpha\n",
    "        )\n",
    "\n",
    "        # networks: dqn, dqn_target\n",
    "        self.dqn = Network(obs_dim, action_dim).to(self.device)\n",
    "        self.dqn_target = Network(obs_dim, action_dim).to(self.device)\n",
    "        self.dqn_target.load_state_dict(self.dqn.state_dict())\n",
    "        self.dqn_target.eval()\n",
    "        \n",
    "        # optimizer\n",
    "        self.optimizer = optim.Adam(self.dqn.parameters())\n",
    "\n",
    "        # transition to store in memory\n",
    "        self.transition = list()\n",
    "        \n",
    "        # mode: train / test\n",
    "        self.is_test = False\n",
    "\n",
    "    def select_action(self, state: np.ndarray) -> np.ndarray:\n",
    "        \"\"\"Select an action from the input state.\"\"\"\n",
    "        # epsilon greedy policy\n",
    "        if self.epsilon > np.random.random():\n",
    "            selected_action = self.env.action_space.sample()\n",
    "        else:\n",
    "            selected_action = self.dqn(\n",
    "                torch.FloatTensor(state).to(self.device)\n",
    "            ).argmax()\n",
    "            selected_action = selected_action.detach().cpu().numpy()\n",
    "        \n",
    "        if not self.is_test:\n",
    "            self.transition = [state, selected_action]\n",
    "        \n",
    "        return selected_action\n",
    "\n",
    "    def step(self, action: np.ndarray) -> Tuple[np.ndarray, np.float64, bool]:\n",
    "        \"\"\"Take an action and return the response of the env.\"\"\"\n",
    "        next_state, reward, terminated, truncated, _ = self.env.step(action)\n",
    "        done = terminated or truncated\n",
    "\n",
    "        if not self.is_test:\n",
    "            self.transition += [reward, next_state, done]\n",
    "            self.memory.store(*self.transition)\n",
    "    \n",
    "        return next_state, reward, done\n",
    "\n",
    "    def update_model(self) -> torch.Tensor:\n",
    "        \"\"\"Update the model by gradient descent.\"\"\"\n",
    "        # PER needs beta to calculate weights\n",
    "        samples = self.memory.sample_batch(self.beta)\n",
    "        weights = torch.FloatTensor(\n",
    "            samples[\"weights\"].reshape(-1, 1)\n",
    "        ).to(self.device)\n",
    "        indices = samples[\"indices\"]\n",
    "\n",
    "        # PER: importance sampling before average\n",
    "        elementwise_loss = self._compute_dqn_loss(samples)\n",
    "        loss = torch.mean(elementwise_loss * weights)\n",
    "\n",
    "        self.optimizer.zero_grad()\n",
    "        loss.backward()\n",
    "        self.optimizer.step()\n",
    "        \n",
    "        # PER: update priorities\n",
    "        loss_for_prior = elementwise_loss.detach().cpu().numpy()\n",
    "        new_priorities = loss_for_prior + self.prior_eps    # 避免出现零概率\n",
    "        self.memory.update_priorities(indices, new_priorities)\n",
    "\n",
    "        return loss.item()\n",
    "        \n",
    "    def train(self, num_frames: int, plotting_interval: int = 200):\n",
    "        \"\"\"Train the agent.\"\"\"\n",
    "        self.is_test = False\n",
    "        \n",
    "        state, _ = self.env.reset(seed=self.seed)\n",
    "        update_cnt = 0\n",
    "        epsilons = []\n",
    "        losses = []\n",
    "        scores = []\n",
    "        score = 0\n",
    "\n",
    "        for frame_idx in range(1, num_frames + 1):\n",
    "            action = self.select_action(state)\n",
    "            next_state, reward, done = self.step(action)\n",
    "\n",
    "            state = next_state\n",
    "            score += reward\n",
    "            \n",
    "            # PER: increase beta\n",
    "            fraction = min(frame_idx / num_frames, 1.0)\n",
    "            # 只有当训练结束时 beta 才会等于 1\n",
    "            self.beta = self.beta + fraction * (1.0 - self.beta)\n",
    "\n",
    "            # if episode ends\n",
    "            if done:\n",
    "                state, _ = self.env.reset(seed=self.seed)\n",
    "                scores.append(score)\n",
    "                score = 0\n",
    "\n",
    "            # if training is ready\n",
    "            if len(self.memory) >= self.batch_size:\n",
    "                loss = self.update_model()\n",
    "                losses.append(loss)\n",
    "                update_cnt += 1\n",
    "                \n",
    "                # linearly decrease epsilon\n",
    "                self.epsilon = max(\n",
    "                    self.min_epsilon, self.epsilon - (\n",
    "                        self.max_epsilon - self.min_epsilon\n",
    "                    ) * self.epsilon_decay\n",
    "                )\n",
    "                epsilons.append(self.epsilon)\n",
    "                \n",
    "                # if hard update is needed\n",
    "                if update_cnt % self.target_update == 0:\n",
    "                    self._target_hard_update()\n",
    "\n",
    "            # plotting\n",
    "            if frame_idx % plotting_interval == 0:\n",
    "                self._plot(frame_idx, scores, losses, epsilons)\n",
    "                \n",
    "        self.env.close()\n",
    "                \n",
    "    def test(self, video_folder: str) -> None:\n",
    "        \"\"\"Test the agent.\"\"\"\n",
    "        self.is_test = True\n",
    "        \n",
    "        # for recording a video\n",
    "        naive_env = self.env\n",
    "        self.env = gym.wrappers.RecordVideo(self.env, video_folder=video_folder)\n",
    "        \n",
    "        state, _ = self.env.reset(seed=self.seed)\n",
    "        done = False\n",
    "        score = 0\n",
    "        \n",
    "        while not done:\n",
    "            action = self.select_action(state)\n",
    "            next_state, reward, done = self.step(action)\n",
    "\n",
    "            state = next_state\n",
    "            score += reward\n",
    "        \n",
    "        print(\"score: \", score)\n",
    "        self.env.close()\n",
    "        \n",
    "        # reset\n",
    "        self.env = naive_env\n",
    "\n",
    "    def _compute_dqn_loss(self, samples: Dict[str, np.ndarray]) -> torch.Tensor:\n",
    "        \"\"\"Return dqn loss.\"\"\"\n",
    "        device = self.device  # for shortening the following lines\n",
    "        state = torch.FloatTensor(samples[\"obs\"]).to(device)\n",
    "        next_state = torch.FloatTensor(samples[\"next_obs\"]).to(device)\n",
    "        action = torch.LongTensor(samples[\"acts\"].reshape(-1, 1)).to(device)\n",
    "        reward = torch.FloatTensor(samples[\"rews\"].reshape(-1, 1)).to(device)\n",
    "        done = torch.FloatTensor(samples[\"done\"].reshape(-1, 1)).to(device)\n",
    "\n",
    "        # G_t   = r + gamma * v(s_{t+1})  if state != Terminal\n",
    "        #       = r                       otherwise\n",
    "        curr_q_value = self.dqn(state).gather(1, action)\n",
    "        next_q_value = self.dqn_target(\n",
    "            next_state\n",
    "        ).max(dim=1, keepdim=True)[0].detach()\n",
    "        mask = 1 - done\n",
    "        target = (reward + self.gamma * next_q_value * mask).to(self.device)\n",
    "\n",
    "        # calculate element-wise dqn loss\n",
    "        elementwise_loss = F.smooth_l1_loss(curr_q_value, target, reduction=\"none\")\n",
    "\n",
    "        return elementwise_loss\n",
    "    \n",
    "    def _target_hard_update(self):\n",
    "        \"\"\"Hard update: target <- local.\"\"\"\n",
    "        self.dqn_target.load_state_dict(self.dqn.state_dict())\n",
    "                \n",
    "    def _plot(\n",
    "        self, \n",
    "        frame_idx: int, \n",
    "        scores: List[float], \n",
    "        losses: List[float], \n",
    "        epsilons: List[float],\n",
    "    ):\n",
    "        \"\"\"Plot the training progresses.\"\"\"\n",
    "        clear_output(True)\n",
    "        plt.figure(figsize=(20, 5))\n",
    "        plt.subplot(131)\n",
    "        plt.title('frame %s. score: %s' % (frame_idx, np.mean(scores[-10:])))\n",
    "        plt.plot(scores)\n",
    "        plt.subplot(132)\n",
    "        plt.title('loss')\n",
    "        plt.plot(losses)\n",
    "        plt.subplot(133)\n",
    "        plt.title('epsilons')\n",
    "        plt.plot(epsilons)\n",
    "        plt.show()"
   ]
  },
  {
   "cell_type": "markdown",
   "metadata": {},
   "source": [
    "## Environment\n",
    "\n",
    "You can see the [code](https://github.com/Farama-Foundation/Gymnasium/blob/main/gymnasium/envs/classic_control/cartpole.py) and [configurations](https://github.com/Farama-Foundation/Gymnasium/blob/main/gymnasium/envs/classic_control/cartpole.py#L91) of CartPole-v1 from Farama Gymnasium's repository."
   ]
  },
  {
   "cell_type": "code",
   "execution_count": 8,
   "metadata": {
    "ExecuteTime": {
     "end_time": "2023-08-28T06:54:14.312461600Z",
     "start_time": "2023-08-28T06:54:14.292466200Z"
    }
   },
   "outputs": [],
   "source": [
    "# environment\n",
    "env = gym.make(\"CartPole-v1\", max_episode_steps=200, render_mode=\"rgb_array\")"
   ]
  },
  {
   "cell_type": "markdown",
   "metadata": {},
   "source": [
    "## Set random seed"
   ]
  },
  {
   "cell_type": "code",
   "execution_count": 9,
   "metadata": {
    "ExecuteTime": {
     "end_time": "2023-08-28T06:54:21.822653100Z",
     "start_time": "2023-08-28T06:54:21.809125200Z"
    }
   },
   "outputs": [],
   "source": [
    "seed = 777\n",
    "\n",
    "def seed_torch(seed):\n",
    "    torch.manual_seed(seed)\n",
    "    if torch.backends.cudnn.enabled:\n",
    "        torch.cuda.manual_seed(seed)\n",
    "        torch.backends.cudnn.benchmark = False\n",
    "        torch.backends.cudnn.deterministic = True\n",
    "\n",
    "np.random.seed(seed)\n",
    "random.seed(seed)\n",
    "seed_torch(seed)"
   ]
  },
  {
   "cell_type": "markdown",
   "metadata": {},
   "source": [
    "## Initialize"
   ]
  },
  {
   "cell_type": "code",
   "execution_count": 10,
   "metadata": {
    "ExecuteTime": {
     "end_time": "2023-08-28T06:54:28.491927400Z",
     "start_time": "2023-08-28T06:54:26.763066900Z"
    }
   },
   "outputs": [
    {
     "name": "stdout",
     "output_type": "stream",
     "text": [
      "cuda\n"
     ]
    }
   ],
   "source": [
    "# parameters\n",
    "num_frames = 10000\n",
    "memory_size = 1000\n",
    "batch_size = 32\n",
    "target_update = 150\n",
    "epsilon_decay = 1 / 2000\n",
    "\n",
    "# train\n",
    "agent = DQNAgent(env, memory_size, batch_size, target_update, epsilon_decay, seed)"
   ]
  },
  {
   "cell_type": "markdown",
   "metadata": {},
   "source": [
    "## Train"
   ]
  },
  {
   "cell_type": "code",
   "execution_count": 11,
   "metadata": {},
   "outputs": [
    {
     "data": {
      "text/plain": "<Figure size 2000x500 with 3 Axes>",
      "image/png": "[encoded data removed]"
     },
     "metadata": {},
     "output_type": "display_data"
    }
   ],
   "source": [
    "agent.train(num_frames)"
   ]
  },
  {
   "cell_type": "markdown",
   "metadata": {},
   "source": [
    "## Test\n",
    "\n",
    "Run the trained agent (1 episode)."
   ]
  },
  {
   "cell_type": "code",
   "execution_count": 12,
   "metadata": {
    "ExecuteTime": {
     "end_time": "2023-08-28T06:55:46.019305600Z",
     "start_time": "2023-08-28T06:55:44.414650700Z"
    }
   },
   "outputs": [
    {
     "name": "stdout",
     "output_type": "stream",
     "text": [
      "Moviepy - Building video C:\\Users\\18213\\Source\\Rainbow Reading Notes\\videos\\per\\rl-video-episode-0.mp4.\n",
      "Moviepy - Writing video C:\\Users\\18213\\Source\\Rainbow Reading Notes\\videos\\per\\rl-video-episode-0.mp4\n"
     ]
    },
    {
     "name": "stderr",
     "output_type": "stream",
     "text": [
      "                                                               "
     ]
    },
    {
     "name": "stdout",
     "output_type": "stream",
     "text": [
      "Moviepy - Done !\n",
      "Moviepy - video ready C:\\Users\\18213\\Source\\Rainbow Reading Notes\\videos\\per\\rl-video-episode-0.mp4\n",
      "score:  200.0\n"
     ]
    },
    {
     "name": "stderr",
     "output_type": "stream",
     "text": [
      "\r"
     ]
    }
   ],
   "source": [
    "video_folder=\"videos/per\"\n",
    "agent.test(video_folder=video_folder)"
   ]
  },
  {
   "cell_type": "markdown",
   "metadata": {},
   "source": [
    "## Render"
   ]
  },
  {
   "cell_type": "code",
   "execution_count": 13,
   "metadata": {
    "ExecuteTime": {
     "end_time": "2023-08-28T06:55:51.222554700Z",
     "start_time": "2023-08-28T06:55:51.178993900Z"
    }
   },
   "outputs": [
    {
     "data": {
      "text/plain": "<IPython.core.display.HTML object>",
      "text/html": "\n        <video width=\"320\" height=\"240\" alt=\"test\" controls>\n        <source src=\"data:video/mp4;base64,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\" type=\"video/mp4\"/>\n        </video>\n        "
     },
     "metadata": {},
     "output_type": "display_data"
    },
    {
     "name": "stdout",
     "output_type": "stream",
     "text": [
      "Played: videos/per\\rl-video-episode-0.mp4\n"
     ]
    }
   ],
   "source": [
    "import base64\n",
    "import glob\n",
    "import io\n",
    "import os\n",
    "\n",
    "from IPython.display import HTML, display\n",
    "\n",
    "\n",
    "def ipython_show_video(path: str) -> None:\n",
    "    \"\"\"Show a video at `path` within IPython Notebook.\"\"\"\n",
    "    if not os.path.isfile(path):\n",
    "        raise NameError(\"Cannot access: {}\".format(path))\n",
    "\n",
    "    video = io.open(path, \"r+b\").read()\n",
    "    encoded = base64.b64encode(video)\n",
    "\n",
    "    display(HTML(\n",
    "        data=\"\"\"\n",
    "        <video width=\"320\" height=\"240\" alt=\"test\" controls>\n",
    "        <source src=\"data:video/mp4;base64,{0}\" type=\"video/mp4\"/>\n",
    "        </video>\n",
    "        \"\"\".format(encoded.decode(\"ascii\"))\n",
    "    ))\n",
    "\n",
    "\n",
    "def show_latest_video(video_folder: str) -> str:\n",
    "    \"\"\"Show the most recently recorded video from video folder.\"\"\"\n",
    "    list_of_files = glob.glob(os.path.join(video_folder, \"*.mp4\"))\n",
    "    latest_file = max(list_of_files, key=os.path.getctime)\n",
    "    ipython_show_video(latest_file)\n",
    "    return latest_file\n",
    "\n",
    "\n",
    "latest_file = show_latest_video(video_folder=video_folder)\n",
    "print(\"Played:\", latest_file)"
   ]
  }
 ],
 "metadata": {
  "kernelspec": {
   "name": "python3",
   "language": "python",
   "display_name": "Python 3 (ipykernel)"
  },
  "language_info": {
   "codemirror_mode": {
    "name": "ipython",
    "version": 3
   },
   "file_extension": ".py",
   "mimetype": "text/x-python",
   "name": "python",
   "nbconvert_exporter": "python",
   "pygments_lexer": "ipython3",
   "version": "3.8.12"
  }
 },
 "nbformat": 4,
 "nbformat_minor": 4
}
