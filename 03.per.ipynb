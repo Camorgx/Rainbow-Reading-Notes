{
 "cells": [
  {
   "cell_type": "markdown",
   "metadata": {},
   "source": [
    "## Configurations for Colab"
   ]
  },
  {
   "cell_type": "code",
   "execution_count": 1,
   "metadata": {
    "ExecuteTime": {
     "end_time": "2023-09-06T05:32:22.379806300Z",
     "start_time": "2023-09-06T05:32:22.333785900Z"
    }
   },
   "outputs": [],
   "source": [
    "import sys\n",
    "IN_COLAB = \"google.colab\" in sys.modules\n",
    "\n",
    "if IN_COLAB:\n",
    "    !apt install python-opengl\n",
    "    !apt install ffmpeg\n",
    "    !apt install xvfb\n",
    "    !pip install PyVirtualDisplay==3.0\n",
    "    !pip install gymnasium==0.28.1\n",
    "    from pyvirtualdisplay import Display\n",
    "    \n",
    "    # Start virtual display\n",
    "    dis = Display(visible=0, size=(400, 400))\n",
    "    dis.start()"
   ]
  },
  {
   "cell_type": "markdown",
   "metadata": {},
   "source": [
    "# 03. Prioritized Experience Replay (PER)\n",
    "\n",
    "[T. Schaul et al., \"Prioritized Experience Replay.\" arXiv preprint arXiv:1511.05952, 2015.](https://arxiv.org/pdf/1511.05952.pdf)\n",
    "\n",
    "Using a replay memory leads to design choices at two levels: which experiences to store, and which experiences to replay (and how to do so). This paper addresses only the latter: making the most effective use of the replay memory for learning, assuming that its contents are outside of our control.\n",
    "\n",
    "The central component of prioritized replay is the criterion by which the importance of each transition is measured. A reasonable approach is to use the magnitude of a transition’s TD error $\\delta$, which indicates how ‘surprising’\n",
    "or unexpected the transition is. This algorithm stores the last encountered TD error along with each transition in the replay memory. The transition with the largest absolute TD error is replayed from the memory. A Q-learning update\n",
    "is applied to this transition, which updates the weights in proportion to the TD error. One thing to note that new transitions arrive without a known TD-error, so it puts them at maximal priority in order to guarantee that all experience is seen at least once. (see *store* method)\n",
    "\n",
    "We might use 2 ideas to deal with TD-error: 1. greedy TD-error prioritization, 2. stochastic prioritization. However, greedy TD-error prioritization has a severe drawback. Greedy prioritization focuses on a small subset of the experience: errors shrink slowly, especially when using function approximation, meaning that the initially high error transitions get replayed frequently. This lack of diversity that makes the system prone to over-fitting. To overcome this issue, we will use a stochastic sampling method that interpolates between pure greedy prioritization and uniform random sampling.\n",
    "\n",
    "$$\n",
    "P(i) = \\frac{p_i^{\\alpha}}{\\sum_k p_k^{\\alpha}}\n",
    "$$\n",
    "\n",
    "where $p_i > 0$ is the priority of transition $i$. The exponent $\\alpha$ determines how much prioritization is used, with $\\alpha = 0$ corresponding to the uniform case. In practice, we use additional term $\\epsilon$ in order to guarantee all transactions can be possibly sampled: $p_i = |\\delta_i| + \\epsilon$, where $\\epsilon$ is a small positive constant.\n",
    "\n",
    "One more. Let's recall one of the main ideas of DQN. To remove correlation of observations, it uses uniformly random sampling from the replay buffer. Prioritized replay introduces bias because it doesn't sample experiences uniformly at random due to the sampling proportion correspoding to TD-error. We can correct this bias by using importance-sampling (IS) weights\n",
    "\n",
    "$$\n",
    "w_i = \\big( \\frac{1}{N} \\cdot \\frac{1}{P(i)} \\big)^\\beta\n",
    "$$\n",
    "\n",
    "that fully compensates for the non-uniform probabilities $P(i)$ if $\\beta = 1$. These weights can be folded into the Q-learning update by using $w_i\\delta_i$ instead of $\\delta_i$. In typical reinforcement learning scenarios, the unbiased nature of the updates is most important near convergence at the end of training, We therefore exploit the flexibility of annealing the amount of importance-sampling correction over time, by defining a schedule on the exponent $\\beta$ that reaches 1 only at the end of learning. "
   ]
  },
  {
   "cell_type": "code",
   "execution_count": 2,
   "metadata": {
    "ExecuteTime": {
     "end_time": "2023-09-06T05:32:23.887845900Z",
     "start_time": "2023-09-06T05:32:22.348824900Z"
    }
   },
   "outputs": [
    {
     "name": "stderr",
     "output_type": "stream",
     "text": [
      "C:\\Users\\18213\\anaconda3\\envs\\Rainbow\\lib\\site-packages\\tqdm\\auto.py:21: TqdmWarning: IProgress not found. Please update jupyter and ipywidgets. See https://ipywidgets.readthedocs.io/en/stable/user_install.html\n",
      "  from .autonotebook import tqdm as notebook_tqdm\n"
     ]
    }
   ],
   "source": [
    "import os\n",
    "import random\n",
    "from typing import Dict, List, Tuple\n",
    "\n",
    "import gymnasium as gym\n",
    "import matplotlib.pyplot as plt\n",
    "import numpy as np\n",
    "import torch\n",
    "import torch.nn as nn\n",
    "import torch.nn.functional as F\n",
    "import torch.optim as optim\n",
    "from IPython.display import clear_output\n",
    "\n",
    "if IN_COLAB and not os.path.exists(\"segment_tree.py\"):\n",
    "    # download segment tree module\n",
    "    !wget https://raw.githubusercontent.com/curt-park/rainbow-is-all-you-need/master/segment_tree.py\n",
    "        \n",
    "from segment_tree import MinSegmentTree, SumSegmentTree"
   ]
  },
  {
   "cell_type": "markdown",
   "metadata": {},
   "source": [
    "## Replay buffer\n",
    "\n",
    "Please see *01.dqn.ipynb* for detailed description."
   ]
  },
  {
   "cell_type": "code",
   "execution_count": 3,
   "metadata": {
    "ExecuteTime": {
     "end_time": "2023-09-06T05:32:23.895826900Z",
     "start_time": "2023-09-06T05:32:23.864826400Z"
    }
   },
   "outputs": [],
   "source": [
    "class ReplayBuffer:\n",
    "    \"\"\"A simple numpy replay buffer.\"\"\"\n",
    "\n",
    "    def __init__(self, obs_dim: int, size: int, batch_size: int = 32):\n",
    "        self.obs_buf = np.zeros([size, obs_dim], dtype=np.float32)\n",
    "        self.next_obs_buf = np.zeros([size, obs_dim], dtype=np.float32)\n",
    "        self.acts_buf = np.zeros([size], dtype=np.float32)\n",
    "        self.rews_buf = np.zeros([size], dtype=np.float32)\n",
    "        self.done_buf = np.zeros(size, dtype=np.float32)\n",
    "        self.max_size, self.batch_size = size, batch_size\n",
    "        self.ptr, self.size, = 0, 0\n",
    "\n",
    "    def store(\n",
    "        self,\n",
    "        obs: np.ndarray,\n",
    "        act: np.ndarray, \n",
    "        rew: float, \n",
    "        next_obs: np.ndarray, \n",
    "        done: bool,\n",
    "    ):\n",
    "        self.obs_buf[self.ptr] = obs\n",
    "        self.next_obs_buf[self.ptr] = next_obs\n",
    "        self.acts_buf[self.ptr] = act\n",
    "        self.rews_buf[self.ptr] = rew\n",
    "        self.done_buf[self.ptr] = done\n",
    "        self.ptr = (self.ptr + 1) % self.max_size\n",
    "        self.size = min(self.size + 1, self.max_size)\n",
    "\n",
    "    def sample_batch(self) -> Dict[str, np.ndarray]:\n",
    "        idxs = np.random.choice(self.size, size=self.batch_size, replace=False)\n",
    "        return dict(obs=self.obs_buf[idxs],\n",
    "                    next_obs=self.next_obs_buf[idxs],\n",
    "                    acts=self.acts_buf[idxs],\n",
    "                    rews=self.rews_buf[idxs],\n",
    "                    done=self.done_buf[idxs])\n",
    "\n",
    "    def __len__(self) -> int:\n",
    "        return self.size"
   ]
  },
  {
   "cell_type": "markdown",
   "metadata": {},
   "source": [
    "## Prioritized replay Buffer\n",
    "\n",
    "The key concept of PER's implementation is *Segment Tree*. It efficiently stores and samples transitions while managing the priorities of them. We recommend you understand how it works before you move on. Here are references for you:\n",
    "\n",
    "- In Korean: https://mrsyee.github.io/rl/2019/01/25/PER-sumtree/\n",
    "- In English: https://www.geeksforgeeks.org/segment-tree-set-1-sum-of-given-range/"
   ]
  },
  {
   "cell_type": "code",
   "execution_count": 4,
   "metadata": {
    "ExecuteTime": {
     "end_time": "2023-09-06T05:32:23.896828Z",
     "start_time": "2023-09-06T05:32:23.880827700Z"
    }
   },
   "outputs": [],
   "source": [
    "class PrioritizedReplayBuffer(ReplayBuffer):\n",
    "    \"\"\"Prioritized Replay buffer.\n",
    "    \n",
    "    Attributes:\n",
    "        max_priority (float): max priority\n",
    "        tree_ptr (int): next index of tree\n",
    "        alpha (float): alpha parameter for prioritized replay buffer\n",
    "        sum_tree (SumSegmentTree): sum tree for prior\n",
    "        min_tree (MinSegmentTree): min tree for min prior to get max weight\n",
    "        \n",
    "    \"\"\"\n",
    "    \n",
    "    def __init__(\n",
    "        self, \n",
    "        obs_dim: int,\n",
    "        size: int, \n",
    "        batch_size: int = 32, \n",
    "        alpha: float = 0.6\n",
    "    ):\n",
    "        \"\"\"Initialization.\"\"\"\n",
    "        assert alpha >= 0\n",
    "        \n",
    "        super(PrioritizedReplayBuffer, self).__init__(obs_dim, size, batch_size)\n",
    "        self.max_priority, self.tree_ptr = 1.0, 0\n",
    "        self.alpha = alpha\n",
    "        \n",
    "        # capacity must be positive and a power of 2.\n",
    "        tree_capacity = 1\n",
    "        while tree_capacity < self.max_size:\n",
    "            tree_capacity *= 2\n",
    "\n",
    "        self.sum_tree = SumSegmentTree(tree_capacity)\n",
    "        self.min_tree = MinSegmentTree(tree_capacity)\n",
    "        \n",
    "    def store(\n",
    "        self, \n",
    "        obs: np.ndarray, \n",
    "        act: int, \n",
    "        rew: float, \n",
    "        next_obs: np.ndarray, \n",
    "        done: bool\n",
    "    ):\n",
    "        \"\"\"Store experience and priority.\"\"\"\n",
    "        super().store(obs, act, rew, next_obs, done)\n",
    "        \n",
    "        # 封装后的线段树可以当作数组进行操作\n",
    "        self.sum_tree[self.tree_ptr] = self.max_priority ** self.alpha\n",
    "        self.min_tree[self.tree_ptr] = self.max_priority ** self.alpha\n",
    "        self.tree_ptr = (self.tree_ptr + 1) % self.max_size\n",
    "\n",
    "    def sample_batch(self, beta: float = 0.4) -> Dict[str, np.ndarray]:\n",
    "        \"\"\"Sample a batch of experiences.\"\"\"\n",
    "        assert len(self) >= self.batch_size\n",
    "        assert beta > 0\n",
    "        \n",
    "        indices = self._sample_proportional()\n",
    "        \n",
    "        obs = self.obs_buf[indices]\n",
    "        next_obs = self.next_obs_buf[indices]\n",
    "        acts = self.acts_buf[indices]\n",
    "        rews = self.rews_buf[indices]\n",
    "        done = self.done_buf[indices]\n",
    "        weights = np.array([self._calculate_weight(i, beta) for i in indices])\n",
    "        \n",
    "        return dict(\n",
    "            obs=obs,\n",
    "            next_obs=next_obs,\n",
    "            acts=acts,\n",
    "            rews=rews,\n",
    "            done=done,\n",
    "            weights=weights,\n",
    "            indices=indices,\n",
    "        )\n",
    "        \n",
    "    def update_priorities(self, indices: List[int], priorities: np.ndarray):\n",
    "        \"\"\"Update priorities of sampled transitions.\"\"\"\n",
    "        assert len(indices) == len(priorities)\n",
    "\n",
    "        for idx, priority in zip(indices, priorities):  # 同步遍历两个 list 的简便写法\n",
    "            assert priority > 0\n",
    "            assert 0 <= idx < len(self)\n",
    "\n",
    "            self.sum_tree[idx] = priority ** self.alpha\n",
    "            self.min_tree[idx] = priority ** self.alpha\n",
    "\n",
    "            self.max_priority = max(self.max_priority, priority)\n",
    "            \n",
    "    def _sample_proportional(self) -> List[int]:\n",
    "        \"\"\"Sample indices based on proportions.\"\"\"\n",
    "        indices = []\n",
    "        p_total = self.sum_tree.sum(0, len(self) - 1)\n",
    "        segment = p_total / self.batch_size\n",
    "        \n",
    "        for i in range(self.batch_size):\n",
    "            a = segment * i\n",
    "            b = segment * (i + 1)\n",
    "            upperbound = random.uniform(a, b)\n",
    "            idx = self.sum_tree.retrieve(upperbound)\n",
    "            indices.append(idx)\n",
    "            \n",
    "        return indices\n",
    "    \n",
    "    def _calculate_weight(self, idx: int, beta: float):\n",
    "        \"\"\"Calculate the weight of the experience at idx.\"\"\"\n",
    "        # get max weight\n",
    "        p_min = self.min_tree.min() / self.sum_tree.sum()\n",
    "        # 这个 len(self) 是不是不需要乘\n",
    "        max_weight = (p_min * len(self)) ** (-beta)\n",
    "        \n",
    "        # calculate weights\n",
    "        p_sample = self.sum_tree[idx] / self.sum_tree.sum()\n",
    "        weight = (p_sample * len(self)) ** (-beta)\n",
    "        # 这一步的除法会把之前乘的 len(self) 消掉\n",
    "        weight = weight / max_weight\n",
    "        \n",
    "        return weight"
   ]
  },
  {
   "cell_type": "markdown",
   "metadata": {},
   "source": [
    "## Network\n",
    "\n",
    "We are going to use a simple network architecture with three fully connected layers and two non-linearity functions (ReLU)."
   ]
  },
  {
   "cell_type": "code",
   "execution_count": 5,
   "metadata": {
    "ExecuteTime": {
     "end_time": "2023-09-06T05:32:23.908828500Z",
     "start_time": "2023-09-06T05:32:23.889829100Z"
    }
   },
   "outputs": [],
   "source": [
    "class Network(nn.Module):\n",
    "    def __init__(self, in_dim: int, out_dim: int):\n",
    "        \"\"\"Initialization.\"\"\"\n",
    "        super(Network, self).__init__()\n",
    "\n",
    "        self.layers = nn.Sequential(\n",
    "            nn.Linear(in_dim, 128), \n",
    "            nn.ReLU(),\n",
    "            nn.Linear(128, 128), \n",
    "            nn.ReLU(), \n",
    "            nn.Linear(128, out_dim)\n",
    "        )\n",
    "\n",
    "    def forward(self, x: torch.Tensor) -> torch.Tensor:\n",
    "        \"\"\"Forward method implementation.\"\"\"\n",
    "        return self.layers(x)"
   ]
  },
  {
   "cell_type": "markdown",
   "metadata": {},
   "source": [
    "## DQN + PER Agent\n",
    "\n",
    "Here is a summary of DQNAgent class.\n",
    "\n",
    "| Method           | Note                                                 |\n",
    "| ---              | ---                                                  |\n",
    "|select_action     | select an action from the input state.               |\n",
    "|step              | take an action and return the response of the env.   |\n",
    "|compute_dqn_loss  | return dqn loss.                                     |\n",
    "|update_model      | update the model by gradient descent.                |\n",
    "|target_hard_update| hard update from the local model to the target model.|\n",
    "|train             | train the agent during num_frames.                   |\n",
    "|test              | test the agent (1 episode).                          |\n",
    "|plot              | plot the training progresses.                        |\n",
    "\n",
    "\n",
    "All differences from pure DQN are noted with comments - PER.\n",
    "\n",
    "#### __init__\n",
    "\n",
    "Here, we use PrioritizedReplayBuffer, instead of ReplayBuffer, and use hold 2 more parameters beta and priority epsilon which are used to calculate weights and new priorities respectively.\n",
    "\n",
    "#### compute_dqn_loss & update_model\n",
    "\n",
    "It returns every loss per each sample for importance sampling before average. After updating the nework, it is necessary to update priorities of all sampled experiences.\n",
    "\n",
    "#### train\n",
    "\n",
    "beta linearly increases to 1 at every training step."
   ]
  },
  {
   "cell_type": "code",
   "execution_count": 6,
   "metadata": {
    "ExecuteTime": {
     "end_time": "2023-09-06T05:32:23.967880300Z",
     "start_time": "2023-09-06T05:32:23.952827700Z"
    }
   },
   "outputs": [],
   "source": [
    "class DQNAgent:\n",
    "    \"\"\"DQN Agent interacting with environment.\n",
    "    \n",
    "    Attribute:\n",
    "        env (gym.Env): openAI Gym environment\n",
    "        memory (ReplayBuffer): replay memory to store transitions\n",
    "        batch_size (int): batch size for sampling\n",
    "        epsilon (float): parameter for epsilon greedy policy\n",
    "        epsilon_decay (float): step size to decrease epsilon\n",
    "        max_epsilon (float): max value of epsilon\n",
    "        min_epsilon (float): min value of epsilon\n",
    "        target_update (int): period for target model's hard update\n",
    "        gamma (float): discount factor\n",
    "        dqn (Network): model to train and select actions\n",
    "        dqn_target (Network): target model to update\n",
    "        optimizer (torch.optim): optimizer for training dqn\n",
    "        transition (list): transition information including \n",
    "                           state, action, reward, next_state, done\n",
    "        beta (float): determines how much importance sampling is used\n",
    "        prior_eps (float): guarantees every transition can be sampled\n",
    "    \"\"\"\n",
    "\n",
    "    def __init__(\n",
    "        self, \n",
    "        env: gym.Env,\n",
    "        memory_size: int,\n",
    "        batch_size: int,\n",
    "        target_update: int,\n",
    "        epsilon_decay: float,\n",
    "        seed: int,\n",
    "        max_epsilon: float = 1.0,\n",
    "        min_epsilon: float = 0.1,\n",
    "        gamma: float = 0.99,\n",
    "        # PER parameters\n",
    "        alpha: float = 0.2,\n",
    "        beta: float = 0.6,\n",
    "        prior_eps: float = 1e-6,\n",
    "    ):\n",
    "        \"\"\"Initialization.\n",
    "        \n",
    "        Args:\n",
    "            env (gym.Env): openAI Gym environment\n",
    "            memory_size (int): length of memory\n",
    "            batch_size (int): batch size for sampling\n",
    "            target_update (int): period for target model's hard update\n",
    "            epsilon_decay (float): step size to decrease epsilon\n",
    "            lr (float): learning rate\n",
    "            max_epsilon (float): max value of epsilon\n",
    "            min_epsilon (float): min value of epsilon\n",
    "            gamma (float): discount factor\n",
    "            alpha (float): determines how much prioritization is used\n",
    "            beta (float): determines how much importance sampling is used\n",
    "            prior_eps (float): guarantees every transition can be sampled\n",
    "        \"\"\"\n",
    "        obs_dim = env.observation_space.shape[0]\n",
    "        action_dim = env.action_space.n\n",
    "        \n",
    "        self.env = env\n",
    "        \n",
    "        self.batch_size = batch_size\n",
    "        self.epsilon = max_epsilon\n",
    "        self.epsilon_decay = epsilon_decay\n",
    "        self.seed = seed\n",
    "        self.max_epsilon = max_epsilon\n",
    "        self.min_epsilon = min_epsilon\n",
    "        self.target_update = target_update\n",
    "        self.gamma = gamma\n",
    "        \n",
    "        # device: cpu / gpu\n",
    "        self.device = torch.device(\n",
    "            \"cuda\" if torch.cuda.is_available() else \"cpu\"\n",
    "        )\n",
    "        print(self.device)\n",
    "        \n",
    "        # PER\n",
    "        # In DQN, We used \"ReplayBuffer(obs_dim, memory_size, batch_size)\"\n",
    "        self.beta = beta\n",
    "        self.prior_eps = prior_eps\n",
    "        self.memory = PrioritizedReplayBuffer(\n",
    "            obs_dim, memory_size, batch_size, alpha\n",
    "        )\n",
    "\n",
    "        # networks: dqn, dqn_target\n",
    "        self.dqn = Network(obs_dim, action_dim).to(self.device)\n",
    "        self.dqn_target = Network(obs_dim, action_dim).to(self.device)\n",
    "        self.dqn_target.load_state_dict(self.dqn.state_dict())\n",
    "        self.dqn_target.eval()\n",
    "        \n",
    "        # optimizer\n",
    "        self.optimizer = optim.Adam(self.dqn.parameters())\n",
    "\n",
    "        # transition to store in memory\n",
    "        self.transition = list()\n",
    "        \n",
    "        # mode: train / test\n",
    "        self.is_test = False\n",
    "\n",
    "    def select_action(self, state: np.ndarray) -> np.ndarray:\n",
    "        \"\"\"Select an action from the input state.\"\"\"\n",
    "        # epsilon greedy policy\n",
    "        if self.epsilon > np.random.random():\n",
    "            selected_action = self.env.action_space.sample()\n",
    "        else:\n",
    "            selected_action = self.dqn(\n",
    "                torch.FloatTensor(state).to(self.device)\n",
    "            ).argmax()\n",
    "            selected_action = selected_action.detach().cpu().numpy()\n",
    "        \n",
    "        if not self.is_test:\n",
    "            self.transition = [state, selected_action]\n",
    "        \n",
    "        return selected_action\n",
    "\n",
    "    def step(self, action: np.ndarray) -> Tuple[np.ndarray, np.float64, bool]:\n",
    "        \"\"\"Take an action and return the response of the env.\"\"\"\n",
    "        next_state, reward, terminated, truncated, _ = self.env.step(action)\n",
    "        done = terminated or truncated\n",
    "\n",
    "        if not self.is_test:\n",
    "            self.transition += [reward, next_state, done]\n",
    "            self.memory.store(*self.transition)\n",
    "    \n",
    "        return next_state, reward, done\n",
    "\n",
    "    def update_model(self) -> torch.Tensor:\n",
    "        \"\"\"Update the model by gradient descent.\"\"\"\n",
    "        # PER needs beta to calculate weights\n",
    "        samples = self.memory.sample_batch(self.beta)\n",
    "        weights = torch.FloatTensor(\n",
    "            samples[\"weights\"].reshape(-1, 1)\n",
    "        ).to(self.device)\n",
    "        indices = samples[\"indices\"]\n",
    "\n",
    "        # PER: importance sampling before average\n",
    "        elementwise_loss = self._compute_dqn_loss(samples)\n",
    "        loss = torch.mean(elementwise_loss * weights)\n",
    "\n",
    "        self.optimizer.zero_grad()\n",
    "        loss.backward()\n",
    "        self.optimizer.step()\n",
    "        \n",
    "        # PER: update priorities\n",
    "        loss_for_prior = elementwise_loss.detach().cpu().numpy()\n",
    "        new_priorities = loss_for_prior + self.prior_eps    # 避免出现零概率\n",
    "        self.memory.update_priorities(indices, new_priorities)\n",
    "\n",
    "        return loss.item()\n",
    "        \n",
    "    def train(self, num_frames: int, plotting_interval: int = 200):\n",
    "        \"\"\"Train the agent.\"\"\"\n",
    "        self.is_test = False\n",
    "        \n",
    "        state, _ = self.env.reset(seed=self.seed)\n",
    "        update_cnt = 0\n",
    "        epsilons = []\n",
    "        losses = []\n",
    "        scores = []\n",
    "        score = 0\n",
    "\n",
    "        for frame_idx in range(1, num_frames + 1):\n",
    "            action = self.select_action(state)\n",
    "            next_state, reward, done = self.step(action)\n",
    "\n",
    "            state = next_state\n",
    "            score += reward\n",
    "            \n",
    "            # PER: increase beta\n",
    "            fraction = min(frame_idx / num_frames, 1.0)\n",
    "            # 只有当训练结束时 beta 才会等于 1\n",
    "            self.beta = self.beta + fraction * (1.0 - self.beta)\n",
    "\n",
    "            # if episode ends\n",
    "            if done:\n",
    "                state, _ = self.env.reset(seed=self.seed)\n",
    "                scores.append(score)\n",
    "                score = 0\n",
    "\n",
    "            # if training is ready\n",
    "            if len(self.memory) >= self.batch_size:\n",
    "                loss = self.update_model()\n",
    "                losses.append(loss)\n",
    "                update_cnt += 1\n",
    "                \n",
    "                # linearly decrease epsilon\n",
    "                self.epsilon = max(\n",
    "                    self.min_epsilon, self.epsilon - (\n",
    "                        self.max_epsilon - self.min_epsilon\n",
    "                    ) * self.epsilon_decay\n",
    "                )\n",
    "                epsilons.append(self.epsilon)\n",
    "                \n",
    "                # if hard update is needed\n",
    "                if update_cnt % self.target_update == 0:\n",
    "                    self._target_hard_update()\n",
    "\n",
    "            # plotting\n",
    "            if frame_idx % plotting_interval == 0:\n",
    "                self._plot(frame_idx, scores, losses, epsilons)\n",
    "                \n",
    "        self.env.close()\n",
    "                \n",
    "    def test(self, video_folder: str) -> None:\n",
    "        \"\"\"Test the agent.\"\"\"\n",
    "        self.is_test = True\n",
    "        \n",
    "        # for recording a video\n",
    "        naive_env = self.env\n",
    "        self.env = gym.wrappers.RecordVideo(self.env, video_folder=video_folder)\n",
    "        \n",
    "        state, _ = self.env.reset(seed=self.seed)\n",
    "        done = False\n",
    "        score = 0\n",
    "        \n",
    "        while not done:\n",
    "            action = self.select_action(state)\n",
    "            next_state, reward, done = self.step(action)\n",
    "\n",
    "            state = next_state\n",
    "            score += reward\n",
    "        \n",
    "        print(\"score: \", score)\n",
    "        self.env.close()\n",
    "        \n",
    "        # reset\n",
    "        self.env = naive_env\n",
    "\n",
    "    def _compute_dqn_loss(self, samples: Dict[str, np.ndarray]) -> torch.Tensor:\n",
    "        \"\"\"Return dqn loss.\"\"\"\n",
    "        device = self.device  # for shortening the following lines\n",
    "        state = torch.FloatTensor(samples[\"obs\"]).to(device)\n",
    "        next_state = torch.FloatTensor(samples[\"next_obs\"]).to(device)\n",
    "        action = torch.LongTensor(samples[\"acts\"].reshape(-1, 1)).to(device)\n",
    "        reward = torch.FloatTensor(samples[\"rews\"].reshape(-1, 1)).to(device)\n",
    "        done = torch.FloatTensor(samples[\"done\"].reshape(-1, 1)).to(device)\n",
    "\n",
    "        # G_t   = r + gamma * v(s_{t+1})  if state != Terminal\n",
    "        #       = r                       otherwise\n",
    "        curr_q_value = self.dqn(state).gather(1, action)\n",
    "        next_q_value = self.dqn_target(\n",
    "            next_state\n",
    "        ).max(dim=1, keepdim=True)[0].detach()\n",
    "        mask = 1 - done\n",
    "        target = (reward + self.gamma * next_q_value * mask).to(self.device)\n",
    "\n",
    "        # calculate element-wise dqn loss\n",
    "        elementwise_loss = F.smooth_l1_loss(curr_q_value, target, reduction=\"none\")\n",
    "\n",
    "        return elementwise_loss\n",
    "    \n",
    "    def _target_hard_update(self):\n",
    "        \"\"\"Hard update: target <- local.\"\"\"\n",
    "        self.dqn_target.load_state_dict(self.dqn.state_dict())\n",
    "                \n",
    "    def _plot(\n",
    "        self, \n",
    "        frame_idx: int, \n",
    "        scores: List[float], \n",
    "        losses: List[float], \n",
    "        epsilons: List[float],\n",
    "    ):\n",
    "        \"\"\"Plot the training progresses.\"\"\"\n",
    "        clear_output(True)\n",
    "        plt.figure(figsize=(20, 5))\n",
    "        plt.subplot(131)\n",
    "        plt.title('frame %s. score: %s' % (frame_idx, np.mean(scores[-10:])))\n",
    "        plt.plot(scores)\n",
    "        plt.subplot(132)\n",
    "        plt.title('loss')\n",
    "        plt.plot(losses)\n",
    "        plt.subplot(133)\n",
    "        plt.title('epsilons')\n",
    "        plt.plot(epsilons)\n",
    "        plt.show()"
   ]
  },
  {
   "cell_type": "markdown",
   "metadata": {},
   "source": [
    "## Environment\n",
    "\n",
    "You can see the [code](https://github.com/Farama-Foundation/Gymnasium/blob/main/gymnasium/envs/classic_control/cartpole.py) and [configurations](https://github.com/Farama-Foundation/Gymnasium/blob/main/gymnasium/envs/classic_control/cartpole.py#L91) of CartPole-v1 from Farama Gymnasium's repository."
   ]
  },
  {
   "cell_type": "code",
   "execution_count": 7,
   "metadata": {
    "ExecuteTime": {
     "end_time": "2023-09-06T05:32:23.982881500Z",
     "start_time": "2023-09-06T05:32:23.968880200Z"
    }
   },
   "outputs": [],
   "source": [
    "# environment\n",
    "env = gym.make(\"CartPole-v1\", max_episode_steps=200, render_mode=\"rgb_array\")"
   ]
  },
  {
   "cell_type": "markdown",
   "metadata": {},
   "source": [
    "## Set random seed"
   ]
  },
  {
   "cell_type": "code",
   "execution_count": 8,
   "metadata": {
    "ExecuteTime": {
     "end_time": "2023-09-06T05:32:24.002880800Z",
     "start_time": "2023-09-06T05:32:23.985881300Z"
    }
   },
   "outputs": [],
   "source": [
    "seed = 777\n",
    "\n",
    "def seed_torch(seed):\n",
    "    torch.manual_seed(seed)\n",
    "    if torch.backends.cudnn.enabled:\n",
    "        torch.cuda.manual_seed(seed)\n",
    "        torch.backends.cudnn.benchmark = False\n",
    "        torch.backends.cudnn.deterministic = True\n",
    "\n",
    "np.random.seed(seed)\n",
    "random.seed(seed)\n",
    "seed_torch(seed)"
   ]
  },
  {
   "cell_type": "markdown",
   "metadata": {},
   "source": [
    "## Initialize"
   ]
  },
  {
   "cell_type": "code",
   "execution_count": 9,
   "metadata": {
    "ExecuteTime": {
     "end_time": "2023-09-06T05:32:24.866323700Z",
     "start_time": "2023-09-06T05:32:23.999880300Z"
    }
   },
   "outputs": [
    {
     "name": "stdout",
     "output_type": "stream",
     "text": [
      "cuda\n"
     ]
    }
   ],
   "source": [
    "# parameters\n",
    "num_frames = 10000\n",
    "memory_size = 1000\n",
    "batch_size = 32\n",
    "target_update = 150\n",
    "epsilon_decay = 1 / 2000\n",
    "\n",
    "# train\n",
    "agent = DQNAgent(env, memory_size, batch_size, target_update, epsilon_decay, seed)"
   ]
  },
  {
   "cell_type": "markdown",
   "metadata": {},
   "source": [
    "## Train"
   ]
  },
  {
   "cell_type": "code",
   "execution_count": 10,
   "metadata": {},
   "outputs": [
    {
     "data": {
      "text/plain": "<Figure size 2000x500 with 3 Axes>",
      "image/png": "[encoded data removed]"
     },
     "metadata": {},
     "output_type": "display_data"
    }
   ],
   "source": [
    "agent.train(num_frames)"
   ]
  },
  {
   "cell_type": "markdown",
   "metadata": {},
   "source": [
    "## Test\n",
    "\n",
    "Run the trained agent (1 episode)."
   ]
  },
  {
   "cell_type": "code",
   "execution_count": 11,
   "metadata": {
    "ExecuteTime": {
     "end_time": "2023-09-06T05:33:17.854242300Z",
     "start_time": "2023-09-06T05:33:16.778285200Z"
    }
   },
   "outputs": [
    {
     "name": "stderr",
     "output_type": "stream",
     "text": [
      "C:\\Users\\18213\\anaconda3\\envs\\Rainbow\\lib\\site-packages\\gymnasium\\wrappers\\record_video.py:87: UserWarning: \u001B[33mWARN: Overwriting existing videos at C:\\Users\\18213\\Source\\Rainbow Reading Notes\\videos\\per folder (try specifying a different `video_folder` for the `RecordVideo` wrapper if this is not desired)\u001B[0m\n",
      "  logger.warn(\n"
     ]
    },
    {
     "name": "stdout",
     "output_type": "stream",
     "text": [
      "Moviepy - Building video C:\\Users\\18213\\Source\\Rainbow Reading Notes\\videos\\per\\rl-video-episode-0.mp4.\n",
      "Moviepy - Writing video C:\\Users\\18213\\Source\\Rainbow Reading Notes\\videos\\per\\rl-video-episode-0.mp4\n"
     ]
    },
    {
     "name": "stderr",
     "output_type": "stream",
     "text": [
      "                                                              "
     ]
    },
    {
     "name": "stdout",
     "output_type": "stream",
     "text": [
      "Moviepy - Done !\n",
      "Moviepy - video ready C:\\Users\\18213\\Source\\Rainbow Reading Notes\\videos\\per\\rl-video-episode-0.mp4\n",
      "score:  122.0\n"
     ]
    },
    {
     "name": "stderr",
     "output_type": "stream",
     "text": [
      "\r"
     ]
    }
   ],
   "source": [
    "video_folder=\"videos/per\"\n",
    "agent.test(video_folder=video_folder)"
   ]
  },
  {
   "cell_type": "markdown",
   "metadata": {},
   "source": [
    "## Render"
   ]
  },
  {
   "cell_type": "code",
   "execution_count": 12,
   "metadata": {
    "ExecuteTime": {
     "end_time": "2023-09-06T05:33:17.897997500Z",
     "start_time": "2023-09-06T05:33:17.858289100Z"
    }
   },
   "outputs": [
    {
     "data": {
      "text/plain": "<IPython.core.display.HTML object>",
      "text/html": "\n        <video width=\"320\" height=\"240\" alt=\"test\" controls>\n        <source src=\"data:video/mp4;base64,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\" type=\"video/mp4\"/>\n        </video>\n        "
     },
     "metadata": {},
     "output_type": "display_data"
    },
    {
     "name": "stdout",
     "output_type": "stream",
     "text": [
      "Played: videos/per\\rl-video-episode-0.mp4\n"
     ]
    }
   ],
   "source": [
    "import base64\n",
    "import glob\n",
    "import io\n",
    "import os\n",
    "\n",
    "from IPython.display import HTML, display\n",
    "\n",
    "\n",
    "def ipython_show_video(path: str) -> None:\n",
    "    \"\"\"Show a video at `path` within IPython Notebook.\"\"\"\n",
    "    if not os.path.isfile(path):\n",
    "        raise NameError(\"Cannot access: {}\".format(path))\n",
    "\n",
    "    video = io.open(path, \"r+b\").read()\n",
    "    encoded = base64.b64encode(video)\n",
    "\n",
    "    display(HTML(\n",
    "        data=\"\"\"\n",
    "        <video width=\"320\" height=\"240\" alt=\"test\" controls>\n",
    "        <source src=\"data:video/mp4;base64,{0}\" type=\"video/mp4\"/>\n",
    "        </video>\n",
    "        \"\"\".format(encoded.decode(\"ascii\"))\n",
    "    ))\n",
    "\n",
    "\n",
    "def show_latest_video(video_folder: str) -> str:\n",
    "    \"\"\"Show the most recently recorded video from video folder.\"\"\"\n",
    "    list_of_files = glob.glob(os.path.join(video_folder, \"*.mp4\"))\n",
    "    latest_file = max(list_of_files, key=os.path.getctime)\n",
    "    ipython_show_video(latest_file)\n",
    "    return latest_file\n",
    "\n",
    "\n",
    "latest_file = show_latest_video(video_folder=video_folder)\n",
    "print(\"Played:\", latest_file)"
   ]
  }
 ],
 "metadata": {
  "kernelspec": {
   "name": "python3",
   "language": "python",
   "display_name": "Python 3 (ipykernel)"
  },
  "language_info": {
   "codemirror_mode": {
    "name": "ipython",
    "version": 3
   },
   "file_extension": ".py",
   "mimetype": "text/x-python",
   "name": "python",
   "nbconvert_exporter": "python",
   "pygments_lexer": "ipython3",
   "version": "3.8.12"
  }
 },
 "nbformat": 4,
 "nbformat_minor": 4
}
