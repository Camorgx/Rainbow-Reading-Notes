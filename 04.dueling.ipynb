{
 "cells": [
  {
   "cell_type": "markdown",
   "metadata": {},
   "source": [
    "## Configurations for Colab"
   ]
  },
  {
   "cell_type": "code",
   "execution_count": 2,
   "metadata": {
    "ExecuteTime": {
     "end_time": "2023-09-03T07:16:59.111586300Z",
     "start_time": "2023-09-03T07:16:59.107586200Z"
    }
   },
   "outputs": [],
   "source": [
    "import sys\n",
    "IN_COLAB = \"google.colab\" in sys.modules\n",
    "\n",
    "if IN_COLAB:\n",
    "    !apt install python-opengl\n",
    "    !apt install ffmpeg\n",
    "    !apt install xvfb\n",
    "    !pip install PyVirtualDisplay==3.0\n",
    "    !pip install gymnasium==0.28.1\n",
    "    from pyvirtualdisplay import Display\n",
    "    \n",
    "    # Start virtual display\n",
    "    dis = Display(visible=0, size=(400, 400))\n",
    "    dis.start()"
   ]
  },
  {
   "cell_type": "markdown",
   "metadata": {},
   "source": [
    "# 04. Dueling Network\n",
    "\n",
    "[Z. Wang et al., \"Dueling Network Architectures for Deep Reinforcement Learning.\" arXiv preprint arXiv:1511.06581, 2015.](https://arxiv.org/pdf/1511.06581.pdf)\n",
    "\n",
    "The proposed network architecture, which is named *dueling architecture*, explicitly separates the representation of state values and (state-dependent) action advantages. \n",
    "\n",
    "![fig1](https://user-images.githubusercontent.com/14961526/60322956-c2f0b600-99bb-11e9-9ed4-443bd14bc3b0.png)\n",
    "\n",
    "The dueling network automatically produces separate estimates of the state value function and advantage function, without any extra supervision. Intuitively, the dueling architecture can learn which states are (or are not) valuable, without having to learn the effect of each action for each state. This is particularly useful in states where its actions do not affect the environment in any relevant way. \n",
    "\n",
    "The dueling architecture represents both the value $V(s)$ and advantage $A(s, a)$ functions with a single deep model whose output combines the two to produce a state-action value $Q(s, a)$. Unlike in advantage updating, the representation and algorithm are decoupled by construction.\n",
    "\n",
    "$$A^\\pi (s, a) = Q^\\pi (s, a) - V^\\pi (s).$$\n",
    "\n",
    "The value function $V$ measures the how good it is to be in a particular state $s$. The $Q$ function, however, measures the the value of choosing a particular action when in this state. Now, using the definition of advantage, we might be tempted to construct the aggregating module as follows:\n",
    "\n",
    "$$Q(s, a; \\theta, \\alpha, \\beta) = V (s; \\theta, \\beta) + A(s, a; \\theta, \\alpha),$$\n",
    "\n",
    "where $\\theta$ denotes the parameters of the convolutional layers, while $\\alpha$ and $\\beta$ are the parameters of the two streams of fully-connected layers.\n",
    "\n",
    "Unfortunately, the above equation is unidentifiable in the sense that given $Q$ we cannot recover $V$ and $A$ uniquely; for example, there are uncountable pairs of $V$ and $A$ that make $Q$ values to zero. To address this issue of identifiability, we can force the advantage function estimator to have zero advantage at the chosen action. That is, we let the last module of the network implement the forward mapping.\n",
    "\n",
    "$$\n",
    "Q(s, a; \\theta, \\alpha, \\beta) = V (s; \\theta, \\beta) + \\big( A(s, a; \\theta, \\alpha) - \\max_{a' \\in |\\mathcal{A}|} A(s, a'; \\theta, \\alpha) \\big).\n",
    "$$\n",
    "\n",
    "This formula guarantees that we can recover the unique $V$ and $A$, but the optimization is not so stable because the advantages have to compensate any change to the optimal action’s advantage. Due to the reason, an alternative module that replaces the max operator with an average is proposed:\n",
    "\n",
    "$$\n",
    "Q(s, a; \\theta, \\alpha, \\beta) = V (s; \\theta, \\beta) + \\big( A(s, a; \\theta, \\alpha) - \\frac{1}{|\\mathcal{A}|} \\sum_{a'} A(s, a'; \\theta, \\alpha) \\big).\n",
    "$$\n",
    "\n",
    "Unlike the max advantage form, in this formula, the advantages only need to change as fast as the mean, so it increases the stability of optimization."
   ]
  },
  {
   "cell_type": "code",
   "execution_count": 3,
   "metadata": {
    "ExecuteTime": {
     "end_time": "2023-09-03T07:17:36.033337600Z",
     "start_time": "2023-09-03T07:17:34.388877100Z"
    }
   },
   "outputs": [
    {
     "name": "stderr",
     "output_type": "stream",
     "text": [
      "C:\\Users\\18213\\anaconda3\\envs\\Rainbow\\lib\\site-packages\\tqdm\\auto.py:21: TqdmWarning: IProgress not found. Please update jupyter and ipywidgets. See https://ipywidgets.readthedocs.io/en/stable/user_install.html\n",
      "  from .autonotebook import tqdm as notebook_tqdm\n"
     ]
    }
   ],
   "source": [
    "import os\n",
    "from typing import Dict, List, Tuple\n",
    "\n",
    "import gymnasium as gym\n",
    "import matplotlib.pyplot as plt\n",
    "import numpy as np\n",
    "import torch\n",
    "import torch.nn as nn\n",
    "import torch.nn.functional as F\n",
    "import torch.optim as optim\n",
    "from IPython.display import clear_output\n",
    "from torch.nn.utils import clip_grad_norm_"
   ]
  },
  {
   "cell_type": "markdown",
   "metadata": {},
   "source": [
    "## Replay buffer\n",
    "\n",
    "Please see *01.dqn.ipynb* for detailed description."
   ]
  },
  {
   "cell_type": "code",
   "execution_count": 4,
   "metadata": {
    "ExecuteTime": {
     "end_time": "2023-09-03T07:17:58.153719100Z",
     "start_time": "2023-09-03T07:17:58.145714200Z"
    }
   },
   "outputs": [],
   "source": [
    "class ReplayBuffer:\n",
    "    \"\"\"A simple numpy replay buffer.\"\"\"\n",
    "\n",
    "    def __init__(self, obs_dim: int, size: int, batch_size: int = 32):\n",
    "        self.obs_buf = np.zeros([size, obs_dim], dtype=np.float32)\n",
    "        self.next_obs_buf = np.zeros([size, obs_dim], dtype=np.float32)\n",
    "        self.acts_buf = np.zeros([size], dtype=np.float32)\n",
    "        self.rews_buf = np.zeros([size], dtype=np.float32)\n",
    "        self.done_buf = np.zeros(size, dtype=np.float32)\n",
    "        self.max_size, self.batch_size = size, batch_size\n",
    "        self.ptr, self.size, = 0, 0\n",
    "\n",
    "    def store(\n",
    "        self,\n",
    "        obs: np.ndarray,\n",
    "        act: np.ndarray, \n",
    "        rew: float, \n",
    "        next_obs: np.ndarray, \n",
    "        done: bool,\n",
    "    ):\n",
    "        self.obs_buf[self.ptr] = obs\n",
    "        self.next_obs_buf[self.ptr] = next_obs\n",
    "        self.acts_buf[self.ptr] = act\n",
    "        self.rews_buf[self.ptr] = rew\n",
    "        self.done_buf[self.ptr] = done\n",
    "        self.ptr = (self.ptr + 1) % self.max_size\n",
    "        self.size = min(self.size + 1, self.max_size)\n",
    "\n",
    "    def sample_batch(self) -> Dict[str, np.ndarray]:\n",
    "        idxs = np.random.choice(self.size, size=self.batch_size, replace=False)\n",
    "        return dict(obs=self.obs_buf[idxs],\n",
    "                    next_obs=self.next_obs_buf[idxs],\n",
    "                    acts=self.acts_buf[idxs],\n",
    "                    rews=self.rews_buf[idxs],\n",
    "                    done=self.done_buf[idxs])\n",
    "\n",
    "    def __len__(self) -> int:\n",
    "        return self.size"
   ]
  },
  {
   "cell_type": "markdown",
   "metadata": {},
   "source": [
    "## Dueling Network\n",
    "\n",
    "Carefully take a look at advantage and value layers separated from feature layer."
   ]
  },
  {
   "cell_type": "code",
   "execution_count": 5,
   "metadata": {
    "ExecuteTime": {
     "end_time": "2023-09-03T07:22:51.243862700Z",
     "start_time": "2023-09-03T07:22:51.225348200Z"
    }
   },
   "outputs": [],
   "source": [
    "class Network(nn.Module):\n",
    "    def __init__(self, in_dim: int, out_dim: int):\n",
    "        \"\"\"Initialization.\"\"\"\n",
    "        super(Network, self).__init__()\n",
    "\n",
    "        # set common feature layer\n",
    "        self.feature_layer = nn.Sequential(\n",
    "            nn.Linear(in_dim, 128), \n",
    "            nn.ReLU(),\n",
    "        )\n",
    "        \n",
    "        # 原来是直接使用三个线性层得到模型的输出\n",
    "        \n",
    "        # set advantage layer\n",
    "        self.advantage_layer = nn.Sequential(\n",
    "            nn.Linear(128, 128),\n",
    "            nn.ReLU(),\n",
    "            nn.Linear(128, out_dim),\n",
    "        )\n",
    "\n",
    "        # set value layer\n",
    "        self.value_layer = nn.Sequential(\n",
    "            nn.Linear(128, 128),\n",
    "            nn.ReLU(),\n",
    "            nn.Linear(128, 1),\n",
    "        )\n",
    "\n",
    "    def forward(self, x: torch.Tensor) -> torch.Tensor:\n",
    "        \"\"\"Forward method implementation.\"\"\"\n",
    "        feature = self.feature_layer(x)\n",
    "        \n",
    "        value = self.value_layer(feature)\n",
    "        advantage = self.advantage_layer(feature)\n",
    "\n",
    "        # 现在将模型的两个部分得到的输出分别求出，作为模型的输出\n",
    "        q = value + advantage - advantage.mean(dim=-1, keepdim=True)\n",
    "        \n",
    "        return q"
   ]
  },
  {
   "cell_type": "markdown",
   "metadata": {},
   "source": [
    "## DQN + DuelingNet Agent (w/o Double-DQN & PER)\n",
    "\n",
    "Here is a summary of DQNAgent class.\n",
    "\n",
    "| Method           | Note                                                 |\n",
    "| ---              | ---                                                  |\n",
    "|select_action     | select an action from the input state.               |\n",
    "|step              | take an action and return the response of the env.   |\n",
    "|compute_dqn_loss  | return dqn loss.                                     |\n",
    "|update_model      | update the model by gradient descent.                |\n",
    "|target_hard_update| hard update from the local model to the target model.|\n",
    "|train             | train the agent during num_frames.                   |\n",
    "|test              | test the agent (1 episode).                          |\n",
    "|plot              | plot the training progresses.                        |\n",
    "\n",
    "\n",
    "Aside from the dueling network architecture, the authors suggest to use Double-DQN and Prioritized Experience Replay as extra components for better performance. However, we don't implement them to simplify the tutorial. There is only one diffrence between DQNAgent here and the one from *01.dqn.ipynb* and that is the usage of clip_grad_norm_ to prevent gradient exploding."
   ]
  },
  {
   "cell_type": "code",
   "execution_count": 6,
   "metadata": {
    "ExecuteTime": {
     "end_time": "2023-09-03T07:26:40.009125400Z",
     "start_time": "2023-09-03T07:26:39.991928700Z"
    }
   },
   "outputs": [],
   "source": [
    "class DQNAgent:\n",
    "    \"\"\"DQN Agent interacting with environment.\n",
    "    \n",
    "    Attribute:\n",
    "        env (gym.Env): openAI Gym environment\n",
    "        memory (ReplayBuffer): replay memory to store transitions\n",
    "        batch_size (int): batch size for sampling\n",
    "        epsilon (float): parameter for epsilon greedy policy\n",
    "        epsilon_decay (float): step size to decrease epsilon\n",
    "        max_epsilon (float): max value of epsilon\n",
    "        min_epsilon (float): min value of epsilon\n",
    "        target_update (int): period for target model's hard update\n",
    "        gamma (float): discount factor\n",
    "        dqn (Network): model to train and select actions\n",
    "        dqn_target (Network): target model to update\n",
    "        optimizer (torch.optim): optimizer for training dqn\n",
    "        transition (list): transition information including\n",
    "                           state, action, reward, next_state, done\n",
    "    \"\"\"\n",
    "\n",
    "    def __init__(\n",
    "        self, \n",
    "        env: gym.Env,\n",
    "        memory_size: int,\n",
    "        batch_size: int,\n",
    "        target_update: int,\n",
    "        epsilon_decay: float,\n",
    "        seed: int,\n",
    "        max_epsilon: float = 1.0,\n",
    "        min_epsilon: float = 0.1,\n",
    "        gamma: float = 0.99,\n",
    "    ):\n",
    "        \"\"\"Initialization.\n",
    "        \n",
    "        Args:\n",
    "            env (gym.Env): openAI Gym environment\n",
    "            memory_size (int): length of memory\n",
    "            batch_size (int): batch size for sampling\n",
    "            target_update (int): period for target model's hard update\n",
    "            epsilon_decay (float): step size to decrease epsilon\n",
    "            lr (float): learning rate\n",
    "            max_epsilon (float): max value of epsilon\n",
    "            min_epsilon (float): min value of epsilon\n",
    "            gamma (float): discount factor\n",
    "        \"\"\"\n",
    "        obs_dim = env.observation_space.shape[0]\n",
    "        action_dim = env.action_space.n\n",
    "        \n",
    "        self.env = env\n",
    "        self.memory = ReplayBuffer(obs_dim, memory_size, batch_size)\n",
    "        self.batch_size = batch_size\n",
    "        self.epsilon = max_epsilon\n",
    "        self.epsilon_decay = epsilon_decay\n",
    "        self.seed = seed\n",
    "        self.max_epsilon = max_epsilon\n",
    "        self.min_epsilon = min_epsilon\n",
    "        self.target_update = target_update\n",
    "        self.gamma = gamma\n",
    "        \n",
    "        # device: cpu / gpu\n",
    "        self.device = torch.device(\n",
    "            \"cuda\" if torch.cuda.is_available() else \"cpu\"\n",
    "        )\n",
    "        print(self.device)\n",
    "\n",
    "        # networks: dqn, dqn_target\n",
    "        self.dqn = Network(obs_dim, action_dim).to(self.device)\n",
    "        self.dqn_target = Network(obs_dim, action_dim).to(self.device)\n",
    "        self.dqn_target.load_state_dict(self.dqn.state_dict())\n",
    "        self.dqn_target.eval()\n",
    "        \n",
    "        # optimizer\n",
    "        self.optimizer = optim.Adam(self.dqn.parameters())\n",
    "\n",
    "        # transition to store in memory\n",
    "        self.transition = list()\n",
    "        \n",
    "        # mode: train / test\n",
    "        self.is_test = False\n",
    "\n",
    "    def select_action(self, state: np.ndarray) -> np.ndarray:\n",
    "        \"\"\"Select an action from the input state.\"\"\"\n",
    "        # epsilon greedy policy\n",
    "        if self.epsilon > np.random.random():\n",
    "            selected_action = self.env.action_space.sample()\n",
    "        else:\n",
    "            selected_action = self.dqn(\n",
    "                torch.FloatTensor(state).to(self.device)\n",
    "            ).argmax()\n",
    "            selected_action = selected_action.detach().cpu().numpy()\n",
    "        \n",
    "        if not self.is_test:\n",
    "            self.transition = [state, selected_action]\n",
    "        \n",
    "        return selected_action\n",
    "\n",
    "    def step(self, action: np.ndarray) -> Tuple[np.ndarray, np.float64, bool]:\n",
    "        \"\"\"Take an action and return the response of the env.\"\"\"\n",
    "        next_state, reward, terminated, truncated, _ = self.env.step(action)\n",
    "        done = terminated or truncated\n",
    "        \n",
    "        if not self.is_test:\n",
    "            self.transition += [reward, next_state, done]\n",
    "            self.memory.store(*self.transition)\n",
    "    \n",
    "        return next_state, reward, done\n",
    "\n",
    "    def update_model(self) -> torch.Tensor:\n",
    "        \"\"\"Update the model by gradient descent.\"\"\"\n",
    "        samples = self.memory.sample_batch()\n",
    "\n",
    "        loss = self._compute_dqn_loss(samples)\n",
    "\n",
    "        self.optimizer.zero_grad()\n",
    "        loss.backward()\n",
    "        # DuelingNet: we clip the gradients to have their norm less than or equal to 10.\n",
    "        clip_grad_norm_(self.dqn.parameters(), 10.0)\n",
    "        self.optimizer.step()\n",
    "\n",
    "        return loss.item()\n",
    "        \n",
    "    def train(self, num_frames: int, plotting_interval: int = 200):\n",
    "        \"\"\"Train the agent.\"\"\"\n",
    "        self.is_test = False\n",
    "        \n",
    "        state, _ = self.env.reset(seed=self.seed)\n",
    "        update_cnt = 0\n",
    "        epsilons = []\n",
    "        losses = []\n",
    "        scores = []\n",
    "        score = 0\n",
    "\n",
    "        for frame_idx in range(1, num_frames + 1):\n",
    "            action = self.select_action(state)\n",
    "            next_state, reward, done = self.step(action)\n",
    "\n",
    "            state = next_state\n",
    "            score += reward\n",
    "\n",
    "            # if episode ends\n",
    "            if done:\n",
    "                state, _ = self.env.reset(seed=self.seed)\n",
    "                scores.append(score)\n",
    "                score = 0\n",
    "\n",
    "            # if training is ready\n",
    "            if len(self.memory) >= self.batch_size:\n",
    "                loss = self.update_model()\n",
    "                losses.append(loss)\n",
    "                update_cnt += 1\n",
    "                \n",
    "                # linearly decrease epsilon\n",
    "                self.epsilon = max(\n",
    "                    self.min_epsilon, self.epsilon - (\n",
    "                        self.max_epsilon - self.min_epsilon\n",
    "                    ) * self.epsilon_decay\n",
    "                )\n",
    "                epsilons.append(self.epsilon)\n",
    "                \n",
    "                # if hard update is needed\n",
    "                if update_cnt % self.target_update == 0:\n",
    "                    self._target_hard_update()\n",
    "\n",
    "            # plotting\n",
    "            if frame_idx % plotting_interval == 0:\n",
    "                self._plot(frame_idx, scores, losses, epsilons)\n",
    "                \n",
    "        self.env.close()\n",
    "                \n",
    "    def test(self, video_folder: str) -> None:\n",
    "        \"\"\"Test the agent.\"\"\"\n",
    "        self.is_test = True\n",
    "        \n",
    "        # for recording a video\n",
    "        naive_env = self.env\n",
    "        self.env = gym.wrappers.RecordVideo(self.env, video_folder=video_folder)\n",
    "        \n",
    "        state, _ = self.env.reset(seed=self.seed)\n",
    "        done = False\n",
    "        score = 0\n",
    "        \n",
    "        while not done:\n",
    "            action = self.select_action(state)\n",
    "            next_state, reward, done = self.step(action)\n",
    "\n",
    "            state = next_state\n",
    "            score += reward\n",
    "        \n",
    "        print(\"score: \", score)\n",
    "        self.env.close()\n",
    "        \n",
    "        # reset\n",
    "        self.env = naive_env\n",
    "\n",
    "    def _compute_dqn_loss(self, samples: Dict[str, np.ndarray]) -> torch.Tensor:\n",
    "        \"\"\"Return dqn loss.\"\"\"\n",
    "        device = self.device  # for shortening the following lines\n",
    "        state = torch.FloatTensor(samples[\"obs\"]).to(device)\n",
    "        next_state = torch.FloatTensor(samples[\"next_obs\"]).to(device)\n",
    "        action = torch.LongTensor(samples[\"acts\"].reshape(-1, 1)).to(device)\n",
    "        reward = torch.FloatTensor(samples[\"rews\"].reshape(-1, 1)).to(device)\n",
    "        done = torch.FloatTensor(samples[\"done\"].reshape(-1, 1)).to(device)\n",
    "\n",
    "        # G_t   = r + gamma * v(s_{t+1})  if state != Terminal\n",
    "        #       = r                       otherwise\n",
    "        curr_q_value = self.dqn(state).gather(1, action)\n",
    "        next_q_value = self.dqn_target(next_state).max(\n",
    "            dim=1, keepdim=True\n",
    "        )[0].detach()\n",
    "        mask = 1 - done\n",
    "        target = (reward + self.gamma * next_q_value * mask).to(self.device)\n",
    "\n",
    "        # calculate dqn loss\n",
    "        loss = F.smooth_l1_loss(curr_q_value, target)\n",
    "\n",
    "        return loss\n",
    "\n",
    "    def _target_hard_update(self):\n",
    "        \"\"\"Hard update: target <- local.\"\"\"\n",
    "        self.dqn_target.load_state_dict(self.dqn.state_dict())\n",
    "                \n",
    "    def _plot(\n",
    "        self, \n",
    "        frame_idx: int, \n",
    "        scores: List[float], \n",
    "        losses: List[float], \n",
    "        epsilons: List[float],\n",
    "    ):\n",
    "        \"\"\"Plot the training progresses.\"\"\"\n",
    "        clear_output(True)\n",
    "        plt.figure(figsize=(20, 5))\n",
    "        plt.subplot(131)\n",
    "        plt.title('frame %s. score: %s' % (frame_idx, np.mean(scores[-10:])))\n",
    "        plt.plot(scores)\n",
    "        plt.subplot(132)\n",
    "        plt.title('loss')\n",
    "        plt.plot(losses)\n",
    "        plt.subplot(133)\n",
    "        plt.title('epsilons')\n",
    "        plt.plot(epsilons)\n",
    "        plt.show()"
   ]
  },
  {
   "cell_type": "markdown",
   "metadata": {},
   "source": [
    "## Environment\n",
    "\n",
    "You can see the [code](https://github.com/Farama-Foundation/Gymnasium/blob/main/gymnasium/envs/classic_control/cartpole.py) and [configurations](https://github.com/Farama-Foundation/Gymnasium/blob/main/gymnasium/envs/classic_control/cartpole.py#L91) of CartPole-v1 from Farama Gymnasium's repository."
   ]
  },
  {
   "cell_type": "code",
   "execution_count": 7,
   "metadata": {
    "ExecuteTime": {
     "end_time": "2023-09-03T07:26:42.175569400Z",
     "start_time": "2023-09-03T07:26:42.160596500Z"
    }
   },
   "outputs": [],
   "source": [
    "# environment\n",
    "env = gym.make(\"CartPole-v1\", max_episode_steps=200, render_mode=\"rgb_array\")"
   ]
  },
  {
   "cell_type": "markdown",
   "metadata": {},
   "source": [
    "## Set random seed"
   ]
  },
  {
   "cell_type": "code",
   "execution_count": 8,
   "metadata": {
    "ExecuteTime": {
     "end_time": "2023-09-03T07:26:43.613027400Z",
     "start_time": "2023-09-03T07:26:43.597479800Z"
    }
   },
   "outputs": [],
   "source": [
    "seed = 777\n",
    "\n",
    "def seed_torch(seed):\n",
    "    torch.manual_seed(seed)\n",
    "    if torch.backends.cudnn.enabled:\n",
    "        torch.cuda.manual_seed(seed)\n",
    "        torch.backends.cudnn.benchmark = False\n",
    "        torch.backends.cudnn.deterministic = True\n",
    "\n",
    "np.random.seed(seed)\n",
    "seed_torch(seed)"
   ]
  },
  {
   "cell_type": "markdown",
   "metadata": {},
   "source": [
    "## Initialize"
   ]
  },
  {
   "cell_type": "code",
   "execution_count": 9,
   "metadata": {
    "ExecuteTime": {
     "end_time": "2023-09-03T07:26:46.463675600Z",
     "start_time": "2023-09-03T07:26:44.800172Z"
    }
   },
   "outputs": [
    {
     "name": "stdout",
     "output_type": "stream",
     "text": [
      "cuda\n"
     ]
    }
   ],
   "source": [
    "# parameters\n",
    "num_frames = 10000\n",
    "memory_size = 1000\n",
    "batch_size = 32\n",
    "target_update = 100\n",
    "epsilon_decay = 1 / 2000\n",
    "\n",
    "# train\n",
    "agent = DQNAgent(env, memory_size, batch_size, target_update, epsilon_decay, seed)"
   ]
  },
  {
   "cell_type": "markdown",
   "metadata": {},
   "source": [
    "## Train"
   ]
  },
  {
   "cell_type": "code",
   "execution_count": 10,
   "metadata": {},
   "outputs": [
    {
     "data": {
      "text/plain": "<Figure size 2000x500 with 3 Axes>",
      "image/png": "[encoded data removed]"
     },
     "metadata": {},
     "output_type": "display_data"
    }
   ],
   "source": [
    "agent.train(num_frames)"
   ]
  },
  {
   "cell_type": "markdown",
   "metadata": {},
   "source": [
    "## Test\n",
    "\n",
    "Run the trained agent (1 episode)."
   ]
  },
  {
   "cell_type": "code",
   "execution_count": 11,
   "metadata": {
    "ExecuteTime": {
     "end_time": "2023-09-03T07:28:05.965618800Z",
     "start_time": "2023-09-03T07:28:01.363437800Z"
    }
   },
   "outputs": [
    {
     "name": "stdout",
     "output_type": "stream",
     "text": [
      "Moviepy - Building video C:\\Users\\18213\\Source\\Rainbow Reading Notes\\videos\\dueling\\rl-video-episode-0.mp4.\n",
      "Moviepy - Writing video C:\\Users\\18213\\Source\\Rainbow Reading Notes\\videos\\dueling\\rl-video-episode-0.mp4\n"
     ]
    },
    {
     "name": "stderr",
     "output_type": "stream",
     "text": [
      "                                                             "
     ]
    },
    {
     "name": "stdout",
     "output_type": "stream",
     "text": [
      "Moviepy - Done !\n",
      "Moviepy - video ready C:\\Users\\18213\\Source\\Rainbow Reading Notes\\videos\\dueling\\rl-video-episode-0.mp4\n"
     ]
    },
    {
     "name": "stderr",
     "output_type": "stream",
     "text": [
      "\r"
     ]
    },
    {
     "name": "stdout",
     "output_type": "stream",
     "text": [
      "score:  91.0\n"
     ]
    }
   ],
   "source": [
    "video_folder=\"videos/dueling\"\n",
    "agent.test(video_folder=video_folder)"
   ]
  },
  {
   "cell_type": "markdown",
   "metadata": {},
   "source": [
    "## Render"
   ]
  },
  {
   "cell_type": "code",
   "execution_count": 12,
   "metadata": {
    "ExecuteTime": {
     "end_time": "2023-09-03T07:28:17.983836900Z",
     "start_time": "2023-09-03T07:28:17.970284Z"
    }
   },
   "outputs": [
    {
     "data": {
      "text/plain": "<IPython.core.display.HTML object>",
      "text/html": "\n        <video width=\"320\" height=\"240\" alt=\"test\" controls>\n        <source src=\"data:video/mp4;base64,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\" type=\"video/mp4\"/>\n        </video>\n        "
     },
     "metadata": {},
     "output_type": "display_data"
    },
    {
     "name": "stdout",
     "output_type": "stream",
     "text": [
      "Played: videos/dueling\\rl-video-episode-0.mp4\n"
     ]
    }
   ],
   "source": [
    "import base64\n",
    "import glob\n",
    "import io\n",
    "import os\n",
    "\n",
    "from IPython.display import HTML, display\n",
    "\n",
    "\n",
    "def ipython_show_video(path: str) -> None:\n",
    "    \"\"\"Show a video at `path` within IPython Notebook.\"\"\"\n",
    "    if not os.path.isfile(path):\n",
    "        raise NameError(\"Cannot access: {}\".format(path))\n",
    "\n",
    "    video = io.open(path, \"r+b\").read()\n",
    "    encoded = base64.b64encode(video)\n",
    "\n",
    "    display(HTML(\n",
    "        data=\"\"\"\n",
    "        <video width=\"320\" height=\"240\" alt=\"test\" controls>\n",
    "        <source src=\"data:video/mp4;base64,{0}\" type=\"video/mp4\"/>\n",
    "        </video>\n",
    "        \"\"\".format(encoded.decode(\"ascii\"))\n",
    "    ))\n",
    "\n",
    "\n",
    "def show_latest_video(video_folder: str) -> str:\n",
    "    \"\"\"Show the most recently recorded video from video folder.\"\"\"\n",
    "    list_of_files = glob.glob(os.path.join(video_folder, \"*.mp4\"))\n",
    "    latest_file = max(list_of_files, key=os.path.getctime)\n",
    "    ipython_show_video(latest_file)\n",
    "    return latest_file\n",
    "\n",
    "\n",
    "latest_file = show_latest_video(video_folder=video_folder)\n",
    "print(\"Played:\", latest_file)"
   ]
  }
 ],
 "metadata": {
  "kernelspec": {
   "display_name": "rainbow-is-all-you-need",
   "language": "python",
   "name": "rainbow-is-all-you-need"
  },
  "language_info": {
   "codemirror_mode": {
    "name": "ipython",
    "version": 3
   },
   "file_extension": ".py",
   "mimetype": "text/x-python",
   "name": "python",
   "nbconvert_exporter": "python",
   "pygments_lexer": "ipython3",
   "version": "3.8.12"
  }
 },
 "nbformat": 4,
 "nbformat_minor": 4
}
