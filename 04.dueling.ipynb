{
 "cells": [
  {
   "cell_type": "markdown",
   "metadata": {},
   "source": [
    "## Configurations for Colab"
   ]
  },
  {
   "cell_type": "code",
   "execution_count": 1,
   "metadata": {
    "ExecuteTime": {
     "end_time": "2023-09-06T05:33:48.400812400Z",
     "start_time": "2023-09-06T05:33:48.378812700Z"
    }
   },
   "outputs": [],
   "source": [
    "import sys\n",
    "IN_COLAB = \"google.colab\" in sys.modules\n",
    "\n",
    "if IN_COLAB:\n",
    "    !apt install python-opengl\n",
    "    !apt install ffmpeg\n",
    "    !apt install xvfb\n",
    "    !pip install PyVirtualDisplay==3.0\n",
    "    !pip install gymnasium==0.28.1\n",
    "    from pyvirtualdisplay import Display\n",
    "    \n",
    "    # Start virtual display\n",
    "    dis = Display(visible=0, size=(400, 400))\n",
    "    dis.start()"
   ]
  },
  {
   "cell_type": "markdown",
   "metadata": {},
   "source": [
    "# 04. Dueling Network\n",
    "\n",
    "[Z. Wang et al., \"Dueling Network Architectures for Deep Reinforcement Learning.\" arXiv preprint arXiv:1511.06581, 2015.](https://arxiv.org/pdf/1511.06581.pdf)\n",
    "\n",
    "The proposed network architecture, which is named *dueling architecture*, explicitly separates the representation of state values and (state-dependent) action advantages. \n",
    "\n",
    "![fig1](https://user-images.githubusercontent.com/14961526/60322956-c2f0b600-99bb-11e9-9ed4-443bd14bc3b0.png)\n",
    "\n",
    "The dueling network automatically produces separate estimates of the state value function and advantage function, without any extra supervision. Intuitively, the dueling architecture can learn which states are (or are not) valuable, without having to learn the effect of each action for each state. This is particularly useful in states where its actions do not affect the environment in any relevant way. \n",
    "\n",
    "The dueling architecture represents both the value $V(s)$ and advantage $A(s, a)$ functions with a single deep model whose output combines the two to produce a state-action value $Q(s, a)$. Unlike in advantage updating, the representation and algorithm are decoupled by construction.\n",
    "\n",
    "$$A^\\pi (s, a) = Q^\\pi (s, a) - V^\\pi (s).$$\n",
    "\n",
    "The value function $V$ measures the how good it is to be in a particular state $s$. The $Q$ function, however, measures the the value of choosing a particular action when in this state. Now, using the definition of advantage, we might be tempted to construct the aggregating module as follows:\n",
    "\n",
    "$$Q(s, a; \\theta, \\alpha, \\beta) = V (s; \\theta, \\beta) + A(s, a; \\theta, \\alpha),$$\n",
    "\n",
    "where $\\theta$ denotes the parameters of the convolutional layers, while $\\alpha$ and $\\beta$ are the parameters of the two streams of fully-connected layers.\n",
    "\n",
    "Unfortunately, the above equation is unidentifiable in the sense that given $Q$ we cannot recover $V$ and $A$ uniquely; for example, there are uncountable pairs of $V$ and $A$ that make $Q$ values to zero. To address this issue of identifiability, we can force the advantage function estimator to have zero advantage at the chosen action. That is, we let the last module of the network implement the forward mapping.\n",
    "\n",
    "$$\n",
    "Q(s, a; \\theta, \\alpha, \\beta) = V (s; \\theta, \\beta) + \\big( A(s, a; \\theta, \\alpha) - \\max_{a' \\in |\\mathcal{A}|} A(s, a'; \\theta, \\alpha) \\big).\n",
    "$$\n",
    "\n",
    "This formula guarantees that we can recover the unique $V$ and $A$, but the optimization is not so stable because the advantages have to compensate any change to the optimal action’s advantage. Due to the reason, an alternative module that replaces the max operator with an average is proposed:\n",
    "\n",
    "$$\n",
    "Q(s, a; \\theta, \\alpha, \\beta) = V (s; \\theta, \\beta) + \\big( A(s, a; \\theta, \\alpha) - \\frac{1}{|\\mathcal{A}|} \\sum_{a'} A(s, a'; \\theta, \\alpha) \\big).\n",
    "$$\n",
    "\n",
    "Unlike the max advantage form, in this formula, the advantages only need to change as fast as the mean, so it increases the stability of optimization."
   ]
  },
  {
   "cell_type": "code",
   "execution_count": 2,
   "metadata": {
    "ExecuteTime": {
     "end_time": "2023-09-06T05:33:49.794927800Z",
     "start_time": "2023-09-06T05:33:48.400812400Z"
    }
   },
   "outputs": [
    {
     "name": "stderr",
     "output_type": "stream",
     "text": [
      "C:\\Users\\18213\\anaconda3\\envs\\Rainbow\\lib\\site-packages\\tqdm\\auto.py:21: TqdmWarning: IProgress not found. Please update jupyter and ipywidgets. See https://ipywidgets.readthedocs.io/en/stable/user_install.html\n",
      "  from .autonotebook import tqdm as notebook_tqdm\n"
     ]
    }
   ],
   "source": [
    "import os\n",
    "from typing import Dict, List, Tuple\n",
    "\n",
    "import gymnasium as gym\n",
    "import matplotlib.pyplot as plt\n",
    "import numpy as np\n",
    "import torch\n",
    "import torch.nn as nn\n",
    "import torch.nn.functional as F\n",
    "import torch.optim as optim\n",
    "from IPython.display import clear_output\n",
    "from torch.nn.utils import clip_grad_norm_"
   ]
  },
  {
   "cell_type": "markdown",
   "metadata": {},
   "source": [
    "## Replay buffer\n",
    "\n",
    "Please see *01.dqn.ipynb* for detailed description."
   ]
  },
  {
   "cell_type": "code",
   "execution_count": 3,
   "metadata": {
    "ExecuteTime": {
     "end_time": "2023-09-06T05:33:49.839254300Z",
     "start_time": "2023-09-06T05:33:49.794927800Z"
    }
   },
   "outputs": [],
   "source": [
    "class ReplayBuffer:\n",
    "    \"\"\"A simple numpy replay buffer.\"\"\"\n",
    "\n",
    "    def __init__(self, obs_dim: int, size: int, batch_size: int = 32):\n",
    "        self.obs_buf = np.zeros([size, obs_dim], dtype=np.float32)\n",
    "        self.next_obs_buf = np.zeros([size, obs_dim], dtype=np.float32)\n",
    "        self.acts_buf = np.zeros([size], dtype=np.float32)\n",
    "        self.rews_buf = np.zeros([size], dtype=np.float32)\n",
    "        self.done_buf = np.zeros(size, dtype=np.float32)\n",
    "        self.max_size, self.batch_size = size, batch_size\n",
    "        self.ptr, self.size, = 0, 0\n",
    "\n",
    "    def store(\n",
    "        self,\n",
    "        obs: np.ndarray,\n",
    "        act: np.ndarray, \n",
    "        rew: float, \n",
    "        next_obs: np.ndarray, \n",
    "        done: bool,\n",
    "    ):\n",
    "        self.obs_buf[self.ptr] = obs\n",
    "        self.next_obs_buf[self.ptr] = next_obs\n",
    "        self.acts_buf[self.ptr] = act\n",
    "        self.rews_buf[self.ptr] = rew\n",
    "        self.done_buf[self.ptr] = done\n",
    "        self.ptr = (self.ptr + 1) % self.max_size\n",
    "        self.size = min(self.size + 1, self.max_size)\n",
    "\n",
    "    def sample_batch(self) -> Dict[str, np.ndarray]:\n",
    "        idxs = np.random.choice(self.size, size=self.batch_size, replace=False)\n",
    "        return dict(obs=self.obs_buf[idxs],\n",
    "                    next_obs=self.next_obs_buf[idxs],\n",
    "                    acts=self.acts_buf[idxs],\n",
    "                    rews=self.rews_buf[idxs],\n",
    "                    done=self.done_buf[idxs])\n",
    "\n",
    "    def __len__(self) -> int:\n",
    "        return self.size"
   ]
  },
  {
   "cell_type": "markdown",
   "metadata": {},
   "source": [
    "## Dueling Network\n",
    "\n",
    "Carefully take a look at advantage and value layers separated from feature layer."
   ]
  },
  {
   "cell_type": "code",
   "execution_count": 4,
   "metadata": {
    "ExecuteTime": {
     "end_time": "2023-09-06T05:33:49.846494200Z",
     "start_time": "2023-09-06T05:33:49.812254500Z"
    }
   },
   "outputs": [],
   "source": [
    "class Network(nn.Module):\n",
    "    def __init__(self, in_dim: int, out_dim: int):\n",
    "        \"\"\"Initialization.\"\"\"\n",
    "        super(Network, self).__init__()\n",
    "\n",
    "        # set common feature layer\n",
    "        self.feature_layer = nn.Sequential(\n",
    "            nn.Linear(in_dim, 128), \n",
    "            nn.ReLU(),\n",
    "        )\n",
    "        \n",
    "        # 原来是直接使用三个线性层得到模型的输出\n",
    "        \n",
    "        # set advantage layer\n",
    "        self.advantage_layer = nn.Sequential(\n",
    "            nn.Linear(128, 128),\n",
    "            nn.ReLU(),\n",
    "            nn.Linear(128, out_dim),\n",
    "        )\n",
    "\n",
    "        # set value layer\n",
    "        self.value_layer = nn.Sequential(\n",
    "            nn.Linear(128, 128),\n",
    "            nn.ReLU(),\n",
    "            nn.Linear(128, 1),\n",
    "        )\n",
    "\n",
    "    def forward(self, x: torch.Tensor) -> torch.Tensor:\n",
    "        \"\"\"Forward method implementation.\"\"\"\n",
    "        feature = self.feature_layer(x)\n",
    "        \n",
    "        value = self.value_layer(feature)\n",
    "        advantage = self.advantage_layer(feature)\n",
    "\n",
    "        # 现在将模型的两个部分得到的输出分别求出，作为模型的输出\n",
    "        q = value + advantage - advantage.mean(dim=-1, keepdim=True)\n",
    "        \n",
    "        return q"
   ]
  },
  {
   "cell_type": "markdown",
   "metadata": {},
   "source": [
    "## DQN + DuelingNet Agent (w/o Double-DQN & PER)\n",
    "\n",
    "Here is a summary of DQNAgent class.\n",
    "\n",
    "| Method           | Note                                                 |\n",
    "| ---              | ---                                                  |\n",
    "|select_action     | select an action from the input state.               |\n",
    "|step              | take an action and return the response of the env.   |\n",
    "|compute_dqn_loss  | return dqn loss.                                     |\n",
    "|update_model      | update the model by gradient descent.                |\n",
    "|target_hard_update| hard update from the local model to the target model.|\n",
    "|train             | train the agent during num_frames.                   |\n",
    "|test              | test the agent (1 episode).                          |\n",
    "|plot              | plot the training progresses.                        |\n",
    "\n",
    "\n",
    "Aside from the dueling network architecture, the authors suggest to use Double-DQN and Prioritized Experience Replay as extra components for better performance. However, we don't implement them to simplify the tutorial. There is only one diffrence between DQNAgent here and the one from *01.dqn.ipynb* and that is the usage of clip_grad_norm_ to prevent gradient exploding."
   ]
  },
  {
   "cell_type": "code",
   "execution_count": 5,
   "metadata": {
    "ExecuteTime": {
     "end_time": "2023-09-06T05:33:49.847494300Z",
     "start_time": "2023-09-06T05:33:49.837254900Z"
    }
   },
   "outputs": [],
   "source": [
    "class DQNAgent:\n",
    "    \"\"\"DQN Agent interacting with environment.\n",
    "    \n",
    "    Attribute:\n",
    "        env (gym.Env): openAI Gym environment\n",
    "        memory (ReplayBuffer): replay memory to store transitions\n",
    "        batch_size (int): batch size for sampling\n",
    "        epsilon (float): parameter for epsilon greedy policy\n",
    "        epsilon_decay (float): step size to decrease epsilon\n",
    "        max_epsilon (float): max value of epsilon\n",
    "        min_epsilon (float): min value of epsilon\n",
    "        target_update (int): period for target model's hard update\n",
    "        gamma (float): discount factor\n",
    "        dqn (Network): model to train and select actions\n",
    "        dqn_target (Network): target model to update\n",
    "        optimizer (torch.optim): optimizer for training dqn\n",
    "        transition (list): transition information including\n",
    "                           state, action, reward, next_state, done\n",
    "    \"\"\"\n",
    "\n",
    "    def __init__(\n",
    "        self, \n",
    "        env: gym.Env,\n",
    "        memory_size: int,\n",
    "        batch_size: int,\n",
    "        target_update: int,\n",
    "        epsilon_decay: float,\n",
    "        seed: int,\n",
    "        max_epsilon: float = 1.0,\n",
    "        min_epsilon: float = 0.1,\n",
    "        gamma: float = 0.99,\n",
    "    ):\n",
    "        \"\"\"Initialization.\n",
    "        \n",
    "        Args:\n",
    "            env (gym.Env): openAI Gym environment\n",
    "            memory_size (int): length of memory\n",
    "            batch_size (int): batch size for sampling\n",
    "            target_update (int): period for target model's hard update\n",
    "            epsilon_decay (float): step size to decrease epsilon\n",
    "            lr (float): learning rate\n",
    "            max_epsilon (float): max value of epsilon\n",
    "            min_epsilon (float): min value of epsilon\n",
    "            gamma (float): discount factor\n",
    "        \"\"\"\n",
    "        obs_dim = env.observation_space.shape[0]\n",
    "        action_dim = env.action_space.n\n",
    "        \n",
    "        self.env = env\n",
    "        self.memory = ReplayBuffer(obs_dim, memory_size, batch_size)\n",
    "        self.batch_size = batch_size\n",
    "        self.epsilon = max_epsilon\n",
    "        self.epsilon_decay = epsilon_decay\n",
    "        self.seed = seed\n",
    "        self.max_epsilon = max_epsilon\n",
    "        self.min_epsilon = min_epsilon\n",
    "        self.target_update = target_update\n",
    "        self.gamma = gamma\n",
    "        \n",
    "        # device: cpu / gpu\n",
    "        self.device = torch.device(\n",
    "            \"cuda\" if torch.cuda.is_available() else \"cpu\"\n",
    "        )\n",
    "        print(self.device)\n",
    "\n",
    "        # networks: dqn, dqn_target\n",
    "        self.dqn = Network(obs_dim, action_dim).to(self.device)\n",
    "        self.dqn_target = Network(obs_dim, action_dim).to(self.device)\n",
    "        self.dqn_target.load_state_dict(self.dqn.state_dict())\n",
    "        self.dqn_target.eval()\n",
    "        \n",
    "        # optimizer\n",
    "        self.optimizer = optim.Adam(self.dqn.parameters())\n",
    "\n",
    "        # transition to store in memory\n",
    "        self.transition = list()\n",
    "        \n",
    "        # mode: train / test\n",
    "        self.is_test = False\n",
    "\n",
    "    def select_action(self, state: np.ndarray) -> np.ndarray:\n",
    "        \"\"\"Select an action from the input state.\"\"\"\n",
    "        # epsilon greedy policy\n",
    "        if self.epsilon > np.random.random():\n",
    "            selected_action = self.env.action_space.sample()\n",
    "        else:\n",
    "            selected_action = self.dqn(\n",
    "                torch.FloatTensor(state).to(self.device)\n",
    "            ).argmax()\n",
    "            selected_action = selected_action.detach().cpu().numpy()\n",
    "        \n",
    "        if not self.is_test:\n",
    "            self.transition = [state, selected_action]\n",
    "        \n",
    "        return selected_action\n",
    "\n",
    "    def step(self, action: np.ndarray) -> Tuple[np.ndarray, np.float64, bool]:\n",
    "        \"\"\"Take an action and return the response of the env.\"\"\"\n",
    "        next_state, reward, terminated, truncated, _ = self.env.step(action)\n",
    "        done = terminated or truncated\n",
    "        \n",
    "        if not self.is_test:\n",
    "            self.transition += [reward, next_state, done]\n",
    "            self.memory.store(*self.transition)\n",
    "    \n",
    "        return next_state, reward, done\n",
    "\n",
    "    def update_model(self) -> torch.Tensor:\n",
    "        \"\"\"Update the model by gradient descent.\"\"\"\n",
    "        samples = self.memory.sample_batch()\n",
    "\n",
    "        loss = self._compute_dqn_loss(samples)\n",
    "\n",
    "        self.optimizer.zero_grad()\n",
    "        loss.backward()\n",
    "        # DuelingNet: we clip the gradients to have their norm less than or equal to 10.\n",
    "        clip_grad_norm_(self.dqn.parameters(), 10.0)\n",
    "        self.optimizer.step()\n",
    "\n",
    "        return loss.item()\n",
    "        \n",
    "    def train(self, num_frames: int, plotting_interval: int = 200):\n",
    "        \"\"\"Train the agent.\"\"\"\n",
    "        self.is_test = False\n",
    "        \n",
    "        state, _ = self.env.reset(seed=self.seed)\n",
    "        update_cnt = 0\n",
    "        epsilons = []\n",
    "        losses = []\n",
    "        scores = []\n",
    "        score = 0\n",
    "\n",
    "        for frame_idx in range(1, num_frames + 1):\n",
    "            action = self.select_action(state)\n",
    "            next_state, reward, done = self.step(action)\n",
    "\n",
    "            state = next_state\n",
    "            score += reward\n",
    "\n",
    "            # if episode ends\n",
    "            if done:\n",
    "                state, _ = self.env.reset(seed=self.seed)\n",
    "                scores.append(score)\n",
    "                score = 0\n",
    "\n",
    "            # if training is ready\n",
    "            if len(self.memory) >= self.batch_size:\n",
    "                loss = self.update_model()\n",
    "                losses.append(loss)\n",
    "                update_cnt += 1\n",
    "                \n",
    "                # linearly decrease epsilon\n",
    "                self.epsilon = max(\n",
    "                    self.min_epsilon, self.epsilon - (\n",
    "                        self.max_epsilon - self.min_epsilon\n",
    "                    ) * self.epsilon_decay\n",
    "                )\n",
    "                epsilons.append(self.epsilon)\n",
    "                \n",
    "                # if hard update is needed\n",
    "                if update_cnt % self.target_update == 0:\n",
    "                    self._target_hard_update()\n",
    "\n",
    "            # plotting\n",
    "            if frame_idx % plotting_interval == 0:\n",
    "                self._plot(frame_idx, scores, losses, epsilons)\n",
    "                \n",
    "        self.env.close()\n",
    "                \n",
    "    def test(self, video_folder: str) -> None:\n",
    "        \"\"\"Test the agent.\"\"\"\n",
    "        self.is_test = True\n",
    "        \n",
    "        # for recording a video\n",
    "        naive_env = self.env\n",
    "        self.env = gym.wrappers.RecordVideo(self.env, video_folder=video_folder)\n",
    "        \n",
    "        state, _ = self.env.reset(seed=self.seed)\n",
    "        done = False\n",
    "        score = 0\n",
    "        \n",
    "        while not done:\n",
    "            action = self.select_action(state)\n",
    "            next_state, reward, done = self.step(action)\n",
    "\n",
    "            state = next_state\n",
    "            score += reward\n",
    "        \n",
    "        print(\"score: \", score)\n",
    "        self.env.close()\n",
    "        \n",
    "        # reset\n",
    "        self.env = naive_env\n",
    "\n",
    "    def _compute_dqn_loss(self, samples: Dict[str, np.ndarray]) -> torch.Tensor:\n",
    "        \"\"\"Return dqn loss.\"\"\"\n",
    "        device = self.device  # for shortening the following lines\n",
    "        state = torch.FloatTensor(samples[\"obs\"]).to(device)\n",
    "        next_state = torch.FloatTensor(samples[\"next_obs\"]).to(device)\n",
    "        action = torch.LongTensor(samples[\"acts\"].reshape(-1, 1)).to(device)\n",
    "        reward = torch.FloatTensor(samples[\"rews\"].reshape(-1, 1)).to(device)\n",
    "        done = torch.FloatTensor(samples[\"done\"].reshape(-1, 1)).to(device)\n",
    "\n",
    "        # G_t   = r + gamma * v(s_{t+1})  if state != Terminal\n",
    "        #       = r                       otherwise\n",
    "        curr_q_value = self.dqn(state).gather(1, action)\n",
    "        next_q_value = self.dqn_target(next_state).max(\n",
    "            dim=1, keepdim=True\n",
    "        )[0].detach()\n",
    "        mask = 1 - done\n",
    "        target = (reward + self.gamma * next_q_value * mask).to(self.device)\n",
    "\n",
    "        # calculate dqn loss\n",
    "        loss = F.smooth_l1_loss(curr_q_value, target)\n",
    "\n",
    "        return loss\n",
    "\n",
    "    def _target_hard_update(self):\n",
    "        \"\"\"Hard update: target <- local.\"\"\"\n",
    "        self.dqn_target.load_state_dict(self.dqn.state_dict())\n",
    "                \n",
    "    def _plot(\n",
    "        self, \n",
    "        frame_idx: int, \n",
    "        scores: List[float], \n",
    "        losses: List[float], \n",
    "        epsilons: List[float],\n",
    "    ):\n",
    "        \"\"\"Plot the training progresses.\"\"\"\n",
    "        clear_output(True)\n",
    "        plt.figure(figsize=(20, 5))\n",
    "        plt.subplot(131)\n",
    "        plt.title('frame %s. score: %s' % (frame_idx, np.mean(scores[-10:])))\n",
    "        plt.plot(scores)\n",
    "        plt.subplot(132)\n",
    "        plt.title('loss')\n",
    "        plt.plot(losses)\n",
    "        plt.subplot(133)\n",
    "        plt.title('epsilons')\n",
    "        plt.plot(epsilons)\n",
    "        plt.show()"
   ]
  },
  {
   "cell_type": "markdown",
   "metadata": {},
   "source": [
    "## Environment\n",
    "\n",
    "You can see the [code](https://github.com/Farama-Foundation/Gymnasium/blob/main/gymnasium/envs/classic_control/cartpole.py) and [configurations](https://github.com/Farama-Foundation/Gymnasium/blob/main/gymnasium/envs/classic_control/cartpole.py#L91) of CartPole-v1 from Farama Gymnasium's repository."
   ]
  },
  {
   "cell_type": "code",
   "execution_count": 6,
   "metadata": {
    "ExecuteTime": {
     "end_time": "2023-09-06T05:33:49.859493600Z",
     "start_time": "2023-09-06T05:33:49.843493500Z"
    }
   },
   "outputs": [],
   "source": [
    "# environment\n",
    "env = gym.make(\"CartPole-v1\", max_episode_steps=200, render_mode=\"rgb_array\")"
   ]
  },
  {
   "cell_type": "markdown",
   "metadata": {},
   "source": [
    "## Set random seed"
   ]
  },
  {
   "cell_type": "code",
   "execution_count": 7,
   "metadata": {
    "ExecuteTime": {
     "end_time": "2023-09-06T05:33:49.879496700Z",
     "start_time": "2023-09-06T05:33:49.858493600Z"
    }
   },
   "outputs": [],
   "source": [
    "seed = 777\n",
    "\n",
    "def seed_torch(seed):\n",
    "    torch.manual_seed(seed)\n",
    "    if torch.backends.cudnn.enabled:\n",
    "        torch.cuda.manual_seed(seed)\n",
    "        torch.backends.cudnn.benchmark = False\n",
    "        torch.backends.cudnn.deterministic = True\n",
    "\n",
    "np.random.seed(seed)\n",
    "seed_torch(seed)"
   ]
  },
  {
   "cell_type": "markdown",
   "metadata": {},
   "source": [
    "## Initialize"
   ]
  },
  {
   "cell_type": "code",
   "execution_count": 8,
   "metadata": {
    "ExecuteTime": {
     "end_time": "2023-09-06T05:33:50.834263300Z",
     "start_time": "2023-09-06T05:33:49.873499Z"
    }
   },
   "outputs": [
    {
     "name": "stdout",
     "output_type": "stream",
     "text": [
      "cuda\n"
     ]
    }
   ],
   "source": [
    "# parameters\n",
    "num_frames = 10000\n",
    "memory_size = 1000\n",
    "batch_size = 32\n",
    "target_update = 100\n",
    "epsilon_decay = 1 / 2000\n",
    "\n",
    "# train\n",
    "agent = DQNAgent(env, memory_size, batch_size, target_update, epsilon_decay, seed)"
   ]
  },
  {
   "cell_type": "markdown",
   "metadata": {},
   "source": [
    "## Train"
   ]
  },
  {
   "cell_type": "code",
   "execution_count": 9,
   "metadata": {},
   "outputs": [
    {
     "data": {
      "text/plain": "<Figure size 2000x500 with 3 Axes>",
      "image/png": "[encoded data removed]"
     },
     "metadata": {},
     "output_type": "display_data"
    }
   ],
   "source": [
    "agent.train(num_frames)"
   ]
  },
  {
   "cell_type": "markdown",
   "metadata": {},
   "source": [
    "## Test\n",
    "\n",
    "Run the trained agent (1 episode)."
   ]
  },
  {
   "cell_type": "code",
   "execution_count": 10,
   "metadata": {
    "ExecuteTime": {
     "end_time": "2023-09-06T05:34:43.507559100Z",
     "start_time": "2023-09-06T05:34:42.618362800Z"
    }
   },
   "outputs": [
    {
     "name": "stderr",
     "output_type": "stream",
     "text": [
      "C:\\Users\\18213\\anaconda3\\envs\\Rainbow\\lib\\site-packages\\gymnasium\\wrappers\\record_video.py:87: UserWarning: \u001B[33mWARN: Overwriting existing videos at C:\\Users\\18213\\Source\\Rainbow Reading Notes\\videos\\dueling folder (try specifying a different `video_folder` for the `RecordVideo` wrapper if this is not desired)\u001B[0m\n",
      "  logger.warn(\n"
     ]
    },
    {
     "name": "stdout",
     "output_type": "stream",
     "text": [
      "Moviepy - Building video C:\\Users\\18213\\Source\\Rainbow Reading Notes\\videos\\dueling\\rl-video-episode-0.mp4.\n",
      "Moviepy - Writing video C:\\Users\\18213\\Source\\Rainbow Reading Notes\\videos\\dueling\\rl-video-episode-0.mp4\n"
     ]
    },
    {
     "name": "stderr",
     "output_type": "stream",
     "text": [
      "                                                              "
     ]
    },
    {
     "name": "stdout",
     "output_type": "stream",
     "text": [
      "Moviepy - Done !\n",
      "Moviepy - video ready C:\\Users\\18213\\Source\\Rainbow Reading Notes\\videos\\dueling\\rl-video-episode-0.mp4\n",
      "score:  113.0\n"
     ]
    },
    {
     "name": "stderr",
     "output_type": "stream",
     "text": [
      "\r"
     ]
    }
   ],
   "source": [
    "video_folder=\"videos/dueling\"\n",
    "agent.test(video_folder=video_folder)"
   ]
  },
  {
   "cell_type": "markdown",
   "metadata": {},
   "source": [
    "## Render"
   ]
  },
  {
   "cell_type": "code",
   "execution_count": 11,
   "metadata": {
    "ExecuteTime": {
     "end_time": "2023-09-06T05:34:43.523538700Z",
     "start_time": "2023-09-06T05:34:43.480540500Z"
    }
   },
   "outputs": [
    {
     "data": {
      "text/plain": "<IPython.core.display.HTML object>",
      "text/html": "\n        <video width=\"320\" height=\"240\" alt=\"test\" controls>\n        <source src=\"data:video/mp4;base64,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\" type=\"video/mp4\"/>\n        </video>\n        "
     },
     "metadata": {},
     "output_type": "display_data"
    },
    {
     "name": "stdout",
     "output_type": "stream",
     "text": [
      "Played: videos/dueling\\rl-video-episode-0.mp4\n"
     ]
    }
   ],
   "source": [
    "import base64\n",
    "import glob\n",
    "import io\n",
    "import os\n",
    "\n",
    "from IPython.display import HTML, display\n",
    "\n",
    "\n",
    "def ipython_show_video(path: str) -> None:\n",
    "    \"\"\"Show a video at `path` within IPython Notebook.\"\"\"\n",
    "    if not os.path.isfile(path):\n",
    "        raise NameError(\"Cannot access: {}\".format(path))\n",
    "\n",
    "    video = io.open(path, \"r+b\").read()\n",
    "    encoded = base64.b64encode(video)\n",
    "\n",
    "    display(HTML(\n",
    "        data=\"\"\"\n",
    "        <video width=\"320\" height=\"240\" alt=\"test\" controls>\n",
    "        <source src=\"data:video/mp4;base64,{0}\" type=\"video/mp4\"/>\n",
    "        </video>\n",
    "        \"\"\".format(encoded.decode(\"ascii\"))\n",
    "    ))\n",
    "\n",
    "\n",
    "def show_latest_video(video_folder: str) -> str:\n",
    "    \"\"\"Show the most recently recorded video from video folder.\"\"\"\n",
    "    list_of_files = glob.glob(os.path.join(video_folder, \"*.mp4\"))\n",
    "    latest_file = max(list_of_files, key=os.path.getctime)\n",
    "    ipython_show_video(latest_file)\n",
    "    return latest_file\n",
    "\n",
    "\n",
    "latest_file = show_latest_video(video_folder=video_folder)\n",
    "print(\"Played:\", latest_file)"
   ]
  }
 ],
 "metadata": {
  "kernelspec": {
   "name": "python3",
   "language": "python",
   "display_name": "Python 3 (ipykernel)"
  },
  "language_info": {
   "codemirror_mode": {
    "name": "ipython",
    "version": 3
   },
   "file_extension": ".py",
   "mimetype": "text/x-python",
   "name": "python",
   "nbconvert_exporter": "python",
   "pygments_lexer": "ipython3",
   "version": "3.8.12"
  }
 },
 "nbformat": 4,
 "nbformat_minor": 4
}
