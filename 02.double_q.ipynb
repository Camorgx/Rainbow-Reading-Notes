{
 "cells": [
  {
   "cell_type": "markdown",
   "metadata": {},
   "source": [
    "## Configurations for Colab"
   ]
  },
  {
   "cell_type": "code",
   "execution_count": 1,
   "metadata": {
    "ExecuteTime": {
     "end_time": "2023-08-24T12:37:22.305070900Z",
     "start_time": "2023-08-24T12:37:22.285924900Z"
    }
   },
   "outputs": [],
   "source": [
    "import sys\n",
    "IN_COLAB = \"google.colab\" in sys.modules\n",
    "\n",
    "if IN_COLAB:\n",
    "    !apt install python-opengl\n",
    "    !apt install ffmpeg\n",
    "    !apt install xvfb\n",
    "    !pip install PyVirtualDisplay==3.0\n",
    "    !pip install gymnasium == 0.28.1\n",
    "    from pyvirtualdisplay import Display\n",
    "    \n",
    "    # Start virtual display\n",
    "    dis = Display(visible=0, size=(400, 400))\n",
    "    dis.start()"
   ]
  },
  {
   "cell_type": "markdown",
   "metadata": {},
   "source": [
    "# 02. Double DQN\n",
    "\n",
    "[van Hasselt et al., \"Deep Reinforcement Learning with Double Q-learning.\" arXiv preprint arXiv:1509.06461, 2015.](https://arxiv.org/pdf/1509.06461.pdf)\n",
    "\n",
    "\n",
    "\n",
    "\n",
    "Let's take a close look at the difference between DQN and Double-DQN. The max operator in standard Q-learning and DQN uses the same values both to select and to evaluate an action. This makes it more likely to select overestimated values, resulting in overoptimistic value estimates.\n",
    "\n",
    "$$\n",
    "\\theta_{t+1} = \\theta_t + \\alpha \\big(Y_t^Q - Q(S_t, A_t; \\theta_t)\\big) \\cdot \\nabla_{\\theta_t} Q(S_t, A_t; \\theta_t),\\\\\n",
    "\\text{where } \\alpha \\text{ is a scalar step size and the target } Y_t^Q \\text{is defined as }\\\\\n",
    "Y_t^Q = R_{t+1} + \\gamma \\max_a Q(S_{t+1}, a; \\theta_t).\n",
    "$$\n",
    "\n",
    "In Double Q-learning ([van Hasselt 2010](https://papers.nips.cc/paper/3964-double-q-learning.pdf)), two value functions are learned by assigning experiences randomly to update one of the two value functions, resulting in two sets of weights, $\\theta$ and $\\theta'$. For each update, one set of weights is used to determine the greedy policy and the other to determine its value. For a clear comparison, we can untangle the selection and evaluation in Q-learning and rewrite DQN's target as\n",
    "\n",
    "$$\n",
    "Y_t^Q = R_{t+1} + \\gamma Q(S_{t+1}, \\arg\\max_a Q(S_{t+1}, a; \\theta_t); \\theta_t).\n",
    "$$\n",
    "\n",
    "The Double Q-learning error can then be written as\n",
    "\n",
    "$$\n",
    "Y_t^{DoubleQ} = R_{t+1} + \\gamma Q(S_{t+1}, \\arg\\max_a Q(S_{t+1}, a; \\theta_t); \\theta_t').\n",
    "$$\n",
    "\n",
    "The idea of Double Q-learning is to reduce overestimations by decomposing the max operation in the target into action selection and action evaluation. Although not fully decoupled, the target network in the DQN architecture provides a natural candidate for the second value function, without having to introduce additional networks. In conclusion, the weights of the second network $\\theta_t'$ are replaced with the weights of the target network for the evaluation of the current greedy policy. This makes just a small change in calculating the target value of DQN loss.\n",
    "\n",
    "##### DQN:\n",
    "\n",
    "```\n",
    "target = reward + gamma * dqn_target(next_state).max(dim=1, keepdim=True)[0]\n",
    "```\n",
    "\n",
    "##### DoubleDQN:\n",
    "\n",
    "```\n",
    "selected_action = dqn(next_state).argmax(dim=1, keepdim=True)\n",
    "target = reward + gamma * dqn_target(next_state).gather(1, selected_action)\n",
    "```\n",
    "      "
   ]
  },
  {
   "cell_type": "code",
   "execution_count": 2,
   "metadata": {
    "ExecuteTime": {
     "end_time": "2023-08-24T12:41:01.099700900Z",
     "start_time": "2023-08-24T12:40:59.006665900Z"
    }
   },
   "outputs": [
    {
     "name": "stderr",
     "output_type": "stream",
     "text": [
      "C:\\Users\\18213\\anaconda3\\envs\\Rainbow\\lib\\site-packages\\tqdm\\auto.py:21: TqdmWarning: IProgress not found. Please update jupyter and ipywidgets. See https://ipywidgets.readthedocs.io/en/stable/user_install.html\n",
      "  from .autonotebook import tqdm as notebook_tqdm\n"
     ]
    }
   ],
   "source": [
    "import os\n",
    "from typing import Dict, List, Tuple\n",
    "\n",
    "import gymnasium as gym\n",
    "import matplotlib.pyplot as plt\n",
    "import numpy as np\n",
    "import torch\n",
    "import torch.nn as nn\n",
    "import torch.nn.functional as F\n",
    "import torch.optim as optim\n",
    "from IPython.display import clear_output"
   ]
  },
  {
   "cell_type": "markdown",
   "metadata": {},
   "source": [
    "## Replay buffer\n",
    "\n",
    "Please see *01.dqn.ipynb* for detailed description."
   ]
  },
  {
   "cell_type": "code",
   "execution_count": 3,
   "metadata": {
    "ExecuteTime": {
     "end_time": "2023-08-24T12:41:13.645612600Z",
     "start_time": "2023-08-24T12:41:13.635078Z"
    }
   },
   "outputs": [],
   "source": [
    "class ReplayBuffer:\n",
    "    \"\"\"A simple numpy replay buffer.\"\"\"\n",
    "\n",
    "    def __init__(self, obs_dim: int, size: int, batch_size: int = 32):\n",
    "        self.obs_buf = np.zeros([size, obs_dim], dtype=np.float32)\n",
    "        self.next_obs_buf = np.zeros([size, obs_dim], dtype=np.float32)\n",
    "        self.acts_buf = np.zeros([size], dtype=np.float32)\n",
    "        self.rews_buf = np.zeros([size], dtype=np.float32)\n",
    "        self.done_buf = np.zeros(size, dtype=np.float32)\n",
    "        self.max_size, self.batch_size = size, batch_size\n",
    "        self.ptr, self.size, = 0, 0\n",
    "\n",
    "    def store(\n",
    "        self,\n",
    "        obs: np.ndarray,\n",
    "        act: np.ndarray, \n",
    "        rew: float, \n",
    "        next_obs: np.ndarray, \n",
    "        done: bool,\n",
    "    ):\n",
    "        self.obs_buf[self.ptr] = obs\n",
    "        self.next_obs_buf[self.ptr] = next_obs\n",
    "        self.acts_buf[self.ptr] = act\n",
    "        self.rews_buf[self.ptr] = rew\n",
    "        self.done_buf[self.ptr] = done\n",
    "        self.ptr = (self.ptr + 1) % self.max_size\n",
    "        self.size = min(self.size + 1, self.max_size)\n",
    "\n",
    "    def sample_batch(self) -> Dict[str, np.ndarray]:\n",
    "        idxs = np.random.choice(self.size, size=self.batch_size, replace=False)\n",
    "        return dict(obs=self.obs_buf[idxs],\n",
    "                    next_obs=self.next_obs_buf[idxs],\n",
    "                    acts=self.acts_buf[idxs],\n",
    "                    rews=self.rews_buf[idxs],\n",
    "                    done=self.done_buf[idxs])\n",
    "\n",
    "    def __len__(self) -> int:\n",
    "        return self.size"
   ]
  },
  {
   "cell_type": "markdown",
   "metadata": {},
   "source": [
    "## Network\n",
    "\n",
    "We are going to use a simple network architecture with three fully connected layers and two non-linearity functions (ReLU)."
   ]
  },
  {
   "cell_type": "code",
   "execution_count": 4,
   "metadata": {
    "ExecuteTime": {
     "end_time": "2023-08-24T13:03:19.230369200Z",
     "start_time": "2023-08-24T13:03:19.217915200Z"
    }
   },
   "outputs": [],
   "source": [
    "class Network(nn.Module):\n",
    "    def __init__(self, in_dim: int, out_dim: int):\n",
    "        \"\"\"Initialization.\"\"\"\n",
    "        super(Network, self).__init__()\n",
    "\n",
    "        self.layers = nn.Sequential(\n",
    "            nn.Linear(in_dim, 128), \n",
    "            nn.ReLU(),\n",
    "            nn.Linear(128, 128), \n",
    "            nn.ReLU(), \n",
    "            nn.Linear(128, out_dim)\n",
    "        )\n",
    "\n",
    "    def forward(self, x: torch.Tensor) -> torch.Tensor:\n",
    "        \"\"\"Forward method implementation.\"\"\"\n",
    "        return self.layers(x)"
   ]
  },
  {
   "cell_type": "markdown",
   "metadata": {},
   "source": [
    "## Double DQN Agent\n",
    "\n",
    "Here is a summary of DQNAgent class.\n",
    "\n",
    "| Method           | Note                                                 |\n",
    "| ---              | ---                                                  |\n",
    "|select_action     | select an action from the input state.               |\n",
    "|step              | take an action and return the response of the env.   |\n",
    "|compute_dqn_loss  | return dqn loss.                                     |\n",
    "|update_model      | update the model by gradient descent.                |\n",
    "|target_hard_update| hard update from the local model to the target model.|\n",
    "|train             | train the agent during num_frames.                   |\n",
    "|test              | test the agent (1 episode).                          |\n",
    "|plot              | plot the training progresses.                        |\n",
    "\n",
    "We use `self.dqn` instead of `self.dqn_target` for action selection.\n",
    "\n",
    "```\n",
    "\n",
    "        next_q_value = self.dqn_target(next_state).gather(\n",
    "            1, self.dqn(next_state).argmax(dim=1, keepdim=True)  # Double DQN\n",
    "        ).detach()\n",
    "        mask = 1 - done\n",
    "        target = (reward + self.gamma * next_q_value * mask).to(self.device)\n",
    "```"
   ]
  },
  {
   "cell_type": "code",
   "execution_count": 5,
   "metadata": {
    "ExecuteTime": {
     "end_time": "2023-08-24T13:03:33.684254200Z",
     "start_time": "2023-08-24T13:03:33.667225300Z"
    }
   },
   "outputs": [],
   "source": [
    "class DQNAgent:\n",
    "    \"\"\"DQN Agent interacting with environment.\n",
    "    \n",
    "    Attribute:\n",
    "        env (gym.Env): openAI Gym environment\n",
    "        memory (ReplayBuffer): replay memory to store transitions\n",
    "        batch_size (int): batch size for sampling\n",
    "        epsilon (float): parameter for epsilon greedy policy\n",
    "        epsilon_decay (float): step size to decrease epsilon\n",
    "        max_epsilon (float): max value of epsilon\n",
    "        min_epsilon (float): min value of epsilon\n",
    "        target_update (int): period for target model's hard update\n",
    "        gamma (float): discount factor\n",
    "        dqn (Network): model to train and select actions\n",
    "        dqn_target (Network): target model to update\n",
    "        optimizer (torch.optim): optimizer for training dqn\n",
    "        transition (list): transition information including \n",
    "                           state, action, reward, next_state, done\n",
    "    \"\"\"\n",
    "\n",
    "    def __init__(\n",
    "        self, \n",
    "        env: gym.Env,\n",
    "        memory_size: int,\n",
    "        batch_size: int,\n",
    "        target_update: int,\n",
    "        epsilon_decay: float,\n",
    "        seed: int,\n",
    "        max_epsilon: float = 1.0,\n",
    "        min_epsilon: float = 0.1,\n",
    "        gamma: float = 0.99,\n",
    "    ):\n",
    "        \"\"\"Initialization.\n",
    "        \n",
    "        Args:\n",
    "            env (gym.Env): openAI Gym environment\n",
    "            memory_size (int): length of memory\n",
    "            batch_size (int): batch size for sampling\n",
    "            target_update (int): period for target model's hard update\n",
    "            epsilon_decay (float): step size to decrease epsilon\n",
    "            lr (float): learning rate\n",
    "            max_epsilon (float): max value of epsilon\n",
    "            min_epsilon (float): min value of epsilon\n",
    "            gamma (float): discount factor\n",
    "        \"\"\"\n",
    "        obs_dim = env.observation_space.shape[0]\n",
    "        action_dim = env.action_space.n\n",
    "        \n",
    "        self.env = env\n",
    "        self.memory = ReplayBuffer(obs_dim, memory_size, batch_size)\n",
    "        self.batch_size = batch_size\n",
    "        self.epsilon = max_epsilon\n",
    "        self.epsilon_decay = epsilon_decay\n",
    "        self.seed = seed\n",
    "        self.max_epsilon = max_epsilon\n",
    "        self.min_epsilon = min_epsilon\n",
    "        self.target_update = target_update\n",
    "        self.gamma = gamma\n",
    "        \n",
    "        # device: cpu / gpu\n",
    "        self.device = torch.device(\n",
    "            \"cuda\" if torch.cuda.is_available() else \"cpu\"\n",
    "        )\n",
    "        print(self.device)\n",
    "\n",
    "        # networks: dqn, dqn_target\n",
    "        self.dqn = Network(obs_dim, action_dim).to(self.device)\n",
    "        self.dqn_target = Network(obs_dim, action_dim).to(self.device)\n",
    "        self.dqn_target.load_state_dict(self.dqn.state_dict())\n",
    "        self.dqn_target.eval()\n",
    "        \n",
    "        # optimizer\n",
    "        self.optimizer = optim.Adam(self.dqn.parameters())\n",
    "\n",
    "        # transition to store in memory\n",
    "        self.transition = list()\n",
    "        \n",
    "        # mode: train / test\n",
    "        self.is_test = False\n",
    "\n",
    "    def select_action(self, state: np.ndarray) -> np.ndarray:\n",
    "        \"\"\"Select an action from the input state.\"\"\"\n",
    "        # epsilon greedy policy\n",
    "        if self.epsilon > np.random.random():\n",
    "            selected_action = self.env.action_space.sample()\n",
    "        else:\n",
    "            selected_action = self.dqn(\n",
    "                torch.FloatTensor(state).to(self.device)\n",
    "            ).argmax()\n",
    "            selected_action = selected_action.detach().cpu().numpy()\n",
    "        \n",
    "        if not self.is_test:\n",
    "            self.transition = [state, selected_action]\n",
    "        \n",
    "        return selected_action\n",
    "\n",
    "    def step(self, action: np.ndarray) -> Tuple[np.ndarray, np.float64, bool]:\n",
    "        \"\"\"Take an action and return the response of the env.\"\"\"\n",
    "        next_state, reward, terminated, truncated, _ = self.env.step(action)\n",
    "        done = terminated or truncated\n",
    "\n",
    "        if not self.is_test:\n",
    "            self.transition += [reward, next_state, done]\n",
    "            self.memory.store(*self.transition)\n",
    "    \n",
    "        return next_state, reward, done\n",
    "\n",
    "    def update_model(self) -> torch.Tensor:\n",
    "        \"\"\"Update the model by gradient descent.\"\"\"\n",
    "        samples = self.memory.sample_batch()\n",
    "\n",
    "        loss = self._compute_dqn_loss(samples)\n",
    "\n",
    "        self.optimizer.zero_grad()\n",
    "        loss.backward()\n",
    "        self.optimizer.step()\n",
    "\n",
    "        return loss.item()\n",
    "        \n",
    "    def train(self, num_frames: int, plotting_interval: int = 200):\n",
    "        \"\"\"Train the agent.\"\"\"\n",
    "        self.is_test = False\n",
    "        \n",
    "        state, _ = self.env.reset(seed=self.seed)\n",
    "        update_cnt = 0\n",
    "        epsilons = []\n",
    "        losses = []\n",
    "        scores = []\n",
    "        score = 0\n",
    "\n",
    "        for frame_idx in range(1, num_frames + 1):\n",
    "            action = self.select_action(state)\n",
    "            next_state, reward, done = self.step(action)\n",
    "\n",
    "            state = next_state\n",
    "            score += reward\n",
    "\n",
    "            # if episode ends\n",
    "            if done:\n",
    "                state, _ = self.env.reset(seed=self.seed)\n",
    "                scores.append(score)\n",
    "                score = 0\n",
    "\n",
    "            # if training is ready\n",
    "            if len(self.memory) >= self.batch_size:\n",
    "                loss = self.update_model()\n",
    "                losses.append(loss)\n",
    "                update_cnt += 1\n",
    "                \n",
    "                # linearly decrease epsilon\n",
    "                self.epsilon = max(\n",
    "                    self.min_epsilon, self.epsilon - (\n",
    "                        self.max_epsilon - self.min_epsilon\n",
    "                    ) * self.epsilon_decay\n",
    "                )\n",
    "                epsilons.append(self.epsilon)\n",
    "                \n",
    "                # if hard update is needed\n",
    "                if update_cnt % self.target_update == 0:\n",
    "                    self._target_hard_update()\n",
    "\n",
    "            # plotting\n",
    "            if frame_idx % plotting_interval == 0:\n",
    "                self._plot(frame_idx, scores, losses, epsilons)\n",
    "                \n",
    "        self.env.close()\n",
    "                \n",
    "    def test(self, video_folder: str) -> None:\n",
    "        \"\"\"Test the agent.\"\"\"\n",
    "        self.is_test = True\n",
    "        \n",
    "        # for recording a video\n",
    "        naive_env = self.env\n",
    "        self.env = gym.wrappers.RecordVideo(self.env, video_folder=video_folder)\n",
    "        \n",
    "        state, _ = self.env.reset(seed=self.seed)\n",
    "        done = False\n",
    "        score = 0\n",
    "        \n",
    "        while not done:\n",
    "            action = self.select_action(state)\n",
    "            next_state, reward, done = self.step(action)\n",
    "\n",
    "            state = next_state\n",
    "            score += reward\n",
    "        \n",
    "        print(\"score: \", score)\n",
    "        self.env.close()\n",
    "        \n",
    "        # reset\n",
    "        self.env = naive_env\n",
    "\n",
    "    def _compute_dqn_loss(self, samples: Dict[str, np.ndarray]) -> torch.Tensor:\n",
    "        \"\"\"Return dqn loss.\"\"\"\n",
    "        device = self.device  # for shortening the following lines\n",
    "        state = torch.FloatTensor(samples[\"obs\"]).to(device)\n",
    "        next_state = torch.FloatTensor(samples[\"next_obs\"]).to(device)\n",
    "        action = torch.LongTensor(samples[\"acts\"].reshape(-1, 1)).to(device)\n",
    "        reward = torch.FloatTensor(samples[\"rews\"].reshape(-1, 1)).to(device)\n",
    "        done = torch.FloatTensor(samples[\"done\"].reshape(-1, 1)).to(device)\n",
    "        \n",
    "        # G_t   = r + gamma * v(s_{t+1})  if state != Terminal\n",
    "        #       = r                       otherwise\n",
    "        curr_q_value = self.dqn(state).gather(1, action)\n",
    "        next_q_value = self.dqn_target(next_state).gather(  # Double DQN\n",
    "            1, self.dqn(next_state).argmax(dim=1, keepdim=True)\n",
    "        ).detach()\n",
    "        mask = 1 - done\n",
    "        target = (reward + self.gamma * next_q_value * mask).to(self.device)\n",
    "\n",
    "        # calculate dqn loss\n",
    "        loss = F.smooth_l1_loss(curr_q_value, target)\n",
    "\n",
    "        return loss\n",
    "    \n",
    "    def _target_hard_update(self):\n",
    "        \"\"\"Hard update: target <- local.\"\"\"\n",
    "        self.dqn_target.load_state_dict(self.dqn.state_dict())\n",
    "                \n",
    "    def _plot(\n",
    "        self, \n",
    "        frame_idx: int, \n",
    "        scores: List[float], \n",
    "        losses: List[float], \n",
    "        epsilons: List[float],\n",
    "    ):\n",
    "        \"\"\"Plot the training progresses.\"\"\"\n",
    "        clear_output(True)\n",
    "        plt.figure(figsize=(20, 5))\n",
    "        plt.subplot(131)\n",
    "        plt.title('frame %s. score: %s' % (frame_idx, np.mean(scores[-10:])))\n",
    "        plt.plot(scores)\n",
    "        plt.subplot(132)\n",
    "        plt.title('loss')\n",
    "        plt.plot(losses)\n",
    "        plt.subplot(133)\n",
    "        plt.title('epsilons')\n",
    "        plt.plot(epsilons)\n",
    "        plt.show()"
   ]
  },
  {
   "cell_type": "markdown",
   "metadata": {},
   "source": [
    "## Environment\n",
    "\n",
    "You can see the [code](https://github.com/Farama-Foundation/Gymnasium/blob/main/gymnasium/envs/classic_control/cartpole.py) and [configurations](https://github.com/Farama-Foundation/Gymnasium/blob/main/gymnasium/envs/classic_control/cartpole.py#L91) of CartPole-v1 from Farama Gymnasium's repository."
   ]
  },
  {
   "cell_type": "code",
   "execution_count": 6,
   "metadata": {
    "ExecuteTime": {
     "end_time": "2023-08-24T13:03:35.985907100Z",
     "start_time": "2023-08-24T13:03:35.962613500Z"
    }
   },
   "outputs": [],
   "source": [
    "# environment\n",
    "env = gym.make(\"CartPole-v1\", max_episode_steps=200, render_mode=\"rgb_array\")"
   ]
  },
  {
   "cell_type": "markdown",
   "metadata": {},
   "source": [
    "## Set random seed"
   ]
  },
  {
   "cell_type": "code",
   "execution_count": 7,
   "metadata": {
    "ExecuteTime": {
     "end_time": "2023-08-24T13:03:39.776834Z",
     "start_time": "2023-08-24T13:03:39.755440600Z"
    }
   },
   "outputs": [],
   "source": [
    "seed = 777\n",
    "\n",
    "def seed_torch(seed):\n",
    "    torch.manual_seed(seed)\n",
    "    if torch.backends.cudnn.enabled:\n",
    "        torch.cuda.manual_seed(seed)\n",
    "        torch.backends.cudnn.benchmark = False\n",
    "        torch.backends.cudnn.deterministic = True\n",
    "\n",
    "np.random.seed(seed)\n",
    "seed_torch(seed)"
   ]
  },
  {
   "cell_type": "markdown",
   "metadata": {},
   "source": [
    "## Initialize"
   ]
  },
  {
   "cell_type": "code",
   "execution_count": 8,
   "metadata": {
    "ExecuteTime": {
     "end_time": "2023-08-24T13:03:43.618137100Z",
     "start_time": "2023-08-24T13:03:42.110901800Z"
    }
   },
   "outputs": [
    {
     "name": "stdout",
     "output_type": "stream",
     "text": [
      "cuda\n"
     ]
    }
   ],
   "source": [
    "# parameters\n",
    "num_frames = 10000\n",
    "memory_size = 1000\n",
    "batch_size = 32\n",
    "target_update = 200\n",
    "epsilon_decay = 1 / 2000\n",
    "\n",
    "# train\n",
    "agent = DQNAgent(env, memory_size, batch_size, target_update, epsilon_decay, seed)"
   ]
  },
  {
   "cell_type": "markdown",
   "metadata": {},
   "source": [
    "## Train"
   ]
  },
  {
   "cell_type": "code",
   "execution_count": 9,
   "metadata": {},
   "outputs": [
    {
     "data": {
      "text/plain": "<Figure size 2000x500 with 3 Axes>",
      "image/png": "[encoded data removed]"
     },
     "metadata": {},
     "output_type": "display_data"
    }
   ],
   "source": [
    "agent.train(num_frames)"
   ]
  },
  {
   "cell_type": "markdown",
   "metadata": {},
   "source": [
    "## Test\n",
    "\n",
    "Run the trained agent (1 episode)."
   ]
  },
  {
   "cell_type": "code",
   "execution_count": 10,
   "metadata": {
    "ExecuteTime": {
     "end_time": "2023-08-24T13:05:28.512974600Z",
     "start_time": "2023-08-24T13:05:27.132210200Z"
    }
   },
   "outputs": [
    {
     "name": "stdout",
     "output_type": "stream",
     "text": [
      "Moviepy - Building video C:\\Users\\18213\\Source\\Rainbow Reading Notes\\videos\\double_q\\rl-video-episode-0.mp4.\n",
      "Moviepy - Writing video C:\\Users\\18213\\Source\\Rainbow Reading Notes\\videos\\double_q\\rl-video-episode-0.mp4\n"
     ]
    },
    {
     "name": "stderr",
     "output_type": "stream",
     "text": [
      "                                                               "
     ]
    },
    {
     "name": "stdout",
     "output_type": "stream",
     "text": [
      "Moviepy - Done !\n",
      "Moviepy - video ready C:\\Users\\18213\\Source\\Rainbow Reading Notes\\videos\\double_q\\rl-video-episode-0.mp4\n",
      "score:  200.0\n"
     ]
    },
    {
     "name": "stderr",
     "output_type": "stream",
     "text": [
      "\r"
     ]
    }
   ],
   "source": [
    "video_folder=\"videos/double_q\"\n",
    "agent.test(video_folder=video_folder)"
   ]
  },
  {
   "cell_type": "markdown",
   "metadata": {},
   "source": [
    "## Render"
   ]
  },
  {
   "cell_type": "code",
   "execution_count": 11,
   "metadata": {
    "ExecuteTime": {
     "end_time": "2023-08-24T13:05:39.149376100Z",
     "start_time": "2023-08-24T13:05:39.102245700Z"
    }
   },
   "outputs": [
    {
     "data": {
      "text/plain": "<IPython.core.display.HTML object>",
      "text/html": "\n        <video width=\"320\" height=\"240\" alt=\"test\" controls>\n        <source src=\"data:video/mp4;base64,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\" type=\"video/mp4\"/>\n        </video>\n        "
     },
     "metadata": {},
     "output_type": "display_data"
    },
    {
     "name": "stdout",
     "output_type": "stream",
     "text": [
      "Played: videos/double_q\\rl-video-episode-0.mp4\n"
     ]
    }
   ],
   "source": [
    "import base64\n",
    "import glob\n",
    "import io\n",
    "import os\n",
    "\n",
    "from IPython.display import HTML, display\n",
    "\n",
    "\n",
    "def ipython_show_video(path: str) -> None:\n",
    "    \"\"\"Show a video at `path` within IPython Notebook.\"\"\"\n",
    "    if not os.path.isfile(path):\n",
    "        raise NameError(\"Cannot access: {}\".format(path))\n",
    "\n",
    "    video = io.open(path, \"r+b\").read()\n",
    "    encoded = base64.b64encode(video)\n",
    "\n",
    "    display(HTML(\n",
    "        data=\"\"\"\n",
    "        <video width=\"320\" height=\"240\" alt=\"test\" controls>\n",
    "        <source src=\"data:video/mp4;base64,{0}\" type=\"video/mp4\"/>\n",
    "        </video>\n",
    "        \"\"\".format(encoded.decode(\"ascii\"))\n",
    "    ))\n",
    "\n",
    "\n",
    "def show_latest_video(video_folder: str) -> str:\n",
    "    \"\"\"Show the most recently recorded video from video folder.\"\"\"\n",
    "    list_of_files = glob.glob(os.path.join(video_folder, \"*.mp4\"))\n",
    "    latest_file = max(list_of_files, key=os.path.getctime)\n",
    "    ipython_show_video(latest_file)\n",
    "    return latest_file\n",
    "\n",
    "\n",
    "latest_file = show_latest_video(video_folder=video_folder)\n",
    "print(\"Played:\", latest_file)"
   ]
  }
 ],
 "metadata": {
  "kernelspec": {
   "name": "python3",
   "language": "python",
   "display_name": "Python 3 (ipykernel)"
  },
  "language_info": {
   "codemirror_mode": {
    "name": "ipython",
    "version": 3
   },
   "file_extension": ".py",
   "mimetype": "text/x-python",
   "name": "python",
   "nbconvert_exporter": "python",
   "pygments_lexer": "ipython3",
   "version": "3.8.12"
  }
 },
 "nbformat": 4,
 "nbformat_minor": 4
}
