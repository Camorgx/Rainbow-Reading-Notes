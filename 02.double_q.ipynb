{
 "cells": [
  {
   "cell_type": "markdown",
   "metadata": {},
   "source": [
    "## Configurations for Colab"
   ]
  },
  {
   "cell_type": "code",
   "execution_count": 1,
   "metadata": {
    "ExecuteTime": {
     "end_time": "2023-09-06T05:30:45.075204500Z",
     "start_time": "2023-09-06T05:30:45.061204200Z"
    }
   },
   "outputs": [],
   "source": [
    "import sys\n",
    "IN_COLAB = \"google.colab\" in sys.modules\n",
    "\n",
    "if IN_COLAB:\n",
    "    !apt install python-opengl\n",
    "    !apt install ffmpeg\n",
    "    !apt install xvfb\n",
    "    !pip install PyVirtualDisplay==3.0\n",
    "    !pip install gymnasium == 0.28.1\n",
    "    from pyvirtualdisplay import Display\n",
    "    \n",
    "    # Start virtual display\n",
    "    dis = Display(visible=0, size=(400, 400))\n",
    "    dis.start()"
   ]
  },
  {
   "cell_type": "markdown",
   "metadata": {},
   "source": [
    "# 02. Double DQN\n",
    "\n",
    "[van Hasselt et al., \"Deep Reinforcement Learning with Double Q-learning.\" arXiv preprint arXiv:1509.06461, 2015.](https://arxiv.org/pdf/1509.06461.pdf)\n",
    "\n",
    "\n",
    "\n",
    "\n",
    "Let's take a close look at the difference between DQN and Double-DQN. The max operator in standard Q-learning and DQN uses the same values both to select and to evaluate an action. This makes it more likely to select overestimated values, resulting in overoptimistic value estimates.\n",
    "\n",
    "$$\n",
    "\\theta_{t+1} = \\theta_t + \\alpha \\big(Y_t^Q - Q(S_t, A_t; \\theta_t)\\big) \\cdot \\nabla_{\\theta_t} Q(S_t, A_t; \\theta_t),\\\\\n",
    "\\text{where } \\alpha \\text{ is a scalar step size and the target } Y_t^Q \\text{is defined as }\\\\\n",
    "Y_t^Q = R_{t+1} + \\gamma \\max_a Q(S_{t+1}, a; \\theta_t).\n",
    "$$\n",
    "\n",
    "In Double Q-learning ([van Hasselt 2010](https://papers.nips.cc/paper/3964-double-q-learning.pdf)), two value functions are learned by assigning experiences randomly to update one of the two value functions, resulting in two sets of weights, $\\theta$ and $\\theta'$. For each update, one set of weights is used to determine the greedy policy and the other to determine its value. For a clear comparison, we can untangle the selection and evaluation in Q-learning and rewrite DQN's target as\n",
    "\n",
    "$$\n",
    "Y_t^Q = R_{t+1} + \\gamma Q(S_{t+1}, \\arg\\max_a Q(S_{t+1}, a; \\theta_t); \\theta_t).\n",
    "$$\n",
    "\n",
    "The Double Q-learning error can then be written as\n",
    "\n",
    "$$\n",
    "Y_t^{DoubleQ} = R_{t+1} + \\gamma Q(S_{t+1}, \\arg\\max_a Q(S_{t+1}, a; \\theta_t); \\theta_t').\n",
    "$$\n",
    "\n",
    "The idea of Double Q-learning is to reduce overestimations by decomposing the max operation in the target into action selection and action evaluation. Although not fully decoupled, the target network in the DQN architecture provides a natural candidate for the second value function, without having to introduce additional networks. In conclusion, the weights of the second network $\\theta_t'$ are replaced with the weights of the target network for the evaluation of the current greedy policy. This makes just a small change in calculating the target value of DQN loss.\n",
    "\n",
    "##### DQN:\n",
    "\n",
    "```\n",
    "target = reward + gamma * dqn_target(next_state).max(dim=1, keepdim=True)[0]\n",
    "```\n",
    "\n",
    "##### DoubleDQN:\n",
    "\n",
    "```\n",
    "selected_action = dqn(next_state).argmax(dim=1, keepdim=True)\n",
    "target = reward + gamma * dqn_target(next_state).gather(1, selected_action)\n",
    "```\n",
    "      "
   ]
  },
  {
   "cell_type": "code",
   "execution_count": 2,
   "metadata": {
    "ExecuteTime": {
     "end_time": "2023-09-06T05:30:46.399153700Z",
     "start_time": "2023-09-06T05:30:45.067204300Z"
    }
   },
   "outputs": [
    {
     "name": "stderr",
     "output_type": "stream",
     "text": [
      "C:\\Users\\18213\\anaconda3\\envs\\Rainbow\\lib\\site-packages\\tqdm\\auto.py:21: TqdmWarning: IProgress not found. Please update jupyter and ipywidgets. See https://ipywidgets.readthedocs.io/en/stable/user_install.html\n",
      "  from .autonotebook import tqdm as notebook_tqdm\n"
     ]
    }
   ],
   "source": [
    "import os\n",
    "from typing import Dict, List, Tuple\n",
    "\n",
    "import gymnasium as gym\n",
    "import matplotlib.pyplot as plt\n",
    "import numpy as np\n",
    "import torch\n",
    "import torch.nn as nn\n",
    "import torch.nn.functional as F\n",
    "import torch.optim as optim\n",
    "from IPython.display import clear_output"
   ]
  },
  {
   "cell_type": "markdown",
   "metadata": {},
   "source": [
    "## Replay buffer\n",
    "\n",
    "Please see *01.dqn.ipynb* for detailed description."
   ]
  },
  {
   "cell_type": "code",
   "execution_count": 3,
   "metadata": {
    "ExecuteTime": {
     "end_time": "2023-09-06T05:30:46.434818Z",
     "start_time": "2023-09-06T05:30:46.395153900Z"
    }
   },
   "outputs": [],
   "source": [
    "class ReplayBuffer:\n",
    "    \"\"\"A simple numpy replay buffer.\"\"\"\n",
    "\n",
    "    def __init__(self, obs_dim: int, size: int, batch_size: int = 32):\n",
    "        self.obs_buf = np.zeros([size, obs_dim], dtype=np.float32)\n",
    "        self.next_obs_buf = np.zeros([size, obs_dim], dtype=np.float32)\n",
    "        self.acts_buf = np.zeros([size], dtype=np.float32)\n",
    "        self.rews_buf = np.zeros([size], dtype=np.float32)\n",
    "        self.done_buf = np.zeros(size, dtype=np.float32)\n",
    "        self.max_size, self.batch_size = size, batch_size\n",
    "        self.ptr, self.size, = 0, 0\n",
    "\n",
    "    def store(\n",
    "        self,\n",
    "        obs: np.ndarray,\n",
    "        act: np.ndarray, \n",
    "        rew: float, \n",
    "        next_obs: np.ndarray, \n",
    "        done: bool,\n",
    "    ):\n",
    "        self.obs_buf[self.ptr] = obs\n",
    "        self.next_obs_buf[self.ptr] = next_obs\n",
    "        self.acts_buf[self.ptr] = act\n",
    "        self.rews_buf[self.ptr] = rew\n",
    "        self.done_buf[self.ptr] = done\n",
    "        self.ptr = (self.ptr + 1) % self.max_size\n",
    "        self.size = min(self.size + 1, self.max_size)\n",
    "\n",
    "    def sample_batch(self) -> Dict[str, np.ndarray]:\n",
    "        idxs = np.random.choice(self.size, size=self.batch_size, replace=False)\n",
    "        return dict(obs=self.obs_buf[idxs],\n",
    "                    next_obs=self.next_obs_buf[idxs],\n",
    "                    acts=self.acts_buf[idxs],\n",
    "                    rews=self.rews_buf[idxs],\n",
    "                    done=self.done_buf[idxs])\n",
    "\n",
    "    def __len__(self) -> int:\n",
    "        return self.size"
   ]
  },
  {
   "cell_type": "markdown",
   "metadata": {},
   "source": [
    "## Network\n",
    "\n",
    "We are going to use a simple network architecture with three fully connected layers and two non-linearity functions (ReLU)."
   ]
  },
  {
   "cell_type": "code",
   "execution_count": 4,
   "metadata": {
    "ExecuteTime": {
     "end_time": "2023-09-06T05:30:46.435820300Z",
     "start_time": "2023-09-06T05:30:46.411816300Z"
    }
   },
   "outputs": [],
   "source": [
    "class Network(nn.Module):\n",
    "    def __init__(self, in_dim: int, out_dim: int):\n",
    "        \"\"\"Initialization.\"\"\"\n",
    "        super(Network, self).__init__()\n",
    "\n",
    "        self.layers = nn.Sequential(\n",
    "            nn.Linear(in_dim, 128), \n",
    "            nn.ReLU(),\n",
    "            nn.Linear(128, 128), \n",
    "            nn.ReLU(), \n",
    "            nn.Linear(128, out_dim)\n",
    "        )\n",
    "\n",
    "    def forward(self, x: torch.Tensor) -> torch.Tensor:\n",
    "        \"\"\"Forward method implementation.\"\"\"\n",
    "        return self.layers(x)"
   ]
  },
  {
   "cell_type": "markdown",
   "metadata": {},
   "source": [
    "## Double DQN Agent\n",
    "\n",
    "Here is a summary of DQNAgent class.\n",
    "\n",
    "| Method           | Note                                                 |\n",
    "| ---              | ---                                                  |\n",
    "|select_action     | select an action from the input state.               |\n",
    "|step              | take an action and return the response of the env.   |\n",
    "|compute_dqn_loss  | return dqn loss.                                     |\n",
    "|update_model      | update the model by gradient descent.                |\n",
    "|target_hard_update| hard update from the local model to the target model.|\n",
    "|train             | train the agent during num_frames.                   |\n",
    "|test              | test the agent (1 episode).                          |\n",
    "|plot              | plot the training progresses.                        |\n",
    "\n",
    "We use `self.dqn` instead of `self.dqn_target` for action selection.\n",
    "\n",
    "```\n",
    "\n",
    "        next_q_value = self.dqn_target(next_state).gather(\n",
    "            1, self.dqn(next_state).argmax(dim=1, keepdim=True)  # Double DQN\n",
    "        ).detach()\n",
    "        mask = 1 - done\n",
    "        target = (reward + self.gamma * next_q_value * mask).to(self.device)\n",
    "```"
   ]
  },
  {
   "cell_type": "code",
   "execution_count": 5,
   "metadata": {
    "ExecuteTime": {
     "end_time": "2023-09-06T05:30:46.457817200Z",
     "start_time": "2023-09-06T05:30:46.422816400Z"
    }
   },
   "outputs": [],
   "source": [
    "class DQNAgent:\n",
    "    \"\"\"DQN Agent interacting with environment.\n",
    "    \n",
    "    Attribute:\n",
    "        env (gym.Env): openAI Gym environment\n",
    "        memory (ReplayBuffer): replay memory to store transitions\n",
    "        batch_size (int): batch size for sampling\n",
    "        epsilon (float): parameter for epsilon greedy policy\n",
    "        epsilon_decay (float): step size to decrease epsilon\n",
    "        max_epsilon (float): max value of epsilon\n",
    "        min_epsilon (float): min value of epsilon\n",
    "        target_update (int): period for target model's hard update\n",
    "        gamma (float): discount factor\n",
    "        dqn (Network): model to train and select actions\n",
    "        dqn_target (Network): target model to update\n",
    "        optimizer (torch.optim): optimizer for training dqn\n",
    "        transition (list): transition information including \n",
    "                           state, action, reward, next_state, done\n",
    "    \"\"\"\n",
    "\n",
    "    def __init__(\n",
    "        self, \n",
    "        env: gym.Env,\n",
    "        memory_size: int,\n",
    "        batch_size: int,\n",
    "        target_update: int,\n",
    "        epsilon_decay: float,\n",
    "        seed: int,\n",
    "        max_epsilon: float = 1.0,\n",
    "        min_epsilon: float = 0.1,\n",
    "        gamma: float = 0.99,\n",
    "    ):\n",
    "        \"\"\"Initialization.\n",
    "        \n",
    "        Args:\n",
    "            env (gym.Env): openAI Gym environment\n",
    "            memory_size (int): length of memory\n",
    "            batch_size (int): batch size for sampling\n",
    "            target_update (int): period for target model's hard update\n",
    "            epsilon_decay (float): step size to decrease epsilon\n",
    "            lr (float): learning rate\n",
    "            max_epsilon (float): max value of epsilon\n",
    "            min_epsilon (float): min value of epsilon\n",
    "            gamma (float): discount factor\n",
    "        \"\"\"\n",
    "        obs_dim = env.observation_space.shape[0]\n",
    "        action_dim = env.action_space.n\n",
    "        \n",
    "        self.env = env\n",
    "        self.memory = ReplayBuffer(obs_dim, memory_size, batch_size)\n",
    "        self.batch_size = batch_size\n",
    "        self.epsilon = max_epsilon\n",
    "        self.epsilon_decay = epsilon_decay\n",
    "        self.seed = seed\n",
    "        self.max_epsilon = max_epsilon\n",
    "        self.min_epsilon = min_epsilon\n",
    "        self.target_update = target_update\n",
    "        self.gamma = gamma\n",
    "        \n",
    "        # device: cpu / gpu\n",
    "        self.device = torch.device(\n",
    "            \"cuda\" if torch.cuda.is_available() else \"cpu\"\n",
    "        )\n",
    "        print(self.device)\n",
    "\n",
    "        # networks: dqn, dqn_target\n",
    "        self.dqn = Network(obs_dim, action_dim).to(self.device)\n",
    "        self.dqn_target = Network(obs_dim, action_dim).to(self.device)\n",
    "        self.dqn_target.load_state_dict(self.dqn.state_dict())\n",
    "        self.dqn_target.eval()\n",
    "        \n",
    "        # optimizer\n",
    "        self.optimizer = optim.Adam(self.dqn.parameters())\n",
    "\n",
    "        # transition to store in memory\n",
    "        self.transition = list()\n",
    "        \n",
    "        # mode: train / test\n",
    "        self.is_test = False\n",
    "\n",
    "    def select_action(self, state: np.ndarray) -> np.ndarray:\n",
    "        \"\"\"Select an action from the input state.\"\"\"\n",
    "        # epsilon greedy policy\n",
    "        if self.epsilon > np.random.random():\n",
    "            selected_action = self.env.action_space.sample()\n",
    "        else:\n",
    "            selected_action = self.dqn(\n",
    "                torch.FloatTensor(state).to(self.device)\n",
    "            ).argmax()\n",
    "            selected_action = selected_action.detach().cpu().numpy()\n",
    "        \n",
    "        if not self.is_test:\n",
    "            self.transition = [state, selected_action]\n",
    "        \n",
    "        return selected_action\n",
    "\n",
    "    def step(self, action: np.ndarray) -> Tuple[np.ndarray, np.float64, bool]:\n",
    "        \"\"\"Take an action and return the response of the env.\"\"\"\n",
    "        next_state, reward, terminated, truncated, _ = self.env.step(action)\n",
    "        done = terminated or truncated\n",
    "\n",
    "        if not self.is_test:\n",
    "            self.transition += [reward, next_state, done]\n",
    "            self.memory.store(*self.transition)\n",
    "    \n",
    "        return next_state, reward, done\n",
    "\n",
    "    def update_model(self) -> torch.Tensor:\n",
    "        \"\"\"Update the model by gradient descent.\"\"\"\n",
    "        samples = self.memory.sample_batch()\n",
    "\n",
    "        loss = self._compute_dqn_loss(samples)\n",
    "\n",
    "        self.optimizer.zero_grad()\n",
    "        loss.backward()\n",
    "        self.optimizer.step()\n",
    "\n",
    "        return loss.item()\n",
    "        \n",
    "    def train(self, num_frames: int, plotting_interval: int = 200):\n",
    "        \"\"\"Train the agent.\"\"\"\n",
    "        self.is_test = False\n",
    "        \n",
    "        state, _ = self.env.reset(seed=self.seed)\n",
    "        update_cnt = 0\n",
    "        epsilons = []\n",
    "        losses = []\n",
    "        scores = []\n",
    "        score = 0\n",
    "\n",
    "        for frame_idx in range(1, num_frames + 1):\n",
    "            action = self.select_action(state)\n",
    "            next_state, reward, done = self.step(action)\n",
    "\n",
    "            state = next_state\n",
    "            score += reward\n",
    "\n",
    "            # if episode ends\n",
    "            if done:\n",
    "                state, _ = self.env.reset(seed=self.seed)\n",
    "                scores.append(score)\n",
    "                score = 0\n",
    "\n",
    "            # if training is ready\n",
    "            if len(self.memory) >= self.batch_size:\n",
    "                loss = self.update_model()\n",
    "                losses.append(loss)\n",
    "                update_cnt += 1\n",
    "                \n",
    "                # linearly decrease epsilon\n",
    "                self.epsilon = max(\n",
    "                    self.min_epsilon, self.epsilon - (\n",
    "                        self.max_epsilon - self.min_epsilon\n",
    "                    ) * self.epsilon_decay\n",
    "                )\n",
    "                epsilons.append(self.epsilon)\n",
    "                \n",
    "                # if hard update is needed\n",
    "                if update_cnt % self.target_update == 0:\n",
    "                    self._target_hard_update()\n",
    "\n",
    "            # plotting\n",
    "            if frame_idx % plotting_interval == 0:\n",
    "                self._plot(frame_idx, scores, losses, epsilons)\n",
    "                \n",
    "        self.env.close()\n",
    "                \n",
    "    def test(self, video_folder: str) -> None:\n",
    "        \"\"\"Test the agent.\"\"\"\n",
    "        self.is_test = True\n",
    "        \n",
    "        # for recording a video\n",
    "        naive_env = self.env\n",
    "        self.env = gym.wrappers.RecordVideo(self.env, video_folder=video_folder)\n",
    "        \n",
    "        state, _ = self.env.reset(seed=self.seed)\n",
    "        done = False\n",
    "        score = 0\n",
    "        \n",
    "        while not done:\n",
    "            action = self.select_action(state)\n",
    "            next_state, reward, done = self.step(action)\n",
    "\n",
    "            state = next_state\n",
    "            score += reward\n",
    "        \n",
    "        print(\"score: \", score)\n",
    "        self.env.close()\n",
    "        \n",
    "        # reset\n",
    "        self.env = naive_env\n",
    "\n",
    "    def _compute_dqn_loss(self, samples: Dict[str, np.ndarray]) -> torch.Tensor:\n",
    "        \"\"\"Return dqn loss.\"\"\"\n",
    "        device = self.device  # for shortening the following lines\n",
    "        state = torch.FloatTensor(samples[\"obs\"]).to(device)\n",
    "        next_state = torch.FloatTensor(samples[\"next_obs\"]).to(device)\n",
    "        action = torch.LongTensor(samples[\"acts\"].reshape(-1, 1)).to(device)\n",
    "        reward = torch.FloatTensor(samples[\"rews\"].reshape(-1, 1)).to(device)\n",
    "        done = torch.FloatTensor(samples[\"done\"].reshape(-1, 1)).to(device)\n",
    "        \n",
    "        # G_t   = r + gamma * v(s_{t+1})  if state != Terminal\n",
    "        #       = r                       otherwise\n",
    "        curr_q_value = self.dqn(state).gather(1, action)\n",
    "        next_q_value = self.dqn_target(next_state).gather(  # Double DQN\n",
    "            1, self.dqn(next_state).argmax(dim=1, keepdim=True)\n",
    "        ).detach()\n",
    "        mask = 1 - done\n",
    "        target = (reward + self.gamma * next_q_value * mask).to(self.device)\n",
    "\n",
    "        # calculate dqn loss\n",
    "        loss = F.smooth_l1_loss(curr_q_value, target)\n",
    "\n",
    "        return loss\n",
    "    \n",
    "    def _target_hard_update(self):\n",
    "        \"\"\"Hard update: target <- local.\"\"\"\n",
    "        self.dqn_target.load_state_dict(self.dqn.state_dict())\n",
    "                \n",
    "    def _plot(\n",
    "        self, \n",
    "        frame_idx: int, \n",
    "        scores: List[float], \n",
    "        losses: List[float], \n",
    "        epsilons: List[float],\n",
    "    ):\n",
    "        \"\"\"Plot the training progresses.\"\"\"\n",
    "        clear_output(True)\n",
    "        plt.figure(figsize=(20, 5))\n",
    "        plt.subplot(131)\n",
    "        plt.title('frame %s. score: %s' % (frame_idx, np.mean(scores[-10:])))\n",
    "        plt.plot(scores)\n",
    "        plt.subplot(132)\n",
    "        plt.title('loss')\n",
    "        plt.plot(losses)\n",
    "        plt.subplot(133)\n",
    "        plt.title('epsilons')\n",
    "        plt.plot(epsilons)\n",
    "        plt.show()"
   ]
  },
  {
   "cell_type": "markdown",
   "metadata": {},
   "source": [
    "## Environment\n",
    "\n",
    "You can see the [code](https://github.com/Farama-Foundation/Gymnasium/blob/main/gymnasium/envs/classic_control/cartpole.py) and [configurations](https://github.com/Farama-Foundation/Gymnasium/blob/main/gymnasium/envs/classic_control/cartpole.py#L91) of CartPole-v1 from Farama Gymnasium's repository."
   ]
  },
  {
   "cell_type": "code",
   "execution_count": 6,
   "metadata": {
    "ExecuteTime": {
     "end_time": "2023-09-06T05:30:46.482816800Z",
     "start_time": "2023-09-06T05:30:46.452817100Z"
    }
   },
   "outputs": [],
   "source": [
    "# environment\n",
    "env = gym.make(\"CartPole-v1\", max_episode_steps=200, render_mode=\"rgb_array\")"
   ]
  },
  {
   "cell_type": "markdown",
   "metadata": {},
   "source": [
    "## Set random seed"
   ]
  },
  {
   "cell_type": "code",
   "execution_count": 7,
   "metadata": {
    "ExecuteTime": {
     "end_time": "2023-09-06T05:30:46.484816600Z",
     "start_time": "2023-09-06T05:30:46.470816800Z"
    }
   },
   "outputs": [],
   "source": [
    "seed = 777\n",
    "\n",
    "def seed_torch(seed):\n",
    "    torch.manual_seed(seed)\n",
    "    if torch.backends.cudnn.enabled:\n",
    "        torch.cuda.manual_seed(seed)\n",
    "        torch.backends.cudnn.benchmark = False\n",
    "        torch.backends.cudnn.deterministic = True\n",
    "\n",
    "np.random.seed(seed)\n",
    "seed_torch(seed)"
   ]
  },
  {
   "cell_type": "markdown",
   "metadata": {},
   "source": [
    "## Initialize"
   ]
  },
  {
   "cell_type": "code",
   "execution_count": 8,
   "metadata": {
    "ExecuteTime": {
     "end_time": "2023-09-06T05:30:47.449002400Z",
     "start_time": "2023-09-06T05:30:46.485817900Z"
    }
   },
   "outputs": [
    {
     "name": "stdout",
     "output_type": "stream",
     "text": [
      "cuda\n"
     ]
    }
   ],
   "source": [
    "# parameters\n",
    "num_frames = 10000\n",
    "memory_size = 1000\n",
    "batch_size = 32\n",
    "target_update = 200\n",
    "epsilon_decay = 1 / 2000\n",
    "\n",
    "# train\n",
    "agent = DQNAgent(env, memory_size, batch_size, target_update, epsilon_decay, seed)"
   ]
  },
  {
   "cell_type": "markdown",
   "metadata": {},
   "source": [
    "## Train"
   ]
  },
  {
   "cell_type": "code",
   "execution_count": 9,
   "metadata": {},
   "outputs": [
    {
     "data": {
      "text/plain": "<Figure size 2000x500 with 3 Axes>",
      "image/png": "[encoded data removed]"
     },
     "metadata": {},
     "output_type": "display_data"
    }
   ],
   "source": [
    "agent.train(num_frames)"
   ]
  },
  {
   "cell_type": "markdown",
   "metadata": {},
   "source": [
    "## Test\n",
    "\n",
    "Run the trained agent (1 episode)."
   ]
  },
  {
   "cell_type": "code",
   "execution_count": 10,
   "metadata": {
    "ExecuteTime": {
     "end_time": "2023-09-06T05:31:27.893346500Z",
     "start_time": "2023-09-06T05:31:26.803894100Z"
    }
   },
   "outputs": [
    {
     "name": "stderr",
     "output_type": "stream",
     "text": [
      "C:\\Users\\18213\\anaconda3\\envs\\Rainbow\\lib\\site-packages\\gymnasium\\wrappers\\record_video.py:87: UserWarning: \u001B[33mWARN: Overwriting existing videos at C:\\Users\\18213\\Source\\Rainbow Reading Notes\\videos\\double_q folder (try specifying a different `video_folder` for the `RecordVideo` wrapper if this is not desired)\u001B[0m\n",
      "  logger.warn(\n"
     ]
    },
    {
     "name": "stdout",
     "output_type": "stream",
     "text": [
      "Moviepy - Building video C:\\Users\\18213\\Source\\Rainbow Reading Notes\\videos\\double_q\\rl-video-episode-0.mp4.\n",
      "Moviepy - Writing video C:\\Users\\18213\\Source\\Rainbow Reading Notes\\videos\\double_q\\rl-video-episode-0.mp4\n"
     ]
    },
    {
     "name": "stderr",
     "output_type": "stream",
     "text": [
      "                                                              "
     ]
    },
    {
     "name": "stdout",
     "output_type": "stream",
     "text": [
      "Moviepy - Done !\n",
      "Moviepy - video ready C:\\Users\\18213\\Source\\Rainbow Reading Notes\\videos\\double_q\\rl-video-episode-0.mp4\n",
      "score:  141.0\n"
     ]
    },
    {
     "name": "stderr",
     "output_type": "stream",
     "text": [
      "\r"
     ]
    }
   ],
   "source": [
    "video_folder=\"videos/double_q\"\n",
    "agent.test(video_folder=video_folder)"
   ]
  },
  {
   "cell_type": "markdown",
   "metadata": {},
   "source": [
    "## Render"
   ]
  },
  {
   "cell_type": "code",
   "execution_count": 11,
   "metadata": {
    "ExecuteTime": {
     "end_time": "2023-09-06T05:31:27.909346700Z",
     "start_time": "2023-09-06T05:31:27.887347700Z"
    }
   },
   "outputs": [
    {
     "data": {
      "text/plain": "<IPython.core.display.HTML object>",
      "text/html": "\n        <video width=\"320\" height=\"240\" alt=\"test\" controls>\n        <source src=\"data:video/mp4;base64,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\" type=\"video/mp4\"/>\n        </video>\n        "
     },
     "metadata": {},
     "output_type": "display_data"
    },
    {
     "name": "stdout",
     "output_type": "stream",
     "text": [
      "Played: videos/double_q\\rl-video-episode-0.mp4\n"
     ]
    }
   ],
   "source": [
    "import base64\n",
    "import glob\n",
    "import io\n",
    "import os\n",
    "\n",
    "from IPython.display import HTML, display\n",
    "\n",
    "\n",
    "def ipython_show_video(path: str) -> None:\n",
    "    \"\"\"Show a video at `path` within IPython Notebook.\"\"\"\n",
    "    if not os.path.isfile(path):\n",
    "        raise NameError(\"Cannot access: {}\".format(path))\n",
    "\n",
    "    video = io.open(path, \"r+b\").read()\n",
    "    encoded = base64.b64encode(video)\n",
    "\n",
    "    display(HTML(\n",
    "        data=\"\"\"\n",
    "        <video width=\"320\" height=\"240\" alt=\"test\" controls>\n",
    "        <source src=\"data:video/mp4;base64,{0}\" type=\"video/mp4\"/>\n",
    "        </video>\n",
    "        \"\"\".format(encoded.decode(\"ascii\"))\n",
    "    ))\n",
    "\n",
    "\n",
    "def show_latest_video(video_folder: str) -> str:\n",
    "    \"\"\"Show the most recently recorded video from video folder.\"\"\"\n",
    "    list_of_files = glob.glob(os.path.join(video_folder, \"*.mp4\"))\n",
    "    latest_file = max(list_of_files, key=os.path.getctime)\n",
    "    ipython_show_video(latest_file)\n",
    "    return latest_file\n",
    "\n",
    "\n",
    "latest_file = show_latest_video(video_folder=video_folder)\n",
    "print(\"Played:\", latest_file)"
   ]
  }
 ],
 "metadata": {
  "kernelspec": {
   "name": "python3",
   "language": "python",
   "display_name": "Python 3 (ipykernel)"
  },
  "language_info": {
   "codemirror_mode": {
    "name": "ipython",
    "version": 3
   },
   "file_extension": ".py",
   "mimetype": "text/x-python",
   "name": "python",
   "nbconvert_exporter": "python",
   "pygments_lexer": "ipython3",
   "version": "3.8.12"
  }
 },
 "nbformat": 4,
 "nbformat_minor": 4
}
