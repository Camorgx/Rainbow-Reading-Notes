{
 "cells": [
  {
   "cell_type": "markdown",
   "metadata": {},
   "source": [
    "## Configurations for Colab"
   ]
  },
  {
   "cell_type": "code",
   "execution_count": 3,
   "metadata": {
    "ExecuteTime": {
     "end_time": "2023-08-24T07:38:23.421513800Z",
     "start_time": "2023-08-24T07:38:23.394774400Z"
    }
   },
   "outputs": [],
   "source": [
    "import sys\n",
    "IN_COLAB = \"google.colab\" in sys.modules\n",
    "\n",
    "if IN_COLAB:\n",
    "    !apt install python-opengl\n",
    "    !apt install ffmpeg\n",
    "    !apt install xvfb\n",
    "    !pip install PyVirtualDisplay==3.0\n",
    "    !pip install gymnasium == 0.28.1\n",
    "    from pyvirtualdisplay import Display\n",
    "    \n",
    "    # Start virtual display\n",
    "    dis = Display(visible=0, size=(400, 400))\n",
    "    dis.start()"
   ]
  },
  {
   "cell_type": "markdown",
   "metadata": {},
   "source": [
    "# 01. DQN\n",
    "\n",
    "[V. Mnih et al., \"Human-level control through deep reinforcement learning.\" Nature, 518\n",
    "(7540):529–533, 2015.](https://storage.googleapis.com/deepmind-media/dqn/DQNNaturePaper.pdf)\n",
    "\n",
    "Reinforcement learning is known to be unstable or even to diverge when a nonlinear function approximator such as a neural network is used to represent the action-value (also known as $Q$) function. This instability has several causes: the correlations present in the sequence of observations, the fact that small updates to $Q$ may significantly change the policy and therefore change the data distribution, and the correlations between the action-values ($Q$) and the target values $r + \\gamma \\max_{a'} Q(s', a')$.\n",
    "\n",
    "The authors suggest two key ideas to address these instabilities with a novel variant of Q-learning: Replay buffer and Fixed Q-target.\n",
    "\n",
    "#### Uniformly random sampling from Experience Replay Memory\n",
    "\n",
    "Reinforcement learning agent stores the experiences consecutively in the buffer, so adjacent ($s, a, r, s'$) transitions stored are highly likely to have correlation. To remove this, the agent samples experiences uniformly at random from the pool of stored samples $\\big( (s, a, r, s') \\sim U(D) \\big)$. See sample_batch method of ReplayBuffer class for more details.\n",
    "\n",
    "#### Fixed Q-target\n",
    "\n",
    "DQN uses an iterative update that adjusts the action-values ($Q$) towards target values that are only periodically updated, thereby reducing correlations with the target; if not, it is easily divergy because the target continuously moves. The Q-learning update at iteration $i$ uses the following loss function:\n",
    "\n",
    "$$\n",
    "L_i(\\theta_i) = \\mathbb{E}_{(s,a,r,s') \\sim U(D)} \\big[ \\big( r + \\gamma \\max_{a'} Q(s',a';\\theta_i^-) - Q(s, a; \\theta_i) \\big)^2 \\big]\n",
    "$$\n",
    "\n",
    "in which $\\gamma$ is the discount factor determining the agent’s horizon, $\\theta_i$ are the parameters of the Q-network at iteration $i$ and $\\theta_i^-$ are the network parameters used to compute the target at iteration $i$. The target network parameters $\\theta_i^-$ are only updated with the Q-network parameters ($\\theta_i$) every C steps and are held fixed between individual updates. ($C = 200$ in CartPole-v0)\n",
    "\n",
    "#### For more stability: Gradient clipping\n",
    "\n",
    "The authors also found it helpful to clip the error term from the update $r + \\gamma \\max_{a'} Q(s', a'; \\theta_i^-) - Q(s,a,;\\theta_i)$ to be between -1 and 1. Because the absolute value loss function $|x|$ has a derivative of -1 for all negative values of x and a derivative of 1 for all positive values of x, clipping the squared error to be between -1 and 1 corresponds to using an absolute value loss function for errors outside of the (-1,1) interval. This form of error clipping further improved the stability of the algorithm."
   ]
  },
  {
   "cell_type": "code",
   "execution_count": 4,
   "metadata": {
    "ExecuteTime": {
     "end_time": "2023-08-24T07:38:31.203008600Z",
     "start_time": "2023-08-24T07:38:29.721946Z"
    }
   },
   "outputs": [
    {
     "name": "stderr",
     "output_type": "stream",
     "text": [
      "C:\\Users\\18213\\anaconda3\\envs\\Rainbow\\lib\\site-packages\\tqdm\\auto.py:21: TqdmWarning: IProgress not found. Please update jupyter and ipywidgets. See https://ipywidgets.readthedocs.io/en/stable/user_install.html\n",
      "  from .autonotebook import tqdm as notebook_tqdm\n"
     ]
    }
   ],
   "source": [
    "import os\n",
    "from typing import Dict, List, Tuple\n",
    "\n",
    "import gymnasium as gym\n",
    "import matplotlib.pyplot as plt\n",
    "import numpy as np\n",
    "import torch\n",
    "import torch.nn as nn\n",
    "import torch.nn.functional as F\n",
    "import torch.optim as optim\n",
    "from IPython.display import clear_output"
   ]
  },
  {
   "cell_type": "markdown",
   "metadata": {},
   "source": [
    "## Replay buffer\n",
    "\n",
    "Typically, people implement replay buffers with one of the following three data structures:\n",
    "\n",
    "  - collections.deque\n",
    "  - list\n",
    "  - numpy.ndarray\n",
    "  \n",
    "**deque** is very easy to handle once you initialize its maximum length (e.g. deque(maxlen=buffer_size)). However, the indexing operation of deque gets terribly slow as it grows up because it is [internally doubly linked list](https://wiki.python.org/moin/TimeComplexity#collections.deque). On the other hands, **list** is an array, so it is relatively faster than deque when you sample batches at every step. Its amortized cost of  *Get item* is [O(1)](https://wiki.python.org/moin/TimeComplexity#list).\n",
    "\n",
    "Last but not least, let's see **numpy.ndarray**. numpy.ndarray is even faster than list due to the fact that it is [a homogeneous array of fixed-size items](https://docs.scipy.org/doc/numpy/reference/generated/numpy.ndarray.html#numpy.ndarray), so you can get the benefits of [locality of reference](https://en.wikipedia.org/wiki/Locality_of_reference). Whereas list is an array of pointers to objects, even when all of them are of the same type.\n",
    "\n",
    "Here, we are going to implement a replay buffer using numpy.ndarray.\n",
    "\n",
    "\n",
    "Reference: [OpenAI spinning-up](https://github.com/openai/spinningup/blob/master/spinup/algos/sac/sac.py#L10)"
   ]
  },
  {
   "cell_type": "code",
   "execution_count": 5,
   "metadata": {
    "ExecuteTime": {
     "end_time": "2023-08-24T07:57:50.793233400Z",
     "start_time": "2023-08-24T07:57:50.779906200Z"
    }
   },
   "outputs": [],
   "source": [
    "class ReplayBuffer:\n",
    "    \"\"\"A simple numpy replay buffer.\"\"\"\n",
    "\n",
    "    def __init__(self, obs_dim: int, size: int, batch_size: int = 32):\n",
    "        self.obs_buf = np.zeros([size, obs_dim], dtype=np.float32)          # s  buffer\n",
    "        self.next_obs_buf = np.zeros([size, obs_dim], dtype=np.float32)     # s' buffer\n",
    "        self.acts_buf = np.zeros([size], dtype=np.float32)                  # a  buffer\n",
    "        self.rews_buf = np.zeros([size], dtype=np.float32)                  # r  buffer\n",
    "        self.done_buf = np.zeros(size, dtype=np.float32)              # 标记一个 episode是否结束\n",
    "        self.max_size, self.batch_size = size, batch_size\n",
    "        self.ptr, self.size, = 0, 0\n",
    "\n",
    "    def store(\n",
    "        self,\n",
    "        obs: np.ndarray,        # s\n",
    "        act: np.ndarray,        # a\n",
    "        rew: float,             # r\n",
    "        next_obs: np.ndarray,   # s'\n",
    "        done: bool,\n",
    "    ):\n",
    "        self.obs_buf[self.ptr] = obs\n",
    "        self.next_obs_buf[self.ptr] = next_obs\n",
    "        self.acts_buf[self.ptr] = act\n",
    "        self.rews_buf[self.ptr] = rew\n",
    "        self.done_buf[self.ptr] = done\n",
    "        self.ptr = (self.ptr + 1) % self.max_size       # 循环队列\n",
    "        self.size = min(self.size + 1, self.max_size)   # 新数据覆盖旧数据\n",
    "\n",
    "    def sample_batch(self) -> Dict[str, np.ndarray]:\n",
    "        # 随机选择 batch_size 个样本\n",
    "        idxs = np.random.choice(self.size, size=self.batch_size, replace=False)\n",
    "        return dict(obs=self.obs_buf[idxs],\n",
    "                    next_obs=self.next_obs_buf[idxs],\n",
    "                    acts=self.acts_buf[idxs],\n",
    "                    rews=self.rews_buf[idxs],\n",
    "                    done=self.done_buf[idxs])\n",
    "\n",
    "    def __len__(self) -> int:\n",
    "        return self.size"
   ]
  },
  {
   "cell_type": "markdown",
   "metadata": {},
   "source": [
    "## Network\n",
    "\n",
    "We are going to use a simple network architecture with three fully connected layers and two non-linearity functions (ReLU)."
   ]
  },
  {
   "cell_type": "code",
   "execution_count": 6,
   "metadata": {
    "ExecuteTime": {
     "end_time": "2023-08-24T07:58:05.379873300Z",
     "start_time": "2023-08-24T07:58:05.360379600Z"
    }
   },
   "outputs": [],
   "source": [
    "class Network(nn.Module):  # 一个简单的多层感知机\n",
    "    def __init__(self, in_dim: int, out_dim: int):\n",
    "        \"\"\"Initialization.\"\"\"\n",
    "        super(Network, self).__init__()\n",
    "\n",
    "        self.layers = nn.Sequential(\n",
    "            nn.Linear(in_dim, 128), \n",
    "            nn.ReLU(),\n",
    "            nn.Linear(128, 128), \n",
    "            nn.ReLU(), \n",
    "            nn.Linear(128, out_dim)\n",
    "        )\n",
    "\n",
    "    def forward(self, x: torch.Tensor) -> torch.Tensor:\n",
    "        \"\"\"Forward method implementation.\"\"\"\n",
    "        return self.layers(x)"
   ]
  },
  {
   "cell_type": "markdown",
   "metadata": {},
   "source": [
    "## DQN Agent\n",
    "\n",
    "Here is a summary of DQNAgent class.\n",
    "\n",
    "| Method           | Note                                                 |\n",
    "| ---              | ---                                                  |\n",
    "|select_action     | select an action from the input state.               |\n",
    "|step              | take an action and return the response of the env.   |\n",
    "|compute_dqn_loss  | return dqn loss.                                     |\n",
    "|update_model      | update the model by gradient descent.                |\n",
    "|target_hard_update| hard update from the local model to the target model.|\n",
    "|train             | train the agent during num_frames.                   |\n",
    "|test              | test the agent (1 episode).                          |\n",
    "|plot              | plot the training progresses.                        |\n"
   ]
  },
  {
   "cell_type": "code",
   "execution_count": 7,
   "metadata": {
    "ExecuteTime": {
     "end_time": "2023-08-24T07:58:15.359624800Z",
     "start_time": "2023-08-24T07:58:15.332817400Z"
    }
   },
   "outputs": [],
   "source": [
    "class DQNAgent:\n",
    "    \"\"\"DQN Agent interacting with environment.\n",
    "    \n",
    "    Attribute:\n",
    "        env (gym.Env): openAI Gym environment\n",
    "        memory (ReplayBuffer): replay memory to store transitions\n",
    "        batch_size (int): batch size for sampling\n",
    "        epsilon (float): parameter for epsilon greedy policy\n",
    "        epsilon_decay (float): step size to decrease epsilon\n",
    "        max_epsilon (float): max value of epsilon\n",
    "        min_epsilon (float): min value of epsilon\n",
    "        target_update (int): period for target model's hard update\n",
    "        gamma (float): discount factor\n",
    "        dqn (Network): model to train and select actions\n",
    "        dqn_target (Network): target model to update\n",
    "        optimizer (torch.optim): optimizer for training dqn\n",
    "        transition (list): transition information including \n",
    "                           state, action, reward, next_state, done\n",
    "    \"\"\"\n",
    "\n",
    "    def __init__(\n",
    "        self, \n",
    "        env: gym.Env,\n",
    "        memory_size: int,\n",
    "        batch_size: int,\n",
    "        target_update: int,\n",
    "        epsilon_decay: float,\n",
    "        seed: int,\n",
    "        max_epsilon: float = 1.0,\n",
    "        min_epsilon: float = 0.1,\n",
    "        gamma: float = 0.99,\n",
    "    ):\n",
    "        \"\"\"Initialization.\n",
    "        \n",
    "        Args:\n",
    "            env (gym.Env): openAI Gym environment\n",
    "            memory_size (int): length of memory\n",
    "            batch_size (int): batch size for sampling\n",
    "            target_update (int): period for target model's hard update\n",
    "            epsilon_decay (float): step size to decrease epsilon\n",
    "            lr (float): learning rate\n",
    "            max_epsilon (float): max value of epsilon\n",
    "            min_epsilon (float): min value of epsilon\n",
    "            gamma (float): discount factor\n",
    "        \"\"\"\n",
    "        obs_dim = env.observation_space.shape[0]\n",
    "        action_dim = env.action_space.n\n",
    "        \n",
    "        self.env = env\n",
    "        self.memory = ReplayBuffer(obs_dim, memory_size, batch_size)\n",
    "        self.batch_size = batch_size\n",
    "        self.epsilon = max_epsilon\n",
    "        self.epsilon_decay = epsilon_decay\n",
    "        self.seed = seed\n",
    "        self.max_epsilon = max_epsilon\n",
    "        self.min_epsilon = min_epsilon\n",
    "        self.target_update = target_update\n",
    "        self.gamma = gamma\n",
    "        \n",
    "        # device: cpu / gpu\n",
    "        self.device = torch.device(\n",
    "            \"cuda\" if torch.cuda.is_available() else \"cpu\"\n",
    "        )\n",
    "        print(self.device)\n",
    "\n",
    "        # networks: dqn, dqn_target\n",
    "        self.dqn = Network(obs_dim, action_dim).to(self.device)         # 训练网络\n",
    "        self.dqn_target = Network(obs_dim, action_dim).to(self.device)  # 目标网络\n",
    "        self.dqn_target.load_state_dict(self.dqn.state_dict())\n",
    "        self.dqn_target.eval()\n",
    "        \n",
    "        # optimizer\n",
    "        self.optimizer = optim.Adam(self.dqn.parameters())\n",
    "\n",
    "        # transition to store in memory\n",
    "        self.transition = list()\n",
    "        \n",
    "        # mode: train / test\n",
    "        self.is_test = False\n",
    "\n",
    "    def select_action(self, state: np.ndarray) -> np.ndarray:\n",
    "        \"\"\"Select an action from the input state.\"\"\"\n",
    "        # epsilon greedy policy\n",
    "        if self.epsilon > np.random.random():\n",
    "            selected_action = self.env.action_space.sample()            # 随机选择 action\n",
    "        else:\n",
    "            selected_action = self.dqn(\n",
    "                torch.FloatTensor(state).to(self.device)\n",
    "            ).argmax()                                                  # 使用网络预测的值\n",
    "            selected_action = selected_action.detach().cpu().numpy()\n",
    "        \n",
    "        if not self.is_test:\n",
    "            self.transition = [state, selected_action]      # [s, a]\n",
    "        \n",
    "        return selected_action\n",
    "\n",
    "    def step(self, action: np.ndarray) -> Tuple[np.ndarray, np.float64, bool]:\n",
    "        \"\"\"Take an action and return the response of the env.\"\"\"\n",
    "        next_state, reward, terminated, truncated, _ = self.env.step(action)\n",
    "        done = terminated or truncated\n",
    "\n",
    "        if not self.is_test:\n",
    "            self.transition += [reward, next_state, done]   # [s, a, r, s', done]\n",
    "            self.memory.store(*self.transition)             # 一种新奇的传参方式\n",
    "    \n",
    "        return next_state, reward, done\n",
    "\n",
    "    def update_model(self) -> torch.Tensor:\n",
    "        \"\"\"Update the model by gradient descent.\"\"\"\n",
    "        samples = self.memory.sample_batch()\n",
    "\n",
    "        loss = self._compute_dqn_loss(samples)\n",
    "\n",
    "        self.optimizer.zero_grad()\n",
    "        loss.backward()\n",
    "        self.optimizer.step()\n",
    "\n",
    "        return loss.item()\n",
    "        \n",
    "    def train(self, num_frames: int, plotting_interval: int = 200):\n",
    "        \"\"\"Train the agent.\"\"\"\n",
    "        self.is_test = False\n",
    "        \n",
    "        state, _ = self.env.reset(seed=self.seed)\n",
    "        update_cnt = 0\n",
    "        epsilons = []\n",
    "        losses = []\n",
    "        scores = []\n",
    "        score = 0\n",
    "\n",
    "        for frame_idx in range(1, num_frames + 1):\n",
    "            action = self.select_action(state)\n",
    "            next_state, reward, done = self.step(action)\n",
    "\n",
    "            state = next_state\n",
    "            score += reward\n",
    "\n",
    "            # if episode ends\n",
    "            if done:\n",
    "                state, _ = self.env.reset(seed=self.seed)\n",
    "                scores.append(score)\n",
    "                score = 0\n",
    "\n",
    "            # if training is ready\n",
    "            if len(self.memory) >= self.batch_size:\n",
    "                loss = self.update_model()\n",
    "                losses.append(loss)\n",
    "                update_cnt += 1\n",
    "                \n",
    "                '''\n",
    "                指数衰减：\n",
    "                min_epsilon + (max_epsilon - min_epsilon) * \n",
    "                    exp(-1. * frame_idx / epsilon_decay)\n",
    "                '''\n",
    "                # linearly decrease epsilon\n",
    "                self.epsilon = max(\n",
    "                    self.min_epsilon, self.epsilon - (\n",
    "                        self.max_epsilon - self.min_epsilon\n",
    "                    ) * self.epsilon_decay\n",
    "                )\n",
    "                epsilons.append(self.epsilon)\n",
    "                \n",
    "                # if hard update is needed\n",
    "                if update_cnt % self.target_update == 0:\n",
    "                    self._target_hard_update()  # 将训练网络的参数拷贝到目标网络\n",
    "\n",
    "            # plotting\n",
    "            if frame_idx % plotting_interval == 0:\n",
    "                self._plot(frame_idx, scores, losses, epsilons)\n",
    "                \n",
    "        self.env.close()\n",
    "                \n",
    "    def test(self, video_folder: str) -> None:\n",
    "        \"\"\"Test the agent.\"\"\"\n",
    "        self.is_test = True\n",
    "        \n",
    "        # for recording a video\n",
    "        naive_env = self.env\n",
    "        self.env = gym.wrappers.RecordVideo(self.env, video_folder=video_folder)\n",
    "        \n",
    "        state, _ = self.env.reset(seed=self.seed)\n",
    "        done = False\n",
    "        score = 0\n",
    "        \n",
    "        while not done:\n",
    "            action = self.select_action(state)\n",
    "            next_state, reward, done = self.step(action)\n",
    "\n",
    "            state = next_state\n",
    "            score += reward\n",
    "        \n",
    "        print(\"score: \", score)\n",
    "        self.env.close()\n",
    "        \n",
    "        # reset\n",
    "        self.env = naive_env\n",
    "\n",
    "    def _compute_dqn_loss(self, samples: Dict[str, np.ndarray]) -> torch.Tensor:\n",
    "        \"\"\"Return dqn loss.\"\"\"\n",
    "        device = self.device  # for shortening the following lines\n",
    "        state = torch.FloatTensor(samples[\"obs\"]).to(device)\n",
    "        next_state = torch.FloatTensor(samples[\"next_obs\"]).to(device)\n",
    "        action = torch.LongTensor(samples[\"acts\"].reshape(-1, 1)).to(device)\n",
    "        reward = torch.FloatTensor(samples[\"rews\"].reshape(-1, 1)).to(device)\n",
    "        done = torch.FloatTensor(samples[\"done\"].reshape(-1, 1)).to(device)\n",
    "\n",
    "        # G_t   = r + gamma * v(s_{t+1})  if state != Terminal\n",
    "        #       = r                       otherwise\n",
    "        # Q(s, a)\n",
    "        curr_q_value = self.dqn(state).gather(1, action)\n",
    "        # max_a'{Q(s', a')}\n",
    "        next_q_value = self.dqn_target(\n",
    "            next_state\n",
    "        ).max(dim=1, keepdim=True)[0].detach()\n",
    "        mask = 1 - done\n",
    "        # r + gamma * max_a'{Q(s', a')}\n",
    "        target = (reward + self.gamma * next_q_value * mask).to(self.device)\n",
    "\n",
    "        # calculate dqn loss\n",
    "        loss = F.smooth_l1_loss(curr_q_value, target)  # 均方误差\n",
    "\n",
    "        return loss\n",
    "\n",
    "    def _target_hard_update(self):\n",
    "        \"\"\"Hard update: target <- local.\"\"\"\n",
    "        self.dqn_target.load_state_dict(self.dqn.state_dict())  # 将训练网络拷贝到目标网络\n",
    "                \n",
    "    def _plot(\n",
    "        self, \n",
    "        frame_idx: int, \n",
    "        scores: List[float], \n",
    "        losses: List[float], \n",
    "        epsilons: List[float],\n",
    "    ):\n",
    "        \"\"\"Plot the training progresses.\"\"\"\n",
    "        clear_output(True)\n",
    "        plt.figure(figsize=(20, 5))\n",
    "        plt.subplot(131)\n",
    "        plt.title('frame %s. score: %s' % (frame_idx, np.mean(scores[-10:])))\n",
    "        plt.plot(scores)\n",
    "        plt.subplot(132)\n",
    "        plt.title('loss')\n",
    "        plt.plot(losses)\n",
    "        plt.subplot(133)\n",
    "        plt.title('epsilons')\n",
    "        plt.plot(epsilons)\n",
    "        plt.show()"
   ]
  },
  {
   "cell_type": "markdown",
   "metadata": {},
   "source": [
    "## Environment\n",
    "\n",
    "You can see the [code](https://github.com/Farama-Foundation/Gymnasium/blob/main/gymnasium/envs/classic_control/cartpole.py) and [configurations](https://github.com/Farama-Foundation/Gymnasium/blob/main/gymnasium/envs/classic_control/cartpole.py#L91) of CartPole-v1 from Farama Gymnasium's repository."
   ]
  },
  {
   "cell_type": "code",
   "execution_count": 8,
   "metadata": {
    "ExecuteTime": {
     "end_time": "2023-08-24T08:49:42.717314800Z",
     "start_time": "2023-08-24T08:49:42.677669800Z"
    }
   },
   "outputs": [],
   "source": [
    "# environment\n",
    "env = gym.make(\"CartPole-v1\", max_episode_steps=200, render_mode=\"rgb_array\")"
   ]
  },
  {
   "cell_type": "markdown",
   "metadata": {},
   "source": [
    "## Set random seed"
   ]
  },
  {
   "cell_type": "code",
   "execution_count": 9,
   "metadata": {
    "ExecuteTime": {
     "end_time": "2023-08-24T08:50:01.690247Z",
     "start_time": "2023-08-24T08:50:01.662245400Z"
    }
   },
   "outputs": [],
   "source": [
    "seed = 777\n",
    "\n",
    "def seed_torch(seed):\n",
    "    torch.manual_seed(seed)\n",
    "    if torch.backends.cudnn.enabled:\n",
    "        torch.cuda.manual_seed(seed)\n",
    "        torch.backends.cudnn.benchmark = False\n",
    "        torch.backends.cudnn.deterministic = True\n",
    "\n",
    "np.random.seed(seed)\n",
    "seed_torch(seed)"
   ]
  },
  {
   "cell_type": "markdown",
   "metadata": {},
   "source": [
    "## Initialize"
   ]
  },
  {
   "cell_type": "code",
   "execution_count": 10,
   "metadata": {
    "ExecuteTime": {
     "end_time": "2023-08-24T08:50:15.237880300Z",
     "start_time": "2023-08-24T08:50:14.126904100Z"
    }
   },
   "outputs": [
    {
     "name": "stdout",
     "output_type": "stream",
     "text": [
      "cuda\n"
     ]
    }
   ],
   "source": [
    "# parameters\n",
    "num_frames = 10000\n",
    "memory_size = 1000\n",
    "batch_size = 32\n",
    "target_update = 100\n",
    "epsilon_decay = 1 / 2000\n",
    "\n",
    "agent = DQNAgent(env, memory_size, batch_size, target_update, epsilon_decay, seed)"
   ]
  },
  {
   "cell_type": "markdown",
   "metadata": {},
   "source": [
    "## Train"
   ]
  },
  {
   "cell_type": "code",
   "execution_count": 11,
   "metadata": {},
   "outputs": [
    {
     "data": {
      "text/plain": "<Figure size 2000x500 with 3 Axes>",
      "image/png": "[encoded data removed]"
     },
     "metadata": {},
     "output_type": "display_data"
    }
   ],
   "source": [
    "agent.train(num_frames)"
   ]
  },
  {
   "cell_type": "markdown",
   "metadata": {},
   "source": [
    "## Test\n",
    "\n",
    "Run the trained agent (1 episode)."
   ]
  },
  {
   "cell_type": "code",
   "execution_count": 12,
   "metadata": {
    "ExecuteTime": {
     "end_time": "2023-08-24T08:51:48.220962300Z",
     "start_time": "2023-08-24T08:51:45.706957800Z"
    }
   },
   "outputs": [
    {
     "name": "stdout",
     "output_type": "stream",
     "text": [
      "Moviepy - Building video C:\\Users\\18213\\Source\\Rainbow Is All You Need\\videos\\dqn\\rl-video-episode-0.mp4.\n",
      "Moviepy - Writing video C:\\Users\\18213\\Source\\Rainbow Is All You Need\\videos\\dqn\\rl-video-episode-0.mp4\n"
     ]
    },
    {
     "name": "stderr",
     "output_type": "stream",
     "text": [
      "                                                              \r"
     ]
    },
    {
     "name": "stdout",
     "output_type": "stream",
     "text": [
      "Moviepy - Done !\n",
      "Moviepy - video ready C:\\Users\\18213\\Source\\Rainbow Is All You Need\\videos\\dqn\\rl-video-episode-0.mp4\n",
      "score:  117.0\n"
     ]
    }
   ],
   "source": [
    "video_folder=\"videos/dqn\"\n",
    "agent.test(video_folder=video_folder)"
   ]
  },
  {
   "cell_type": "markdown",
   "metadata": {},
   "source": [
    "## Render"
   ]
  },
  {
   "cell_type": "code",
   "execution_count": 13,
   "metadata": {
    "ExecuteTime": {
     "end_time": "2023-08-24T08:52:06.640012200Z",
     "start_time": "2023-08-24T08:52:06.629922200Z"
    }
   },
   "outputs": [
    {
     "data": {
      "text/plain": "<IPython.core.display.HTML object>",
      "text/html": "\n        <video width=\"320\" height=\"240\" alt=\"test\" controls>\n        <source src=\"data:video/mp4;base64,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\" type=\"video/mp4\"/>\n        </video>\n        "
     },
     "metadata": {},
     "output_type": "display_data"
    },
    {
     "name": "stdout",
     "output_type": "stream",
     "text": [
      "Played: videos/dqn\\rl-video-episode-0.mp4\n"
     ]
    }
   ],
   "source": [
    "import base64\n",
    "import glob\n",
    "import io\n",
    "import os\n",
    "\n",
    "from IPython.display import HTML, display\n",
    "\n",
    "\n",
    "def ipython_show_video(path: str) -> None:\n",
    "    \"\"\"Show a video at `path` within IPython Notebook.\"\"\"\n",
    "    if not os.path.isfile(path):\n",
    "        raise NameError(\"Cannot access: {}\".format(path))\n",
    "\n",
    "    video = io.open(path, \"r+b\").read()\n",
    "    encoded = base64.b64encode(video)\n",
    "\n",
    "    display(HTML(\n",
    "        data=\"\"\"\n",
    "        <video width=\"320\" height=\"240\" alt=\"test\" controls>\n",
    "        <source src=\"data:video/mp4;base64,{0}\" type=\"video/mp4\"/>\n",
    "        </video>\n",
    "        \"\"\".format(encoded.decode(\"ascii\"))\n",
    "    ))\n",
    "\n",
    "\n",
    "def show_latest_video(video_folder: str) -> str:\n",
    "    \"\"\"Show the most recently recorded video from video folder.\"\"\"\n",
    "    list_of_files = glob.glob(os.path.join(video_folder, \"*.mp4\"))\n",
    "    latest_file = max(list_of_files, key=os.path.getctime)\n",
    "    ipython_show_video(latest_file)\n",
    "    return latest_file\n",
    "\n",
    "\n",
    "latest_file = show_latest_video(video_folder=video_folder)\n",
    "print(\"Played:\", latest_file)"
   ]
  }
 ],
 "metadata": {
  "kernelspec": {
   "name": "python3",
   "language": "python",
   "display_name": "Python 3 (ipykernel)"
  },
  "language_info": {
   "codemirror_mode": {
    "name": "ipython",
    "version": 3
   },
   "file_extension": ".py",
   "mimetype": "text/x-python",
   "name": "python",
   "nbconvert_exporter": "python",
   "pygments_lexer": "ipython3",
   "version": "3.8.12"
  }
 },
 "nbformat": 4,
 "nbformat_minor": 1
}
