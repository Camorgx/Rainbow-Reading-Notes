{
 "cells": [
  {
   "cell_type": "markdown",
   "metadata": {},
   "source": [
    "## Configurations for Colab"
   ]
  },
  {
   "cell_type": "code",
   "execution_count": 1,
   "metadata": {
    "ExecuteTime": {
     "end_time": "2023-09-06T05:29:58.377985700Z",
     "start_time": "2023-09-06T05:29:58.361803Z"
    }
   },
   "outputs": [],
   "source": [
    "import sys\n",
    "IN_COLAB = \"google.colab\" in sys.modules\n",
    "\n",
    "if IN_COLAB:\n",
    "    !apt install python-opengl\n",
    "    !apt install ffmpeg\n",
    "    !apt install xvfb\n",
    "    !pip install PyVirtualDisplay==3.0\n",
    "    !pip install gymnasium == 0.28.1\n",
    "    from pyvirtualdisplay import Display\n",
    "    \n",
    "    # Start virtual display\n",
    "    dis = Display(visible=0, size=(400, 400))\n",
    "    dis.start()"
   ]
  },
  {
   "cell_type": "markdown",
   "metadata": {},
   "source": [
    "# 01. DQN\n",
    "\n",
    "[V. Mnih et al., \"Human-level control through deep reinforcement learning.\" Nature, 518\n",
    "(7540):529–533, 2015.](https://storage.googleapis.com/deepmind-media/dqn/DQNNaturePaper.pdf)\n",
    "\n",
    "Reinforcement learning is known to be unstable or even to diverge when a nonlinear function approximator such as a neural network is used to represent the action-value (also known as $Q$) function. This instability has several causes: the correlations present in the sequence of observations, the fact that small updates to $Q$ may significantly change the policy and therefore change the data distribution, and the correlations between the action-values ($Q$) and the target values $r + \\gamma \\max_{a'} Q(s', a')$.\n",
    "\n",
    "The authors suggest two key ideas to address these instabilities with a novel variant of Q-learning: Replay buffer and Fixed Q-target.\n",
    "\n",
    "#### Uniformly random sampling from Experience Replay Memory\n",
    "\n",
    "Reinforcement learning agent stores the experiences consecutively in the buffer, so adjacent ($s, a, r, s'$) transitions stored are highly likely to have correlation. To remove this, the agent samples experiences uniformly at random from the pool of stored samples $\\big( (s, a, r, s') \\sim U(D) \\big)$. See sample_batch method of ReplayBuffer class for more details.\n",
    "\n",
    "#### Fixed Q-target\n",
    "\n",
    "DQN uses an iterative update that adjusts the action-values ($Q$) towards target values that are only periodically updated, thereby reducing correlations with the target; if not, it is easily divergy because the target continuously moves. The Q-learning update at iteration $i$ uses the following loss function:\n",
    "\n",
    "$$\n",
    "L_i(\\theta_i) = \\mathbb{E}_{(s,a,r,s') \\sim U(D)} \\big[ \\big( r + \\gamma \\max_{a'} Q(s',a';\\theta_i^-) - Q(s, a; \\theta_i) \\big)^2 \\big]\n",
    "$$\n",
    "\n",
    "in which $\\gamma$ is the discount factor determining the agent’s horizon, $\\theta_i$ are the parameters of the Q-network at iteration $i$ and $\\theta_i^-$ are the network parameters used to compute the target at iteration $i$. The target network parameters $\\theta_i^-$ are only updated with the Q-network parameters ($\\theta_i$) every C steps and are held fixed between individual updates. ($C = 200$ in CartPole-v0)\n",
    "\n",
    "#### For more stability: Gradient clipping\n",
    "\n",
    "The authors also found it helpful to clip the error term from the update $r + \\gamma \\max_{a'} Q(s', a'; \\theta_i^-) - Q(s,a,;\\theta_i)$ to be between -1 and 1. Because the absolute value loss function $|x|$ has a derivative of -1 for all negative values of x and a derivative of 1 for all positive values of x, clipping the squared error to be between -1 and 1 corresponds to using an absolute value loss function for errors outside of the (-1,1) interval. This form of error clipping further improved the stability of the algorithm."
   ]
  },
  {
   "cell_type": "code",
   "execution_count": 2,
   "metadata": {
    "ExecuteTime": {
     "end_time": "2023-09-06T05:29:59.708575600Z",
     "start_time": "2023-09-06T05:29:58.380988100Z"
    }
   },
   "outputs": [
    {
     "name": "stderr",
     "output_type": "stream",
     "text": [
      "C:\\Users\\18213\\anaconda3\\envs\\Rainbow\\lib\\site-packages\\tqdm\\auto.py:21: TqdmWarning: IProgress not found. Please update jupyter and ipywidgets. See https://ipywidgets.readthedocs.io/en/stable/user_install.html\n",
      "  from .autonotebook import tqdm as notebook_tqdm\n"
     ]
    }
   ],
   "source": [
    "import os\n",
    "from typing import Dict, List, Tuple\n",
    "\n",
    "import gymnasium as gym\n",
    "import matplotlib.pyplot as plt\n",
    "import numpy as np\n",
    "import torch\n",
    "import torch.nn as nn\n",
    "import torch.nn.functional as F\n",
    "import torch.optim as optim\n",
    "from IPython.display import clear_output"
   ]
  },
  {
   "cell_type": "markdown",
   "metadata": {},
   "source": [
    "## Replay buffer\n",
    "\n",
    "Typically, people implement replay buffers with one of the following three data structures:\n",
    "\n",
    "  - collections.deque\n",
    "  - list\n",
    "  - numpy.ndarray\n",
    "  \n",
    "**deque** is very easy to handle once you initialize its maximum length (e.g. deque(maxlen=buffer_size)). However, the indexing operation of deque gets terribly slow as it grows up because it is [internally doubly linked list](https://wiki.python.org/moin/TimeComplexity#collections.deque). On the other hands, **list** is an array, so it is relatively faster than deque when you sample batches at every step. Its amortized cost of  *Get item* is [O(1)](https://wiki.python.org/moin/TimeComplexity#list).\n",
    "\n",
    "Last but not least, let's see **numpy.ndarray**. numpy.ndarray is even faster than list due to the fact that it is [a homogeneous array of fixed-size items](https://docs.scipy.org/doc/numpy/reference/generated/numpy.ndarray.html#numpy.ndarray), so you can get the benefits of [locality of reference](https://en.wikipedia.org/wiki/Locality_of_reference). Whereas list is an array of pointers to objects, even when all of them are of the same type.\n",
    "\n",
    "Here, we are going to implement a replay buffer using numpy.ndarray.\n",
    "\n",
    "\n",
    "Reference: [OpenAI spinning-up](https://github.com/openai/spinningup/blob/master/spinup/algos/sac/sac.py#L10)"
   ]
  },
  {
   "cell_type": "code",
   "execution_count": 3,
   "metadata": {
    "ExecuteTime": {
     "end_time": "2023-09-06T05:29:59.750473Z",
     "start_time": "2023-09-06T05:29:59.712478Z"
    }
   },
   "outputs": [],
   "source": [
    "class ReplayBuffer:\n",
    "    \"\"\"A simple numpy replay buffer.\"\"\"\n",
    "\n",
    "    def __init__(self, obs_dim: int, size: int, batch_size: int = 32):\n",
    "        self.obs_buf = np.zeros([size, obs_dim], dtype=np.float32)          # s  buffer\n",
    "        self.next_obs_buf = np.zeros([size, obs_dim], dtype=np.float32)     # s' buffer\n",
    "        self.acts_buf = np.zeros([size], dtype=np.float32)                  # a  buffer\n",
    "        self.rews_buf = np.zeros([size], dtype=np.float32)                  # r  buffer\n",
    "        self.done_buf = np.zeros(size, dtype=np.float32)              # 标记一个 episode是否结束\n",
    "        self.max_size, self.batch_size = size, batch_size\n",
    "        self.ptr, self.size, = 0, 0\n",
    "\n",
    "    def store(\n",
    "        self,\n",
    "        obs: np.ndarray,        # s\n",
    "        act: np.ndarray,        # a\n",
    "        rew: float,             # r\n",
    "        next_obs: np.ndarray,   # s'\n",
    "        done: bool,\n",
    "    ):\n",
    "        self.obs_buf[self.ptr] = obs\n",
    "        self.next_obs_buf[self.ptr] = next_obs\n",
    "        self.acts_buf[self.ptr] = act\n",
    "        self.rews_buf[self.ptr] = rew\n",
    "        self.done_buf[self.ptr] = done\n",
    "        self.ptr = (self.ptr + 1) % self.max_size       # 循环队列\n",
    "        self.size = min(self.size + 1, self.max_size)   # 新数据覆盖旧数据\n",
    "\n",
    "    def sample_batch(self) -> Dict[str, np.ndarray]:\n",
    "        # 随机选择 batch_size 个样本\n",
    "        idxs = np.random.choice(self.size, size=self.batch_size, replace=False)\n",
    "        return dict(obs=self.obs_buf[idxs],\n",
    "                    next_obs=self.next_obs_buf[idxs],\n",
    "                    acts=self.acts_buf[idxs],\n",
    "                    rews=self.rews_buf[idxs],\n",
    "                    done=self.done_buf[idxs])\n",
    "\n",
    "    def __len__(self) -> int:\n",
    "        return self.size"
   ]
  },
  {
   "cell_type": "markdown",
   "metadata": {},
   "source": [
    "## Network\n",
    "\n",
    "We are going to use a simple network architecture with three fully connected layers and two non-linearity functions (ReLU)."
   ]
  },
  {
   "cell_type": "code",
   "execution_count": 4,
   "metadata": {
    "ExecuteTime": {
     "end_time": "2023-09-06T05:29:59.763472200Z",
     "start_time": "2023-09-06T05:29:59.724478Z"
    }
   },
   "outputs": [],
   "source": [
    "class Network(nn.Module):  # 一个简单的多层感知机\n",
    "    def __init__(self, in_dim: int, out_dim: int):\n",
    "        \"\"\"Initialization.\"\"\"\n",
    "        super(Network, self).__init__()\n",
    "\n",
    "        self.layers = nn.Sequential(\n",
    "            nn.Linear(in_dim, 128), \n",
    "            nn.ReLU(),\n",
    "            nn.Linear(128, 128), \n",
    "            nn.ReLU(), \n",
    "            nn.Linear(128, out_dim)\n",
    "        )\n",
    "\n",
    "    def forward(self, x: torch.Tensor) -> torch.Tensor:\n",
    "        \"\"\"Forward method implementation.\"\"\"\n",
    "        return self.layers(x)"
   ]
  },
  {
   "cell_type": "markdown",
   "metadata": {},
   "source": [
    "## DQN Agent\n",
    "\n",
    "Here is a summary of DQNAgent class.\n",
    "\n",
    "| Method           | Note                                                 |\n",
    "| ---              | ---                                                  |\n",
    "|select_action     | select an action from the input state.               |\n",
    "|step              | take an action and return the response of the env.   |\n",
    "|compute_dqn_loss  | return dqn loss.                                     |\n",
    "|update_model      | update the model by gradient descent.                |\n",
    "|target_hard_update| hard update from the local model to the target model.|\n",
    "|train             | train the agent during num_frames.                   |\n",
    "|test              | test the agent (1 episode).                          |\n",
    "|plot              | plot the training progresses.                        |\n"
   ]
  },
  {
   "cell_type": "code",
   "execution_count": 5,
   "metadata": {
    "ExecuteTime": {
     "end_time": "2023-09-06T05:29:59.775472100Z",
     "start_time": "2023-09-06T05:29:59.751472600Z"
    }
   },
   "outputs": [],
   "source": [
    "class DQNAgent:\n",
    "    \"\"\"DQN Agent interacting with environment.\n",
    "    \n",
    "    Attribute:\n",
    "        env (gym.Env): openAI Gym environment\n",
    "        memory (ReplayBuffer): replay memory to store transitions\n",
    "        batch_size (int): batch size for sampling\n",
    "        epsilon (float): parameter for epsilon greedy policy\n",
    "        epsilon_decay (float): step size to decrease epsilon\n",
    "        max_epsilon (float): max value of epsilon\n",
    "        min_epsilon (float): min value of epsilon\n",
    "        target_update (int): period for target model's hard update\n",
    "        gamma (float): discount factor\n",
    "        dqn (Network): model to train and select actions\n",
    "        dqn_target (Network): target model to update\n",
    "        optimizer (torch.optim): optimizer for training dqn\n",
    "        transition (list): transition information including \n",
    "                           state, action, reward, next_state, done\n",
    "    \"\"\"\n",
    "\n",
    "    def __init__(\n",
    "        self, \n",
    "        env: gym.Env,\n",
    "        memory_size: int,\n",
    "        batch_size: int,\n",
    "        target_update: int,\n",
    "        epsilon_decay: float,\n",
    "        seed: int,\n",
    "        max_epsilon: float = 1.0,\n",
    "        min_epsilon: float = 0.1,\n",
    "        gamma: float = 0.99,\n",
    "    ):\n",
    "        \"\"\"Initialization.\n",
    "        \n",
    "        Args:\n",
    "            env (gym.Env): openAI Gym environment\n",
    "            memory_size (int): length of memory\n",
    "            batch_size (int): batch size for sampling\n",
    "            target_update (int): period for target model's hard update\n",
    "            epsilon_decay (float): step size to decrease epsilon\n",
    "            lr (float): learning rate\n",
    "            max_epsilon (float): max value of epsilon\n",
    "            min_epsilon (float): min value of epsilon\n",
    "            gamma (float): discount factor\n",
    "        \"\"\"\n",
    "        obs_dim = env.observation_space.shape[0]\n",
    "        action_dim = env.action_space.n\n",
    "        \n",
    "        self.env = env\n",
    "        self.memory = ReplayBuffer(obs_dim, memory_size, batch_size)\n",
    "        self.batch_size = batch_size\n",
    "        self.epsilon = max_epsilon\n",
    "        self.epsilon_decay = epsilon_decay\n",
    "        self.seed = seed\n",
    "        self.max_epsilon = max_epsilon\n",
    "        self.min_epsilon = min_epsilon\n",
    "        self.target_update = target_update\n",
    "        self.gamma = gamma\n",
    "        \n",
    "        # device: cpu / gpu\n",
    "        self.device = torch.device(\n",
    "            \"cuda\" if torch.cuda.is_available() else \"cpu\"\n",
    "        )\n",
    "        print(self.device)\n",
    "\n",
    "        # networks: dqn, dqn_target\n",
    "        self.dqn = Network(obs_dim, action_dim).to(self.device)         # 训练网络\n",
    "        self.dqn_target = Network(obs_dim, action_dim).to(self.device)  # 目标网络\n",
    "        self.dqn_target.load_state_dict(self.dqn.state_dict())\n",
    "        self.dqn_target.eval()\n",
    "        \n",
    "        # optimizer\n",
    "        self.optimizer = optim.Adam(self.dqn.parameters())\n",
    "\n",
    "        # transition to store in memory\n",
    "        self.transition = list()\n",
    "        \n",
    "        # mode: train / test\n",
    "        self.is_test = False\n",
    "\n",
    "    def select_action(self, state: np.ndarray) -> np.ndarray:\n",
    "        \"\"\"Select an action from the input state.\"\"\"\n",
    "        # epsilon greedy policy\n",
    "        if self.epsilon > np.random.random():\n",
    "            selected_action = self.env.action_space.sample()            # 随机选择 action\n",
    "        else:\n",
    "            selected_action = self.dqn(\n",
    "                torch.FloatTensor(state).to(self.device)\n",
    "            ).argmax()                                                  # 使用网络预测的值\n",
    "            selected_action = selected_action.detach().cpu().numpy()\n",
    "        \n",
    "        if not self.is_test:\n",
    "            self.transition = [state, selected_action]      # [s, a]\n",
    "        \n",
    "        return selected_action\n",
    "\n",
    "    def step(self, action: np.ndarray) -> Tuple[np.ndarray, np.float64, bool]:\n",
    "        \"\"\"Take an action and return the response of the env.\"\"\"\n",
    "        next_state, reward, terminated, truncated, _ = self.env.step(action)\n",
    "        done = terminated or truncated\n",
    "\n",
    "        if not self.is_test:\n",
    "            self.transition += [reward, next_state, done]   # [s, a, r, s', done]\n",
    "            self.memory.store(*self.transition)             # 一种新奇的传参方式\n",
    "    \n",
    "        return next_state, reward, done\n",
    "\n",
    "    def update_model(self) -> torch.Tensor:\n",
    "        \"\"\"Update the model by gradient descent.\"\"\"\n",
    "        samples = self.memory.sample_batch()\n",
    "\n",
    "        loss = self._compute_dqn_loss(samples)\n",
    "\n",
    "        self.optimizer.zero_grad()\n",
    "        loss.backward()\n",
    "        self.optimizer.step()\n",
    "\n",
    "        return loss.item()\n",
    "        \n",
    "    def train(self, num_frames: int, plotting_interval: int = 200):\n",
    "        \"\"\"Train the agent.\"\"\"\n",
    "        self.is_test = False\n",
    "        \n",
    "        state, _ = self.env.reset(seed=self.seed)\n",
    "        update_cnt = 0\n",
    "        epsilons = []\n",
    "        losses = []\n",
    "        scores = []\n",
    "        score = 0\n",
    "\n",
    "        for frame_idx in range(1, num_frames + 1):\n",
    "            action = self.select_action(state)\n",
    "            next_state, reward, done = self.step(action)\n",
    "\n",
    "            state = next_state\n",
    "            score += reward\n",
    "\n",
    "            # if episode ends\n",
    "            if done:\n",
    "                state, _ = self.env.reset(seed=self.seed)\n",
    "                scores.append(score)\n",
    "                score = 0\n",
    "\n",
    "            # if training is ready\n",
    "            if len(self.memory) >= self.batch_size:\n",
    "                loss = self.update_model()\n",
    "                losses.append(loss)\n",
    "                update_cnt += 1\n",
    "                \n",
    "                '''\n",
    "                指数衰减：\n",
    "                min_epsilon + (max_epsilon - min_epsilon) * \n",
    "                    exp(-1. * frame_idx / epsilon_decay)\n",
    "                '''\n",
    "                # linearly decrease epsilon\n",
    "                self.epsilon = max(\n",
    "                    self.min_epsilon, self.epsilon - (\n",
    "                        self.max_epsilon - self.min_epsilon\n",
    "                    ) * self.epsilon_decay\n",
    "                )\n",
    "                epsilons.append(self.epsilon)\n",
    "                \n",
    "                # if hard update is needed\n",
    "                if update_cnt % self.target_update == 0:\n",
    "                    self._target_hard_update()  # 将训练网络的参数拷贝到目标网络\n",
    "\n",
    "            # plotting\n",
    "            if frame_idx % plotting_interval == 0:\n",
    "                self._plot(frame_idx, scores, losses, epsilons)\n",
    "                \n",
    "        self.env.close()\n",
    "                \n",
    "    def test(self, video_folder: str) -> None:\n",
    "        \"\"\"Test the agent.\"\"\"\n",
    "        self.is_test = True\n",
    "        \n",
    "        # for recording a video\n",
    "        naive_env = self.env\n",
    "        self.env = gym.wrappers.RecordVideo(self.env, video_folder=video_folder)\n",
    "        \n",
    "        state, _ = self.env.reset(seed=self.seed)\n",
    "        done = False\n",
    "        score = 0\n",
    "        \n",
    "        while not done:\n",
    "            action = self.select_action(state)\n",
    "            next_state, reward, done = self.step(action)\n",
    "\n",
    "            state = next_state\n",
    "            score += reward\n",
    "        \n",
    "        print(\"score: \", score)\n",
    "        self.env.close()\n",
    "        \n",
    "        # reset\n",
    "        self.env = naive_env\n",
    "\n",
    "    def _compute_dqn_loss(self, samples: Dict[str, np.ndarray]) -> torch.Tensor:\n",
    "        \"\"\"Return dqn loss.\"\"\"\n",
    "        device = self.device  # for shortening the following lines\n",
    "        state = torch.FloatTensor(samples[\"obs\"]).to(device)\n",
    "        next_state = torch.FloatTensor(samples[\"next_obs\"]).to(device)\n",
    "        action = torch.LongTensor(samples[\"acts\"].reshape(-1, 1)).to(device)\n",
    "        reward = torch.FloatTensor(samples[\"rews\"].reshape(-1, 1)).to(device)\n",
    "        done = torch.FloatTensor(samples[\"done\"].reshape(-1, 1)).to(device)\n",
    "\n",
    "        # G_t   = r + gamma * v(s_{t+1})  if state != Terminal\n",
    "        #       = r                       otherwise\n",
    "        # Q(s, a)\n",
    "        curr_q_value = self.dqn(state).gather(1, action)\n",
    "        # max_a'{Q(s', a')}\n",
    "        next_q_value = self.dqn_target(\n",
    "            next_state\n",
    "        ).max(dim=1, keepdim=True)[0].detach()\n",
    "        mask = 1 - done\n",
    "        # r + gamma * max_a'{Q(s', a')}\n",
    "        target = (reward + self.gamma * next_q_value * mask).to(self.device)\n",
    "\n",
    "        # calculate dqn loss\n",
    "        loss = F.smooth_l1_loss(curr_q_value, target)  # 均方误差\n",
    "\n",
    "        return loss\n",
    "\n",
    "    def _target_hard_update(self):\n",
    "        \"\"\"Hard update: target <- local.\"\"\"\n",
    "        self.dqn_target.load_state_dict(self.dqn.state_dict())  # 将训练网络拷贝到目标网络\n",
    "                \n",
    "    def _plot(\n",
    "        self, \n",
    "        frame_idx: int, \n",
    "        scores: List[float], \n",
    "        losses: List[float], \n",
    "        epsilons: List[float],\n",
    "    ):\n",
    "        \"\"\"Plot the training progresses.\"\"\"\n",
    "        clear_output(True)\n",
    "        plt.figure(figsize=(20, 5))\n",
    "        plt.subplot(131)\n",
    "        plt.title('frame %s. score: %s' % (frame_idx, np.mean(scores[-10:])))\n",
    "        plt.plot(scores)\n",
    "        plt.subplot(132)\n",
    "        plt.title('loss')\n",
    "        plt.plot(losses)\n",
    "        plt.subplot(133)\n",
    "        plt.title('epsilons')\n",
    "        plt.plot(epsilons)\n",
    "        plt.show()"
   ]
  },
  {
   "cell_type": "markdown",
   "metadata": {},
   "source": [
    "## Environment\n",
    "\n",
    "You can see the [code](https://github.com/Farama-Foundation/Gymnasium/blob/main/gymnasium/envs/classic_control/cartpole.py) and [configurations](https://github.com/Farama-Foundation/Gymnasium/blob/main/gymnasium/envs/classic_control/cartpole.py#L91) of CartPole-v1 from Farama Gymnasium's repository."
   ]
  },
  {
   "cell_type": "code",
   "execution_count": 6,
   "metadata": {
    "ExecuteTime": {
     "end_time": "2023-09-06T05:29:59.802474300Z",
     "start_time": "2023-09-06T05:29:59.770472500Z"
    }
   },
   "outputs": [],
   "source": [
    "# environment\n",
    "env = gym.make(\"CartPole-v1\", max_episode_steps=200, render_mode=\"rgb_array\")"
   ]
  },
  {
   "cell_type": "markdown",
   "metadata": {},
   "source": [
    "## Set random seed"
   ]
  },
  {
   "cell_type": "code",
   "execution_count": 7,
   "metadata": {
    "ExecuteTime": {
     "end_time": "2023-09-06T05:29:59.803492300Z",
     "start_time": "2023-09-06T05:29:59.786473Z"
    }
   },
   "outputs": [],
   "source": [
    "seed = 777\n",
    "\n",
    "def seed_torch(seed):\n",
    "    torch.manual_seed(seed)\n",
    "    if torch.backends.cudnn.enabled:\n",
    "        torch.cuda.manual_seed(seed)\n",
    "        torch.backends.cudnn.benchmark = False\n",
    "        torch.backends.cudnn.deterministic = True\n",
    "\n",
    "np.random.seed(seed)\n",
    "seed_torch(seed)"
   ]
  },
  {
   "cell_type": "markdown",
   "metadata": {},
   "source": [
    "## Initialize"
   ]
  },
  {
   "cell_type": "code",
   "execution_count": 8,
   "metadata": {
    "ExecuteTime": {
     "end_time": "2023-09-06T05:30:00.833996300Z",
     "start_time": "2023-09-06T05:29:59.802474300Z"
    }
   },
   "outputs": [
    {
     "name": "stdout",
     "output_type": "stream",
     "text": [
      "cuda\n"
     ]
    }
   ],
   "source": [
    "# parameters\n",
    "num_frames = 10000\n",
    "memory_size = 1000\n",
    "batch_size = 32\n",
    "target_update = 100\n",
    "epsilon_decay = 1 / 2000\n",
    "\n",
    "agent = DQNAgent(env, memory_size, batch_size, target_update, epsilon_decay, seed)"
   ]
  },
  {
   "cell_type": "markdown",
   "metadata": {},
   "source": [
    "## Train"
   ]
  },
  {
   "cell_type": "code",
   "execution_count": 9,
   "metadata": {},
   "outputs": [
    {
     "data": {
      "text/plain": "<Figure size 2000x500 with 3 Axes>",
      "image/png": "[encoded data removed]"
     },
     "metadata": {},
     "output_type": "display_data"
    }
   ],
   "source": [
    "agent.train(num_frames)"
   ]
  },
  {
   "cell_type": "markdown",
   "metadata": {},
   "source": [
    "## Test\n",
    "\n",
    "Run the trained agent (1 episode)."
   ]
  },
  {
   "cell_type": "code",
   "execution_count": 10,
   "metadata": {
    "ExecuteTime": {
     "end_time": "2023-09-06T05:30:35.469494900Z",
     "start_time": "2023-09-06T05:30:34.439492100Z"
    }
   },
   "outputs": [
    {
     "name": "stdout",
     "output_type": "stream",
     "text": [
      "Moviepy - Building video C:\\Users\\18213\\Source\\Rainbow Reading Notes\\videos\\dqn\\rl-video-episode-0.mp4.\n",
      "Moviepy - Writing video C:\\Users\\18213\\Source\\Rainbow Reading Notes\\videos\\dqn\\rl-video-episode-0.mp4\n"
     ]
    },
    {
     "name": "stderr",
     "output_type": "stream",
     "text": [
      "                                                              "
     ]
    },
    {
     "name": "stdout",
     "output_type": "stream",
     "text": [
      "Moviepy - Done !\n",
      "Moviepy - video ready C:\\Users\\18213\\Source\\Rainbow Reading Notes\\videos\\dqn\\rl-video-episode-0.mp4\n"
     ]
    },
    {
     "name": "stderr",
     "output_type": "stream",
     "text": [
      "\r"
     ]
    },
    {
     "name": "stdout",
     "output_type": "stream",
     "text": [
      "score:  167.0\n"
     ]
    }
   ],
   "source": [
    "video_folder=\"videos/dqn\"\n",
    "agent.test(video_folder=video_folder)"
   ]
  },
  {
   "cell_type": "markdown",
   "metadata": {},
   "source": [
    "## Render"
   ]
  },
  {
   "cell_type": "code",
   "execution_count": 11,
   "metadata": {
    "ExecuteTime": {
     "end_time": "2023-09-06T05:30:35.483475300Z",
     "start_time": "2023-09-06T05:30:35.443474600Z"
    }
   },
   "outputs": [
    {
     "data": {
      "text/plain": "<IPython.core.display.HTML object>",
      "text/html": "\n        <video width=\"320\" height=\"240\" alt=\"test\" controls>\n        <source src=\"data:video/mp4;base64,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\" type=\"video/mp4\"/>\n        </video>\n        "
     },
     "metadata": {},
     "output_type": "display_data"
    },
    {
     "name": "stdout",
     "output_type": "stream",
     "text": [
      "Played: videos/dqn\\rl-video-episode-0.mp4\n"
     ]
    }
   ],
   "source": [
    "import base64\n",
    "import glob\n",
    "import io\n",
    "import os\n",
    "\n",
    "from IPython.display import HTML, display\n",
    "\n",
    "\n",
    "def ipython_show_video(path: str) -> None:\n",
    "    \"\"\"Show a video at `path` within IPython Notebook.\"\"\"\n",
    "    if not os.path.isfile(path):\n",
    "        raise NameError(\"Cannot access: {}\".format(path))\n",
    "\n",
    "    video = io.open(path, \"r+b\").read()\n",
    "    encoded = base64.b64encode(video)\n",
    "\n",
    "    display(HTML(\n",
    "        data=\"\"\"\n",
    "        <video width=\"320\" height=\"240\" alt=\"test\" controls>\n",
    "        <source src=\"data:video/mp4;base64,{0}\" type=\"video/mp4\"/>\n",
    "        </video>\n",
    "        \"\"\".format(encoded.decode(\"ascii\"))\n",
    "    ))\n",
    "\n",
    "\n",
    "def show_latest_video(video_folder: str) -> str:\n",
    "    \"\"\"Show the most recently recorded video from video folder.\"\"\"\n",
    "    list_of_files = glob.glob(os.path.join(video_folder, \"*.mp4\"))\n",
    "    latest_file = max(list_of_files, key=os.path.getctime)\n",
    "    ipython_show_video(latest_file)\n",
    "    return latest_file\n",
    "\n",
    "\n",
    "latest_file = show_latest_video(video_folder=video_folder)\n",
    "print(\"Played:\", latest_file)"
   ]
  }
 ],
 "metadata": {
  "kernelspec": {
   "name": "python3",
   "language": "python",
   "display_name": "Python 3 (ipykernel)"
  },
  "language_info": {
   "codemirror_mode": {
    "name": "ipython",
    "version": 3
   },
   "file_extension": ".py",
   "mimetype": "text/x-python",
   "name": "python",
   "nbconvert_exporter": "python",
   "pygments_lexer": "ipython3",
   "version": "3.8.12"
  }
 },
 "nbformat": 4,
 "nbformat_minor": 1
}
